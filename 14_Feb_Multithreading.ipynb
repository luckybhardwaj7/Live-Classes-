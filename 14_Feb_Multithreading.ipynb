{
 "cells": [
  {
   "cell_type": "markdown",
   "id": "534fe70a-df2b-46a6-a48b-a2543827390c",
   "metadata": {},
   "source": [
    "Multithreading"
   ]
  },
  {
   "cell_type": "markdown",
   "id": "98501706-e4d2-4bbc-b91e-05b6e51567ac",
   "metadata": {},
   "source": [
    "Multithreading is the ability of the system to run multiple programs under a single core "
   ]
  },
  {
   "cell_type": "code",
   "execution_count": 3,
   "id": "c57c7a2f-9e04-4d9b-a352-2a142f306108",
   "metadata": {},
   "outputs": [],
   "source": [
    "import threading\n"
   ]
  },
  {
   "cell_type": "code",
   "execution_count": 10,
   "id": "59318001-b929-4cc5-96b3-01cff1ab4ce9",
   "metadata": {},
   "outputs": [],
   "source": [
    "def test (id):\n",
    "    print(f\"program starts {id}\") "
   ]
  },
  {
   "cell_type": "code",
   "execution_count": 11,
   "id": "cd4b65e9-ac2a-4383-9367-f54e22fac2be",
   "metadata": {},
   "outputs": [
    {
     "name": "stdout",
     "output_type": "stream",
     "text": [
      "program starts 76\n"
     ]
    }
   ],
   "source": [
    "test(76)"
   ]
  },
  {
   "cell_type": "code",
   "execution_count": 16,
   "id": "7598deef-709c-4d13-9727-f18710f0885d",
   "metadata": {},
   "outputs": [],
   "source": [
    "thread = [threading.Thread(target=test , args=(i,) )for i in range(10) ]"
   ]
  },
  {
   "cell_type": "code",
   "execution_count": 17,
   "id": "149f9940-1fb7-40ad-9807-dbaff4be8dca",
   "metadata": {},
   "outputs": [
    {
     "name": "stdout",
     "output_type": "stream",
     "text": [
      "program starts 0\n",
      "program starts 1\n",
      "program starts 2\n",
      "program starts 3\n",
      "program starts 4\n",
      "program starts 5\n",
      "program starts 6\n",
      "program starts 7\n",
      "program starts 8\n",
      "program starts 9\n"
     ]
    }
   ],
   "source": [
    "for t in thread :\n",
    "    t.start()\n",
    "# run ten times"
   ]
  },
  {
   "cell_type": "code",
   "execution_count": 19,
   "id": "5f9ba627-9935-485a-a4c6-d3532b6c6337",
   "metadata": {},
   "outputs": [
    {
     "data": {
      "text/plain": [
       "[<Thread(Thread-15 (test), stopped 139838481225280)>,\n",
       " <Thread(Thread-16 (test), stopped 139838481225280)>,\n",
       " <Thread(Thread-17 (test), stopped 139838481225280)>,\n",
       " <Thread(Thread-18 (test), stopped 139838481225280)>,\n",
       " <Thread(Thread-19 (test), stopped 139838481225280)>,\n",
       " <Thread(Thread-20 (test), stopped 139838481225280)>,\n",
       " <Thread(Thread-21 (test), stopped 139838481225280)>,\n",
       " <Thread(Thread-22 (test), stopped 139838481225280)>,\n",
       " <Thread(Thread-23 (test), stopped 139838481225280)>,\n",
       " <Thread(Thread-24 (test), stopped 139838481225280)>]"
      ]
     },
     "execution_count": 19,
     "metadata": {},
     "output_type": "execute_result"
    }
   ],
   "source": [
    "thread\n",
    "# the id has been same throughout the entire run times (10 times)"
   ]
  },
  {
   "cell_type": "code",
   "execution_count": 20,
   "id": "626f3fdf-b536-4f47-9235-423ac07b6e6b",
   "metadata": {},
   "outputs": [],
   "source": [
    "# we are making a program and executing it using the different different imputs "
   ]
  },
  {
   "cell_type": "code",
   "execution_count": 39,
   "id": "d5517237-189d-4abe-848c-bc3542bb04bd",
   "metadata": {},
   "outputs": [],
   "source": [
    "import threading \n",
    "import urllib.request # to import the various files from the internet"
   ]
  },
  {
   "cell_type": "code",
   "execution_count": 40,
   "id": "0f9d0808-bc0a-4d91-94b1-dfcee31e664c",
   "metadata": {},
   "outputs": [],
   "source": [
    "def file_download(url,filename):\n",
    "    urllib.request.urlretrieve(url,filename)"
   ]
  },
  {
   "cell_type": "code",
   "execution_count": 41,
   "id": "5ed3f429-3260-4f71-9d79-04dc123051b4",
   "metadata": {},
   "outputs": [],
   "source": [
    "file_download('https://github.com/luckybhardwaj7/Live-Classes-/blob/main/04_Feb_Generator_Function.ipynb','test.txt')\n",
    "# the data present in the GitHub fie of the provided location has been written down on the file name test.txt"
   ]
  },
  {
   "cell_type": "markdown",
   "id": "3c3127fa-32c7-45df-a8e5-1fc164be1bdb",
   "metadata": {},
   "source": [
    "Now using the same program I have to replicate the same process for all 3 files"
   ]
  },
  {
   "cell_type": "code",
   "execution_count": 42,
   "id": "aa1ed43a-eecd-48b6-bc00-9d7cbcfead9a",
   "metadata": {},
   "outputs": [],
   "source": [
    "url_list=['https://github.com/luckybhardwaj7/Live-Classes-/blob/main/04_Feb_Generator_Function.ipynb','https://github.com/luckybhardwaj7/Assignments-PW-/blob/main/Ass_05_05_Feb.ipynb','https://github.com/luckybhardwaj7/Practice-Questions/blob/main/Functions%20.ipynb']"
   ]
  },
  {
   "cell_type": "code",
   "execution_count": 43,
   "id": "b5ea675e-35e9-40e0-8444-1e8a795798fe",
   "metadata": {},
   "outputs": [
    {
     "data": {
      "text/plain": [
       "['https://github.com/luckybhardwaj7/Live-Classes-/blob/main/04_Feb_Generator_Function.ipynb',\n",
       " 'https://github.com/luckybhardwaj7/Assignments-PW-/blob/main/Ass_05_05_Feb.ipynb',\n",
       " 'https://github.com/luckybhardwaj7/Practice-Questions/blob/main/Functions%20.ipynb']"
      ]
     },
     "execution_count": 43,
     "metadata": {},
     "output_type": "execute_result"
    }
   ],
   "source": [
    "url_list"
   ]
  },
  {
   "cell_type": "code",
   "execution_count": 48,
   "id": "3ee32e99-d31e-4566-b064-690a3d0a061a",
   "metadata": {},
   "outputs": [],
   "source": [
    "file_name_list=['MT1.txt','MT2.txt','MT3.txt']"
   ]
  },
  {
   "cell_type": "code",
   "execution_count": 49,
   "id": "4973e124-7dd6-4bc9-bdbf-75dbfb82ddf6",
   "metadata": {},
   "outputs": [],
   "source": [
    "ther=[threading.Thread(target=file_download,args=(url_list[i],file_name_list[i])) for i in range (len(url_list))]"
   ]
  },
  {
   "cell_type": "code",
   "execution_count": 50,
   "id": "8b88f48a-88a6-4fb0-bf75-b8fafb7f434f",
   "metadata": {},
   "outputs": [
    {
     "data": {
      "text/plain": [
       "[<Thread(Thread-31 (file_download), initial)>,\n",
       " <Thread(Thread-32 (file_download), initial)>,\n",
       " <Thread(Thread-33 (file_download), initial)>]"
      ]
     },
     "execution_count": 50,
     "metadata": {},
     "output_type": "execute_result"
    }
   ],
   "source": [
    "ther"
   ]
  },
  {
   "cell_type": "code",
   "execution_count": 51,
   "id": "484be346-0de0-4d67-8e81-b5312eaac7bc",
   "metadata": {},
   "outputs": [],
   "source": [
    "for t in ther :\n",
    "    t.start()"
   ]
  },
  {
   "cell_type": "code",
   "execution_count": 53,
   "id": "e4135207-f13a-44e0-bd10-8963b633e9a4",
   "metadata": {},
   "outputs": [],
   "source": [
    "# file gets created with the names provided in the list"
   ]
  },
  {
   "cell_type": "code",
   "execution_count": 54,
   "id": "dfce7d57-896a-4847-a31b-b78702f016b3",
   "metadata": {},
   "outputs": [
    {
     "data": {
      "text/plain": [
       "[<Thread(Thread-31 (file_download), stopped 139838466541120)>,\n",
       " <Thread(Thread-32 (file_download), stopped 139838489617984)>,\n",
       " <Thread(Thread-33 (file_download), stopped 139838481225280)>]"
      ]
     },
     "execution_count": 54,
     "metadata": {},
     "output_type": "execute_result"
    }
   ],
   "source": [
    "ther"
   ]
  },
  {
   "cell_type": "code",
   "execution_count": 4,
   "id": "13d46ac6-2075-4915-a1ee-1e048ad5aab7",
   "metadata": {},
   "outputs": [],
   "source": [
    "import time"
   ]
  },
  {
   "cell_type": "code",
   "execution_count": 19,
   "id": "12a1712f-c1d4-4669-8a60-6727895fc529",
   "metadata": {},
   "outputs": [],
   "source": [
    "def test1(id):\n",
    "    for i in range(10):\n",
    "        print(f'test1 {id} printing {i}')\n",
    "        time.sleep(1)"
   ]
  },
  {
   "cell_type": "code",
   "execution_count": 20,
   "id": "ad696a64-4366-437a-b57a-b651a9823487",
   "metadata": {},
   "outputs": [
    {
     "name": "stdout",
     "output_type": "stream",
     "text": [
      "test1 1 printing 0\n",
      "test1 1 printing 1\n",
      "test1 1 printing 2\n",
      "test1 1 printing 3\n",
      "test1 1 printing 4\n",
      "test1 1 printing 5\n",
      "test1 1 printing 6\n",
      "test1 1 printing 7\n",
      "test1 1 printing 8\n",
      "test1 1 printing 9\n"
     ]
    }
   ],
   "source": [
    "test1(1)"
   ]
  },
  {
   "cell_type": "markdown",
   "id": "523faa59-8dd3-4d8b-a126-0439ae7ebb8d",
   "metadata": {},
   "source": [
    "here time.sleep(time_interval) prints the result in the provided interval of time"
   ]
  },
  {
   "cell_type": "code",
   "execution_count": 21,
   "id": "15ba854c-b4d4-410b-ab8d-054fec1ba1dc",
   "metadata": {},
   "outputs": [],
   "source": [
    "thread1=[threading.Thread(target=test1, args=(i,)) for i in range(3)]"
   ]
  },
  {
   "cell_type": "code",
   "execution_count": 22,
   "id": "af695d2f-b08e-4dfe-acbb-660108a7042e",
   "metadata": {},
   "outputs": [
    {
     "name": "stdout",
     "output_type": "stream",
     "text": [
      "test1 0 printing 0\n",
      "test1 1 printing 0\n",
      "test1 2 printing 0\n",
      "test1 1 printing 1\n",
      "test1 0 printing 1\n",
      "test1 2 printing 1\n",
      "test1 1 printing 2test1 2 printing 2\n",
      "test1 0 printing 2\n",
      "\n",
      "test1 2 printing 3\n",
      "test1 0 printing 3\n",
      "test1 1 printing 3\n",
      "test1 2 printing 4test1 1 printing 4\n",
      "test1 0 printing 4\n",
      "\n",
      "test1 0 printing 5\n",
      "test1 1 printing 5\n",
      "test1 2 printing 5\n",
      "test1 0 printing 6test1 1 printing 6\n",
      "\n",
      "test1 2 printing 6\n",
      "test1 1 printing 7test1 0 printing 7\n",
      "\n",
      "test1 2 printing 7\n",
      "test1 0 printing 8\n",
      "test1 1 printing 8\n",
      "test1 2 printing 8\n",
      "test1 0 printing 9\n",
      "test1 1 printing 9\n",
      "test1 2 printing 9\n"
     ]
    }
   ],
   "source": [
    "for t in thread1:\n",
    "    t.start()"
   ]
  },
  {
   "cell_type": "code",
   "execution_count": 26,
   "id": "90850ebc-a2b7-4b47-94b3-b317c15aa92c",
   "metadata": {},
   "outputs": [],
   "source": [
    "def test1(id):\n",
    "    for i in range(10):\n",
    "        print(f'test1 {id} printing {i}')"
   ]
  },
  {
   "cell_type": "code",
   "execution_count": 27,
   "id": "ac0136a2-d6a8-4b8e-9910-2f27b559652f",
   "metadata": {},
   "outputs": [],
   "source": [
    "thread1=[threading.Thread(target=test1, args=(i,)) for i in range(3)]"
   ]
  },
  {
   "cell_type": "code",
   "execution_count": 28,
   "id": "320157a8-4777-49ed-a7b0-946314636014",
   "metadata": {},
   "outputs": [
    {
     "name": "stdout",
     "output_type": "stream",
     "text": [
      "test1 0 printing 0\n",
      "test1 0 printing 1\n",
      "test1 0 printing 2\n",
      "test1 0 printing 3\n",
      "test1 0 printing 4\n",
      "test1 0 printing 5\n",
      "test1 0 printing 6\n",
      "test1 0 printing 7\n",
      "test1 0 printing 8\n",
      "test1 0 printing 9\n",
      "test1 1 printing 0\n",
      "test1 1 printing 1\n",
      "test1 1 printing 2\n",
      "test1 1 printing 3\n",
      "test1 1 printing 4\n",
      "test1 1 printing 5\n",
      "test1 1 printing 6\n",
      "test1 1 printing 7\n",
      "test1 1 printing 8\n",
      "test1 1 printing 9\n",
      "test1 2 printing 0\n",
      "test1 2 printing 1\n",
      "test1 2 printing 2\n",
      "test1 2 printing 3\n",
      "test1 2 printing 4\n",
      "test1 2 printing 5\n",
      "test1 2 printing 6\n",
      "test1 2 printing 7\n",
      "test1 2 printing 8\n",
      "test1 2 printing 9\n"
     ]
    }
   ],
   "source": [
    "for t in thread1:\n",
    "    t.start()"
   ]
  },
  {
   "cell_type": "code",
   "execution_count": 29,
   "id": "975c8170-ea17-42c9-bb0b-11d7dc8d924f",
   "metadata": {},
   "outputs": [],
   "source": [
    "# here the chasracterstics of the program changed just because of the time interval line "
   ]
  },
  {
   "cell_type": "code",
   "execution_count": 32,
   "id": "a352d79a-086b-4509-abd1-b94a87943729",
   "metadata": {},
   "outputs": [],
   "source": [
    "def test1(id):\n",
    "    for i in range(10):\n",
    "        print(f'test1 {id} printing {i} time is {time.ctime()}')\n",
    "        time.sleep(1)\n",
    "    # time.ctime() helps in printing the time "
   ]
  },
  {
   "cell_type": "code",
   "execution_count": 33,
   "id": "b1b6650c-7fb8-4a15-82af-b792c16727f7",
   "metadata": {},
   "outputs": [],
   "source": [
    "thread1=[threading.Thread(target=test1, args=(i,)) for i in range(3)]"
   ]
  },
  {
   "cell_type": "code",
   "execution_count": 34,
   "id": "26e875b1-c802-4bdf-ae1c-8434da9aa4ae",
   "metadata": {},
   "outputs": [
    {
     "name": "stdout",
     "output_type": "stream",
     "text": [
      "test1 0 printing 0 time is Sat Mar 11 13:26:40 2023\n",
      "test1 1 printing 0 time is Sat Mar 11 13:26:40 2023\n",
      "test1 2 printing 0 time is Sat Mar 11 13:26:40 2023\n",
      "test1 0 printing 1 time is Sat Mar 11 13:26:41 2023\n",
      "test1 1 printing 1 time is Sat Mar 11 13:26:41 2023\n",
      "test1 2 printing 1 time is Sat Mar 11 13:26:41 2023\n",
      "test1 0 printing 2 time is Sat Mar 11 13:26:42 2023test1 1 printing 2 time is Sat Mar 11 13:26:42 2023\n",
      "\n",
      "test1 2 printing 2 time is Sat Mar 11 13:26:42 2023\n",
      "test1 1 printing 3 time is Sat Mar 11 13:26:43 2023\n",
      "test1 2 printing 3 time is Sat Mar 11 13:26:43 2023\n",
      "test1 0 printing 3 time is Sat Mar 11 13:26:43 2023\n",
      "test1 1 printing 4 time is Sat Mar 11 13:26:44 2023\n",
      "test1 2 printing 4 time is Sat Mar 11 13:26:44 2023\n",
      "test1 0 printing 4 time is Sat Mar 11 13:26:44 2023\n",
      "test1 1 printing 5 time is Sat Mar 11 13:26:45 2023\n",
      "test1 2 printing 5 time is Sat Mar 11 13:26:45 2023\n",
      "test1 0 printing 5 time is Sat Mar 11 13:26:45 2023\n",
      "test1 1 printing 6 time is Sat Mar 11 13:26:46 2023test1 0 printing 6 time is Sat Mar 11 13:26:46 2023\n",
      "\n",
      "test1 2 printing 6 time is Sat Mar 11 13:26:46 2023\n",
      "test1 0 printing 7 time is Sat Mar 11 13:26:47 2023\n",
      "test1 1 printing 7 time is Sat Mar 11 13:26:47 2023\n",
      "test1 2 printing 7 time is Sat Mar 11 13:26:47 2023\n",
      "test1 0 printing 8 time is Sat Mar 11 13:26:48 2023\n",
      "test1 1 printing 8 time is Sat Mar 11 13:26:48 2023\n",
      "test1 2 printing 8 time is Sat Mar 11 13:26:48 2023\n",
      "test1 0 printing 9 time is Sat Mar 11 13:26:49 2023test1 1 printing 9 time is Sat Mar 11 13:26:49 2023\n",
      "\n",
      "test1 2 printing 9 time is Sat Mar 11 13:26:49 2023\n"
     ]
    }
   ],
   "source": [
    "for t in thread1:\n",
    "    t.start()"
   ]
  },
  {
   "cell_type": "markdown",
   "id": "d8fe6f8c-1358-4db8-91f1-26dd4fa5c0a0",
   "metadata": {},
   "source": [
    "When Resources are shared "
   ]
  },
  {
   "cell_type": "code",
   "execution_count": 35,
   "id": "949c20e7-e959-4464-8b00-1a908187a4f3",
   "metadata": {},
   "outputs": [],
   "source": [
    "shared_var=0\n",
    "lock_var=threading.Lock()"
   ]
  },
  {
   "cell_type": "code",
   "execution_count": 41,
   "id": "e4df31e6-c02e-4153-9274-1bf9f0229213",
   "metadata": {},
   "outputs": [
    {
     "name": "stdout",
     "output_type": "stream",
     "text": [
      "test2 id is <built-in function id> has increased the shared variable by 4\n",
      "test2 id is <built-in function id> has increased the shared variable by 5\n",
      "test2 id is <built-in function id> has increased the shared variable by 6\n"
     ]
    }
   ],
   "source": [
    "def test2(id):\n",
    "    global shared_var\n",
    "    with lock_var:\n",
    "        shared_var=shared_var+1\n",
    "        print(f'test2 id is {id} has increased the shared variable by {shared_var}')\n",
    "        time.sleep(1)\n",
    "ther3=[threading.Thread(target=test2,args=(id,)) for i in range(3)]\n",
    "for t in ther3:\n",
    "    t.start()"
   ]
  }
 ],
 "metadata": {
  "kernelspec": {
   "display_name": "Python 3 (ipykernel)",
   "language": "python",
   "name": "python3"
  },
  "language_info": {
   "codemirror_mode": {
    "name": "ipython",
    "version": 3
   },
   "file_extension": ".py",
   "mimetype": "text/x-python",
   "name": "python",
   "nbconvert_exporter": "python",
   "pygments_lexer": "ipython3",
   "version": "3.10.8"
  }
 },
 "nbformat": 4,
 "nbformat_minor": 5
}
