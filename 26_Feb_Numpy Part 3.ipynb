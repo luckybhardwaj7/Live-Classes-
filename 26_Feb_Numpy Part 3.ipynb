{
 "cells": [
  {
   "cell_type": "markdown",
   "id": "1300fc36-8bdf-49d9-98d1-a0be50e3ca18",
   "metadata": {},
   "source": [
    "# Sort Serach and Counting Function"
   ]
  },
  {
   "cell_type": "code",
   "execution_count": 12,
   "id": "dc2dcb21-a9ed-41c6-8df6-fec537bd047f",
   "metadata": {},
   "outputs": [],
   "source": [
    "import numpy as np"
   ]
  },
  {
   "cell_type": "code",
   "execution_count": 13,
   "id": "38b94473-0680-4e19-b36e-419bb961a41d",
   "metadata": {},
   "outputs": [],
   "source": [
    "arr=np.array([4,3,4,5,6,72,3,3,455,5,6,6])"
   ]
  },
  {
   "cell_type": "code",
   "execution_count": 14,
   "id": "f247bd10-2385-4fe7-9cde-0eda325f9ffd",
   "metadata": {},
   "outputs": [
    {
     "data": {
      "text/plain": [
       "array([  4,   3,   4,   5,   6,  72,   3,   3, 455,   5,   6,   6])"
      ]
     },
     "execution_count": 14,
     "metadata": {},
     "output_type": "execute_result"
    }
   ],
   "source": [
    "arr"
   ]
  },
  {
   "cell_type": "code",
   "execution_count": 15,
   "id": "cba83f4a-f1cc-4c4e-b23b-710ef4728942",
   "metadata": {},
   "outputs": [
    {
     "data": {
      "text/plain": [
       "array([  3,   3,   3,   4,   4,   5,   5,   6,   6,   6,  72, 455])"
      ]
     },
     "execution_count": 15,
     "metadata": {},
     "output_type": "execute_result"
    }
   ],
   "source": [
    "np.sort(arr) "
   ]
  },
  {
   "cell_type": "code",
   "execution_count": 16,
   "id": "04496245-b9ea-4b35-bb4f-6961394d9c43",
   "metadata": {},
   "outputs": [
    {
     "data": {
      "text/plain": [
       "12"
      ]
     },
     "execution_count": 16,
     "metadata": {},
     "output_type": "execute_result"
    }
   ],
   "source": [
    "np.searchsorted(arr,34)"
   ]
  },
  {
   "cell_type": "code",
   "execution_count": 17,
   "id": "fb3f1e4c-a217-4db6-83d2-8eb58d0a3186",
   "metadata": {},
   "outputs": [],
   "source": [
    "arr1=np.array([0,345,454,0,0,0,0,0])"
   ]
  },
  {
   "cell_type": "code",
   "execution_count": 20,
   "id": "7618e594-65f3-499b-b94e-155022592fe8",
   "metadata": {},
   "outputs": [
    {
     "data": {
      "text/plain": [
       "2"
      ]
     },
     "execution_count": 20,
     "metadata": {},
     "output_type": "execute_result"
    }
   ],
   "source": [
    "# Checking the non zero data \n",
    "np.count_nonzero(arr1)"
   ]
  },
  {
   "cell_type": "code",
   "execution_count": 19,
   "id": "51d6f50c-1d9c-4110-ba32-a72c7fcf1905",
   "metadata": {
    "tags": []
   },
   "outputs": [
    {
     "data": {
      "text/plain": [
       "(array([5, 8]),)"
      ]
     },
     "execution_count": 19,
     "metadata": {},
     "output_type": "execute_result"
    }
   ],
   "source": [
    "np.where(arr>6)\n",
    "# Will return the indexes of the data that is greater than 6 "
   ]
  },
  {
   "cell_type": "code",
   "execution_count": 22,
   "id": "ab4e3c97-563c-4ba5-8231-c18025151550",
   "metadata": {},
   "outputs": [
    {
     "data": {
      "text/plain": [
       "(array([ 0,  2,  3,  4,  5,  8,  9, 10, 11]),)"
      ]
     },
     "execution_count": 22,
     "metadata": {},
     "output_type": "execute_result"
    }
   ],
   "source": [
    "np.where(arr>=4) # indexes of data having greater than and equal to value 4"
   ]
  },
  {
   "cell_type": "code",
   "execution_count": 25,
   "id": "0c1b63e1-98b9-404b-b03b-76e1bc2d0765",
   "metadata": {},
   "outputs": [
    {
     "data": {
      "text/plain": [
       "array([ 72, 455])"
      ]
     },
     "execution_count": 25,
     "metadata": {},
     "output_type": "execute_result"
    }
   ],
   "source": [
    "np.extract(arr>6,arr)\n",
    "# Will extract the data that is greater than 6"
   ]
  },
  {
   "cell_type": "markdown",
   "id": "ded7504f-2b1a-4f59-9804-c566c0b4dd57",
   "metadata": {},
   "source": [
    "### Byte Swapping"
   ]
  },
  {
   "cell_type": "code",
   "execution_count": 42,
   "id": "6419c4ab-5b7d-4643-a354-c1a9b871fd47",
   "metadata": {},
   "outputs": [
    {
     "data": {
      "text/plain": [
       "array([-8214002770370363392,   216172782113783808,   288230376151711744,\n",
       "         360287970189639680,   432345564227567616,  5188146770730811392,\n",
       "         216172782113783808,   216172782113783808, -4107001385185181696,\n",
       "         360287970189639680,   432345564227567616,   432345564227567616])"
      ]
     },
     "execution_count": 42,
     "metadata": {},
     "output_type": "execute_result"
    }
   ],
   "source": [
    "arr.byteswap() # Will show the byte representation of the data present in the array"
   ]
  },
  {
   "cell_type": "markdown",
   "id": "0af66ec6-9be7-4f87-80e5-5bd53831aa0f",
   "metadata": {},
   "source": [
    "### Copies and Views"
   ]
  },
  {
   "cell_type": "code",
   "execution_count": 43,
   "id": "a9e840fc-d93e-4445-95ed-4a5d56abdaee",
   "metadata": {},
   "outputs": [
    {
     "data": {
      "text/plain": [
       "array([654,   3,   4,   5,   6,  72,   3,   3, 455,   5,   6,   6])"
      ]
     },
     "execution_count": 43,
     "metadata": {},
     "output_type": "execute_result"
    }
   ],
   "source": [
    "arr"
   ]
  },
  {
   "cell_type": "code",
   "execution_count": 44,
   "id": "a46069f1-10ed-4d35-959b-68616975cbd5",
   "metadata": {},
   "outputs": [],
   "source": [
    "a=np.copy(arr) # Will create a copy of the data in the different location from the earlier\n",
    "# This is known as creating the Deep copy"
   ]
  },
  {
   "cell_type": "code",
   "execution_count": 36,
   "id": "8c499caa-3147-4cfa-aac9-67c713d0d50e",
   "metadata": {},
   "outputs": [],
   "source": [
    "b=arr.view()"
   ]
  },
  {
   "cell_type": "code",
   "execution_count": 37,
   "id": "24b1a20e-dd76-4c7a-9f30-5b21b3197fc0",
   "metadata": {},
   "outputs": [
    {
     "data": {
      "text/plain": [
       "array([  4,   3,   4,   5,   6,  72,   3,   3, 455,   5,   6,   6])"
      ]
     },
     "execution_count": 37,
     "metadata": {},
     "output_type": "execute_result"
    }
   ],
   "source": [
    "b"
   ]
  },
  {
   "cell_type": "code",
   "execution_count": 38,
   "id": "edfbfa1b-d4eb-4098-9954-da99d258dbcc",
   "metadata": {},
   "outputs": [],
   "source": [
    "b[0]=654"
   ]
  },
  {
   "cell_type": "code",
   "execution_count": 39,
   "id": "0e005ec8-5dc5-4c0f-af23-bc5c4347da6f",
   "metadata": {},
   "outputs": [
    {
     "data": {
      "text/plain": [
       "array([654,   3,   4,   5,   6,  72,   3,   3, 455,   5,   6,   6])"
      ]
     },
     "execution_count": 39,
     "metadata": {},
     "output_type": "execute_result"
    }
   ],
   "source": [
    "b"
   ]
  },
  {
   "cell_type": "code",
   "execution_count": 40,
   "id": "e121ac26-fcfc-4127-8691-c32c66679b26",
   "metadata": {},
   "outputs": [
    {
     "data": {
      "text/plain": [
       "array([654,   3,   4,   5,   6,  72,   3,   3, 455,   5,   6,   6])"
      ]
     },
     "execution_count": 40,
     "metadata": {},
     "output_type": "execute_result"
    }
   ],
   "source": [
    "arr"
   ]
  },
  {
   "cell_type": "code",
   "execution_count": 41,
   "id": "e369aeae-4423-4367-978f-687b39a16af4",
   "metadata": {},
   "outputs": [],
   "source": [
    "# Changes made in the view will affect the both, The view copy and teh original copy as well\n",
    "# View does not create a new copy instead it refers the data to the original location "
   ]
  },
  {
   "cell_type": "markdown",
   "id": "b55659b1-6657-4000-9137-9eff6134ec6f",
   "metadata": {},
   "source": [
    "### Numpy- Matrix Library"
   ]
  },
  {
   "cell_type": "code",
   "execution_count": 45,
   "id": "c53c326f-6ea5-4260-b109-79e2183c8cf7",
   "metadata": {},
   "outputs": [],
   "source": [
    "import numpy.matlib as nm"
   ]
  },
  {
   "cell_type": "code",
   "execution_count": 49,
   "id": "6ba20950-a69b-4fb4-8647-7f35d9ade74d",
   "metadata": {},
   "outputs": [
    {
     "data": {
      "text/plain": [
       "matrix([[0., 0., 0., 0., 0.],\n",
       "        [0., 0., 0., 0., 0.],\n",
       "        [0., 0., 0., 0., 0.],\n",
       "        [0., 0., 0., 0., 0.],\n",
       "        [0., 0., 0., 0., 0.]])"
      ]
     },
     "execution_count": 49,
     "metadata": {},
     "output_type": "execute_result"
    }
   ],
   "source": [
    "nm.zeros((5,5)) # Will generate the matrix having all values as zero "
   ]
  },
  {
   "cell_type": "code",
   "execution_count": 51,
   "id": "30aa86c3-fbfd-45bd-bce8-36a0c267db26",
   "metadata": {},
   "outputs": [
    {
     "data": {
      "text/plain": [
       "matrix([[1., 1.],\n",
       "        [1., 1.]])"
      ]
     },
     "execution_count": 51,
     "metadata": {},
     "output_type": "execute_result"
    }
   ],
   "source": [
    "nm.ones((2,2)) # Will generate the 2*2 matrix having all values as 1"
   ]
  },
  {
   "cell_type": "code",
   "execution_count": 53,
   "id": "6cef40ef-1ad5-4e1e-8aaf-673a4673652c",
   "metadata": {},
   "outputs": [
    {
     "data": {
      "text/plain": [
       "matrix([[1., 0., 0., 0., 0.],\n",
       "        [0., 1., 0., 0., 0.],\n",
       "        [0., 0., 1., 0., 0.],\n",
       "        [0., 0., 0., 1., 0.],\n",
       "        [0., 0., 0., 0., 1.]])"
      ]
     },
     "execution_count": 53,
     "metadata": {},
     "output_type": "execute_result"
    }
   ],
   "source": [
    "nm.eye(5) # Identity matrix of 5*5"
   ]
  },
  {
   "cell_type": "markdown",
   "id": "c5339041-6527-412c-94f4-5e550f8ccea5",
   "metadata": {},
   "source": [
    "### Numpy-Linear Algebra"
   ]
  },
  {
   "cell_type": "code",
   "execution_count": 58,
   "id": "38295616-d2fc-4ffc-8f69-0319904548ee",
   "metadata": {},
   "outputs": [],
   "source": [
    "arr1=np.random.randint([[2,3],[4,5]])"
   ]
  },
  {
   "cell_type": "code",
   "execution_count": 59,
   "id": "7830cbf2-1f39-452c-b3e4-f5179bd5d1d0",
   "metadata": {},
   "outputs": [],
   "source": [
    "arr2=np.random.randint([[5,3],[2,5]])"
   ]
  },
  {
   "cell_type": "code",
   "execution_count": 60,
   "id": "d5d7f954-607a-45a7-8381-de6e9667405c",
   "metadata": {},
   "outputs": [
    {
     "data": {
      "text/plain": [
       "array([[0, 1],\n",
       "       [0, 2]])"
      ]
     },
     "execution_count": 60,
     "metadata": {},
     "output_type": "execute_result"
    }
   ],
   "source": [
    "np.dot(arr1,arr2)"
   ]
  },
  {
   "cell_type": "code",
   "execution_count": 62,
   "id": "93504203-1298-4ded-89ee-f125298cb835",
   "metadata": {},
   "outputs": [
    {
     "data": {
      "text/plain": [
       "array([[0, 1],\n",
       "       [0, 2]])"
      ]
     },
     "execution_count": 62,
     "metadata": {},
     "output_type": "execute_result"
    }
   ],
   "source": [
    "arr1@arr2 # Both are same "
   ]
  },
  {
   "cell_type": "code",
   "execution_count": null,
   "id": "0ef70a40-fab6-4425-8e6e-20b8228f7d50",
   "metadata": {},
   "outputs": [],
   "source": []
  }
 ],
 "metadata": {
  "kernelspec": {
   "display_name": "Python 3 (ipykernel)",
   "language": "python",
   "name": "python3"
  },
  "language_info": {
   "codemirror_mode": {
    "name": "ipython",
    "version": 3
   },
   "file_extension": ".py",
   "mimetype": "text/x-python",
   "name": "python",
   "nbconvert_exporter": "python",
   "pygments_lexer": "ipython3",
   "version": "3.10.8"
  }
 },
 "nbformat": 4,
 "nbformat_minor": 5
}
