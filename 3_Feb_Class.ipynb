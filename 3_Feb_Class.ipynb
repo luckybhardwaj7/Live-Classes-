{
 "cells": [
  {
   "cell_type": "markdown",
   "id": "8d88cd15-20fa-4bc9-833a-dff105ddc106",
   "metadata": {},
   "source": [
    "Loop Practice"
   ]
  },
  {
   "cell_type": "markdown",
   "id": "006a1c83-1d7e-4293-9573-06368081f45f",
   "metadata": {},
   "source": [
    "Print Till 10"
   ]
  },
  {
   "cell_type": "code",
   "execution_count": 1,
   "id": "392ce940-bba1-4bb6-b779-ac4ec73bfc22",
   "metadata": {},
   "outputs": [
    {
     "name": "stdout",
     "output_type": "stream",
     "text": [
      "2\n",
      "3\n",
      "4\n",
      "5\n",
      "6\n",
      "7\n",
      "8\n",
      "9\n",
      "10\n",
      "11\n"
     ]
    }
   ],
   "source": [
    "a=1\n",
    "while a<=10:\n",
    "    print(a+1)\n",
    "    a=a+1"
   ]
  },
  {
   "cell_type": "markdown",
   "id": "2e8fc6e8-a164-4d89-be24-fe074cfc9f8c",
   "metadata": {},
   "source": [
    "Sum of number till N"
   ]
  },
  {
   "cell_type": "code",
   "execution_count": 1,
   "id": "b3e20081-0b87-4155-bb00-8b363c941f2a",
   "metadata": {},
   "outputs": [
    {
     "name": "stdin",
     "output_type": "stream",
     "text": [
      "Enter a number 5\n"
     ]
    },
    {
     "data": {
      "text/plain": [
       "15"
      ]
     },
     "execution_count": 1,
     "metadata": {},
     "output_type": "execute_result"
    }
   ],
   "source": [
    "n=int(input('Enter a number'))\n",
    "sum=0\n",
    "counter=1\n",
    "while counter<=n:\n",
    "    sum=sum+counter\n",
    "    counter=counter+1\n",
    "sum"
   ]
  },
  {
   "cell_type": "markdown",
   "id": "20f3aab2-6535-4d7f-a45b-db50e8222dd3",
   "metadata": {},
   "source": [
    "Factorial of a number"
   ]
  },
  {
   "cell_type": "code",
   "execution_count": 2,
   "id": "8391cc6a-a3e3-4417-ab80-f9afdf9e8724",
   "metadata": {},
   "outputs": [
    {
     "name": "stdin",
     "output_type": "stream",
     "text": [
      "Enter a number 4\n"
     ]
    },
    {
     "data": {
      "text/plain": [
       "24"
      ]
     },
     "execution_count": 2,
     "metadata": {},
     "output_type": "execute_result"
    }
   ],
   "source": [
    "number=int(input('Enter a number'))\n",
    "factorial =1\n",
    "while number>0:\n",
    "    factorial =factorial*number\n",
    "    number=number-1\n",
    "factorial"
   ]
  },
  {
   "cell_type": "markdown",
   "id": "7bdc8da3-7de2-4766-bf32-4eaa931385a6",
   "metadata": {},
   "source": [
    "Finonacci Series"
   ]
  },
  {
   "cell_type": "markdown",
   "id": "e1f09d99-67f6-486d-9670-e70b21a163a1",
   "metadata": {},
   "source": [
    "Using while loop"
   ]
  },
  {
   "cell_type": "code",
   "execution_count": 11,
   "id": "bd47d7f9-a824-4750-b22a-9a67b1028650",
   "metadata": {},
   "outputs": [
    {
     "name": "stdin",
     "output_type": "stream",
     "text": [
      "Enter the number 9\n"
     ]
    },
    {
     "name": "stdout",
     "output_type": "stream",
     "text": [
      "0\n",
      "1\n",
      "1\n",
      "2\n",
      "3\n",
      "5\n",
      "8\n",
      "13\n",
      "21\n"
     ]
    }
   ],
   "source": [
    "number=int(input('Enter the number'))\n",
    "a=0\n",
    "b=1\n",
    "counter=0\n",
    "while counter<number:\n",
    "    print(a)\n",
    "    c=a+b\n",
    "    a=b\n",
    "    b=c\n",
    "    counter=counter+1"
   ]
  },
  {
   "cell_type": "markdown",
   "id": "dcb38e89-f423-42f6-94a8-7bca91aeee1a",
   "metadata": {},
   "source": [
    "Using For Loop"
   ]
  },
  {
   "cell_type": "code",
   "execution_count": 14,
   "id": "8e319fa9-ed34-448f-9d2c-058d6c022a13",
   "metadata": {},
   "outputs": [
    {
     "name": "stdout",
     "output_type": "stream",
     "text": [
      "0\n",
      "1\n",
      "1\n",
      "2\n",
      "3\n",
      "5\n",
      "8\n",
      "13\n",
      "21\n",
      "34\n"
     ]
    }
   ],
   "source": [
    "a,b=0,1\n",
    "for i in range(10):\n",
    "     print(a)\n",
    "     c=a+b\n",
    "     a=b\n",
    "     b=c\n",
    "     counter=counter+1"
   ]
  },
  {
   "cell_type": "markdown",
   "id": "e21ed849-1a7e-4384-84ad-2ed141a1e424",
   "metadata": {},
   "source": [
    "Reversing a string using While loop "
   ]
  },
  {
   "cell_type": "code",
   "execution_count": 16,
   "id": "d414edef-34bd-48fc-ad43-e8725fd9e1a6",
   "metadata": {},
   "outputs": [],
   "source": [
    "#normally how we reverses the string "
   ]
  },
  {
   "cell_type": "code",
   "execution_count": 17,
   "id": "d63da15a-0500-4098-820b-880399c3ae21",
   "metadata": {},
   "outputs": [
    {
     "data": {
      "text/plain": [
       "'ykcuL'"
      ]
     },
     "execution_count": 17,
     "metadata": {},
     "output_type": "execute_result"
    }
   ],
   "source": [
    "x='Lucky'\n",
    "x[::-1]"
   ]
  },
  {
   "cell_type": "code",
   "execution_count": 22,
   "id": "a17a67f3-a8a3-40dc-b558-cad5d2b271e8",
   "metadata": {},
   "outputs": [
    {
     "name": "stdin",
     "output_type": "stream",
     "text": [
      "Enter your String for the Reversal Lucky\n"
     ]
    },
    {
     "data": {
      "text/plain": [
       "'ykcuL'"
      ]
     },
     "execution_count": 22,
     "metadata": {},
     "output_type": "execute_result"
    }
   ],
   "source": [
    "#Using While loop \n",
    "word=input('Enter your String for the Reversal')\n",
    "reverse=''\n",
    "length=len(word)\n",
    "while length>0:\n",
    "    reverse=reverse+word[length-1]\n",
    "    length=length-1\n",
    "reverse"
   ]
  },
  {
   "cell_type": "code",
   "execution_count": 27,
   "id": "ad0a31dc-7925-4b76-a1ee-de224d9674c4",
   "metadata": {},
   "outputs": [
    {
     "name": "stdin",
     "output_type": "stream",
     "text": [
      "Enter the Number:  5\n"
     ]
    },
    {
     "name": "stdout",
     "output_type": "stream",
     "text": [
      "5\n",
      "10\n",
      "15\n",
      "20\n",
      "25\n",
      "30\n",
      "35\n",
      "40\n",
      "45\n",
      "50\n"
     ]
    }
   ],
   "source": [
    "#Printing The Table using for loop \n",
    "number=int(input('Enter the Number: '))\n",
    "for i in range(1,11):\n",
    "    print(i*number)\n",
    "    i=i+1\n"
   ]
  },
  {
   "cell_type": "code",
   "execution_count": 29,
   "id": "20eb1cdc-22c9-401a-b6b6-3b84f652ca5b",
   "metadata": {},
   "outputs": [
    {
     "name": "stdin",
     "output_type": "stream",
     "text": [
      "Enter the Number:  5\n"
     ]
    },
    {
     "name": "stdout",
     "output_type": "stream",
     "text": [
      "5\n",
      "10\n",
      "15\n",
      "20\n",
      "25\n",
      "30\n",
      "35\n",
      "40\n",
      "45\n",
      "50\n"
     ]
    }
   ],
   "source": [
    "#using while loop\n",
    "n=int(input('Enter the Number: '))\n",
    "i=1\n",
    "while i<=10:\n",
    "    result=n*i\n",
    "    print(result)\n",
    "    i=i+1\n"
   ]
  },
  {
   "cell_type": "markdown",
   "id": "ad4071fd-2895-4564-a37a-1dcb0f7c3505",
   "metadata": {},
   "source": [
    "ELSE with WHILE"
   ]
  },
  {
   "cell_type": "code",
   "execution_count": 38,
   "id": "cb2bf38e-25c5-4d51-928c-efdc97bfabb4",
   "metadata": {
    "tags": []
   },
   "outputs": [
    {
     "name": "stdout",
     "output_type": "stream",
     "text": [
      "1\n",
      "2\n",
      "3\n",
      "4\n",
      "Executed\n"
     ]
    }
   ],
   "source": [
    "i=1\n",
    "n=5\n",
    "while i<n:\n",
    "    print(i)\n",
    "    i=i+1\n",
    "else:\n",
    "    print('Executed')"
   ]
  },
  {
   "cell_type": "code",
   "execution_count": 39,
   "id": "5bb17c25-dbdc-4b13-b4af-7c18506801d8",
   "metadata": {},
   "outputs": [
    {
     "name": "stdout",
     "output_type": "stream",
     "text": [
      "1\n",
      "2\n",
      "3\n"
     ]
    }
   ],
   "source": [
    "#using break will not let the else to be executed \n",
    "i=1\n",
    "n=5\n",
    "while i<n:\n",
    "    print(i)\n",
    "    if i==3:\n",
    "        break;\n",
    "    i=i+1\n",
    "else:\n",
    "    print('Executed')"
   ]
  },
  {
   "cell_type": "code",
   "execution_count": 40,
   "id": "5624aeb1-7430-437a-b859-346f55011dfe",
   "metadata": {},
   "outputs": [],
   "source": [
    "#Comprehension "
   ]
  },
  {
   "cell_type": "markdown",
   "id": "397d2ce1-2c26-47ee-852f-63497daf9ac2",
   "metadata": {},
   "source": [
    "Usual way of writing a code to find the square of the numbers present in a list"
   ]
  },
  {
   "cell_type": "code",
   "execution_count": 3,
   "id": "d3e27b82-402a-4604-8939-16713baa3c07",
   "metadata": {},
   "outputs": [
    {
     "data": {
      "text/plain": [
       "[1, 4, 9, 16, 25]"
      ]
     },
     "execution_count": 3,
     "metadata": {},
     "output_type": "execute_result"
    }
   ],
   "source": [
    "l=[1,2,3,4,5]\n",
    "l1=[]\n",
    "for i in l:\n",
    "   l1.append(i**2)   \n",
    "l1"
   ]
  },
  {
   "cell_type": "markdown",
   "id": "f2034c88-72b1-457a-9cff-7c9e71901407",
   "metadata": {},
   "source": [
    "Using Comprehension doing the same "
   ]
  },
  {
   "cell_type": "code",
   "execution_count": 5,
   "id": "4a8f6d85-0282-48f1-abaa-c9eae89f828f",
   "metadata": {},
   "outputs": [
    {
     "data": {
      "text/plain": [
       "[1, 4, 9, 16, 25]"
      ]
     },
     "execution_count": 5,
     "metadata": {},
     "output_type": "execute_result"
    }
   ],
   "source": [
    "\n",
    "[i**2 for i in l]"
   ]
  },
  {
   "cell_type": "markdown",
   "id": "ace9154b-f846-4fad-8734-4c9164910427",
   "metadata": {},
   "source": [
    "Extract the even number from the list l"
   ]
  },
  {
   "cell_type": "code",
   "execution_count": 7,
   "id": "9a890083-bd9e-4a73-a07f-bd89e241d70c",
   "metadata": {},
   "outputs": [
    {
     "data": {
      "text/plain": [
       "[2, 4]"
      ]
     },
     "execution_count": 7,
     "metadata": {},
     "output_type": "execute_result"
    }
   ],
   "source": [
    "[i for i in l if i%2==0]"
   ]
  },
  {
   "cell_type": "code",
   "execution_count": 9,
   "id": "5e7879cf-668a-479e-ace3-00823414e159",
   "metadata": {},
   "outputs": [
    {
     "data": {
      "text/plain": [
       "['LUCKY', 'BHARDWAJ', 'YASH', 'BIRLA']"
      ]
     },
     "execution_count": 9,
     "metadata": {},
     "output_type": "execute_result"
    }
   ],
   "source": [
    "#Converting the list into upper case\n",
    "l2=['Lucky','Bhardwaj','Yash', 'Birla']\n",
    "[i.upper() for i in l2]"
   ]
  },
  {
   "cell_type": "code",
   "execution_count": 10,
   "id": "62e0c9ed-f8f1-496f-8130-491458f3afea",
   "metadata": {},
   "outputs": [
    {
     "data": {
      "text/plain": [
       "<generator object <genexpr> at 0x7fe77038ec00>"
      ]
     },
     "execution_count": 10,
     "metadata": {},
     "output_type": "execute_result"
    }
   ],
   "source": [
    "(i**2 for i in l)"
   ]
  },
  {
   "cell_type": "code",
   "execution_count": 12,
   "id": "548dad83-202b-4ac1-80f4-86ae259228e9",
   "metadata": {},
   "outputs": [
    {
     "data": {
      "text/plain": [
       "[1, 4, 9, 16, 25]"
      ]
     },
     "execution_count": 12,
     "metadata": {},
     "output_type": "execute_result"
    }
   ],
   "source": [
    "#<generator object <genexpr> at 0x7fe77038ec00>\n",
    "#shows that that this has been created but we have to extract it using the list \n",
    "list(i**2 for i in l)"
   ]
  },
  {
   "cell_type": "markdown",
   "id": "c75b3817-54f2-440f-890f-375e0a4f30e8",
   "metadata": {},
   "source": [
    "NOTE:- Tuple and List comprehensions will be exactly same whereas the Dictionary one will be different  "
   ]
  },
  {
   "cell_type": "markdown",
   "id": "efbd3b5b-b09e-4a88-8697-5e09acb833cf",
   "metadata": {},
   "source": [
    "Dictioanry Comprehension"
   ]
  },
  {
   "cell_type": "code",
   "execution_count": 16,
   "id": "61dc4095-b1ad-4695-a641-10444d1f6f59",
   "metadata": {},
   "outputs": [],
   "source": [
    "dict1={'x':4,'y':5, 'z':1}"
   ]
  },
  {
   "cell_type": "code",
   "execution_count": 17,
   "id": "a775d467-6dba-4116-afa4-000baffbbccf",
   "metadata": {},
   "outputs": [
    {
     "data": {
      "text/plain": [
       "{'x': 16, 'y': 25, 'z': 1}"
      ]
     },
     "execution_count": 17,
     "metadata": {},
     "output_type": "execute_result"
    }
   ],
   "source": [
    "#square the value present in the dict1\n",
    "{k:v**2for k,v in dict1.items()}"
   ]
  },
  {
   "cell_type": "code",
   "execution_count": 23,
   "id": "7d0e70e6-b6ee-4879-8849-5982ebdd4971",
   "metadata": {},
   "outputs": [
    {
     "data": {
      "text/plain": [
       "{'x': 16, 'y': 25}"
      ]
     },
     "execution_count": 23,
     "metadata": {},
     "output_type": "execute_result"
    }
   ],
   "source": [
    "#only those values which are greater than 1\n",
    "{k:v**2 for k,v in dict1.items() if v>1}"
   ]
  },
  {
   "cell_type": "code",
   "execution_count": null,
   "id": "a05698cc-d195-46d1-bf7c-dd85891b3241",
   "metadata": {},
   "outputs": [],
   "source": []
  }
 ],
 "metadata": {
  "kernelspec": {
   "display_name": "Python 3 (ipykernel)",
   "language": "python",
   "name": "python3"
  },
  "language_info": {
   "codemirror_mode": {
    "name": "ipython",
    "version": 3
   },
   "file_extension": ".py",
   "mimetype": "text/x-python",
   "name": "python",
   "nbconvert_exporter": "python",
   "pygments_lexer": "ipython3",
   "version": "3.10.8"
  }
 },
 "nbformat": 4,
 "nbformat_minor": 5
}
