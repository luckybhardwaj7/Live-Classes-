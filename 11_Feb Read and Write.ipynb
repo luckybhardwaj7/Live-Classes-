{
 "cells": [
  {
   "cell_type": "markdown",
   "id": "a7a64df8-2057-4f31-ae66-c2315226b17e",
   "metadata": {},
   "source": [
    "Reading and Writing Files"
   ]
  },
  {
   "cell_type": "code",
   "execution_count": 5,
   "id": "447530af-5ec6-4387-a6c3-5cadf3c5b310",
   "metadata": {},
   "outputs": [],
   "source": [
    "data= {\n",
    "    'name' : 'lucky',\n",
    "    'mail_id' : 'lucky@gmail.com',\n",
    "    'phone_number' : 9876543210,\n",
    "    'subject' : ['Data Science','Big Data','Data Analytics']\n",
    "}"
   ]
  },
  {
   "cell_type": "code",
   "execution_count": 7,
   "id": "b3d90c2e-2fa0-4b94-92ac-24c0ff97370c",
   "metadata": {},
   "outputs": [],
   "source": [
    "# You can read and write the files who have data in the above format (Dictionary Data)\n",
    "import json #importing JSON"
   ]
  },
  {
   "cell_type": "code",
   "execution_count": 8,
   "id": "fc507dda-18a0-4b53-bd09-d336e1924fb6",
   "metadata": {},
   "outputs": [],
   "source": [
    "with open('data.json','w') as f:\n",
    "    json.dump(data,f) #dump to write the data"
   ]
  },
  {
   "cell_type": "code",
   "execution_count": 10,
   "id": "509f855c-5322-4e8c-98b1-3aaf15b01c77",
   "metadata": {},
   "outputs": [],
   "source": [
    "with open('data.json','r') as f:\n",
    "    json.load(f) # load to read the data"
   ]
  },
  {
   "cell_type": "code",
   "execution_count": 11,
   "id": "67b094e4-12ea-4a81-a115-a76db228e43f",
   "metadata": {},
   "outputs": [
    {
     "data": {
      "text/plain": [
       "{'name': 'lucky',\n",
       " 'mail_id': 'lucky@gmail.com',\n",
       " 'phone_number': 9876543210,\n",
       " 'subject': ['Data Science', 'Big Data', 'Data Analytics']}"
      ]
     },
     "execution_count": 11,
     "metadata": {},
     "output_type": "execute_result"
    }
   ],
   "source": [
    "data"
   ]
  },
  {
   "cell_type": "code",
   "execution_count": 13,
   "id": "0ca177e2-3eee-4fff-ab01-11de49135f86",
   "metadata": {},
   "outputs": [
    {
     "data": {
      "text/plain": [
       "'Data Analytics'"
      ]
     },
     "execution_count": 13,
     "metadata": {},
     "output_type": "execute_result"
    }
   ],
   "source": [
    "# Extracting the data from the avilable dictionary \n",
    "data['subject'][2] "
   ]
  },
  {
   "cell_type": "markdown",
   "id": "02227694-bdc2-4314-98da-41f9260f570b",
   "metadata": {},
   "source": [
    "Comma Seperated Values (CSV)"
   ]
  },
  {
   "cell_type": "code",
   "execution_count": 2,
   "id": "ed300c80-bb5b-419a-8de8-33635264e173",
   "metadata": {},
   "outputs": [],
   "source": [
    "import csv"
   ]
  },
  {
   "cell_type": "code",
   "execution_count": 3,
   "id": "7ae5c8b4-48b5-4881-a9ee-cd4d411044d1",
   "metadata": {},
   "outputs": [],
   "source": [
    "data =[['name','email_id','phone_number'],\n",
    "       ['Lucky','lucky@gmail.com','9876543210'],\n",
    "       ['Krish','krish@gmail.com','9876556789']\n",
    "]"
   ]
  },
  {
   "cell_type": "code",
   "execution_count": 4,
   "id": "0c7350f3-1ac1-4119-825a-84f4a9f813f1",
   "metadata": {},
   "outputs": [],
   "source": [
    "with open('data.csv','w') as f:\n",
    "    writer = csv.writer(f)\n",
    "    \n",
    "    for i in data:\n",
    "        writer.writerow(i)\n",
    "# entire data will be stored in the csv format"
   ]
  },
  {
   "cell_type": "code",
   "execution_count": 7,
   "id": "516d5f74-c06d-4d2e-86cd-702bce3e6399",
   "metadata": {},
   "outputs": [
    {
     "name": "stdout",
     "output_type": "stream",
     "text": [
      "['name', 'email_id', 'phone_number']\n",
      "['Lucky', 'lucky@gmail.com', '9876543210']\n",
      "['Krish', 'krish@gmail.com', '9876556789']\n"
     ]
    }
   ],
   "source": [
    "# to read the data present in teh csv file\n",
    "with open ('data.csv','r') as f:\n",
    "    read_data= csv.reader(f)\n",
    "# to read the data row by row we have to use the for loop \n",
    "    for i in data:\n",
    "        print(i)"
   ]
  },
  {
   "cell_type": "markdown",
   "id": "d572610d-fa98-4688-b903-9ea3c3420336",
   "metadata": {},
   "source": [
    "Binary DATA"
   ]
  },
  {
   "cell_type": "code",
   "execution_count": 8,
   "id": "73c27c34-6c3d-45fc-91c0-5783c1ef6ac6",
   "metadata": {},
   "outputs": [],
   "source": [
    "# to read and write the binary data\n",
    "# Binary data is not human readable\n",
    "with open('test.bin','wb') as f: #wb denotes to the write binary you have to do it like this only for binary format\n",
    "    f.write(b'\\01\\x02\\x03')  # b is for binary format you have to mention it\n",
    "    #\\01\\x02\\x03 is the bin format i.e. bin data is written in this way only "
   ]
  },
  {
   "cell_type": "code",
   "execution_count": 9,
   "id": "1b92135f-593d-49a1-b1ea-c0534f24e72d",
   "metadata": {},
   "outputs": [
    {
     "name": "stdout",
     "output_type": "stream",
     "text": [
      "b'\\x01\\x02\\x03'\n"
     ]
    }
   ],
   "source": [
    "# to read this\n",
    "with open('test.bin','rb') as f:\n",
    "    print(f.read())"
   ]
  },
  {
   "cell_type": "code",
   "execution_count": null,
   "id": "7b1c4f1b-8b8c-44f2-bfb9-a08b097109fe",
   "metadata": {},
   "outputs": [],
   "source": []
  }
 ],
 "metadata": {
  "kernelspec": {
   "display_name": "Python 3 (ipykernel)",
   "language": "python",
   "name": "python3"
  },
  "language_info": {
   "codemirror_mode": {
    "name": "ipython",
    "version": 3
   },
   "file_extension": ".py",
   "mimetype": "text/x-python",
   "name": "python",
   "nbconvert_exporter": "python",
   "pygments_lexer": "ipython3",
   "version": "3.10.8"
  }
 },
 "nbformat": 4,
 "nbformat_minor": 5
}
