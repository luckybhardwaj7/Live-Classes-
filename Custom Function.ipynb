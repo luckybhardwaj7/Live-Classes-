{
 "cells": [
  {
   "cell_type": "markdown",
   "id": "958247d0",
   "metadata": {},
   "source": [
    "never start a function in the uppercase \n",
    "for example Myfun(Incorrect)\n",
    "myfun(Correct)\n"
   ]
  },
  {
   "cell_type": "code",
   "execution_count": 4,
   "id": "2c3d188c",
   "metadata": {},
   "outputs": [
    {
     "name": "stdout",
     "output_type": "stream",
     "text": [
      "This is my first custom function\n"
     ]
    }
   ],
   "source": [
    "def myFunction():\n",
    "    print('This is my first custom function')\n",
    "myFunction()"
   ]
  },
  {
   "cell_type": "code",
   "execution_count": 2,
   "id": "bd330fba",
   "metadata": {},
   "outputs": [
    {
     "name": "stdout",
     "output_type": "stream",
     "text": [
      "Luc ky\n"
     ]
    }
   ],
   "source": [
    "def printit(lucky):\n",
    "    print(lucky)\n",
    "printit('Luc ky')"
   ]
  },
  {
   "cell_type": "code",
   "execution_count": 12,
   "id": "2b6da8c3",
   "metadata": {},
   "outputs": [
    {
     "name": "stdout",
     "output_type": "stream",
     "text": [
      "-90\n",
      "1000\n",
      "40\n",
      "20\n"
     ]
    }
   ],
   "source": [
    "def lucky(a):\n",
    "    print(a-100)\n",
    "    print(a**3)\n",
    "    print(a*4)\n",
    "    print(a+a)\n",
    "lucky(10)"
   ]
  },
  {
   "cell_type": "code",
   "execution_count": 10,
   "id": "1a75ea9f",
   "metadata": {},
   "outputs": [
    {
     "name": "stdout",
     "output_type": "stream",
     "text": [
      "-90\n",
      "1000\n",
      "40\n",
      "20\n"
     ]
    }
   ],
   "source": [
    "def lucky(a):\n",
    "    print(a-100)\n",
    "    print(a**3)\n",
    "    print(a*4)\n",
    "    print(a+a)\n",
    "lucky(10)"
   ]
  },
  {
   "cell_type": "markdown",
   "id": "b07a5796",
   "metadata": {},
   "source": [
    "##### Take 3 values and perform various operatioins \n",
    "    "
   ]
  },
  {
   "cell_type": "code",
   "execution_count": 14,
   "id": "1f62789f",
   "metadata": {},
   "outputs": [
    {
     "name": "stdout",
     "output_type": "stream",
     "text": [
      "9\n",
      "24\n",
      "-1 -1\n"
     ]
    }
   ],
   "source": [
    "def myFunction(a,b,c):\n",
    "    print(a+b+c)\n",
    "    print(a*b*c)\n",
    "    print((a-b),(b-c))\n",
    "myFunction(2,3,4)\n",
    "    "
   ]
  },
  {
   "cell_type": "code",
   "execution_count": 7,
   "id": "81263e60",
   "metadata": {},
   "outputs": [
    {
     "name": "stdout",
     "output_type": "stream",
     "text": [
      "(9, 24, (-1, -1))\n"
     ]
    }
   ],
   "source": [
    "def myFunction(a,b,c):\n",
    "    return(a+b+c),(a*b*c),((a-b),(b-c))\n",
    "    return(a*b*c)\n",
    "    return((a-b),(b-c))\n",
    "z=myFunction(2,3,4)\n",
    "print(z)"
   ]
  },
  {
   "cell_type": "code",
   "execution_count": 9,
   "id": "636c2f7f",
   "metadata": {},
   "outputs": [
    {
     "name": "stdout",
     "output_type": "stream",
     "text": [
      "9\n",
      "24\n",
      "-1 -1\n"
     ]
    }
   ],
   "source": [
    "def myFunction(a,b,c):\n",
    "    print(a+b+c)\n",
    "    print(a*b*c)\n",
    "    print((a-b),(b-c))\n",
    "z=myFunction(2,3,4)"
   ]
  },
  {
   "cell_type": "markdown",
   "id": "e9104555",
   "metadata": {},
   "source": [
    "Return will be executed once only while Print would run multiple times"
   ]
  },
  {
   "cell_type": "code",
   "execution_count": 20,
   "id": "a579d0ea",
   "metadata": {},
   "outputs": [
    {
     "name": "stdout",
     "output_type": "stream",
     "text": [
      "12\n"
     ]
    }
   ],
   "source": [
    "def myFunction(a,b):\n",
    "    return a*b\n",
    "z= myFunction(3,4)\n",
    "print(z)"
   ]
  },
  {
   "cell_type": "code",
   "execution_count": 23,
   "id": "caf47233",
   "metadata": {},
   "outputs": [
    {
     "name": "stdout",
     "output_type": "stream",
     "text": [
      "-80\n",
      "1000\n",
      "40\n",
      "20\n"
     ]
    }
   ],
   "source": [
    "def lucky(a):\n",
    "    b=20\n",
    "    print(b-100)\n",
    "    print(a**3)\n",
    "    print(a*4)\n",
    "    print(a+a)\n",
    "lucky(10)"
   ]
  },
  {
   "cell_type": "code",
   "execution_count": 3,
   "id": "a7500660",
   "metadata": {},
   "outputs": [
    {
     "name": "stdout",
     "output_type": "stream",
     "text": [
      "7\n",
      "9\n",
      "1\n"
     ]
    }
   ],
   "source": [
    "# CODE STUB FOR INPUT\n",
    "employee_grades = [int(grade) for grade in input().split()]\n",
    "senior_employee_grade = int(input())\n",
    " \n",
    "# YOUR CODE BELOW\n",
    "# Define function to get the number of employees below senior_employee_grade\n",
    "def counting_num_employees_below_grade(employee_grade, senior_employee_grade) :\n",
    "    num_employees_below_grade = 0\n",
    "    for grade in employee_grades:\n",
    "      if grade < senior_employee_grade:\n",
    "        num_employees_below_grade+=1\n",
    "    return num_employees_below_grade\n",
    " \n",
    "# [STUB CODE]\n",
    "print(counting_num_employees_below_grade(employee_grades, senior_employee_grade))"
   ]
  },
  {
   "cell_type": "code",
   "execution_count": 16,
   "id": "c73fed5f",
   "metadata": {},
   "outputs": [
    {
     "name": "stdout",
     "output_type": "stream",
     "text": [
      "My age is: 21\n",
      "My name is: Lucky\n"
     ]
    }
   ],
   "source": [
    "def myInfo(name,age):\n",
    "    print('My age is:',age)\n",
    "    print('My name is:',name)\n",
    "myInfo(age= 21,name='Lucky')"
   ]
  },
  {
   "cell_type": "code",
   "execution_count": 19,
   "id": "10233218",
   "metadata": {},
   "outputs": [
    {
     "name": "stdout",
     "output_type": "stream",
     "text": [
      "Enter age: 21\n",
      "Enter name: Lucky\n",
      "My age is: 21\n",
      "My name is: Lucky\n"
     ]
    }
   ],
   "source": [
    "def myInfo(name,age):\n",
    "    print('My age is:',age)\n",
    "    print('My name is:',name)\n",
    "myInfo(age=(input(\"Enter age: \")),name=input(str('Enter name: ')))"
   ]
  },
  {
   "cell_type": "markdown",
   "id": "da0cd91d",
   "metadata": {},
   "source": [
    "### To print the sum of the variables in the tuple "
   ]
  },
  {
   "cell_type": "code",
   "execution_count": 46,
   "id": "2c5fffe9",
   "metadata": {},
   "outputs": [
    {
     "name": "stdout",
     "output_type": "stream",
     "text": [
      "My age is: 21\n",
      "My name is: Lucky\n",
      "variable values: (20, 30, 40, 50, 60, 70, 80)\n",
      "350\n"
     ]
    }
   ],
   "source": [
    "def info(name,age,*var):\n",
    "    print('My age is:',age)\n",
    "    print('My name is:',name)\n",
    "    print('variable values:',var)\n",
    "    \n",
    "    sum=0\n",
    "    for i in var:\n",
    "        sum=sum+i\n",
    "    return(sum)\n",
    "z=info('Lucky',21,20,30,40,50,60,70,80)\n",
    "print(z)"
   ]
  },
  {
   "cell_type": "code",
   "execution_count": 47,
   "id": "3d011bd7",
   "metadata": {},
   "outputs": [
    {
     "name": "stdout",
     "output_type": "stream",
     "text": [
      "variable values: (20, 30, 40, 50, 60, 70, 80)\n",
      "350\n"
     ]
    }
   ],
   "source": [
    "def info(name,age,*var):\n",
    "    print('variable values:',var)\n",
    "    \n",
    "    sum=0\n",
    "    for i in var:\n",
    "        sum=sum+i\n",
    "    return(sum)\n",
    "z=info('Lucky',21,20,30,40,50,60,70,80)\n",
    "print(z)"
   ]
  },
  {
   "cell_type": "code",
   "execution_count": 54,
   "id": "9b8edde1",
   "metadata": {},
   "outputs": [
    {
     "name": "stdout",
     "output_type": "stream",
     "text": [
      "10\n",
      "25\n",
      "1.0\n",
      "350\n"
     ]
    }
   ],
   "source": [
    "def myfun(a,b):\n",
    "    print(a+b)\n",
    "    print(a*b)\n",
    "    print(a/b)\n",
    "    return a+b,a*b,a/b\n",
    "myfun(5,5)\n",
    "print(z)"
   ]
  },
  {
   "cell_type": "code",
   "execution_count": 55,
   "id": "d1d0e6e1",
   "metadata": {},
   "outputs": [
    {
     "name": "stdout",
     "output_type": "stream",
     "text": [
      "10\n",
      "25\n",
      "1.0\n"
     ]
    }
   ],
   "source": [
    "def myfun(a,b):\n",
    "    suma=(a+b)\n",
    "    mult=(a*b)\n",
    "    div=(a/b)\n",
    "    return suma,mult,div\n",
    "\n",
    "a,b,c=myfun(5,5)\n",
    "\n",
    "print(a)\n",
    "print(b)\n",
    "print(c)\n",
    "\n"
   ]
  },
  {
   "cell_type": "code",
   "execution_count": 6,
   "id": "0cd2a05c",
   "metadata": {},
   "outputs": [
    {
     "name": "stdout",
     "output_type": "stream",
     "text": [
      "{'first': 'Lucky', 'mid': 'Mukesh', 'last': 'Bhardwaj'}\n"
     ]
    }
   ],
   "source": [
    "def funtwo(**var):\n",
    "    print(var)\n",
    "funtwo(first='Lucky', mid='Mukesh', last='Bhardwaj')"
   ]
  },
  {
   "cell_type": "code",
   "execution_count": 3,
   "id": "bbfc6900",
   "metadata": {},
   "outputs": [
    {
     "name": "stdout",
     "output_type": "stream",
     "text": [
      "Enter first name:Lucky\n",
      "Enter mid name:Mukesh\n",
      "Enter last name:Bhardwaj\n",
      "{'first': 'Lucky', 'mid': 'Mukesh', 'last': 'Bhardwaj'}\n"
     ]
    }
   ],
   "source": [
    "def funtwo(**var):\n",
    "    print(var)\n",
    "funtwo(first=input('Enter first name:'), mid=input('Enter mid name:'), last=input('Enter last name:'))"
   ]
  },
  {
   "cell_type": "markdown",
   "id": "e4e2a69f",
   "metadata": {},
   "source": [
    "### to concatinate \n"
   ]
  },
  {
   "cell_type": "code",
   "execution_count": 2,
   "id": "aa57756b",
   "metadata": {},
   "outputs": [
    {
     "name": "stdout",
     "output_type": "stream",
     "text": [
      "Lucky \n",
      "Mukesh \n",
      "Bhardwaj\n",
      "Lucky Mukesh Bhardwaj\n"
     ]
    }
   ],
   "source": [
    "def funtwo(**var):\n",
    "    sum=''\n",
    "    for i in var:\n",
    "        print(var[i])\n",
    "        sum=sum+var[i]\n",
    "    print(sum)\n",
    "funtwo(first='Lucky ', mid='Mukesh ', last='Bhardwaj')"
   ]
  },
  {
   "cell_type": "code",
   "execution_count": 4,
   "id": "55ebbc86",
   "metadata": {},
   "outputs": [
    {
     "name": "stdout",
     "output_type": "stream",
     "text": [
      "Enter the number:10\n",
      "The factorial of 10 is 3628800\n"
     ]
    }
   ],
   "source": [
    "num=int(input('Enter the number:'))\n",
    "factorial = 1\n",
    "if num < 0:\n",
    "    print(\"Sorry, factorial does not exist for negative numbers\")\n",
    "elif num == 0:\n",
    "    print(\"The factorial of 0 is 1\")\n",
    "else:\n",
    "    for i in range(1,num + 1):\n",
    "        factorial = factorial*i\n",
    "    print(\"The factorial of\",num,\"is\",factorial)"
   ]
  },
  {
   "cell_type": "code",
   "execution_count": 2,
   "id": "a798e63c",
   "metadata": {},
   "outputs": [
    {
     "data": {
      "text/plain": [
       "3628800"
      ]
     },
     "execution_count": 2,
     "metadata": {},
     "output_type": "execute_result"
    }
   ],
   "source": [
    "def fact(n):\n",
    "    if n<=1:\n",
    "        return 1\n",
    "    else:\n",
    "        return n*fact(n-1)\n",
    "fact(10)"
   ]
  },
  {
   "cell_type": "code",
   "execution_count": 3,
   "id": "98176b76",
   "metadata": {},
   "outputs": [
    {
     "name": "stdout",
     "output_type": "stream",
     "text": [
      "For the data set Item Quantities, the values are: 10 20 30  \n"
     ]
    }
   ],
   "source": [
    "def print_data_set(name, *values):\n",
    "    if len(values) > 0:\n",
    "        print(f'For the data set {name}, the values are:', end=' ')\n",
    "        for each_value in values:\n",
    "            print(each_value, end = ' ')\n",
    "        print(' ')\n",
    "    else:\n",
    "        print('Empty data set!')\n",
    "\n",
    "print_data_set('Item Quantities', 10, 20, 30)"
   ]
  },
  {
   "cell_type": "markdown",
   "id": "40f534e4",
   "metadata": {},
   "source": [
    "# Lambda Fuction "
   ]
  },
  {
   "cell_type": "code",
   "execution_count": 1,
   "id": "35827498",
   "metadata": {},
   "outputs": [
    {
     "data": {
      "text/plain": [
       "-1"
      ]
     },
     "execution_count": 1,
     "metadata": {},
     "output_type": "execute_result"
    }
   ],
   "source": [
    "diff = lambda x,y : x-y\n",
    "diff(2, 3)"
   ]
  },
  {
   "cell_type": "code",
   "execution_count": 2,
   "id": "46fc1ef5",
   "metadata": {},
   "outputs": [
    {
     "data": {
      "text/plain": [
       "12600.0"
      ]
     },
     "execution_count": 2,
     "metadata": {},
     "output_type": "execute_result"
    }
   ],
   "source": [
    "bonus = lambda tenure,salary: salary/10 if tenure>=0.25 else 0\n",
    "bonus(1,126000)"
   ]
  },
  {
   "cell_type": "code",
   "execution_count": 3,
   "id": "866cc84b",
   "metadata": {},
   "outputs": [
    {
     "data": {
      "text/plain": [
       "9996"
      ]
     },
     "execution_count": 3,
     "metadata": {},
     "output_type": "execute_result"
    }
   ],
   "source": [
    "get_min = (lambda x, y: x if x < y else y)\n",
    "get_min(101*99, 102*98)"
   ]
  },
  {
   "cell_type": "code",
   "execution_count": 5,
   "id": "6c855e62",
   "metadata": {},
   "outputs": [
    {
     "name": "stdout",
     "output_type": "stream",
     "text": [
      "$3 in rupees is 221.67\n"
     ]
    }
   ],
   "source": [
    "#USD to INR Conversion\n",
    "def DollarToRupeesResult(dollar_amount): print(f'${dollar_amount} in rupees is {(dollar_amount*73.89):.2f}')\n",
    "DollarToRupeesResult(3)"
   ]
  },
  {
   "cell_type": "code",
   "execution_count": 26,
   "id": "b25f2c06",
   "metadata": {},
   "outputs": [
    {
     "name": "stdout",
     "output_type": "stream",
     "text": [
      "$3 in rupees is ₹221.67\n"
     ]
    }
   ],
   "source": [
    "usd=lambda dollar: dollar*73.89\n",
    "dollar=3\n",
    "print(f'${dollar} in rupees is ₹{usd(3):.2f}')"
   ]
  },
  {
   "cell_type": "code",
   "execution_count": null,
   "id": "7a226760",
   "metadata": {},
   "outputs": [],
   "source": []
  }
 ],
 "metadata": {
  "kernelspec": {
   "display_name": "Python 3 (ipykernel)",
   "language": "python",
   "name": "python3"
  },
  "language_info": {
   "codemirror_mode": {
    "name": "ipython",
    "version": 3
   },
   "file_extension": ".py",
   "mimetype": "text/x-python",
   "name": "python",
   "nbconvert_exporter": "python",
   "pygments_lexer": "ipython3",
   "version": "3.9.12"
  }
 },
 "nbformat": 4,
 "nbformat_minor": 5
}
