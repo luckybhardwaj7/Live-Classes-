{
 "cells": [
  {
   "cell_type": "code",
   "execution_count": 1,
   "id": "7915a2e8-ba26-474b-8097-0b558ccbb08e",
   "metadata": {},
   "outputs": [],
   "source": [
    "x=[1,234,'Sudh',True,5+7j,8743.83]"
   ]
  },
  {
   "cell_type": "code",
   "execution_count": 2,
   "id": "498c11f4-6edf-444b-a890-2125568f27b9",
   "metadata": {},
   "outputs": [
    {
     "data": {
      "text/plain": [
       "list"
      ]
     },
     "execution_count": 2,
     "metadata": {},
     "output_type": "execute_result"
    }
   ],
   "source": [
    "type(x)"
   ]
  },
  {
   "cell_type": "code",
   "execution_count": 6,
   "id": "cc050b74-cd1b-42fe-a4b4-06628f6fe89a",
   "metadata": {},
   "outputs": [
    {
     "data": {
      "text/plain": [
       "1"
      ]
     },
     "execution_count": 6,
     "metadata": {},
     "output_type": "execute_result"
    }
   ],
   "source": [
    "x[0]"
   ]
  },
  {
   "cell_type": "code",
   "execution_count": 6,
   "id": "cc22f8a4-c212-468b-9a7e-d1a55d664539",
   "metadata": {},
   "outputs": [],
   "source": [
    "x=[1,234,'Sudh',True,5+7j,8743.83]"
   ]
  },
  {
   "cell_type": "code",
   "execution_count": 7,
   "id": "a23db106-397b-4a45-aa67-5c070f7d6c2b",
   "metadata": {},
   "outputs": [
    {
     "data": {
      "text/plain": [
       "list"
      ]
     },
     "execution_count": 7,
     "metadata": {},
     "output_type": "execute_result"
    }
   ],
   "source": [
    "type(x)"
   ]
  },
  {
   "cell_type": "code",
   "execution_count": 8,
   "id": "f80b738a-1fad-40d4-9cc0-f05c185adc22",
   "metadata": {},
   "outputs": [
    {
     "data": {
      "text/plain": [
       "[1, 'Sudh', (5+7j)]"
      ]
     },
     "execution_count": 8,
     "metadata": {},
     "output_type": "execute_result"
    }
   ],
   "source": [
    "x[::2]"
   ]
  },
  {
   "cell_type": "code",
   "execution_count": 9,
   "id": "d475f450-9d9b-4471-8f9e-1c033371f432",
   "metadata": {},
   "outputs": [],
   "source": [
    "y='Lucky Bhardwaj'"
   ]
  },
  {
   "cell_type": "code",
   "execution_count": 3,
   "id": "1a15c139-7d48-4558-a51a-1ebbaa92c030",
   "metadata": {},
   "outputs": [
    {
     "data": {
      "text/plain": [
       "'Lucky Bhardwaj'"
      ]
     },
     "execution_count": 3,
     "metadata": {},
     "output_type": "execute_result"
    }
   ],
   "source": [
    "y"
   ]
  },
  {
   "cell_type": "code",
   "execution_count": 5,
   "id": "d3e644c0-d08e-4a08-83b2-1987de10cfa8",
   "metadata": {},
   "outputs": [
    {
     "data": {
      "text/plain": [
       "['L', 'u', 'c', 'k', 'y', ' ', 'B', 'h', 'a', 'r', 'd', 'w', 'a', 'j']"
      ]
     },
     "execution_count": 5,
     "metadata": {},
     "output_type": "execute_result"
    }
   ],
   "source": [
    "list(y)"
   ]
  },
  {
   "cell_type": "code",
   "execution_count": 8,
   "id": "69b514c9-8d69-4732-92b1-897298f506af",
   "metadata": {},
   "outputs": [
    {
     "data": {
      "text/plain": [
       "'Su'"
      ]
     },
     "execution_count": 8,
     "metadata": {},
     "output_type": "execute_result"
    }
   ],
   "source": [
    "x[2][0:2]"
   ]
  },
  {
   "cell_type": "code",
   "execution_count": 2,
   "id": "27d01af7-f62d-46f9-a1a4-f8e1c2a38adb",
   "metadata": {},
   "outputs": [],
   "source": [
    "t=(23,'Lucky',5+9j,889.09)"
   ]
  },
  {
   "cell_type": "code",
   "execution_count": 3,
   "id": "a3c2ff6e-5580-4465-a529-ae01ff593210",
   "metadata": {},
   "outputs": [
    {
     "data": {
      "text/plain": [
       "tuple"
      ]
     },
     "execution_count": 3,
     "metadata": {},
     "output_type": "execute_result"
    }
   ],
   "source": [
    "type(t)"
   ]
  },
  {
   "cell_type": "code",
   "execution_count": 4,
   "id": "c407c21b-03ac-4c15-9e76-4877053125fc",
   "metadata": {},
   "outputs": [
    {
     "data": {
      "text/plain": [
       "23"
      ]
     },
     "execution_count": 4,
     "metadata": {},
     "output_type": "execute_result"
    }
   ],
   "source": [
    "t[0]"
   ]
  },
  {
   "cell_type": "code",
   "execution_count": 10,
   "id": "9b6ea8ff-e6bf-4892-8907-623cd95372bd",
   "metadata": {},
   "outputs": [],
   "source": [
    "x[0]=5"
   ]
  },
  {
   "cell_type": "code",
   "execution_count": 11,
   "id": "b32e2754-eb79-4d5a-a6a3-172a61710aaf",
   "metadata": {},
   "outputs": [
    {
     "data": {
      "text/plain": [
       "[5, 234, 'Sudh', True, (5+7j), 8743.83]"
      ]
     },
     "execution_count": 11,
     "metadata": {},
     "output_type": "execute_result"
    }
   ],
   "source": [
    "x"
   ]
  },
  {
   "cell_type": "code",
   "execution_count": 12,
   "id": "c2cfa789-3dc0-4fe7-bdb8-212c86ddf68e",
   "metadata": {},
   "outputs": [
    {
     "ename": "TypeError",
     "evalue": "'tuple' object does not support item assignment",
     "output_type": "error",
     "traceback": [
      "\u001b[0;31m---------------------------------------------------------------------------\u001b[0m",
      "\u001b[0;31mTypeError\u001b[0m                                 Traceback (most recent call last)",
      "Cell \u001b[0;32mIn[12], line 1\u001b[0m\n\u001b[0;32m----> 1\u001b[0m \u001b[43mt\u001b[49m\u001b[43m[\u001b[49m\u001b[38;5;241;43m0\u001b[39;49m\u001b[43m]\u001b[49m\u001b[38;5;241m=\u001b[39m\u001b[38;5;241m21\u001b[39m\n",
      "\u001b[0;31mTypeError\u001b[0m: 'tuple' object does not support item assignment"
     ]
    }
   ],
   "source": [
    "t[0]=21"
   ]
  },
  {
   "cell_type": "code",
   "execution_count": 15,
   "id": "68f39556-ffb2-40c7-8567-41c0d618c263",
   "metadata": {},
   "outputs": [
    {
     "data": {
      "text/plain": [
       "1"
      ]
     },
     "execution_count": 15,
     "metadata": {},
     "output_type": "execute_result"
    }
   ],
   "source": [
    "t.count(23) #to count number of times a specific character enters "
   ]
  },
  {
   "cell_type": "code",
   "execution_count": 16,
   "id": "84763b76-b1ef-4f91-a89f-902ace2bba08",
   "metadata": {},
   "outputs": [
    {
     "data": {
      "text/plain": [
       "0"
      ]
     },
     "execution_count": 16,
     "metadata": {},
     "output_type": "execute_result"
    }
   ],
   "source": [
    "t.index(23)"
   ]
  },
  {
   "cell_type": "code",
   "execution_count": 17,
   "id": "3496cb1c-53c6-4647-860c-e33ff5d80d92",
   "metadata": {},
   "outputs": [],
   "source": [
    "dict={21,43,45,63,754}"
   ]
  },
  {
   "cell_type": "code",
   "execution_count": 21,
   "id": "a7e64b00-aff2-41aa-ac31-725bc36a0106",
   "metadata": {},
   "outputs": [],
   "source": [
    "dict1={}"
   ]
  },
  {
   "cell_type": "code",
   "execution_count": 19,
   "id": "01a4d05c-8016-4007-a71f-7b66a8ccea73",
   "metadata": {},
   "outputs": [
    {
     "data": {
      "text/plain": [
       "set"
      ]
     },
     "execution_count": 19,
     "metadata": {},
     "output_type": "execute_result"
    }
   ],
   "source": [
    "type(dict)"
   ]
  },
  {
   "cell_type": "code",
   "execution_count": 22,
   "id": "df67f5e0-9462-4be5-af12-89f00fe25275",
   "metadata": {},
   "outputs": [
    {
     "data": {
      "text/plain": [
       "dict"
      ]
     },
     "execution_count": 22,
     "metadata": {},
     "output_type": "execute_result"
    }
   ],
   "source": [
    "type(dict1)"
   ]
  },
  {
   "cell_type": "raw",
   "id": "e0769fcd-e269-46b7-9846-eb5c64075971",
   "metadata": {},
   "source": [
    "When we use the {} empty Python treats it as Dictionary whereas when used with the data as provided in the dict\n",
    "it will be treated as Set"
   ]
  },
  {
   "cell_type": "code",
   "execution_count": 23,
   "id": "5cfc3746-fff8-440d-9273-ed1509170398",
   "metadata": {},
   "outputs": [
    {
     "ename": "TypeError",
     "evalue": "unhashable type: 'list'",
     "output_type": "error",
     "traceback": [
      "\u001b[0;31m---------------------------------------------------------------------------\u001b[0m",
      "\u001b[0;31mTypeError\u001b[0m                                 Traceback (most recent call last)",
      "Cell \u001b[0;32mIn[23], line 1\u001b[0m\n\u001b[0;32m----> 1\u001b[0m \u001b[38;5;28mdict\u001b[39m\u001b[38;5;241m=\u001b[39m{\u001b[38;5;241m21\u001b[39m,\u001b[38;5;241m43\u001b[39m,\u001b[38;5;241m45\u001b[39m,\u001b[38;5;241m63\u001b[39m,\u001b[38;5;241m754\u001b[39m,[\u001b[38;5;241m56\u001b[39m,\u001b[38;5;241m75\u001b[39m]}\n",
      "\u001b[0;31mTypeError\u001b[0m: unhashable type: 'list'"
     ]
    }
   ],
   "source": [
    "dict={21,43,45,63,754,[56,75]}"
   ]
  },
  {
   "cell_type": "code",
   "execution_count": 24,
   "id": "59d989bb-1019-4b56-be64-6f6cf979b08b",
   "metadata": {},
   "outputs": [],
   "source": [
    "dict={21,43,45,63,754,(65,763,76)}"
   ]
  },
  {
   "cell_type": "raw",
   "id": "fbd1da95-91d6-42db-968b-1b4c806226e3",
   "metadata": {},
   "source": [
    "In above we can see that it is taking Tuple but not the list as List is mutable whereas Tupke is not "
   ]
  },
  {
   "cell_type": "code",
   "execution_count": 43,
   "id": "26ea6bb9-6e80-402a-bb63-4c90da212685",
   "metadata": {},
   "outputs": [],
   "source": [
    "set1={1,4,2,7,4,5,9,7,6,3,4,5,1,2,8,9,0,6,4,5,'Lucky','lucky'}"
   ]
  },
  {
   "cell_type": "code",
   "execution_count": 46,
   "id": "1618fc5b-f770-4a5f-ad72-7cc27a95f58d",
   "metadata": {},
   "outputs": [
    {
     "data": {
      "text/plain": [
       "{0, 1, 2, 3, 4, 5, 6, 7, 8, 9, 'Lucky', 'lucky'}"
      ]
     },
     "execution_count": 46,
     "metadata": {},
     "output_type": "execute_result"
    }
   ],
   "source": [
    "set1"
   ]
  },
  {
   "cell_type": "raw",
   "id": "2122dc63-5c30-4969-9abd-e2c2de466503",
   "metadata": {},
   "source": [
    "Set reverts you with the unique Data (Lucky and lucky both kept together as Python is Case Sensetive)"
   ]
  },
  {
   "cell_type": "code",
   "execution_count": 47,
   "id": "66ea3eee-9606-4a35-923a-1715f1e41b3c",
   "metadata": {},
   "outputs": [],
   "source": [
    "l2= [1,4,2,7,4,5,9,7,6,3,4,5,1,2,8,9,0,6,4,5,'Lucky','lucky'] "
   ]
  },
  {
   "cell_type": "code",
   "execution_count": 49,
   "id": "905cbb0f-af63-453f-b0eb-67692ede4356",
   "metadata": {},
   "outputs": [
    {
     "ename": "TypeError",
     "evalue": "'set' object is not callable",
     "output_type": "error",
     "traceback": [
      "\u001b[0;31m---------------------------------------------------------------------------\u001b[0m",
      "\u001b[0;31mTypeError\u001b[0m                                 Traceback (most recent call last)",
      "Cell \u001b[0;32mIn[49], line 1\u001b[0m\n\u001b[0;32m----> 1\u001b[0m \u001b[38;5;28;43mset\u001b[39;49m\u001b[43m(\u001b[49m\u001b[43ml2\u001b[49m\u001b[43m)\u001b[49m\n",
      "\u001b[0;31mTypeError\u001b[0m: 'set' object is not callable"
     ]
    }
   ],
   "source": [
    "set(l2)"
   ]
  },
  {
   "cell_type": "code",
   "execution_count": 50,
   "id": "77c7e342-2a6e-49be-86c3-4c01c1c8e10e",
   "metadata": {},
   "outputs": [],
   "source": [
    "set1.add(11)"
   ]
  },
  {
   "cell_type": "code",
   "execution_count": 51,
   "id": "1c5316e5-3bbf-4bfb-a5c2-4f241a1e95d6",
   "metadata": {},
   "outputs": [
    {
     "data": {
      "text/plain": [
       "{0, 1, 11, 2, 3, 4, 5, 6, 7, 8, 9, 'Lucky', 'lucky'}"
      ]
     },
     "execution_count": 51,
     "metadata": {},
     "output_type": "execute_result"
    }
   ],
   "source": [
    "set1"
   ]
  },
  {
   "cell_type": "code",
   "execution_count": 52,
   "id": "1b4ec0f5-213f-473f-9711-893df4f71ee7",
   "metadata": {},
   "outputs": [],
   "source": [
    "set1.remove(11)"
   ]
  },
  {
   "cell_type": "code",
   "execution_count": 53,
   "id": "eebe9d02-e819-4f3e-8984-ec280f9cab44",
   "metadata": {},
   "outputs": [
    {
     "data": {
      "text/plain": [
       "{0, 1, 2, 3, 4, 5, 6, 7, 8, 9, 'Lucky', 'lucky'}"
      ]
     },
     "execution_count": 53,
     "metadata": {},
     "output_type": "execute_result"
    }
   ],
   "source": [
    "set1"
   ]
  },
  {
   "cell_type": "code",
   "execution_count": null,
   "id": "5f3be694-b442-4045-89ce-b7e03904a619",
   "metadata": {},
   "outputs": [],
   "source": []
  }
 ],
 "metadata": {
  "kernelspec": {
   "display_name": "Python 3 (ipykernel)",
   "language": "python",
   "name": "python3"
  },
  "language_info": {
   "codemirror_mode": {
    "name": "ipython",
    "version": 3
   },
   "file_extension": ".py",
   "mimetype": "text/x-python",
   "name": "python",
   "nbconvert_exporter": "python",
   "pygments_lexer": "ipython3",
   "version": "3.10.8"
  }
 },
 "nbformat": 4,
 "nbformat_minor": 5
}
