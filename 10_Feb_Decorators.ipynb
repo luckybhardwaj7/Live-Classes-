{
 "cells": [
  {
   "cell_type": "markdown",
   "id": "c40ecdb9-bda7-4cf3-ad71-acccb69bb66a",
   "metadata": {},
   "source": [
    "Decorators"
   ]
  },
  {
   "cell_type": "code",
   "execution_count": 3,
   "id": "bc67816a-e21f-468a-9330-7f3e2060c1b5",
   "metadata": {},
   "outputs": [],
   "source": [
    "def test():\n",
    "    print('This is my function to test')\n",
    "    "
   ]
  },
  {
   "cell_type": "code",
   "execution_count": 2,
   "id": "063ac0ab-7a03-4ca8-bfd4-511338c957cf",
   "metadata": {},
   "outputs": [
    {
     "name": "stdout",
     "output_type": "stream",
     "text": [
      "This is my function to test\n"
     ]
    }
   ],
   "source": [
    "test()"
   ]
  },
  {
   "cell_type": "code",
   "execution_count": 7,
   "id": "bb481873-4422-4b73-b4a9-897a8b98e5fc",
   "metadata": {},
   "outputs": [],
   "source": [
    "#now want to tell that when my function starts and ends\n",
    "def test():\n",
    "    print('Start of my function')\n",
    "    print('This is my function to test')\n",
    "    print(4+5)\n",
    "    print('End of my Function')"
   ]
  },
  {
   "cell_type": "code",
   "execution_count": 8,
   "id": "2d6973f5-e5c1-4023-a931-70502840cb1a",
   "metadata": {},
   "outputs": [
    {
     "name": "stdout",
     "output_type": "stream",
     "text": [
      "Start of my function\n",
      "This is my function to test\n",
      "9\n",
      "End of my Function\n"
     ]
    }
   ],
   "source": [
    "test()"
   ]
  },
  {
   "cell_type": "code",
   "execution_count": 9,
   "id": "82e4910d-0694-41cc-b31e-6716693eab32",
   "metadata": {},
   "outputs": [],
   "source": [
    "#doing the above one at once \n",
    "#doing this in a simpler way"
   ]
  },
  {
   "cell_type": "code",
   "execution_count": 22,
   "id": "3b9f1136-3413-4f81-bf4e-26cb2e4f669f",
   "metadata": {},
   "outputs": [],
   "source": [
    "#this is my decorator function \n",
    "def deco(func): # You can use any name over here instead of deco\n",
    "    #this is taking a function as a input\n",
    "    def inner_dec():\n",
    "        print('Start of nmy Function')\n",
    "        func()\n",
    "        print('End of my Function')\n",
    "    return inner_dec\n",
    "        "
   ]
  },
  {
   "cell_type": "code",
   "execution_count": 23,
   "id": "faacdb7c-0a63-4c35-905c-84f5d7c8d1b1",
   "metadata": {},
   "outputs": [],
   "source": [
    "def test1() :\n",
    "    print(6+7)"
   ]
  },
  {
   "cell_type": "code",
   "execution_count": 29,
   "id": "8ceb4a09-3da6-4b05-849a-457779018d33",
   "metadata": {},
   "outputs": [
    {
     "name": "stdout",
     "output_type": "stream",
     "text": [
      "Start of nmy Function\n",
      "13\n",
      "End of my Function\n"
     ]
    }
   ],
   "source": [
    "test1()"
   ]
  },
  {
   "cell_type": "code",
   "execution_count": 26,
   "id": "1d8eb07c-46b2-4af8-a66d-9efaed8b69b7",
   "metadata": {},
   "outputs": [],
   "source": [
    "#now using the decorator function \n",
    "@deco #use this to use the Decorator Function \n",
    "def test1() :\n",
    "    print(6+7)"
   ]
  },
  {
   "cell_type": "code",
   "execution_count": 27,
   "id": "72bc17c9-c0d4-462a-9867-2a88659d34f0",
   "metadata": {},
   "outputs": [
    {
     "name": "stdout",
     "output_type": "stream",
     "text": [
      "Start of nmy Function\n",
      "13\n",
      "End of my Function\n"
     ]
    }
   ],
   "source": [
    "test1()"
   ]
  },
  {
   "cell_type": "markdown",
   "id": "2f4b635c-427b-4609-b61a-f2b8939da499",
   "metadata": {},
   "source": [
    "Want to know how much time it is taking in to be executed"
   ]
  },
  {
   "cell_type": "code",
   "execution_count": 31,
   "id": "346c0445-e124-4e07-915b-5aa2ec4037e0",
   "metadata": {},
   "outputs": [],
   "source": [
    "import time #time package have the capabilities to calculate the time \n",
    "\n",
    "def timer_test(func):\n",
    "    def timer_test_inner():\n",
    "        start=time.time()\n",
    "        func()\n",
    "        end=time.time()\n",
    "        print(end-start)\n",
    "    return timer_test_inner"
   ]
  },
  {
   "cell_type": "code",
   "execution_count": 32,
   "id": "6be76a12-8ed7-4b1d-9e32-1e2ae878894d",
   "metadata": {},
   "outputs": [],
   "source": [
    "def test2():\n",
    "    print(45+72)"
   ]
  },
  {
   "cell_type": "code",
   "execution_count": 33,
   "id": "a571a3cc-cf18-49f3-9aa8-334e9075736d",
   "metadata": {},
   "outputs": [
    {
     "name": "stdout",
     "output_type": "stream",
     "text": [
      "117\n"
     ]
    }
   ],
   "source": [
    "test2()"
   ]
  },
  {
   "cell_type": "code",
   "execution_count": 34,
   "id": "70b025e8-7b88-46d7-a756-3298f6dbac57",
   "metadata": {},
   "outputs": [],
   "source": [
    "@timer_test\n",
    "def test2():\n",
    "    print(45+72)"
   ]
  },
  {
   "cell_type": "code",
   "execution_count": 35,
   "id": "972ab7ce-9353-40f7-8355-28fbb9c8fcf5",
   "metadata": {},
   "outputs": [
    {
     "name": "stdout",
     "output_type": "stream",
     "text": [
      "117\n",
      "4.673004150390625e-05\n"
     ]
    }
   ],
   "source": [
    "test2()"
   ]
  },
  {
   "cell_type": "code",
   "execution_count": 38,
   "id": "fc279699-251d-456f-8fd9-12e05af854fd",
   "metadata": {},
   "outputs": [],
   "source": [
    "@timer_test\n",
    "def test3():\n",
    "    for i in range(100000000):\n",
    "        pass\n",
    "#time taken in execution of the the above program"
   ]
  },
  {
   "cell_type": "code",
   "execution_count": 41,
   "id": "755fedd7-8bdb-4d5b-b6fe-71f37df334ba",
   "metadata": {},
   "outputs": [
    {
     "name": "stdout",
     "output_type": "stream",
     "text": [
      "2.149587869644165\n"
     ]
    }
   ],
   "source": [
    "test3()\n",
    "# Time Taken will vary after each execution"
   ]
  },
  {
   "cell_type": "code",
   "execution_count": null,
   "id": "04385ed5-917b-4f26-b90e-0ac316336e4e",
   "metadata": {},
   "outputs": [],
   "source": []
  }
 ],
 "metadata": {
  "kernelspec": {
   "display_name": "Python 3 (ipykernel)",
   "language": "python",
   "name": "python3"
  },
  "language_info": {
   "codemirror_mode": {
    "name": "ipython",
    "version": 3
   },
   "file_extension": ".py",
   "mimetype": "text/x-python",
   "name": "python",
   "nbconvert_exporter": "python",
   "pygments_lexer": "ipython3",
   "version": "3.10.8"
  }
 },
 "nbformat": 4,
 "nbformat_minor": 5
}
