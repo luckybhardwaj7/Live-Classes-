{
 "cells": [
  {
   "cell_type": "markdown",
   "id": "7f069e4a",
   "metadata": {},
   "source": [
    "# Logging and Debugger"
   ]
  },
  {
   "cell_type": "code",
   "execution_count": 15,
   "id": "f567e316",
   "metadata": {},
   "outputs": [
    {
     "name": "stdout",
     "output_type": "stream",
     "text": [
      "This is my Print via print command\n"
     ]
    }
   ],
   "source": [
    "print(\"This is my Print via print command\")"
   ]
  },
  {
   "cell_type": "markdown",
   "id": "c04b1649",
   "metadata": {},
   "source": [
    "Try to use Login in the production based coding because you cant investigate the code when you use Print as it gets washed off from the memory"
   ]
  },
  {
   "cell_type": "code",
   "execution_count": 16,
   "id": "d3993fd7",
   "metadata": {},
   "outputs": [],
   "source": [
    "import logging"
   ]
  },
  {
   "cell_type": "code",
   "execution_count": 17,
   "id": "e7979722",
   "metadata": {},
   "outputs": [],
   "source": [
    "logging.basicConfig(filename=\"test.log\" ,level=logging.INFO) "
   ]
  },
  {
   "cell_type": "code",
   "execution_count": 18,
   "id": "9cf5888a",
   "metadata": {},
   "outputs": [],
   "source": [
    "logging.info(\"log this line of execution\")"
   ]
  },
  {
   "cell_type": "code",
   "execution_count": 19,
   "id": "9310deb8",
   "metadata": {},
   "outputs": [],
   "source": [
    "logging.info(\"This is my Print\")"
   ]
  },
  {
   "cell_type": "code",
   "execution_count": 20,
   "id": "239a196a",
   "metadata": {},
   "outputs": [],
   "source": [
    "\n",
    "#this wont be logged into the file as earlier we hae already set logging =info so it will taklogging.debug(\"This is my Print.debug\")e the ones with info and below it"
   ]
  },
  {
   "cell_type": "markdown",
   "id": "dee7675e",
   "metadata": {},
   "source": [
    "1. NONSET\n",
    "2. DEBUG\n",
    "3. INFO\n",
    "4. WARNING \n",
    "5. ERROR\n",
    "6. CRITICAL\n"
   ]
  },
  {
   "cell_type": "code",
   "execution_count": 21,
   "id": "aa2e010b",
   "metadata": {},
   "outputs": [],
   "source": [
    "logging.error(\"This is my Print.error\") # .error in print is just to know while line is executed"
   ]
  },
  {
   "cell_type": "code",
   "execution_count": 22,
   "id": "66af347b",
   "metadata": {},
   "outputs": [],
   "source": [
    "logging.shutdown()"
   ]
  },
  {
   "cell_type": "code",
   "execution_count": 23,
   "id": "edf9a6f4",
   "metadata": {},
   "outputs": [],
   "source": [
    "# used over print because that isnt been saved\n",
    "#this is used to know where the log the entire information about that specific code so that they could know the various issues in the code "
   ]
  },
  {
   "cell_type": "code",
   "execution_count": 24,
   "id": "1cb9ac1c",
   "metadata": {},
   "outputs": [],
   "source": [
    "#Defining the Format \n",
    "logging.basicConfig(filename='test1.log',level=logging.DEBUG,format='%(acstime)s %(message)s') #creating a anew file \n",
    "#acstime is to store the time whereas s is used to store it in the string format\n",
    "#message is used to print the message and same for s"
   ]
  },
  {
   "cell_type": "code",
   "execution_count": 25,
   "id": "a6845042",
   "metadata": {},
   "outputs": [],
   "source": [
    "logging.info('This is my latest info msg')\n",
    "logging.error('this is my error msg')\n",
    "logging.critical('this is my criticle')\n",
    "#this wont be executed at first because the one created earlier was not shut down so shut down that first"
   ]
  },
  {
   "cell_type": "code",
   "execution_count": 26,
   "id": "4976eafa",
   "metadata": {},
   "outputs": [],
   "source": [
    "# will start working alongwith the timestamp and the Message "
   ]
  },
  {
   "cell_type": "code",
   "execution_count": 33,
   "id": "cbf381ae",
   "metadata": {},
   "outputs": [],
   "source": [
    "l=[1,2,3,4,[5,6,7,8],'Lucky','Yash']\n",
    "# putting string in a single list and the integers in the another single list "
   ]
  },
  {
   "cell_type": "code",
   "execution_count": 40,
   "id": "4845f1b0",
   "metadata": {},
   "outputs": [],
   "source": [
    "l_str=[]\n",
    "l_int=[]\n",
    "for i in l:\n",
    "    logging.info('we sre iterating through our list and our local variable var is i')\n",
    "    if type(i)== int:\n",
    "        logging.info('inside if statement and trying to check type')\n",
    "        l_int.append(i)\n",
    "    elif type(i)==list:\n",
    "        for j in i:\n",
    "            logging.info('inside a for loop for list inside list element')\n",
    "            l_int.append(j)\n",
    "    elif type(i)==str:\n",
    "        l_str.append(i)\n",
    "            \n",
    "#now wherever we have used loggging that will be logged into the decided file "
   ]
  },
  {
   "cell_type": "code",
   "execution_count": 41,
   "id": "7221f964",
   "metadata": {},
   "outputs": [
    {
     "data": {
      "text/plain": [
       "[1, 2, 3, 4, 5, 6, 7, 8]"
      ]
     },
     "execution_count": 41,
     "metadata": {},
     "output_type": "execute_result"
    }
   ],
   "source": [
    "list(l_int)"
   ]
  },
  {
   "cell_type": "code",
   "execution_count": 42,
   "id": "cf14a956",
   "metadata": {},
   "outputs": [
    {
     "data": {
      "text/plain": [
       "['Lucky', 'Yash']"
      ]
     },
     "execution_count": 42,
     "metadata": {},
     "output_type": "execute_result"
    }
   ],
   "source": [
    "list(l_str)"
   ]
  },
  {
   "cell_type": "code",
   "execution_count": 43,
   "id": "9e12e526",
   "metadata": {},
   "outputs": [],
   "source": [
    "# defining the placeholders\n",
    "l_str=[]\n",
    "l_int=[]\n",
    "for i in l:\n",
    "    logging.info('we sre iterating through our list and our local variable var is {}'.format(l))\n",
    "    if type(i)== int:\n",
    "        logging.info('inside if statement and trying to check type')\n",
    "        l_int.append(i)\n",
    "    elif type(i)==list:\n",
    "        for j in i:\n",
    "            logging.info('inside a for loop for list inside list element')\n",
    "            l_int.append(j)\n",
    "    elif type(i)==str:\n",
    "        l_str.append(i)\n",
    "# list will be logged into the file "
   ]
  },
  {
   "cell_type": "code",
   "execution_count": 45,
   "id": "1e8ea928",
   "metadata": {},
   "outputs": [],
   "source": [
    "#resulting the final result\n",
    "l_str=[]\n",
    "l_int=[]\n",
    "for i in l:\n",
    "    logging.info('we sre iterating through our list and our local variable var is {}'.format(l))\n",
    "    if type(i)== int:\n",
    "        logging.info('inside if statement and trying to check type')\n",
    "        l_int.append(i)\n",
    "    elif type(i)==list:\n",
    "        for j in i:\n",
    "            logging.info('inside a for loop for list inside list element')\n",
    "            l_int.append(j)\n",
    "    elif type(i)==str:\n",
    "        l_str.append(i)\n",
    "logging.info(f'my final result for int is {l_int} and str is {l_str}.')\n",
    "        #finl result will be logged in "
   ]
  },
  {
   "cell_type": "code",
   "execution_count": null,
   "id": "de973d1d",
   "metadata": {},
   "outputs": [],
   "source": []
  }
 ],
 "metadata": {
  "kernelspec": {
   "display_name": "Python 3 (ipykernel)",
   "language": "python",
   "name": "python3"
  },
  "language_info": {
   "codemirror_mode": {
    "name": "ipython",
    "version": 3
   },
   "file_extension": ".py",
   "mimetype": "text/x-python",
   "name": "python",
   "nbconvert_exporter": "python",
   "pygments_lexer": "ipython3",
   "version": "3.9.12"
  },
  "widgets": {
   "application/vnd.jupyter.widget-state+json": {
    "state": {},
    "version_major": 2,
    "version_minor": 0
   }
  }
 },
 "nbformat": 4,
 "nbformat_minor": 5
}
