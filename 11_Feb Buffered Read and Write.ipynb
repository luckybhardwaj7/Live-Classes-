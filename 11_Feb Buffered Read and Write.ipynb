{
 "cells": [
  {
   "cell_type": "markdown",
   "id": "f7a15c93-fc94-4b46-898b-94fec7f92068",
   "metadata": {},
   "source": [
    "Buffer Read and Write  Other file Methods"
   ]
  },
  {
   "cell_type": "code",
   "execution_count": 1,
   "id": "4ab72865-bf5b-4684-9496-76a4797e0c03",
   "metadata": {},
   "outputs": [],
   "source": [
    "import io"
   ]
  },
  {
   "cell_type": "code",
   "execution_count": 9,
   "id": "beae52b1-5459-4a70-8047-268a8bfb64d4",
   "metadata": {},
   "outputs": [],
   "source": [
    "with open('test1.txt','wb')as f:\n",
    "    file= io.BufferedWriter(f)\n",
    "    \n",
    "    file.write(b'this is my first line\\n')\n",
    "    file.write(b'Data Science Masters course is highly curated and uniquely designed according to the latest industry standards. This program instills students the skills essential to knowledge discovery efforts to identify standard, novel, and truly differentiated solutions and decision-making, including skills in managing, querying, analyzing, visualizing, and extracting meaning from extremely large data sets. This trending program provides students with the statistical, mathematical and computational skills needed to meet the large-scale data science challenges of todays professional world. You will learn all the stack required to work in data science industry including cloud infrastructure and real-time industry projects. This course will be taught in Hindi language.')\n",
    "    file.flush() # just same as the close \n",
    "#buffer is used to write the data in the Chunks"
   ]
  },
  {
   "cell_type": "code",
   "execution_count": 10,
   "id": "f55150ee-3553-4124-8352-ede239735950",
   "metadata": {},
   "outputs": [
    {
     "name": "stdout",
     "output_type": "stream",
     "text": [
      "b'this is my first line\\nData Science Masters course is highly curated and uniquely designed according to the latest industry standards. This program instills students the skills essential to knowledge discovery efforts to identify standard, novel, and truly differentiated solutions and decision-making, including skills in managing, querying, analyzing, visualizing, and extracting meaning from extremely large data sets. This trending program provides students with the statistical, mathematical and computational skills needed to meet the large-scale data science challenges of todays professional world. You will learn all the stack required to work in data science industry including cloud infrastructure and real-time industry projects. This course will be taught in Hindi language.'\n"
     ]
    }
   ],
   "source": [
    "with open('test1.txt','rb')as f:\n",
    "    file= io.BufferedReader(f)\n",
    "    data= file.read()\n",
    "    print(data)"
   ]
  },
  {
   "cell_type": "code",
   "execution_count": 11,
   "id": "a0e398e5-0238-4957-8565-11bd805db0ea",
   "metadata": {},
   "outputs": [
    {
     "name": "stdout",
     "output_type": "stream",
     "text": [
      "b'this is my first line\\nData Science Masters course is highly curated and uniquely designed according '\n"
     ]
    }
   ],
   "source": [
    "# size to be read can be controlled\n",
    "# if I want to just read the 100 byte of the data then I will be using the code \n",
    "with open('test1.txt','rb')as f:\n",
    "    file= io.BufferedReader(f)\n",
    "    data= file.read(100)\n",
    "    print(data)"
   ]
  },
  {
   "cell_type": "code",
   "execution_count": null,
   "id": "0e9aa514-6bdf-475f-9d51-91718de523c6",
   "metadata": {},
   "outputs": [],
   "source": []
  }
 ],
 "metadata": {
  "kernelspec": {
   "display_name": "Python 3 (ipykernel)",
   "language": "python",
   "name": "python3"
  },
  "language_info": {
   "codemirror_mode": {
    "name": "ipython",
    "version": 3
   },
   "file_extension": ".py",
   "mimetype": "text/x-python",
   "name": "python",
   "nbconvert_exporter": "python",
   "pygments_lexer": "ipython3",
   "version": "3.10.8"
  }
 },
 "nbformat": 4,
 "nbformat_minor": 5
}
