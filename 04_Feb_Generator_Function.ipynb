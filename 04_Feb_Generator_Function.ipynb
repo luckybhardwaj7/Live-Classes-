{
 "cells": [
  {
   "cell_type": "markdown",
   "id": "455b9cc1-0768-4d8c-860f-30ba1c350d81",
   "metadata": {},
   "source": [
    "Generator Function-\n",
    "\n"
   ]
  },
  {
   "cell_type": "markdown",
   "id": "073a9d9f-41c9-467e-9624-ee5fda1fddb3",
   "metadata": {},
   "source": [
    "A Generator Function is a function that provides the output one by one instead of storing the data once and then giving the output"
   ]
  },
  {
   "cell_type": "markdown",
   "id": "e61f989b-858d-47a5-b17b-ff65d4ca40c1",
   "metadata": {},
   "source": [
    "Generator Function reduces the memory consumption"
   ]
  },
  {
   "cell_type": "markdown",
   "id": "18a78a66-2cce-4480-a143-05f4e8a64c5a",
   "metadata": {},
   "source": [
    "enerator Function Does not hold the data into the memory"
   ]
  },
  {
   "cell_type": "code",
   "execution_count": 8,
   "id": "8fc3f64f-455c-4c4c-940e-df606322d03b",
   "metadata": {},
   "outputs": [],
   "source": [
    "#Fibonaci list print function\n",
    "def test_fib(n):\n",
    "    a,b=0,1\n",
    "    for i in range (n):\n",
    "        yield a\n",
    "        a,b=b,a+b"
   ]
  },
  {
   "cell_type": "code",
   "execution_count": 9,
   "id": "591b5785-c1a7-445d-bbbc-9f388de102d7",
   "metadata": {},
   "outputs": [
    {
     "data": {
      "text/plain": [
       "<generator object test_fib at 0x7fbc23d5eb20>"
      ]
     },
     "execution_count": 9,
     "metadata": {},
     "output_type": "execute_result"
    }
   ],
   "source": [
    "test_fib(10)"
   ]
  },
  {
   "cell_type": "code",
   "execution_count": 11,
   "id": "cc47a518-f8ff-4816-96af-55b853fdeb4c",
   "metadata": {},
   "outputs": [
    {
     "data": {
      "text/plain": [
       "[0, 1, 1, 2, 3, 5, 8, 13, 21, 34]"
      ]
     },
     "execution_count": 11,
     "metadata": {},
     "output_type": "execute_result"
    }
   ],
   "source": [
    "#This will result as the List \n",
    "list(test_fib(10))"
   ]
  },
  {
   "cell_type": "code",
   "execution_count": 14,
   "id": "49b622d6-9d82-4424-9856-f6838b57d4ba",
   "metadata": {},
   "outputs": [
    {
     "name": "stdout",
     "output_type": "stream",
     "text": [
      "0\n",
      "1\n",
      "1\n",
      "2\n",
      "3\n",
      "5\n",
      "8\n",
      "13\n",
      "21\n",
      "34\n"
     ]
    }
   ],
   "source": [
    "# Using the For Loop\n",
    "for i in test_fib(10):\n",
    "    print(i)"
   ]
  },
  {
   "cell_type": "markdown",
   "id": "70429ae0-1e7d-4057-91e9-b4ce2232b146",
   "metadata": {},
   "source": [
    "Yield is helping to make it a Generator Function"
   ]
  },
  {
   "cell_type": "code",
   "execution_count": null,
   "id": "3a9d7376-66b5-42a6-871c-f97e7645fdfd",
   "metadata": {},
   "outputs": [],
   "source": []
  },
  {
   "cell_type": "code",
   "execution_count": null,
   "id": "54a561cd-329b-43d2-8848-c037909dc24f",
   "metadata": {},
   "outputs": [],
   "source": []
  },
  {
   "cell_type": "markdown",
   "id": "ac823954-16fb-4cbd-8f31-e128eb3b540a",
   "metadata": {},
   "source": [
    "Lambda Function"
   ]
  },
  {
   "cell_type": "markdown",
   "id": "68b21052-f272-4ceb-8fcd-e0b9cdb76500",
   "metadata": {},
   "source": [
    "Known as Anonymous Function, Line Function or Lambda Function"
   ]
  },
  {
   "cell_type": "code",
   "execution_count": 1,
   "id": "3ade8072-90c0-4357-989a-3c390af4b031",
   "metadata": {},
   "outputs": [],
   "source": [
    "#usual way of defining a function:\n",
    "def pwr(p,q):\n",
    "    return p**q"
   ]
  },
  {
   "cell_type": "code",
   "execution_count": 2,
   "id": "eb775e17-5f36-4fbc-a1f1-dfa1b413d49b",
   "metadata": {},
   "outputs": [
    {
     "data": {
      "text/plain": [
       "9"
      ]
     },
     "execution_count": 2,
     "metadata": {},
     "output_type": "execute_result"
    }
   ],
   "source": [
    "pwr(3,2)"
   ]
  },
  {
   "cell_type": "code",
   "execution_count": 3,
   "id": "eabe5382-f8d2-4812-b772-4ae4a2fbbd22",
   "metadata": {},
   "outputs": [],
   "source": [
    "#same using Lambda Function\n",
    "a= lambda p,q :p**q  "
   ]
  },
  {
   "cell_type": "code",
   "execution_count": 4,
   "id": "fa0e9330-5562-4e89-9bd5-a576fc4a116b",
   "metadata": {},
   "outputs": [
    {
     "data": {
      "text/plain": [
       "9"
      ]
     },
     "execution_count": 4,
     "metadata": {},
     "output_type": "execute_result"
    }
   ],
   "source": [
    "a(3,2)"
   ]
  },
  {
   "cell_type": "code",
   "execution_count": 5,
   "id": "8e9208c1-89fb-4e42-a205-e42798621591",
   "metadata": {},
   "outputs": [],
   "source": [
    "add=lambda c,d :c+d"
   ]
  },
  {
   "cell_type": "code",
   "execution_count": 6,
   "id": "4188c60a-4ab1-46bd-a065-ccaca7146049",
   "metadata": {},
   "outputs": [
    {
     "data": {
      "text/plain": [
       "22"
      ]
     },
     "execution_count": 6,
     "metadata": {},
     "output_type": "execute_result"
    }
   ],
   "source": [
    "add(11,11)"
   ]
  },
  {
   "cell_type": "code",
   "execution_count": 9,
   "id": "23705660-ab42-4d12-8b60-57c4981bfdba",
   "metadata": {},
   "outputs": [],
   "source": [
    "#cel to Far. temp convertor\n",
    "c_to_f=lambda c:(9/5)*c+32"
   ]
  },
  {
   "cell_type": "code",
   "execution_count": 10,
   "id": "089b870c-a94a-4271-850b-7b58b7157b81",
   "metadata": {},
   "outputs": [
    {
     "data": {
      "text/plain": [
       "98.60000000000001"
      ]
     },
     "execution_count": 10,
     "metadata": {},
     "output_type": "execute_result"
    }
   ],
   "source": [
    "c_to_f(37)"
   ]
  },
  {
   "cell_type": "code",
   "execution_count": 13,
   "id": "e47ac023-dff8-48b9-a304-446d4723c5ef",
   "metadata": {},
   "outputs": [],
   "source": [
    "#finding the maximum between the two functions\n",
    "greatest =lambda a,b: a if a>b else b"
   ]
  },
  {
   "cell_type": "code",
   "execution_count": 14,
   "id": "0a307fcd-4209-4e0e-bf44-adeb8038b7b0",
   "metadata": {},
   "outputs": [
    {
     "data": {
      "text/plain": [
       "3"
      ]
     },
     "execution_count": 14,
     "metadata": {},
     "output_type": "execute_result"
    }
   ],
   "source": [
    "greatest(2,3)"
   ]
  },
  {
   "cell_type": "code",
   "execution_count": 15,
   "id": "270bcdbe-011b-4924-8dad-3cbabb0c7d17",
   "metadata": {},
   "outputs": [],
   "source": [
    "#to return the length of the string\n",
    "length=lambda x :len(x)"
   ]
  },
  {
   "cell_type": "code",
   "execution_count": 17,
   "id": "6b8a1fcc-a989-4460-8ae3-835de5d7c716",
   "metadata": {},
   "outputs": [
    {
     "data": {
      "text/plain": [
       "5"
      ]
     },
     "execution_count": 17,
     "metadata": {},
     "output_type": "execute_result"
    }
   ],
   "source": [
    "length('Lucky')"
   ]
  },
  {
   "cell_type": "code",
   "execution_count": null,
   "id": "f0f15e13-b82c-4ee6-904a-fd463e33a010",
   "metadata": {},
   "outputs": [],
   "source": []
  }
 ],
 "metadata": {
  "kernelspec": {
   "display_name": "Python 3 (ipykernel)",
   "language": "python",
   "name": "python3"
  },
  "language_info": {
   "codemirror_mode": {
    "name": "ipython",
    "version": 3
   },
   "file_extension": ".py",
   "mimetype": "text/x-python",
   "name": "python",
   "nbconvert_exporter": "python",
   "pygments_lexer": "ipython3",
   "version": "3.10.8"
  }
 },
 "nbformat": 4,
 "nbformat_minor": 5
}
