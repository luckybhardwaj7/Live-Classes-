{
 "cells": [
  {
   "cell_type": "markdown",
   "id": "0d929bc2-edf1-48fa-9d98-1802b0bbb8cf",
   "metadata": {},
   "source": [
    "Custom Exception Handling\n"
   ]
  },
  {
   "cell_type": "code",
   "execution_count": 1,
   "id": "9531c5f9-9763-432a-9151-3c388d0012b6",
   "metadata": {},
   "outputs": [
    {
     "name": "stdin",
     "output_type": "stream",
     "text": [
      "enter your age -98665\n"
     ]
    }
   ],
   "source": [
    "age=int(input('enter your age'))\n"
   ]
  },
  {
   "cell_type": "code",
   "execution_count": 2,
   "id": "dc8519ee-80fb-46e0-a184-cf94f16341ba",
   "metadata": {},
   "outputs": [],
   "source": [
    "# age can't be negative so we can handle this via if else \n",
    "# we have to do this using execption only, That's how we can do it \n"
   ]
  },
  {
   "cell_type": "code",
   "execution_count": 3,
   "id": "a13dfb2a-d074-48d4-b921-9eee817fc8e1",
   "metadata": {},
   "outputs": [],
   "source": [
    "#Creating your own custom made exception"
   ]
  },
  {
   "cell_type": "code",
   "execution_count": 23,
   "id": "f6b8563c-9662-48d0-b74b-3f9a6796391f",
   "metadata": {},
   "outputs": [],
   "source": [
    "class validateage(Exception): # inheriting exception class property of exception will be provided to validateage class\n",
    "    def __init__(self,msg):\n",
    "        self.msg = msg"
   ]
  },
  {
   "cell_type": "code",
   "execution_count": 24,
   "id": "b7cb2d38-3922-4004-b5b0-25b718837db5",
   "metadata": {},
   "outputs": [],
   "source": [
    "def validaetage(age):\n",
    "    if age < 0:\n",
    "        raise validateage('Entered age is negative')\n",
    "    elif age > 200:\n",
    "        raise validateage('Entered age is too much')\n",
    "    else:\n",
    "        print('age is valid')"
   ]
  },
  {
   "cell_type": "code",
   "execution_count": 27,
   "id": "9d2bfae2-b147-40d8-ac12-a3009ac83896",
   "metadata": {},
   "outputs": [
    {
     "name": "stdin",
     "output_type": "stream",
     "text": [
      "enter your age 543\n"
     ]
    },
    {
     "name": "stdout",
     "output_type": "stream",
     "text": [
      "Entered age is too much\n"
     ]
    }
   ],
   "source": [
    "try:\n",
    "    age=int(input('enter your age'))\n",
    "    validaetage(age)\n",
    "except validateage as e:\n",
    "    print(e)"
   ]
  },
  {
   "cell_type": "code",
   "execution_count": null,
   "id": "f5239d17-22ef-46fe-8a16-5c518b5439f3",
   "metadata": {},
   "outputs": [],
   "source": []
  }
 ],
 "metadata": {
  "kernelspec": {
   "display_name": "Python 3 (ipykernel)",
   "language": "python",
   "name": "python3"
  },
  "language_info": {
   "codemirror_mode": {
    "name": "ipython",
    "version": 3
   },
   "file_extension": ".py",
   "mimetype": "text/x-python",
   "name": "python",
   "nbconvert_exporter": "python",
   "pygments_lexer": "ipython3",
   "version": "3.10.8"
  }
 },
 "nbformat": 4,
 "nbformat_minor": 5
}
