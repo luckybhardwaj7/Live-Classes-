{
 "cells": [
  {
   "cell_type": "markdown",
   "id": "078c7040-b4bb-4927-8e96-2ccce761ec77",
   "metadata": {},
   "source": [
    "Inheritance"
   ]
  },
  {
   "cell_type": "markdown",
   "id": "5dd72ea2-bac7-4701-b950-8ddaa0a9dfb8",
   "metadata": {},
   "source": [
    "Suppose a class yoh created have some properties in it and you have to use it again without recreating it again. \n",
    "\n",
    "This will make my task easy "
   ]
  },
  {
   "cell_type": "code",
   "execution_count": 3,
   "id": "a4e4d7e9-5b15-420b-9df3-1b62b9367e00",
   "metadata": {},
   "outputs": [],
   "source": [
    "class test:\n",
    "    def test_method(self):\n",
    "        return 'This is my first class'"
   ]
  },
  {
   "cell_type": "code",
   "execution_count": 5,
   "id": "b15a3d2c-baac-4f3d-8519-94473f9ec5d6",
   "metadata": {},
   "outputs": [],
   "source": [
    "class child_test(test): #it is just a name to make things easy to understand you can take whatever you want \n",
    "   #passing the test class inside it \n",
    "      pass"
   ]
  },
  {
   "cell_type": "code",
   "execution_count": 6,
   "id": "95528b82-2804-43fd-9cd8-dafd6f1c29a5",
   "metadata": {},
   "outputs": [],
   "source": [
    "child_test_obj=child_test()"
   ]
  },
  {
   "cell_type": "code",
   "execution_count": 7,
   "id": "6b56656b-7173-4898-ac7f-80ceef7837e6",
   "metadata": {},
   "outputs": [
    {
     "data": {
      "text/plain": [
       "'This is my first class'"
      ]
     },
     "execution_count": 7,
     "metadata": {},
     "output_type": "execute_result"
    }
   ],
   "source": [
    "child_test_obj.test_method()"
   ]
  },
  {
   "cell_type": "markdown",
   "id": "5a6d1718-52ed-4ff3-b929-bebf291b5e28",
   "metadata": {},
   "source": [
    "Multi-level Inheritance"
   ]
  },
  {
   "cell_type": "markdown",
   "id": "e29ae456-08e4-42e7-b7f0-f081494955b2",
   "metadata": {},
   "source": [
    "Suppose you have 3 classes 1,2and 3 respectively,\n",
    "\n",
    "Now, you can inherit properties of level 1 in 2 and that of level 2 in 3. Now, you will be able to inherit the properties of level 1 inside the level 3 this is known as Multi-Level Inheritance "
   ]
  },
  {
   "cell_type": "code",
   "execution_count": 19,
   "id": "9c4e92ef-33b0-4b38-b178-3fe0476688b0",
   "metadata": {},
   "outputs": [],
   "source": [
    "class class1:\n",
    "    def test_class1(self):\n",
    "        return 'This is method from class 1'"
   ]
  },
  {
   "cell_type": "code",
   "execution_count": 20,
   "id": "12d22404-d994-4b5a-bdf6-0c522eadce5f",
   "metadata": {},
   "outputs": [],
   "source": [
    "class class2(class1):\n",
    "    def test_class2(self):\n",
    "        return 'This is method from class 2'"
   ]
  },
  {
   "cell_type": "code",
   "execution_count": 21,
   "id": "a6965258-cb5e-4360-bb9f-42114e66cb59",
   "metadata": {},
   "outputs": [],
   "source": [
    "class class3(class2):\n",
    "    pass"
   ]
  },
  {
   "cell_type": "code",
   "execution_count": 22,
   "id": "13b33973-9dea-45fc-8715-ce980233f466",
   "metadata": {},
   "outputs": [],
   "source": [
    "obj_class3=class3()"
   ]
  },
  {
   "cell_type": "code",
   "execution_count": 25,
   "id": "34aa9683-34dc-4fb1-8d19-57792db392ec",
   "metadata": {},
   "outputs": [
    {
     "data": {
      "text/plain": [
       "'This is method from class 1'"
      ]
     },
     "execution_count": 25,
     "metadata": {},
     "output_type": "execute_result"
    }
   ],
   "source": [
    "obj_class3.test_class1()\n",
    "#able to access the properties of the class 1 from the Class 3"
   ]
  },
  {
   "cell_type": "code",
   "execution_count": 26,
   "id": "420168e2-436b-4fda-825a-e892244f9893",
   "metadata": {},
   "outputs": [
    {
     "data": {
      "text/plain": [
       "'This is method from class 2'"
      ]
     },
     "execution_count": 26,
     "metadata": {},
     "output_type": "execute_result"
    }
   ],
   "source": [
    "obj_class3.test_class2()\n",
    "#able to access the properties of the class 2 from the Class 3"
   ]
  },
  {
   "cell_type": "markdown",
   "id": "c7b5b259-c0fe-4aa8-9a0f-027adaedfa0a",
   "metadata": {},
   "source": [
    "Multiple Inheritance"
   ]
  },
  {
   "cell_type": "markdown",
   "id": "672bb233-8c24-439a-bf0d-ab49481f01b0",
   "metadata": {},
   "source": [
    "If we could access the properties of both class 1 and 2 in the Class 3 this is known as Multiple Inheritance"
   ]
  },
  {
   "cell_type": "code",
   "execution_count": 27,
   "id": "6553e10f-93a0-4ed5-b334-33fbc54879b6",
   "metadata": {},
   "outputs": [],
   "source": [
    "class class1:\n",
    "    def test_class1(self):\n",
    "        return 'This is class 1'"
   ]
  },
  {
   "cell_type": "code",
   "execution_count": 28,
   "id": "36f98d71-184f-45ac-83d8-b0d8ab6d03c6",
   "metadata": {},
   "outputs": [],
   "source": [
    "class class2:\n",
    "    def test_class2(self):\n",
    "        return 'This is class 2'"
   ]
  },
  {
   "cell_type": "code",
   "execution_count": 29,
   "id": "cd3a85af-b27e-4b1f-8b48-e18dc7643525",
   "metadata": {},
   "outputs": [],
   "source": [
    "class class3(class1 , class2):\n",
    "    pass"
   ]
  },
  {
   "cell_type": "code",
   "execution_count": 30,
   "id": "782357a1-4938-4246-82a5-d42885b0f4f1",
   "metadata": {},
   "outputs": [],
   "source": [
    "obj_class3=class3()"
   ]
  },
  {
   "cell_type": "code",
   "execution_count": 31,
   "id": "d7f05469-6233-4ebe-a6ac-68e1d229a6fc",
   "metadata": {},
   "outputs": [
    {
     "data": {
      "text/plain": [
       "'This is class1'"
      ]
     },
     "execution_count": 31,
     "metadata": {},
     "output_type": "execute_result"
    }
   ],
   "source": [
    "obj_class3.test_class1()"
   ]
  },
  {
   "cell_type": "code",
   "execution_count": 32,
   "id": "a7e58455-4d60-40c3-9a93-7ebf9dc1fc97",
   "metadata": {},
   "outputs": [
    {
     "data": {
      "text/plain": [
       "'This is class 2'"
      ]
     },
     "execution_count": 32,
     "metadata": {},
     "output_type": "execute_result"
    }
   ],
   "source": [
    "obj_class3.test_class2()"
   ]
  },
  {
   "cell_type": "code",
   "execution_count": 33,
   "id": "b367500b-e0d9-4080-ad8a-24c645166f30",
   "metadata": {},
   "outputs": [],
   "source": [
    "#we are able to access the properties of both classes"
   ]
  },
  {
   "cell_type": "code",
   "execution_count": null,
   "id": "d87fcbac-5a24-4318-ae4b-f9636f551082",
   "metadata": {},
   "outputs": [],
   "source": []
  }
 ],
 "metadata": {
  "kernelspec": {
   "display_name": "Python 3 (ipykernel)",
   "language": "python",
   "name": "python3"
  },
  "language_info": {
   "codemirror_mode": {
    "name": "ipython",
    "version": 3
   },
   "file_extension": ".py",
   "mimetype": "text/x-python",
   "name": "python",
   "nbconvert_exporter": "python",
   "pygments_lexer": "ipython3",
   "version": "3.10.8"
  }
 },
 "nbformat": 4,
 "nbformat_minor": 5
}
