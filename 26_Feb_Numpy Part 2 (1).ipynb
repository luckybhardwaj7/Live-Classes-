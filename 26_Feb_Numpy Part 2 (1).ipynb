{
 "cells": [
  {
   "cell_type": "markdown",
   "id": "a60fc4cb-aba0-4311-95f0-4cd23a1999b1",
   "metadata": {},
   "source": [
    "# Array Manipulation"
   ]
  },
  {
   "cell_type": "code",
   "execution_count": 4,
   "id": "1e77aff0-0738-4211-a73b-3ce97b7bab88",
   "metadata": {},
   "outputs": [],
   "source": [
    "import numpy as np"
   ]
  },
  {
   "cell_type": "code",
   "execution_count": 5,
   "id": "d3a5c9c7-2ba8-4704-be86-af51ffa8f477",
   "metadata": {},
   "outputs": [],
   "source": [
    "arr=np.random.randint(1,10,(3,4))"
   ]
  },
  {
   "cell_type": "code",
   "execution_count": 6,
   "id": "8e2a4e9c-d2a1-4cb5-a0b8-fb085a5949ed",
   "metadata": {},
   "outputs": [
    {
     "data": {
      "text/plain": [
       "array([[1, 4, 2, 7],\n",
       "       [6, 9, 7, 2],\n",
       "       [3, 6, 8, 8]])"
      ]
     },
     "execution_count": 6,
     "metadata": {},
     "output_type": "execute_result"
    }
   ],
   "source": [
    "arr"
   ]
  },
  {
   "cell_type": "code",
   "execution_count": 7,
   "id": "1a1a2547-d44c-4b09-aa75-3d6e73718222",
   "metadata": {},
   "outputs": [
    {
     "data": {
      "text/plain": [
       "array([[1, 4],\n",
       "       [2, 7],\n",
       "       [6, 9],\n",
       "       [7, 2],\n",
       "       [3, 6],\n",
       "       [8, 8]])"
      ]
     },
     "execution_count": 7,
     "metadata": {},
     "output_type": "execute_result"
    }
   ],
   "source": [
    "arr.reshape(6,2)"
   ]
  },
  {
   "cell_type": "code",
   "execution_count": 8,
   "id": "adaa5953-be4b-47bf-a6fc-5064a78a1686",
   "metadata": {
    "collapsed": true,
    "jupyter": {
     "outputs_hidden": true
    },
    "tags": []
   },
   "outputs": [
    {
     "ename": "ValueError",
     "evalue": "cannot reshape array of size 12 into shape (7,2)",
     "output_type": "error",
     "traceback": [
      "\u001b[0;31m---------------------------------------------------------------------------\u001b[0m",
      "\u001b[0;31mValueError\u001b[0m                                Traceback (most recent call last)",
      "Cell \u001b[0;32mIn[8], line 1\u001b[0m\n\u001b[0;32m----> 1\u001b[0m \u001b[43marr\u001b[49m\u001b[38;5;241;43m.\u001b[39;49m\u001b[43mreshape\u001b[49m\u001b[43m(\u001b[49m\u001b[38;5;241;43m7\u001b[39;49m\u001b[43m,\u001b[49m\u001b[38;5;241;43m2\u001b[39;49m\u001b[43m)\u001b[49m\n\u001b[1;32m      2\u001b[0m \u001b[38;5;66;03m# Will raise error as its not possible to arrange 12 elements in the required way \u001b[39;00m\n",
      "\u001b[0;31mValueError\u001b[0m: cannot reshape array of size 12 into shape (7,2)"
     ]
    }
   ],
   "source": [
    "arr.reshape(7,2)\n",
    "# Will raise error as its not possible to arrange 12 elements in the required way "
   ]
  },
  {
   "cell_type": "code",
   "execution_count": 9,
   "id": "2e06312a-a9a4-40d2-a42f-40941b083878",
   "metadata": {},
   "outputs": [
    {
     "data": {
      "text/plain": [
       "array([[1, 6, 3],\n",
       "       [4, 9, 6],\n",
       "       [2, 7, 8],\n",
       "       [7, 2, 8]])"
      ]
     },
     "execution_count": 9,
     "metadata": {},
     "output_type": "execute_result"
    }
   ],
   "source": [
    "arr.T"
   ]
  },
  {
   "cell_type": "code",
   "execution_count": 10,
   "id": "1e44e919-f6c8-42ed-ba91-f4347a64954c",
   "metadata": {},
   "outputs": [
    {
     "data": {
      "text/plain": [
       "array([1, 4, 2, 7, 6, 9, 7, 2, 3, 6, 8, 8])"
      ]
     },
     "execution_count": 10,
     "metadata": {},
     "output_type": "execute_result"
    }
   ],
   "source": [
    "arr.flatten()\n",
    "# Converts any data into 1-D"
   ]
  },
  {
   "cell_type": "code",
   "execution_count": 11,
   "id": "9e897795-29ed-45ff-bb2d-2d76933f2a9b",
   "metadata": {},
   "outputs": [],
   "source": [
    "arr1=np.array([1,2,3,3,4])"
   ]
  },
  {
   "cell_type": "code",
   "execution_count": 12,
   "id": "9368e5b7-12a0-49a4-a97b-c54674f4cc48",
   "metadata": {},
   "outputs": [
    {
     "data": {
      "text/plain": [
       "1"
      ]
     },
     "execution_count": 12,
     "metadata": {},
     "output_type": "execute_result"
    }
   ],
   "source": [
    "arr1.ndim"
   ]
  },
  {
   "cell_type": "code",
   "execution_count": 13,
   "id": "d790bd4f-5773-40a1-a632-8c919012a382",
   "metadata": {},
   "outputs": [
    {
     "data": {
      "text/plain": [
       "array([[1],\n",
       "       [2],\n",
       "       [3],\n",
       "       [3],\n",
       "       [4]])"
      ]
     },
     "execution_count": 13,
     "metadata": {},
     "output_type": "execute_result"
    }
   ],
   "source": [
    "np.expand_dims(arr1,axis=1) # will expend along the column"
   ]
  },
  {
   "cell_type": "code",
   "execution_count": 14,
   "id": "4f0b56c8-602a-40a2-86c5-798a4702ae91",
   "metadata": {},
   "outputs": [
    {
     "data": {
      "text/plain": [
       "array([[1, 2, 3, 3, 4]])"
      ]
     },
     "execution_count": 14,
     "metadata": {},
     "output_type": "execute_result"
    }
   ],
   "source": [
    "np.expand_dims(arr1,axis=0) # will expand along the Row"
   ]
  },
  {
   "cell_type": "code",
   "execution_count": 15,
   "id": "c90c792d-0175-4c8b-a2b3-3fc00f381be0",
   "metadata": {},
   "outputs": [
    {
     "data": {
      "text/plain": [
       "array([[1, 4, 2, 7],\n",
       "       [6, 9, 7, 2],\n",
       "       [3, 6, 8, 8]])"
      ]
     },
     "execution_count": 15,
     "metadata": {},
     "output_type": "execute_result"
    }
   ],
   "source": [
    "arr"
   ]
  },
  {
   "cell_type": "code",
   "execution_count": 16,
   "id": "b95f8152-60ca-4404-b00b-5ed249152216",
   "metadata": {},
   "outputs": [
    {
     "data": {
      "text/plain": [
       "array([[1, 4, 2, 7],\n",
       "       [6, 9, 7, 2],\n",
       "       [3, 6, 8, 8]])"
      ]
     },
     "execution_count": 16,
     "metadata": {},
     "output_type": "execute_result"
    }
   ],
   "source": [
    "np.squeeze(arr)"
   ]
  },
  {
   "cell_type": "code",
   "execution_count": 17,
   "id": "e60cd116-d7f5-4aaf-8937-d6bf8d05f01b",
   "metadata": {},
   "outputs": [],
   "source": [
    "data=np.array([[1],[2],[3]])"
   ]
  },
  {
   "cell_type": "code",
   "execution_count": 18,
   "id": "528874b4-2537-4394-b39f-b7252343dfc1",
   "metadata": {},
   "outputs": [
    {
     "data": {
      "text/plain": [
       "array([[1],\n",
       "       [2],\n",
       "       [3]])"
      ]
     },
     "execution_count": 18,
     "metadata": {},
     "output_type": "execute_result"
    }
   ],
   "source": [
    "data"
   ]
  },
  {
   "cell_type": "code",
   "execution_count": 19,
   "id": "ce75b79d-9b47-4a12-a658-70c8f5ce8f05",
   "metadata": {},
   "outputs": [
    {
     "data": {
      "text/plain": [
       "array([1, 2, 3])"
      ]
     },
     "execution_count": 19,
     "metadata": {},
     "output_type": "execute_result"
    }
   ],
   "source": [
    "np.squeeze(data) # will squeze only in case when single element is avilable "
   ]
  },
  {
   "cell_type": "code",
   "execution_count": 20,
   "id": "12011c55-ede1-46e4-9918-97d7979fb5b0",
   "metadata": {},
   "outputs": [
    {
     "data": {
      "text/plain": [
       "array([1, 1, 1, 2, 2, 2, 3, 3, 3, 3, 3, 3, 4, 4, 4])"
      ]
     },
     "execution_count": 20,
     "metadata": {},
     "output_type": "execute_result"
    }
   ],
   "source": [
    "np.repeat(arr1,3) #repeated 3 times"
   ]
  },
  {
   "cell_type": "code",
   "execution_count": 21,
   "id": "79c079ab-66f0-4455-bc7a-6365f4674aa7",
   "metadata": {},
   "outputs": [],
   "source": [
    "roll_array=np.roll(arr1,shift=2) # roll the data by 2 shifts like 1 present at very starting will move 2 place and reaching on place of 3"
   ]
  },
  {
   "cell_type": "code",
   "execution_count": 22,
   "id": "1d0c783b-646d-4d3f-a4a6-4467c565b5ab",
   "metadata": {},
   "outputs": [
    {
     "data": {
      "text/plain": [
       "array([3, 4, 1, 2, 3])"
      ]
     },
     "execution_count": 22,
     "metadata": {},
     "output_type": "execute_result"
    }
   ],
   "source": [
    "roll_array"
   ]
  },
  {
   "cell_type": "code",
   "execution_count": 23,
   "id": "936f4863-561f-45dd-8939-b10861d02baf",
   "metadata": {},
   "outputs": [
    {
     "data": {
      "text/plain": [
       "array([1, 2, 3, 3, 4])"
      ]
     },
     "execution_count": 23,
     "metadata": {},
     "output_type": "execute_result"
    }
   ],
   "source": [
    "arr1"
   ]
  },
  {
   "cell_type": "code",
   "execution_count": 24,
   "id": "a4c5e7b9-0d3e-474f-9c86-80f8a554505d",
   "metadata": {},
   "outputs": [
    {
     "data": {
      "text/plain": [
       "array([[1, 0, 0, 0, 0],\n",
       "       [0, 2, 0, 0, 0],\n",
       "       [0, 0, 3, 0, 0],\n",
       "       [0, 0, 0, 3, 0],\n",
       "       [0, 0, 0, 0, 4]])"
      ]
     },
     "execution_count": 24,
     "metadata": {},
     "output_type": "execute_result"
    }
   ],
   "source": [
    "np.diag(arr1) # Will put the entire data in the diagonal "
   ]
  },
  {
   "cell_type": "code",
   "execution_count": 25,
   "id": "63ec2b98-6914-4a84-9ae9-26a0781d60c5",
   "metadata": {},
   "outputs": [],
   "source": [
    "# Binary Opertaion in NUMPY"
   ]
  },
  {
   "cell_type": "code",
   "execution_count": 28,
   "id": "a9c69ebc-ad58-46af-b888-59e1cea66c9a",
   "metadata": {},
   "outputs": [],
   "source": [
    "arr1=np.random.randint(1,10,(3,4))\n",
    "arr2=np.random.randint(1,10,(3,4))"
   ]
  },
  {
   "cell_type": "code",
   "execution_count": 29,
   "id": "a8f52014-d30c-45d5-b64a-f23c0c2f8bce",
   "metadata": {},
   "outputs": [
    {
     "data": {
      "text/plain": [
       "array([[3, 7, 2, 3],\n",
       "       [3, 1, 7, 6],\n",
       "       [2, 5, 9, 5]])"
      ]
     },
     "execution_count": 29,
     "metadata": {},
     "output_type": "execute_result"
    }
   ],
   "source": [
    "arr1"
   ]
  },
  {
   "cell_type": "code",
   "execution_count": 30,
   "id": "8affa469-8567-4096-97ea-828134f50849",
   "metadata": {},
   "outputs": [
    {
     "data": {
      "text/plain": [
       "array([[3, 1, 8, 6],\n",
       "       [1, 4, 7, 5],\n",
       "       [3, 9, 3, 7]])"
      ]
     },
     "execution_count": 30,
     "metadata": {},
     "output_type": "execute_result"
    }
   ],
   "source": [
    "arr2"
   ]
  },
  {
   "cell_type": "code",
   "execution_count": 31,
   "id": "9eabd5ce-7488-4fe0-a9b1-1dff4320a613",
   "metadata": {},
   "outputs": [],
   "source": [
    "# Binary operation in Arr1 and Arr2"
   ]
  },
  {
   "cell_type": "code",
   "execution_count": 32,
   "id": "6ad68bd4-9f0e-4689-8732-8866840fa41c",
   "metadata": {},
   "outputs": [
    {
     "data": {
      "text/plain": [
       "array([[ 6,  8, 10,  9],\n",
       "       [ 4,  5, 14, 11],\n",
       "       [ 5, 14, 12, 12]])"
      ]
     },
     "execution_count": 32,
     "metadata": {},
     "output_type": "execute_result"
    }
   ],
   "source": [
    "arr1+arr2"
   ]
  },
  {
   "cell_type": "code",
   "execution_count": 33,
   "id": "b304be21-4a05-4165-be76-b89fa1a41eea",
   "metadata": {},
   "outputs": [
    {
     "data": {
      "text/plain": [
       "array([[ 9,  7, 16, 18],\n",
       "       [ 3,  4, 49, 30],\n",
       "       [ 6, 45, 27, 35]])"
      ]
     },
     "execution_count": 33,
     "metadata": {},
     "output_type": "execute_result"
    }
   ],
   "source": [
    "arr1*arr2"
   ]
  },
  {
   "cell_type": "code",
   "execution_count": 34,
   "id": "a9759fe9-5746-4bd0-a85c-f1aa09fa12a2",
   "metadata": {},
   "outputs": [
    {
     "data": {
      "text/plain": [
       "array([[1.        , 7.        , 0.25      , 0.5       ],\n",
       "       [3.        , 0.25      , 1.        , 1.2       ],\n",
       "       [0.66666667, 0.55555556, 3.        , 0.71428571]])"
      ]
     },
     "execution_count": 34,
     "metadata": {},
     "output_type": "execute_result"
    }
   ],
   "source": [
    "arr1/arr2"
   ]
  },
  {
   "cell_type": "code",
   "execution_count": 35,
   "id": "faf3f575-736a-466c-8d3d-3f00eeee8702",
   "metadata": {},
   "outputs": [
    {
     "data": {
      "text/plain": [
       "array([[ 0,  6, -6, -3],\n",
       "       [ 2, -3,  0,  1],\n",
       "       [-1, -4,  6, -2]])"
      ]
     },
     "execution_count": 35,
     "metadata": {},
     "output_type": "execute_result"
    }
   ],
   "source": [
    "arr1-arr2"
   ]
  },
  {
   "cell_type": "code",
   "execution_count": 36,
   "id": "d3e61eb7-58f8-41df-b062-6da11129fd54",
   "metadata": {},
   "outputs": [],
   "source": [
    "# All the functions will be performed by the indexwise operation "
   ]
  },
  {
   "cell_type": "code",
   "execution_count": 38,
   "id": "90cbd688-8d36-4f9d-9bde-158fe3216d00",
   "metadata": {},
   "outputs": [
    {
     "data": {
      "text/plain": [
       "array([[0, 0, 2, 3],\n",
       "       [0, 1, 0, 1],\n",
       "       [2, 5, 0, 5]])"
      ]
     },
     "execution_count": 38,
     "metadata": {},
     "output_type": "execute_result"
    }
   ],
   "source": [
    "# Reminder Operation \n",
    "arr1%arr2"
   ]
  },
  {
   "cell_type": "code",
   "execution_count": 39,
   "id": "3675d6f6-e456-4045-9249-738996006b23",
   "metadata": {},
   "outputs": [
    {
     "data": {
      "text/plain": [
       "array([[     27,       7,     256,     729],\n",
       "       [      3,       1,  823543,    7776],\n",
       "       [      8, 1953125,     729,   78125]])"
      ]
     },
     "execution_count": 39,
     "metadata": {},
     "output_type": "execute_result"
    }
   ],
   "source": [
    "arr1**arr2"
   ]
  },
  {
   "cell_type": "code",
   "execution_count": 42,
   "id": "f37be9f3-55b9-43b2-a244-538c20c67265",
   "metadata": {},
   "outputs": [
    {
     "data": {
      "text/plain": [
       "array([[3, 1, 0, 2],\n",
       "       [1, 0, 7, 4],\n",
       "       [2, 1, 1, 5]])"
      ]
     },
     "execution_count": 42,
     "metadata": {},
     "output_type": "execute_result"
    }
   ],
   "source": [
    "arr1 & arr2 # Performing and operation "
   ]
  },
  {
   "cell_type": "code",
   "execution_count": 43,
   "id": "d4ccf4ed-6aee-4c6c-8493-c73d83eef92f",
   "metadata": {},
   "outputs": [
    {
     "data": {
      "text/plain": [
       "array([[ -4,  -8,  -3,  -4],\n",
       "       [ -4,  -2,  -8,  -7],\n",
       "       [ -3,  -6, -10,  -6]])"
      ]
     },
     "execution_count": 43,
     "metadata": {},
     "output_type": "execute_result"
    }
   ],
   "source": [
    "~arr1 # Negate Operation "
   ]
  },
  {
   "cell_type": "code",
   "execution_count": 44,
   "id": "f935c44d-3878-44cc-817f-2c7086a7c93e",
   "metadata": {},
   "outputs": [
    {
     "data": {
      "text/plain": [
       "array([[ 3,  7, 10,  7],\n",
       "       [ 3,  5,  7,  7],\n",
       "       [ 3, 13, 11,  7]])"
      ]
     },
     "execution_count": 44,
     "metadata": {},
     "output_type": "execute_result"
    }
   ],
   "source": [
    "arr1|arr2 # or Operation "
   ]
  },
  {
   "cell_type": "markdown",
   "id": "871bcd98-92da-42ab-96cb-55d179e153fd",
   "metadata": {},
   "source": [
    "# Numpy-String Function"
   ]
  },
  {
   "cell_type": "code",
   "execution_count": 49,
   "id": "42522ffd-101d-4f1b-8d0b-200c7784e8eb",
   "metadata": {},
   "outputs": [],
   "source": [
    "arr=np.array(['lucky','yash']) # dtype is U5 ie String"
   ]
  },
  {
   "cell_type": "code",
   "execution_count": 50,
   "id": "3c4c8e3c-25c7-4a4e-9ebd-a40d3c848ce9",
   "metadata": {},
   "outputs": [
    {
     "data": {
      "text/plain": [
       "array(['LUCKY', 'YASH'], dtype='<U5')"
      ]
     },
     "execution_count": 50,
     "metadata": {},
     "output_type": "execute_result"
    }
   ],
   "source": [
    "# Converting the array into Upper \n",
    "np.char.upper(arr)"
   ]
  },
  {
   "cell_type": "code",
   "execution_count": 51,
   "id": "9636f4b2-9f73-4684-a788-26a2dcca72f6",
   "metadata": {},
   "outputs": [
    {
     "data": {
      "text/plain": [
       "array(['Lucky', 'Yash'], dtype='<U5')"
      ]
     },
     "execution_count": 51,
     "metadata": {},
     "output_type": "execute_result"
    }
   ],
   "source": [
    "# Converting to Title case \n",
    "np.char.title(arr)"
   ]
  },
  {
   "cell_type": "code",
   "execution_count": 52,
   "id": "fda85755-ae0f-48a7-a71b-c4b4006a8187",
   "metadata": {},
   "outputs": [
    {
     "data": {
      "text/plain": [
       "array(['Lucky', 'Yash'], dtype='<U5')"
      ]
     },
     "execution_count": 52,
     "metadata": {},
     "output_type": "execute_result"
    }
   ],
   "source": [
    "np.char.capitalize(arr)"
   ]
  },
  {
   "cell_type": "code",
   "execution_count": 53,
   "id": "8635f625-8114-48a3-b628-e6d432b1faf8",
   "metadata": {},
   "outputs": [],
   "source": [
    "# All the functions present in the String are avilable in the Python under Char"
   ]
  },
  {
   "cell_type": "markdown",
   "id": "d126bd7c-bd56-40bb-929a-a75f1d6a501c",
   "metadata": {},
   "source": [
    "# Numpy Mathematical Function "
   ]
  },
  {
   "cell_type": "code",
   "execution_count": 55,
   "id": "3184fa1d-265c-42c5-b328-75d0d4a1fc9f",
   "metadata": {},
   "outputs": [
    {
     "data": {
      "text/plain": [
       "array([[ 0.14112001,  0.6569866 ,  0.90929743,  0.14112001],\n",
       "       [ 0.14112001,  0.84147098,  0.6569866 , -0.2794155 ],\n",
       "       [ 0.90929743, -0.95892427,  0.41211849, -0.95892427]])"
      ]
     },
     "execution_count": 55,
     "metadata": {},
     "output_type": "execute_result"
    }
   ],
   "source": [
    "np.sin(arr1)"
   ]
  },
  {
   "cell_type": "code",
   "execution_count": 56,
   "id": "a0e59106-9648-461f-9845-753bebce740b",
   "metadata": {},
   "outputs": [
    {
     "data": {
      "text/plain": [
       "array([[-0.9899925 ,  0.75390225, -0.41614684, -0.9899925 ],\n",
       "       [-0.9899925 ,  0.54030231,  0.75390225,  0.96017029],\n",
       "       [-0.41614684,  0.28366219, -0.91113026,  0.28366219]])"
      ]
     },
     "execution_count": 56,
     "metadata": {},
     "output_type": "execute_result"
    }
   ],
   "source": [
    "np.cos(arr1)"
   ]
  },
  {
   "cell_type": "code",
   "execution_count": 57,
   "id": "7fa5b3f0-150c-406e-bf24-4a220d485983",
   "metadata": {},
   "outputs": [
    {
     "data": {
      "text/plain": [
       "array([[-0.14254654,  0.87144798, -2.18503986, -0.14254654],\n",
       "       [-0.14254654,  1.55740772,  0.87144798, -0.29100619],\n",
       "       [-2.18503986, -3.38051501, -0.45231566, -3.38051501]])"
      ]
     },
     "execution_count": 57,
     "metadata": {},
     "output_type": "execute_result"
    }
   ],
   "source": [
    "np.tan(arr1)"
   ]
  },
  {
   "cell_type": "code",
   "execution_count": 58,
   "id": "c5f3613e-5526-4569-9717-3047f1a2fcc8",
   "metadata": {},
   "outputs": [
    {
     "data": {
      "text/plain": [
       "array([[0.99505475, 0.99999834, 0.96402758, 0.99505475],\n",
       "       [0.99505475, 0.76159416, 0.99999834, 0.99998771],\n",
       "       [0.96402758, 0.9999092 , 0.99999997, 0.9999092 ]])"
      ]
     },
     "execution_count": 58,
     "metadata": {},
     "output_type": "execute_result"
    }
   ],
   "source": [
    "np.tanh(arr1)"
   ]
  },
  {
   "cell_type": "code",
   "execution_count": 59,
   "id": "ecc7a541-1a49-4dbc-b20d-73d0320a7d97",
   "metadata": {},
   "outputs": [
    {
     "data": {
      "text/plain": [
       "array([[0.47712125, 0.84509804, 0.30103   , 0.47712125],\n",
       "       [0.47712125, 0.        , 0.84509804, 0.77815125],\n",
       "       [0.30103   , 0.69897   , 0.95424251, 0.69897   ]])"
      ]
     },
     "execution_count": 59,
     "metadata": {},
     "output_type": "execute_result"
    }
   ],
   "source": [
    "np.log10(arr1)"
   ]
  },
  {
   "cell_type": "code",
   "execution_count": 60,
   "id": "15b5abf3-2149-4e1d-afde-1b8cc5a3fce3",
   "metadata": {},
   "outputs": [
    {
     "data": {
      "text/plain": [
       "array([[2.00855369e+01, 1.09663316e+03, 7.38905610e+00, 2.00855369e+01],\n",
       "       [2.00855369e+01, 2.71828183e+00, 1.09663316e+03, 4.03428793e+02],\n",
       "       [7.38905610e+00, 1.48413159e+02, 8.10308393e+03, 1.48413159e+02]])"
      ]
     },
     "execution_count": 60,
     "metadata": {},
     "output_type": "execute_result"
    }
   ],
   "source": [
    "np.exp(arr1)"
   ]
  },
  {
   "cell_type": "code",
   "execution_count": 61,
   "id": "f19e605c-e1b2-4f53-958e-45d6dabea52c",
   "metadata": {},
   "outputs": [
    {
     "data": {
      "text/plain": [
       "array([[1.73205081, 2.64575131, 1.41421356, 1.73205081],\n",
       "       [1.73205081, 1.        , 2.64575131, 2.44948974],\n",
       "       [1.41421356, 2.23606798, 3.        , 2.23606798]])"
      ]
     },
     "execution_count": 61,
     "metadata": {},
     "output_type": "execute_result"
    }
   ],
   "source": [
    "np.sqrt(arr1)"
   ]
  },
  {
   "cell_type": "code",
   "execution_count": 62,
   "id": "273f492d-3606-4811-ae9b-26a7fcc13557",
   "metadata": {},
   "outputs": [
    {
     "data": {
      "text/plain": [
       "array([[ 9, 49,  4,  9],\n",
       "       [ 9,  1, 49, 36],\n",
       "       [ 4, 25, 81, 25]])"
      ]
     },
     "execution_count": 62,
     "metadata": {},
     "output_type": "execute_result"
    }
   ],
   "source": [
    "np.power(arr1,2)"
   ]
  },
  {
   "cell_type": "code",
   "execution_count": 63,
   "id": "93c6384b-0e77-443e-a15a-ed60ef8a8c89",
   "metadata": {},
   "outputs": [
    {
     "data": {
      "text/plain": [
       "array([[ 27, 343,   8,  27],\n",
       "       [ 27,   1, 343, 216],\n",
       "       [  8, 125, 729, 125]])"
      ]
     },
     "execution_count": 63,
     "metadata": {},
     "output_type": "execute_result"
    }
   ],
   "source": [
    "np.power(arr1,3)"
   ]
  },
  {
   "cell_type": "code",
   "execution_count": 64,
   "id": "a70f45ca-b0a1-4527-90f2-0a92dd0d12d6",
   "metadata": {},
   "outputs": [
    {
     "data": {
      "text/plain": [
       "4.416666666666667"
      ]
     },
     "execution_count": 64,
     "metadata": {},
     "output_type": "execute_result"
    }
   ],
   "source": [
    "np.mean(arr1)"
   ]
  },
  {
   "cell_type": "code",
   "execution_count": 65,
   "id": "7f1c1dc7-d6cc-4b87-be61-48c9fe8325d7",
   "metadata": {},
   "outputs": [
    {
     "data": {
      "text/plain": [
       "4.0"
      ]
     },
     "execution_count": 65,
     "metadata": {},
     "output_type": "execute_result"
    }
   ],
   "source": [
    "np.median(arr1)"
   ]
  },
  {
   "cell_type": "code",
   "execution_count": 66,
   "id": "47ee5c8a-d15b-4440-8ebb-45549b5e4c86",
   "metadata": {},
   "outputs": [
    {
     "data": {
      "text/plain": [
       "2.3614378858841256"
      ]
     },
     "execution_count": 66,
     "metadata": {},
     "output_type": "execute_result"
    }
   ],
   "source": [
    "np.std(arr1)"
   ]
  },
  {
   "cell_type": "code",
   "execution_count": 67,
   "id": "610bcfe7-fd02-4d7a-b81b-e1d239f73c1c",
   "metadata": {},
   "outputs": [
    {
     "data": {
      "text/plain": [
       "5.576388888888888"
      ]
     },
     "execution_count": 67,
     "metadata": {},
     "output_type": "execute_result"
    }
   ],
   "source": [
    "np.var(arr1)"
   ]
  },
  {
   "cell_type": "code",
   "execution_count": 68,
   "id": "e7430e33-fd22-4761-a3c2-c137a1c16904",
   "metadata": {},
   "outputs": [
    {
     "data": {
      "text/plain": [
       "1"
      ]
     },
     "execution_count": 68,
     "metadata": {},
     "output_type": "execute_result"
    }
   ],
   "source": [
    "np.min(arr1)"
   ]
  },
  {
   "cell_type": "code",
   "execution_count": 69,
   "id": "fc8c76a0-9a85-4561-8b51-570a4371cec9",
   "metadata": {},
   "outputs": [
    {
     "data": {
      "text/plain": [
       "9"
      ]
     },
     "execution_count": 69,
     "metadata": {},
     "output_type": "execute_result"
    }
   ],
   "source": [
    "np.max(arr1)"
   ]
  },
  {
   "cell_type": "code",
   "execution_count": null,
   "id": "f3a99e04-892d-42b1-8508-1947e0670a90",
   "metadata": {},
   "outputs": [],
   "source": []
  }
 ],
 "metadata": {
  "kernelspec": {
   "display_name": "Python 3 (ipykernel)",
   "language": "python",
   "name": "python3"
  },
  "language_info": {
   "codemirror_mode": {
    "name": "ipython",
    "version": 3
   },
   "file_extension": ".py",
   "mimetype": "text/x-python",
   "name": "python",
   "nbconvert_exporter": "python",
   "pygments_lexer": "ipython3",
   "version": "3.10.8"
  }
 },
 "nbformat": 4,
 "nbformat_minor": 5
}
