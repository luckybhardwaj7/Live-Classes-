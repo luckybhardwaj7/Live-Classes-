{
 "cells": [
  {
   "cell_type": "markdown",
   "id": "7f06fd81-f7a1-4b16-94c6-270bbaf323f7",
   "metadata": {},
   "source": [
    "Abstraction"
   ]
  },
  {
   "cell_type": "markdown",
   "id": "75431ab5-fb3a-4aed-9c78-e295d74c4ddd",
   "metadata": {},
   "source": [
    "Its is used to create the skeleton or to prepare the blue print of the code\n",
    "\n",
    "Creating an outline to write-up the entire code "
   ]
  },
  {
   "cell_type": "code",
   "execution_count": 6,
   "id": "ed5368b5-cf94-4594-af77-8c61476f9528",
   "metadata": {},
   "outputs": [],
   "source": [
    "import abc\n",
    "class pwskills:\n",
    "    @abc.abstractmethod\n",
    "    def students_details(self):\n",
    "        pass\n",
    "    \n",
    "    @abc.abstractmethod\n",
    "    def students_assignment(self):\n",
    "        pass\n",
    "    \n",
    "    @abc.abstractmethod\n",
    "    def students_marks(self):\n",
    "        pass"
   ]
  },
  {
   "cell_type": "code",
   "execution_count": 7,
   "id": "d3a5bd65-6d79-4502-82a7-f031232b857a",
   "metadata": {},
   "outputs": [],
   "source": [
    "class student_details(pwskills): #inheriting pwskills into it\n",
    "    \n",
    "    def student_details(self):\n",
    "        return 'This is a method for taking students details'\n",
    "    def students_assignment(self):\n",
    "        return 'Assignment details for a perticular student'"
   ]
  },
  {
   "cell_type": "code",
   "execution_count": 8,
   "id": "cafa5a91-3fa1-47ee-a1a9-b84e2fac27e6",
   "metadata": {},
   "outputs": [],
   "source": [
    "class data_science_masters(pwskills):\n",
    "    def students_details(self):\n",
    "        return 'This will return student details for data science masters'\n",
    "    def student_assignment(self):\n",
    "        return 'This will give you assignment details for Data Science Masters'"
   ]
  },
  {
   "cell_type": "code",
   "execution_count": 9,
   "id": "d67562df-f67b-47ed-8532-06034fc638d6",
   "metadata": {},
   "outputs": [
    {
     "data": {
      "text/plain": [
       "'This will return student details for data science masters'"
      ]
     },
     "execution_count": 9,
     "metadata": {},
     "output_type": "execute_result"
    }
   ],
   "source": [
    "dsm=data_science_masters()\n",
    "dsm.students_details()"
   ]
  },
  {
   "cell_type": "code",
   "execution_count": null,
   "id": "e6b6288e-440c-4d1c-96d2-14b231c475c1",
   "metadata": {},
   "outputs": [],
   "source": [
    "sd=stu"
   ]
  }
 ],
 "metadata": {
  "kernelspec": {
   "display_name": "Python 3 (ipykernel)",
   "language": "python",
   "name": "python3"
  },
  "language_info": {
   "codemirror_mode": {
    "name": "ipython",
    "version": 3
   },
   "file_extension": ".py",
   "mimetype": "text/x-python",
   "name": "python",
   "nbconvert_exporter": "python",
   "pygments_lexer": "ipython3",
   "version": "3.10.8"
  }
 },
 "nbformat": 4,
 "nbformat_minor": 5
}
