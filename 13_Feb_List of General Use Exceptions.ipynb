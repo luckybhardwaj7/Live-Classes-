{
 "cells": [
  {
   "cell_type": "markdown",
   "id": "cb4944fd-966f-44a0-90f8-8cc7df783159",
   "metadata": {},
   "source": [
    "List of General Use Exceptions"
   ]
  },
  {
   "cell_type": "code",
   "execution_count": 4,
   "id": "4c429d3a-df67-4072-9413-7aede015aa44",
   "metadata": {},
   "outputs": [
    {
     "name": "stdout",
     "output_type": "stream",
     "text": [
      "division by zero\n"
     ]
    }
   ],
   "source": [
    "try:\n",
    "    a=10/0\n",
    "except ZeroDivisionError as e:\n",
    "    print(e)\n",
    "# ZeroDivisionError must be written as it is Zerodivisionerror is not acceptable it will raise an error"
   ]
  },
  {
   "cell_type": "code",
   "execution_count": 5,
   "id": "5e59b6af-4cb7-4419-af1f-7714f58b72a1",
   "metadata": {},
   "outputs": [
    {
     "name": "stdout",
     "output_type": "stream",
     "text": [
      "invalid literal for int() with base 10: 'Lucky'\n"
     ]
    }
   ],
   "source": [
    "try:\n",
    "    int('Lucky') # str cant be type casted to int\n",
    "except (ValueError,TypeError) as e:\n",
    "    print(e)\n",
    "    "
   ]
  },
  {
   "cell_type": "code",
   "execution_count": 6,
   "id": "a924a636-b2a0-4ba3-b67e-7fed62b5928f",
   "metadata": {},
   "outputs": [],
   "source": [
    "# In the above cases we were known to what type of error may be popped up \n",
    "# If you dont know the type of the error that may be raised then you have to follow the given steps "
   ]
  },
  {
   "cell_type": "code",
   "execution_count": 8,
   "id": "aab39e44-ba33-4d92-8725-3a35109d70ca",
   "metadata": {},
   "outputs": [
    {
     "name": "stdout",
     "output_type": "stream",
     "text": [
      "This will raise an error\n"
     ]
    }
   ],
   "source": [
    "try:\n",
    "    int('Lucky')\n",
    "except:\n",
    "    print('This will raise an error')\n",
    "# if you dont know the type of error that may be raised up"
   ]
  },
  {
   "cell_type": "code",
   "execution_count": 9,
   "id": "527fc155-fd90-439a-a040-d4f05a4d547e",
   "metadata": {},
   "outputs": [
    {
     "name": "stdout",
     "output_type": "stream",
     "text": [
      "No module named 'lucky'\n"
     ]
    }
   ],
   "source": [
    "try:\n",
    "    import lucky # lucky does not exist\n",
    "except ImportError as e:\n",
    "    print(e)"
   ]
  },
  {
   "cell_type": "code",
   "execution_count": 12,
   "id": "e1ce16e8-7e50-488d-9699-327ae2198025",
   "metadata": {},
   "outputs": [
    {
     "name": "stdout",
     "output_type": "stream",
     "text": [
      "no such module exist\n"
     ]
    }
   ],
   "source": [
    "try:\n",
    "    import lucky # lucky does not exist\n",
    "except ImportError as e:\n",
    "    print('no such module exist') # can also generate custom message "
   ]
  },
  {
   "cell_type": "code",
   "execution_count": 13,
   "id": "b6062e3d-ce25-454b-8dbe-70821f91c4b1",
   "metadata": {},
   "outputs": [
    {
     "name": "stdout",
     "output_type": "stream",
     "text": [
      "no such module exist No module named 'lucky'\n"
     ]
    }
   ],
   "source": [
    "try:\n",
    "    import lucky # lucky does not exist\n",
    "except ImportError as e:\n",
    "    print('no such module exist',e) # can also generate custom message "
   ]
  },
  {
   "cell_type": "code",
   "execution_count": 15,
   "id": "503d0add-5aa5-4eb9-8530-2f452e4d8e1f",
   "metadata": {},
   "outputs": [
    {
     "name": "stdout",
     "output_type": "stream",
     "text": [
      "'key2'\n"
     ]
    }
   ],
   "source": [
    "try:\n",
    "    d={'key':'lucky',1 : [2,3,4,5]}\n",
    "    print(d['key2']) # key error will pop up because no such key found\n",
    "except KeyError as e:\n",
    "    print(e)"
   ]
  },
  {
   "cell_type": "code",
   "execution_count": 17,
   "id": "541ef441-b73f-43e3-91a3-53df3b8163b0",
   "metadata": {},
   "outputs": [
    {
     "name": "stdout",
     "output_type": "stream",
     "text": [
      "'str' object has no attribute 'test'\n"
     ]
    }
   ],
   "source": [
    "try:\n",
    "    'Lucky'.test()\n",
    "except AttributeError as e:\n",
    "    print(e)"
   ]
  },
  {
   "cell_type": "code",
   "execution_count": 18,
   "id": "4205ac17-211e-48cc-86f4-3584aa12e7ee",
   "metadata": {},
   "outputs": [
    {
     "name": "stdout",
     "output_type": "stream",
     "text": [
      "list index out of range\n"
     ]
    }
   ],
   "source": [
    "try:\n",
    "    l=[1,2,3,4,5]\n",
    "    print(l[6]) # will give index error as there is no 6th element orsent in the list\n",
    "except IndexError as e:\n",
    "    print(e)"
   ]
  },
  {
   "cell_type": "code",
   "execution_count": 20,
   "id": "c9ff3d9e-4cde-41e3-b143-e5b1e48a3ee4",
   "metadata": {},
   "outputs": [
    {
     "name": "stdout",
     "output_type": "stream",
     "text": [
      "unsupported operand type(s) for +: 'int' and 'str'\n"
     ]
    }
   ],
   "source": [
    "try:\n",
    "    123+'lucky' # TypeError as we cant concatenate int with str\n",
    "except TypeError as x: # using e is not mendatory but mostly e is used\n",
    "    \n",
    "    print(x)"
   ]
  },
  {
   "cell_type": "code",
   "execution_count": 24,
   "id": "2affe971-45fb-4181-8c98-3903cbf18d24",
   "metadata": {},
   "outputs": [
    {
     "name": "stdout",
     "output_type": "stream",
     "text": [
      "[Errno 2] No such file or directory: 'test.txt'\n"
     ]
    }
   ],
   "source": [
    "try:\n",
    "    with open ('test.txt','r') as f:\n",
    "        test=f.read()\n",
    "except FileNotFoundError as e:\n",
    "    print(e)"
   ]
  },
  {
   "cell_type": "code",
   "execution_count": 30,
   "id": "42a5d2eb-0a17-4904-8166-bf40a4cae266",
   "metadata": {},
   "outputs": [
    {
     "name": "stdout",
     "output_type": "stream",
     "text": [
      "exception handled by earlier one [Errno 2] No such file or directory: 'test.txt'\n"
     ]
    }
   ],
   "source": [
    "try:\n",
    "    with open ('test.txt','r') as f:\n",
    "        test=f.read()\n",
    "except Exception as e:\n",
    "    print('exception handled by earlier one',e)\n",
    "# if 2 excepts are there then it will look for the first one first, if it fails to manage it then only it will go to next one\n",
    "# here it was managed by the first one then it wont go for the next one\n",
    "except FileNotFoundError as e:\n",
    "    print(e)"
   ]
  },
  {
   "cell_type": "code",
   "execution_count": 31,
   "id": "a58bb2e6-77d4-4860-b818-52b9605ea721",
   "metadata": {},
   "outputs": [
    {
     "name": "stdout",
     "output_type": "stream",
     "text": [
      "exception handled by later one [Errno 2] No such file or directory: 'test.txt'\n"
     ]
    }
   ],
   "source": [
    "try:\n",
    "    with open ('test.txt','r') as f:\n",
    "        test=f.read()\n",
    "except TypeError as e: # will not give type error so it will go to the next exception and then will be managed by that \n",
    "    print(e)\n",
    "# could not manage the error so will go to next exception\n",
    "except Exception as e:\n",
    "    print('exception handled by later one',e)"
   ]
  },
  {
   "cell_type": "code",
   "execution_count": 32,
   "id": "2690fb1f-5967-4410-9a35-7e77b4b8b79e",
   "metadata": {},
   "outputs": [],
   "source": [
    "# you can write try and except inside a function as well\n",
    "def test(file):\n",
    "    try:\n",
    "        with open ('test.txt','r') as f:\n",
    "            test=f.read()\n",
    "    except TypeError as e: \n",
    "        print(e)\n",
    "\n",
    "    except Exception as e:\n",
    "        print('exception handled by later one',e)"
   ]
  },
  {
   "cell_type": "code",
   "execution_count": 33,
   "id": "3e7ec5f1-5bc3-493a-be4d-e5125a373dad",
   "metadata": {},
   "outputs": [],
   "source": [
    "# no error poped up means file got opened "
   ]
  }
 ],
 "metadata": {
  "kernelspec": {
   "display_name": "Python 3 (ipykernel)",
   "language": "python",
   "name": "python3"
  },
  "language_info": {
   "codemirror_mode": {
    "name": "ipython",
    "version": 3
   },
   "file_extension": ".py",
   "mimetype": "text/x-python",
   "name": "python",
   "nbconvert_exporter": "python",
   "pygments_lexer": "ipython3",
   "version": "3.10.8"
  }
 },
 "nbformat": 4,
 "nbformat_minor": 5
}
