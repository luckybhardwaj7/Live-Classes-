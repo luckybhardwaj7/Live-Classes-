{
 "cells": [
  {
   "cell_type": "markdown",
   "id": "726838bc-99b4-45f3-9843-6b7798639adc",
   "metadata": {},
   "source": [
    "Exception Handling"
   ]
  },
  {
   "cell_type": "code",
   "execution_count": 1,
   "id": "b1e730a7-0e31-4682-a1c3-05cdfa78b2c6",
   "metadata": {},
   "outputs": [],
   "source": [
    "a=10"
   ]
  },
  {
   "cell_type": "code",
   "execution_count": 4,
   "id": "d209c0d1-4b29-4a82-9a14-f18e4e5f344c",
   "metadata": {},
   "outputs": [
    {
     "ename": "ZeroDivisionError",
     "evalue": "division by zero",
     "output_type": "error",
     "traceback": [
      "\u001b[0;31m---------------------------------------------------------------------------\u001b[0m",
      "\u001b[0;31mZeroDivisionError\u001b[0m                         Traceback (most recent call last)",
      "Cell \u001b[0;32mIn[4], line 1\u001b[0m\n\u001b[0;32m----> 1\u001b[0m \u001b[43ma\u001b[49m\u001b[38;5;241;43m/\u001b[39;49m\u001b[38;5;241;43m0\u001b[39;49m\n\u001b[1;32m      2\u001b[0m \u001b[38;5;66;03m# will lead to an error \u001b[39;00m\n",
      "\u001b[0;31mZeroDivisionError\u001b[0m: division by zero"
     ]
    }
   ],
   "source": [
    "a/0\n",
    "# will lead to an error "
   ]
  },
  {
   "cell_type": "code",
   "execution_count": 8,
   "id": "cf865bc8-bd47-457a-883e-0d78d58cbf8b",
   "metadata": {},
   "outputs": [
    {
     "ename": "FileNotFoundError",
     "evalue": "[Errno 2] No such file or directory: 'test.txt'",
     "output_type": "error",
     "traceback": [
      "\u001b[0;31m---------------------------------------------------------------------------\u001b[0m",
      "\u001b[0;31mFileNotFoundError\u001b[0m                         Traceback (most recent call last)",
      "Cell \u001b[0;32mIn[8], line 1\u001b[0m\n\u001b[0;32m----> 1\u001b[0m f\u001b[38;5;241m=\u001b[39m\u001b[38;5;28;43mopen\u001b[39;49m\u001b[43m(\u001b[49m\u001b[38;5;124;43m'\u001b[39;49m\u001b[38;5;124;43mtest.txt\u001b[39;49m\u001b[38;5;124;43m'\u001b[39;49m\u001b[43m,\u001b[49m\u001b[38;5;124;43m'\u001b[39;49m\u001b[38;5;124;43mr\u001b[39;49m\u001b[38;5;124;43m'\u001b[39;49m\u001b[43m)\u001b[49m\n\u001b[1;32m      2\u001b[0m \u001b[38;5;28mprint\u001b[39m(\u001b[38;5;124m'\u001b[39m\u001b[38;5;124mThis is my print\u001b[39m\u001b[38;5;124m'\u001b[39m)\n",
      "File \u001b[0;32m/opt/conda/lib/python3.10/site-packages/IPython/core/interactiveshell.py:282\u001b[0m, in \u001b[0;36m_modified_open\u001b[0;34m(file, *args, **kwargs)\u001b[0m\n\u001b[1;32m    275\u001b[0m \u001b[38;5;28;01mif\u001b[39;00m file \u001b[38;5;129;01min\u001b[39;00m {\u001b[38;5;241m0\u001b[39m, \u001b[38;5;241m1\u001b[39m, \u001b[38;5;241m2\u001b[39m}:\n\u001b[1;32m    276\u001b[0m     \u001b[38;5;28;01mraise\u001b[39;00m \u001b[38;5;167;01mValueError\u001b[39;00m(\n\u001b[1;32m    277\u001b[0m         \u001b[38;5;124mf\u001b[39m\u001b[38;5;124m\"\u001b[39m\u001b[38;5;124mIPython won\u001b[39m\u001b[38;5;124m'\u001b[39m\u001b[38;5;124mt let you open fd=\u001b[39m\u001b[38;5;132;01m{\u001b[39;00mfile\u001b[38;5;132;01m}\u001b[39;00m\u001b[38;5;124m by default \u001b[39m\u001b[38;5;124m\"\u001b[39m\n\u001b[1;32m    278\u001b[0m         \u001b[38;5;124m\"\u001b[39m\u001b[38;5;124mas it is likely to crash IPython. If you know what you are doing, \u001b[39m\u001b[38;5;124m\"\u001b[39m\n\u001b[1;32m    279\u001b[0m         \u001b[38;5;124m\"\u001b[39m\u001b[38;5;124myou can use builtins\u001b[39m\u001b[38;5;124m'\u001b[39m\u001b[38;5;124m open.\u001b[39m\u001b[38;5;124m\"\u001b[39m\n\u001b[1;32m    280\u001b[0m     )\n\u001b[0;32m--> 282\u001b[0m \u001b[38;5;28;01mreturn\u001b[39;00m \u001b[43mio_open\u001b[49m\u001b[43m(\u001b[49m\u001b[43mfile\u001b[49m\u001b[43m,\u001b[49m\u001b[43m \u001b[49m\u001b[38;5;241;43m*\u001b[39;49m\u001b[43margs\u001b[49m\u001b[43m,\u001b[49m\u001b[43m \u001b[49m\u001b[38;5;241;43m*\u001b[39;49m\u001b[38;5;241;43m*\u001b[39;49m\u001b[43mkwargs\u001b[49m\u001b[43m)\u001b[49m\n",
      "\u001b[0;31mFileNotFoundError\u001b[0m: [Errno 2] No such file or directory: 'test.txt'"
     ]
    }
   ],
   "source": [
    "f=open('test.txt','r')\n",
    "print('This is my print')\n",
    "# file will not be found so this will raise an error when the first line is not executed then the second line wont be executed \n",
    "# exception handling is made for this "
   ]
  },
  {
   "cell_type": "code",
   "execution_count": 5,
   "id": "7563fbf4-4844-4c3b-8097-764e7d9ac2c4",
   "metadata": {},
   "outputs": [
    {
     "name": "stdout",
     "output_type": "stream",
     "text": [
      "This is my except block [Errno 2] No such file or directory: 'test.txtr'\n"
     ]
    }
   ],
   "source": [
    "#this is for exception handling\n",
    "try:\n",
    "    f=open('test.txt''r')\n",
    "except Exception as e:\n",
    "    print('This is my except block',e)"
   ]
  },
  {
   "cell_type": "code",
   "execution_count": 6,
   "id": "69f5a9de-5123-4572-b635-558f5f9efa2d",
   "metadata": {},
   "outputs": [],
   "source": [
    "# it dosent popped up with the error as in the last one because we handled that this time"
   ]
  },
  {
   "cell_type": "code",
   "execution_count": 7,
   "id": "f69a66b3-8639-438f-9287-42e91d45a147",
   "metadata": {},
   "outputs": [
    {
     "name": "stdout",
     "output_type": "stream",
     "text": [
      "This is my except block [Errno 2] No such file or directory: 'test.txtr'\n",
      "Exception Handling is done \n"
     ]
    }
   ],
   "source": [
    "try:\n",
    "    f=open('test.txt''r')\n",
    "except Exception as e:\n",
    "    print('This is my except block',e)\n",
    "# code written after the exception handling would be damm easy to handle    \n",
    "print('Exception Handling is done ')"
   ]
  },
  {
   "cell_type": "code",
   "execution_count": 9,
   "id": "943b28ab-ebf9-4ee0-b16f-03b2e4ccf58e",
   "metadata": {},
   "outputs": [
    {
     "name": "stdout",
     "output_type": "stream",
     "text": [
      "Lucky Bhardwaj\n"
     ]
    }
   ],
   "source": [
    "try:\n",
    "    print('Lucky Bhardwaj')\n",
    "except Exception as e:\n",
    "    print('This is my except block',e)"
   ]
  },
  {
   "cell_type": "code",
   "execution_count": 2,
   "id": "7a009794-2329-49bb-9e4a-54a5305c33d9",
   "metadata": {},
   "outputs": [],
   "source": [
    "try:\n",
    "    f=open('test2.txt','w')\n",
    "    f.write('Lucky Bhardwaj is Data Scientist')\n",
    "    f.close()\n",
    "except Exception as e:\n",
    "    print('Error occured so error blocked comes into play',e)"
   ]
  },
  {
   "cell_type": "code",
   "execution_count": 3,
   "id": "ffa34887-cc88-44d2-a58c-3965573ac4f3",
   "metadata": {},
   "outputs": [],
   "source": [
    "# File named test2 gets generated alongwith the written command "
   ]
  },
  {
   "cell_type": "code",
   "execution_count": 10,
   "id": "f28bee9b-7f3f-4a49-ac27-81e0827a1df1",
   "metadata": {},
   "outputs": [],
   "source": [
    "# so the exception handling works only when the error pops up in the above case no error pop-up so except wont be executed "
   ]
  },
  {
   "cell_type": "markdown",
   "id": "370df464-b7bf-48a4-b1a5-a0c46454054b",
   "metadata": {},
   "source": [
    "Else Block with try"
   ]
  },
  {
   "cell_type": "code",
   "execution_count": null,
   "id": "d2fae987-3aff-41e0-93e6-2b8b23df2fbe",
   "metadata": {},
   "outputs": [],
   "source": [
    "# else block with try\n",
    "# works only when the try block is executed successfully\n"
   ]
  },
  {
   "cell_type": "code",
   "execution_count": 5,
   "id": "38556788-a5b3-40d1-b8e0-ab36da31446e",
   "metadata": {},
   "outputs": [
    {
     "name": "stdout",
     "output_type": "stream",
     "text": [
      "Program executed without any error\n"
     ]
    }
   ],
   "source": [
    "try:\n",
    "    f=open('test2.txt','w')\n",
    "    f.write('Data Scientists are legends')\n",
    "    f.close()\n",
    "except Exception as e:\n",
    "    print('Error occured so error blocked comes into play',e)\n",
    "else:\n",
    "    print('Program executed without any error')\n",
    "# File named test2 gets generated alongwith the written command "
   ]
  },
  {
   "cell_type": "markdown",
   "id": "0c654cef-4a87-47a5-96c3-e9cdad3aa35b",
   "metadata": {},
   "source": [
    "else block executed when the code runs without an error\n"
   ]
  },
  {
   "cell_type": "markdown",
   "id": "e40f024b-f7bd-4423-a692-b2dc80cbda91",
   "metadata": {},
   "source": [
    "Finally Block"
   ]
  },
  {
   "cell_type": "code",
   "execution_count": 6,
   "id": "0d0adb85-38ce-4cf5-be58-84f2d9a1607c",
   "metadata": {},
   "outputs": [
    {
     "name": "stdout",
     "output_type": "stream",
     "text": [
      "finally will executed itself in any situation\n"
     ]
    }
   ],
   "source": [
    "try:\n",
    "    f=open('test2.txt','w')\n",
    "    f.write('This is finally Block')\n",
    "finally:\n",
    "    print('finally will executed itself in any situation')\n",
    "# wether program fails or not finally will be executed at any situation wether try fails or not"
   ]
  },
  {
   "cell_type": "code",
   "execution_count": 7,
   "id": "ff356673-96a8-4a57-ad65-d3f099dab683",
   "metadata": {},
   "outputs": [
    {
     "name": "stdout",
     "output_type": "stream",
     "text": [
      "finally will executed itself in any situation\n"
     ]
    },
    {
     "ename": "FileNotFoundError",
     "evalue": "[Errno 2] No such file or directory: 'test3.txt'",
     "output_type": "error",
     "traceback": [
      "\u001b[0;31m---------------------------------------------------------------------------\u001b[0m",
      "\u001b[0;31mFileNotFoundError\u001b[0m                         Traceback (most recent call last)",
      "Cell \u001b[0;32mIn[7], line 2\u001b[0m\n\u001b[1;32m      1\u001b[0m \u001b[38;5;28;01mtry\u001b[39;00m:\n\u001b[0;32m----> 2\u001b[0m     f\u001b[38;5;241m=\u001b[39m\u001b[38;5;28;43mopen\u001b[39;49m\u001b[43m(\u001b[49m\u001b[38;5;124;43m'\u001b[39;49m\u001b[38;5;124;43mtest3.txt\u001b[39;49m\u001b[38;5;124;43m'\u001b[39;49m\u001b[43m,\u001b[49m\u001b[38;5;124;43m'\u001b[39;49m\u001b[38;5;124;43mr\u001b[39;49m\u001b[38;5;124;43m'\u001b[39;49m\u001b[43m)\u001b[49m\n\u001b[1;32m      3\u001b[0m     f\u001b[38;5;241m.\u001b[39mwrite(\u001b[38;5;124m'\u001b[39m\u001b[38;5;124mThis is finally Block\u001b[39m\u001b[38;5;124m'\u001b[39m)\n\u001b[1;32m      4\u001b[0m \u001b[38;5;28;01mfinally\u001b[39;00m:\n",
      "File \u001b[0;32m/opt/conda/lib/python3.10/site-packages/IPython/core/interactiveshell.py:282\u001b[0m, in \u001b[0;36m_modified_open\u001b[0;34m(file, *args, **kwargs)\u001b[0m\n\u001b[1;32m    275\u001b[0m \u001b[38;5;28;01mif\u001b[39;00m file \u001b[38;5;129;01min\u001b[39;00m {\u001b[38;5;241m0\u001b[39m, \u001b[38;5;241m1\u001b[39m, \u001b[38;5;241m2\u001b[39m}:\n\u001b[1;32m    276\u001b[0m     \u001b[38;5;28;01mraise\u001b[39;00m \u001b[38;5;167;01mValueError\u001b[39;00m(\n\u001b[1;32m    277\u001b[0m         \u001b[38;5;124mf\u001b[39m\u001b[38;5;124m\"\u001b[39m\u001b[38;5;124mIPython won\u001b[39m\u001b[38;5;124m'\u001b[39m\u001b[38;5;124mt let you open fd=\u001b[39m\u001b[38;5;132;01m{\u001b[39;00mfile\u001b[38;5;132;01m}\u001b[39;00m\u001b[38;5;124m by default \u001b[39m\u001b[38;5;124m\"\u001b[39m\n\u001b[1;32m    278\u001b[0m         \u001b[38;5;124m\"\u001b[39m\u001b[38;5;124mas it is likely to crash IPython. If you know what you are doing, \u001b[39m\u001b[38;5;124m\"\u001b[39m\n\u001b[1;32m    279\u001b[0m         \u001b[38;5;124m\"\u001b[39m\u001b[38;5;124myou can use builtins\u001b[39m\u001b[38;5;124m'\u001b[39m\u001b[38;5;124m open.\u001b[39m\u001b[38;5;124m\"\u001b[39m\n\u001b[1;32m    280\u001b[0m     )\n\u001b[0;32m--> 282\u001b[0m \u001b[38;5;28;01mreturn\u001b[39;00m \u001b[43mio_open\u001b[49m\u001b[43m(\u001b[49m\u001b[43mfile\u001b[49m\u001b[43m,\u001b[49m\u001b[43m \u001b[49m\u001b[38;5;241;43m*\u001b[39;49m\u001b[43margs\u001b[49m\u001b[43m,\u001b[49m\u001b[43m \u001b[49m\u001b[38;5;241;43m*\u001b[39;49m\u001b[38;5;241;43m*\u001b[39;49m\u001b[43mkwargs\u001b[49m\u001b[43m)\u001b[49m\n",
      "\u001b[0;31mFileNotFoundError\u001b[0m: [Errno 2] No such file or directory: 'test3.txt'"
     ]
    }
   ],
   "source": [
    "try:\n",
    "    f=open('test3.txt','r')\n",
    "    f.write('This is finally Block')\n",
    "finally:\n",
    "    print('finally will executed itself in any situation')\n",
    "# error will be generated because test3 is not avilable and we are opening it in read mode \n",
    "# but still finally will be executed "
   ]
  },
  {
   "cell_type": "code",
   "execution_count": null,
   "id": "6bab4ed1-bef0-4cf3-9927-fa5fba765368",
   "metadata": {},
   "outputs": [],
   "source": []
  }
 ],
 "metadata": {
  "kernelspec": {
   "display_name": "Python 3 (ipykernel)",
   "language": "python",
   "name": "python3"
  },
  "language_info": {
   "codemirror_mode": {
    "name": "ipython",
    "version": 3
   },
   "file_extension": ".py",
   "mimetype": "text/x-python",
   "name": "python",
   "nbconvert_exporter": "python",
   "pygments_lexer": "ipython3",
   "version": "3.10.8"
  }
 },
 "nbformat": 4,
 "nbformat_minor": 5
}
