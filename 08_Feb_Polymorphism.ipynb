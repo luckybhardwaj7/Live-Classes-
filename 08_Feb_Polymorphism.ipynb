{
 "cells": [
  {
   "cell_type": "markdown",
   "id": "23db4006-00c2-4287-aeb6-040edbe1ebdf",
   "metadata": {},
   "source": [
    "Polymorphism"
   ]
  },
  {
   "cell_type": "markdown",
   "id": "eff454d8-290d-48af-8147-2e07fd319e72",
   "metadata": {},
   "source": [
    "An entity showing different - different kind of behaviour in the different different kind of situation.\n",
    "\n",
    "Multiple Behaviour"
   ]
  },
  {
   "cell_type": "code",
   "execution_count": 2,
   "id": "d69de90e-7ebd-46d8-bf25-600a80e957b2",
   "metadata": {},
   "outputs": [],
   "source": [
    "def test (a,b):\n",
    "    return a+b"
   ]
  },
  {
   "cell_type": "code",
   "execution_count": 3,
   "id": "f452c177-a906-425c-a17c-b8941b35ef09",
   "metadata": {},
   "outputs": [
    {
     "data": {
      "text/plain": [
       "7"
      ]
     },
     "execution_count": 3,
     "metadata": {},
     "output_type": "execute_result"
    }
   ],
   "source": [
    "test(3,4)"
   ]
  },
  {
   "cell_type": "code",
   "execution_count": 5,
   "id": "5819be4b-a733-43da-b660-d288284b8886",
   "metadata": {},
   "outputs": [
    {
     "data": {
      "text/plain": [
       "'lucky bhardwaj'"
      ]
     },
     "execution_count": 5,
     "metadata": {},
     "output_type": "execute_result"
    }
   ],
   "source": [
    "test('lucky',' bhardwaj')"
   ]
  },
  {
   "cell_type": "code",
   "execution_count": 6,
   "id": "a88d516c-aeb3-4a80-85b4-cc5f69ea6b48",
   "metadata": {},
   "outputs": [],
   "source": [
    "#here the function remained the same but the behaviour was changed as per the requirement \n",
    "# first worked as a addition function then worked as a concatination function."
   ]
  },
  {
   "cell_type": "code",
   "execution_count": 7,
   "id": "361e3ee5-b4b4-4443-a7be-73ed1d066a36",
   "metadata": {},
   "outputs": [
    {
     "data": {
      "text/plain": [
       "[1, 2, 3, 4, 5, 6, 7, 8]"
      ]
     },
     "execution_count": 7,
     "metadata": {},
     "output_type": "execute_result"
    }
   ],
   "source": [
    "test([1,2,3,4],[5,6,7,8])"
   ]
  },
  {
   "cell_type": "code",
   "execution_count": 8,
   "id": "5da4d239-90c9-446f-8942-d31f7f933fed",
   "metadata": {},
   "outputs": [],
   "source": [
    "class data_science():\n",
    "    def syllabus(self):\n",
    "        print('This is my syllabus of Data Science')"
   ]
  },
  {
   "cell_type": "code",
   "execution_count": 9,
   "id": "5d1bc629-bb7f-415d-b22e-7517dd8ce75a",
   "metadata": {},
   "outputs": [],
   "source": [
    "class web_dev:\n",
    "    def syllabus(self):\n",
    "        print('This is my syllabus for Web Dev')"
   ]
  },
  {
   "cell_type": "code",
   "execution_count": 10,
   "id": "1afb6987-64bd-4f10-8002-374cec0f727c",
   "metadata": {},
   "outputs": [],
   "source": [
    "def class_parcer(class_obj):\n",
    "    for i in class_obj:\n",
    "        i.syllabus()"
   ]
  },
  {
   "cell_type": "code",
   "execution_count": 11,
   "id": "2572dbc3-e7bb-4f41-8476-bfbe7155d1be",
   "metadata": {},
   "outputs": [],
   "source": [
    "data_science=data_science()"
   ]
  },
  {
   "cell_type": "code",
   "execution_count": 16,
   "id": "7836ce71-2d87-4120-80e4-3cb6b5eb37ad",
   "metadata": {},
   "outputs": [],
   "source": [
    "web_dev=web_dev()"
   ]
  },
  {
   "cell_type": "code",
   "execution_count": 17,
   "id": "8d383254-797e-4ac6-9c1b-151fcf6f4463",
   "metadata": {},
   "outputs": [],
   "source": [
    "class_obj=[data_science,web_dev]\n"
   ]
  },
  {
   "cell_type": "code",
   "execution_count": 18,
   "id": "3eec07b4-d7c4-4f3f-9bb6-e160fe7968ca",
   "metadata": {},
   "outputs": [
    {
     "name": "stdout",
     "output_type": "stream",
     "text": [
      "This is my syllabus of Data Science\n",
      "This is my syllabus for Web Dev\n"
     ]
    }
   ],
   "source": [
    "class_parcer(class_obj)"
   ]
  },
  {
   "cell_type": "code",
   "execution_count": null,
   "id": "d4683704-39f7-4af7-a7f0-fcf2849defb6",
   "metadata": {},
   "outputs": [],
   "source": []
  }
 ],
 "metadata": {
  "kernelspec": {
   "display_name": "Python 3 (ipykernel)",
   "language": "python",
   "name": "python3"
  },
  "language_info": {
   "codemirror_mode": {
    "name": "ipython",
    "version": 3
   },
   "file_extension": ".py",
   "mimetype": "text/x-python",
   "name": "python",
   "nbconvert_exporter": "python",
   "pygments_lexer": "ipython3",
   "version": "3.10.8"
  }
 },
 "nbformat": 4,
 "nbformat_minor": 5
}
