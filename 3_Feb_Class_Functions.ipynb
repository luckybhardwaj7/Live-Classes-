{
 "cells": [
  {
   "cell_type": "code",
   "execution_count": 1,
   "id": "55066af3-af38-4f11-a87b-ab327f8e5e0e",
   "metadata": {},
   "outputs": [
    {
     "ename": "SyntaxError",
     "evalue": "incomplete input (3861551224.py, line 1)",
     "output_type": "error",
     "traceback": [
      "\u001b[0;36m  Cell \u001b[0;32mIn[1], line 1\u001b[0;36m\u001b[0m\n\u001b[0;31m    def test():\u001b[0m\n\u001b[0m               ^\u001b[0m\n\u001b[0;31mSyntaxError\u001b[0m\u001b[0;31m:\u001b[0m incomplete input\n"
     ]
    }
   ],
   "source": [
    "def test():"
   ]
  },
  {
   "cell_type": "code",
   "execution_count": 3,
   "id": "527f4b6e-17d7-40ae-bff5-5253d4097e8f",
   "metadata": {},
   "outputs": [],
   "source": [
    "#pass is used to exempt the error occured due to the leaving the function empty\n",
    "def test():\n",
    "    pass"
   ]
  },
  {
   "cell_type": "code",
   "execution_count": 8,
   "id": "361e1071-362b-425f-8601-efff622f0e1f",
   "metadata": {},
   "outputs": [],
   "source": [
    "def test1():\n",
    "    print('Lucky Bhardwaj')"
   ]
  },
  {
   "cell_type": "code",
   "execution_count": 9,
   "id": "91e97446-7fc4-4547-b24a-ec14996d7ae5",
   "metadata": {},
   "outputs": [
    {
     "name": "stdout",
     "output_type": "stream",
     "text": [
      "Lucky Bhardwaj\n"
     ]
    }
   ],
   "source": [
    "test1()"
   ]
  },
  {
   "cell_type": "code",
   "execution_count": 11,
   "id": "2a6fc47b-dabf-4f09-9881-4828740875f7",
   "metadata": {},
   "outputs": [
    {
     "name": "stdout",
     "output_type": "stream",
     "text": [
      "Lucky Bhardwaj\n"
     ]
    },
    {
     "ename": "TypeError",
     "evalue": "unsupported operand type(s) for +: 'NoneType' and 'str'",
     "output_type": "error",
     "traceback": [
      "\u001b[0;31m---------------------------------------------------------------------------\u001b[0m",
      "\u001b[0;31mTypeError\u001b[0m                                 Traceback (most recent call last)",
      "Cell \u001b[0;32mIn[11], line 2\u001b[0m\n\u001b[1;32m      1\u001b[0m \u001b[38;5;66;03m#defined function returns the none data type and you cant concatinate with the None\u001b[39;00m\n\u001b[0;32m----> 2\u001b[0m \u001b[43mtest1\u001b[49m\u001b[43m(\u001b[49m\u001b[43m)\u001b[49m\u001b[38;5;241;43m+\u001b[39;49m\u001b[38;5;124;43m'\u001b[39;49m\u001b[38;5;124;43mData Scientist\u001b[39;49m\u001b[38;5;124;43m'\u001b[39;49m\n",
      "\u001b[0;31mTypeError\u001b[0m: unsupported operand type(s) for +: 'NoneType' and 'str'"
     ]
    }
   ],
   "source": [
    "#defined function returns the none data type and you cant concatinate with the None\n",
    "test1()+'Data Scientist'"
   ]
  },
  {
   "cell_type": "code",
   "execution_count": 12,
   "id": "ae479d74-b7dd-4286-8171-cce47e7b504a",
   "metadata": {},
   "outputs": [],
   "source": [
    "def test2():\n",
    "    return'this is my very first return'"
   ]
  },
  {
   "cell_type": "code",
   "execution_count": 13,
   "id": "75acd160-d182-4895-998d-39e3fa8012f8",
   "metadata": {},
   "outputs": [
    {
     "data": {
      "text/plain": [
       "'this is my very first return'"
      ]
     },
     "execution_count": 13,
     "metadata": {},
     "output_type": "execute_result"
    }
   ],
   "source": [
    "test2()"
   ]
  },
  {
   "cell_type": "code",
   "execution_count": 18,
   "id": "25795621-23e6-44ef-a733-f12e93bb77b4",
   "metadata": {},
   "outputs": [
    {
     "data": {
      "text/plain": [
       "'this is my very first return as a Data Scientist'"
      ]
     },
     "execution_count": 18,
     "metadata": {},
     "output_type": "execute_result"
    }
   ],
   "source": [
    "test2() + ' as a Data Scientist'"
   ]
  },
  {
   "cell_type": "markdown",
   "id": "6e78956a-69fc-49bb-86bd-a3628c313766",
   "metadata": {},
   "source": [
    "NOTE: Retirn gives you the Data Type you have called for whereas print gives you the the none data type"
   ]
  },
  {
   "cell_type": "code",
   "execution_count": 28,
   "id": "7579e12e-e575-4f57-a9e9-5a415a6ca1e5",
   "metadata": {},
   "outputs": [],
   "source": [
    "def test3():\n",
    "    return 'Lucky',23,True,0,1,988.32,[22,33,233]"
   ]
  },
  {
   "cell_type": "code",
   "execution_count": 29,
   "id": "678f2378-7c8a-4898-8bc8-7a984b139d87",
   "metadata": {},
   "outputs": [
    {
     "data": {
      "text/plain": [
       "('Lucky', 23, True, 0, 1, 988.32, [22, 33, 233])"
      ]
     },
     "execution_count": 29,
     "metadata": {},
     "output_type": "execute_result"
    }
   ],
   "source": [
    "#casn return the multiple data types at once \n",
    "test3()"
   ]
  },
  {
   "cell_type": "code",
   "execution_count": 31,
   "id": "1142e044-bc24-4728-b24a-30bdd7f364df",
   "metadata": {},
   "outputs": [],
   "source": [
    "a,b,c,d,e,f,g=test3()"
   ]
  },
  {
   "cell_type": "code",
   "execution_count": 24,
   "id": "c5d48378-65e4-4a1e-8797-9659a374f680",
   "metadata": {},
   "outputs": [
    {
     "data": {
      "text/plain": [
       "'Lucky'"
      ]
     },
     "execution_count": 24,
     "metadata": {},
     "output_type": "execute_result"
    }
   ],
   "source": [
    "a"
   ]
  },
  {
   "cell_type": "code",
   "execution_count": 26,
   "id": "bb539235-46e3-40fe-b5b6-44a810ea9663",
   "metadata": {},
   "outputs": [
    {
     "data": {
      "text/plain": [
       "23"
      ]
     },
     "execution_count": 26,
     "metadata": {},
     "output_type": "execute_result"
    }
   ],
   "source": [
    "b"
   ]
  },
  {
   "cell_type": "code",
   "execution_count": 27,
   "id": "07da3fcb-0554-466e-83c8-e6dc14969df0",
   "metadata": {},
   "outputs": [
    {
     "data": {
      "text/plain": [
       "True"
      ]
     },
     "execution_count": 27,
     "metadata": {},
     "output_type": "execute_result"
    }
   ],
   "source": [
    "c"
   ]
  },
  {
   "cell_type": "code",
   "execution_count": 32,
   "id": "deda0b91-b10f-4380-9e26-94eec994c0b0",
   "metadata": {},
   "outputs": [],
   "source": [
    "#can allocate the various values at once "
   ]
  },
  {
   "cell_type": "code",
   "execution_count": 34,
   "id": "fb3d5c9c-58e2-432e-a2ea-2199a1fb7b37",
   "metadata": {},
   "outputs": [],
   "source": [
    "def test4():\n",
    "    a=5+6/7\n",
    "    return a"
   ]
  },
  {
   "cell_type": "code",
   "execution_count": 35,
   "id": "06c23b4d-f89b-45ee-a278-38598e1e778b",
   "metadata": {},
   "outputs": [
    {
     "data": {
      "text/plain": [
       "5.857142857142857"
      ]
     },
     "execution_count": 35,
     "metadata": {},
     "output_type": "execute_result"
    }
   ],
   "source": [
    "test4()"
   ]
  },
  {
   "cell_type": "code",
   "execution_count": 39,
   "id": "c8c94e6e-79b6-4e46-980f-b71917b8c511",
   "metadata": {},
   "outputs": [],
   "source": [
    "def test5(a,b,c):\n",
    "    d=a+b/c\n",
    "    return d"
   ]
  },
  {
   "cell_type": "code",
   "execution_count": 40,
   "id": "f56340c1-9cdb-4396-8c1d-e3271cdac0ce",
   "metadata": {},
   "outputs": [
    {
     "ename": "TypeError",
     "evalue": "test5() missing 3 required positional arguments: 'a', 'b', and 'c'",
     "output_type": "error",
     "traceback": [
      "\u001b[0;31m---------------------------------------------------------------------------\u001b[0m",
      "\u001b[0;31mTypeError\u001b[0m                                 Traceback (most recent call last)",
      "Cell \u001b[0;32mIn[40], line 1\u001b[0m\n\u001b[0;32m----> 1\u001b[0m \u001b[43mtest5\u001b[49m\u001b[43m(\u001b[49m\u001b[43m)\u001b[49m\n",
      "\u001b[0;31mTypeError\u001b[0m: test5() missing 3 required positional arguments: 'a', 'b', and 'c'"
     ]
    }
   ],
   "source": [
    "test5()"
   ]
  },
  {
   "cell_type": "code",
   "execution_count": 41,
   "id": "5847e37b-bd83-44a2-ab2f-f39fa3fec244",
   "metadata": {},
   "outputs": [
    {
     "data": {
      "text/plain": [
       "16.666666666666668"
      ]
     },
     "execution_count": 41,
     "metadata": {},
     "output_type": "execute_result"
    }
   ],
   "source": [
    "#always provide the arguments value \n",
    "test5(10,20,3)"
   ]
  },
  {
   "cell_type": "code",
   "execution_count": 42,
   "id": "59b60e52-3a08-4bdf-8bf4-9d54907e9a81",
   "metadata": {},
   "outputs": [],
   "source": [
    "def test6(a,b):\n",
    "    return a+b"
   ]
  },
  {
   "cell_type": "code",
   "execution_count": 43,
   "id": "348119f0-be79-47f5-8563-6807b920d928",
   "metadata": {},
   "outputs": [
    {
     "data": {
      "text/plain": [
       "7"
      ]
     },
     "execution_count": 43,
     "metadata": {},
     "output_type": "execute_result"
    }
   ],
   "source": [
    "test6(3,4)"
   ]
  },
  {
   "cell_type": "code",
   "execution_count": 47,
   "id": "7306e829-a9cb-40ca-abf6-58fd6b646e33",
   "metadata": {},
   "outputs": [
    {
     "data": {
      "text/plain": [
       "'LuckyBhardwaj'"
      ]
     },
     "execution_count": 47,
     "metadata": {},
     "output_type": "execute_result"
    }
   ],
   "source": [
    "#works on all data types \n",
    "test6('Lucky','Bhardwaj')"
   ]
  },
  {
   "cell_type": "code",
   "execution_count": 46,
   "id": "2e4b6e1e-f672-450b-9a9e-1db6f52b53d4",
   "metadata": {},
   "outputs": [
    {
     "data": {
      "text/plain": [
       "[34, 34, 55, 24, 54, 76]"
      ]
     },
     "execution_count": 46,
     "metadata": {},
     "output_type": "execute_result"
    }
   ],
   "source": [
    "test6([34,34,55],[24,54,76])"
   ]
  },
  {
   "cell_type": "code",
   "execution_count": 4,
   "id": "ef30de81-a985-4d6b-9adc-fdc65ddeb4f8",
   "metadata": {},
   "outputs": [],
   "source": [
    "l=[1,2,3,4,5,6,'Lucky','Bhardwaj',[7,8,9]]"
   ]
  },
  {
   "cell_type": "code",
   "execution_count": 59,
   "id": "9269e043-872c-46e3-974b-151201913a37",
   "metadata": {},
   "outputs": [
    {
     "data": {
      "text/plain": [
       "[1, 2, 3, 4, 5, 6]"
      ]
     },
     "execution_count": 59,
     "metadata": {},
     "output_type": "execute_result"
    }
   ],
   "source": [
    "#extracting all the integers from the l\n",
    "l1=[]\n",
    "for i in l:\n",
    "    if type(i)== int or type(i)==float:\n",
    "        l1.append(i)\n",
    "l1"
   ]
  },
  {
   "cell_type": "code",
   "execution_count": 69,
   "id": "79ec7d3c-14a8-489b-a2e4-15df83d3b430",
   "metadata": {
    "jupyter": {
     "source_hidden": true
    },
    "tags": []
   },
   "outputs": [],
   "source": [
    "def test7(l):\n",
    "    l1=[]\n",
    "    for i in l:\n",
    "        if type(i)== int or type(i)==float:\n",
    "            l1.append(i)\n",
    "    return l1\n",
    "    "
   ]
  },
  {
   "cell_type": "code",
   "execution_count": 70,
   "id": "e32ed030-bbc8-42e1-97f0-e04648c610fb",
   "metadata": {},
   "outputs": [],
   "source": [
    "lx=[7,8,9]"
   ]
  },
  {
   "cell_type": "code",
   "execution_count": 71,
   "id": "1317c0a2-76e1-4734-abdf-3212d369fb80",
   "metadata": {},
   "outputs": [
    {
     "data": {
      "text/plain": [
       "[7, 8, 9]"
      ]
     },
     "execution_count": 71,
     "metadata": {},
     "output_type": "execute_result"
    }
   ],
   "source": [
    "test7(lx)"
   ]
  },
  {
   "cell_type": "code",
   "execution_count": 4,
   "id": "b8190e6a-7237-478f-868b-772072b48b06",
   "metadata": {},
   "outputs": [],
   "source": [
    "l=[1,2,3,4,5,6,'Lucky','Bhardwaj',[7,8,9]]"
   ]
  },
  {
   "cell_type": "code",
   "execution_count": 7,
   "id": "f7f8cbc6-ab85-4f95-afdc-0368012d7f8b",
   "metadata": {},
   "outputs": [],
   "source": [
    "def test8(a):\n",
    "    l=[]\n",
    "    for i in a:\n",
    "        if type(i)==list:\n",
    "            for j in i :\n",
    "                l.append(j)\n",
    "        else:\n",
    "            if type(i)==int or type(i)==float:\n",
    "                l.append(i)\n",
    "    return l"
   ]
  },
  {
   "cell_type": "code",
   "execution_count": 8,
   "id": "93f0babc-8ab2-427f-a280-f751c00d6a49",
   "metadata": {},
   "outputs": [
    {
     "data": {
      "text/plain": [
       "[1, 2, 3, 4, 5, 6, 7, 8, 9]"
      ]
     },
     "execution_count": 8,
     "metadata": {},
     "output_type": "execute_result"
    }
   ],
   "source": [
    "test8(l)"
   ]
  },
  {
   "cell_type": "code",
   "execution_count": 9,
   "id": "30607b5e-09a2-4cce-973d-649d11f1f655",
   "metadata": {},
   "outputs": [],
   "source": [
    "def test8(a):\n",
    "    '''This Function is to extract the numbers from the list'''\n",
    "    l=[]\n",
    "    for i in a:\n",
    "        if type(i)==list:\n",
    "            for j in i :\n",
    "                l.append(j)\n",
    "        else:\n",
    "            if type(i)==int or type(i)==float:\n",
    "                l.append(i)\n",
    "    return l"
   ]
  },
  {
   "cell_type": "code",
   "execution_count": 10,
   "id": "74fc0a3b-4167-4b71-b574-4d5127332c9e",
   "metadata": {},
   "outputs": [
    {
     "data": {
      "text/plain": [
       "[1, 2, 3, 4, 5, 6, 7, 8, 9]"
      ]
     },
     "execution_count": 10,
     "metadata": {},
     "output_type": "execute_result"
    }
   ],
   "source": [
    "test8()\n",
    "#once we Shift+Tab this will come up with the Function Description \n",
    "#This is known as the Doc String"
   ]
  },
  {
   "cell_type": "code",
   "execution_count": 11,
   "id": "4bc62d81-48b5-4e34-9c5d-2d3ada0bbcf8",
   "metadata": {},
   "outputs": [],
   "source": [
    "def test10(a,b):\n",
    "    return a+b"
   ]
  },
  {
   "cell_type": "code",
   "execution_count": 12,
   "id": "64790151-0374-43c8-bd56-515560753a25",
   "metadata": {},
   "outputs": [],
   "source": [
    "def test11(*args):\n",
    "    return args"
   ]
  },
  {
   "cell_type": "code",
   "execution_count": 13,
   "id": "4c67f55c-f4e3-4956-b89b-e8baaa745305",
   "metadata": {},
   "outputs": [
    {
     "data": {
      "text/plain": [
       "tuple"
      ]
     },
     "execution_count": 13,
     "metadata": {},
     "output_type": "execute_result"
    }
   ],
   "source": [
    "type(test11())"
   ]
  },
  {
   "cell_type": "code",
   "execution_count": 15,
   "id": "3977f9b6-804f-4824-9dd7-9e7d217be15c",
   "metadata": {},
   "outputs": [
    {
     "data": {
      "text/plain": [
       "(1, 2, 3)"
      ]
     },
     "execution_count": 15,
     "metadata": {},
     "output_type": "execute_result"
    }
   ],
   "source": [
    "test11(1,2,3)"
   ]
  },
  {
   "cell_type": "code",
   "execution_count": 16,
   "id": "ccf75bc4-694a-41ef-9b05-87a763f81cf6",
   "metadata": {},
   "outputs": [
    {
     "data": {
      "text/plain": [
       "(1, 2, 3, 4, 5, 6, 'Lucky', 'Bhardwaj', [7, 8, 9])"
      ]
     },
     "execution_count": 16,
     "metadata": {},
     "output_type": "execute_result"
    }
   ],
   "source": [
    "test11(1,2,3,4,5,6,'Lucky','Bhardwaj',[7,8,9])"
   ]
  },
  {
   "cell_type": "markdown",
   "id": "72626d8c-fcb2-44f7-96a2-0037c9e0a2dc",
   "metadata": {},
   "source": [
    "NOTE- While using *args you can pass n number of arguments using this\n",
    "Stores the data in the form of Tuple\n",
    "*args is not mendetaor you can use anything to pass via that "
   ]
  },
  {
   "cell_type": "code",
   "execution_count": 17,
   "id": "79a742d0-ba71-44ca-a203-d579922bc0df",
   "metadata": {},
   "outputs": [],
   "source": [
    "#now using the *lucky instead of *args\n",
    "def test12(*lucky):\n",
    "    return lucky"
   ]
  },
  {
   "cell_type": "code",
   "execution_count": 18,
   "id": "7489d338-ae32-4f45-8e93-e05093bae066",
   "metadata": {},
   "outputs": [
    {
     "data": {
      "text/plain": [
       "(33, 356, 56, 'xDad', 'sdd')"
      ]
     },
     "execution_count": 18,
     "metadata": {},
     "output_type": "execute_result"
    }
   ],
   "source": [
    "test12(33,356,56,'xDad','sdd')"
   ]
  },
  {
   "cell_type": "code",
   "execution_count": 19,
   "id": "2a1eac96-4325-4390-a513-ea503570bff4",
   "metadata": {},
   "outputs": [],
   "source": [
    "def test13(*args,a):\n",
    "    return args,a"
   ]
  },
  {
   "cell_type": "code",
   "execution_count": 21,
   "id": "31b1592c-1631-47e9-b9c9-06456a811186",
   "metadata": {},
   "outputs": [
    {
     "ename": "TypeError",
     "evalue": "test13() missing 1 required keyword-only argument: 'a'",
     "output_type": "error",
     "traceback": [
      "\u001b[0;31m---------------------------------------------------------------------------\u001b[0m",
      "\u001b[0;31mTypeError\u001b[0m                                 Traceback (most recent call last)",
      "Cell \u001b[0;32mIn[21], line 2\u001b[0m\n\u001b[1;32m      1\u001b[0m \u001b[38;5;66;03m#now the function will be confused about wether it is for  a or args so instead of that use the below one\u001b[39;00m\n\u001b[0;32m----> 2\u001b[0m \u001b[43mtest13\u001b[49m\u001b[43m(\u001b[49m\u001b[38;5;241;43m1\u001b[39;49m\u001b[43m,\u001b[49m\u001b[38;5;241;43m2\u001b[39;49m\u001b[43m,\u001b[49m\u001b[38;5;241;43m3\u001b[39;49m\u001b[43m,\u001b[49m\u001b[38;5;241;43m4\u001b[39;49m\u001b[43m)\u001b[49m\n",
      "\u001b[0;31mTypeError\u001b[0m: test13() missing 1 required keyword-only argument: 'a'"
     ]
    }
   ],
   "source": [
    "#now the function will be confused about wether it is for  a or args so instead of that use the below one\n",
    "test13(1,2,3,4)"
   ]
  },
  {
   "cell_type": "code",
   "execution_count": 22,
   "id": "0122cd6a-e33e-4e19-831f-09d1ca0a5aa2",
   "metadata": {},
   "outputs": [
    {
     "data": {
      "text/plain": [
       "((1, 2, 3), 4)"
      ]
     },
     "execution_count": 22,
     "metadata": {},
     "output_type": "execute_result"
    }
   ],
   "source": [
    "test13(1,2,3, a=4)"
   ]
  },
  {
   "cell_type": "code",
   "execution_count": 23,
   "id": "a8f50a96-aec7-44b1-b535-6f1827d45d3f",
   "metadata": {},
   "outputs": [],
   "source": [
    "def test14(c,d, a=1,b=2):\n",
    "    return a,b,c,d"
   ]
  },
  {
   "cell_type": "code",
   "execution_count": 24,
   "id": "bf9f4416-3c03-4953-aff5-86b69cf16f1b",
   "metadata": {},
   "outputs": [
    {
     "ename": "TypeError",
     "evalue": "test14() missing 2 required positional arguments: 'c' and 'd'",
     "output_type": "error",
     "traceback": [
      "\u001b[0;31m---------------------------------------------------------------------------\u001b[0m",
      "\u001b[0;31mTypeError\u001b[0m                                 Traceback (most recent call last)",
      "Cell \u001b[0;32mIn[24], line 1\u001b[0m\n\u001b[0;32m----> 1\u001b[0m \u001b[43mtest14\u001b[49m\u001b[43m(\u001b[49m\u001b[43m)\u001b[49m\n",
      "\u001b[0;31mTypeError\u001b[0m: test14() missing 2 required positional arguments: 'c' and 'd'"
     ]
    }
   ],
   "source": [
    "#now you have to assign the values for c an d d as a and b are already defined over there \n",
    "test14()"
   ]
  },
  {
   "cell_type": "code",
   "execution_count": 25,
   "id": "46ff97a3-97f8-4a6f-85e7-2444cb42d29c",
   "metadata": {},
   "outputs": [
    {
     "data": {
      "text/plain": [
       "(1, 2, 3, 4)"
      ]
     },
     "execution_count": 25,
     "metadata": {},
     "output_type": "execute_result"
    }
   ],
   "source": [
    "test14(3,4)"
   ]
  },
  {
   "cell_type": "code",
   "execution_count": 28,
   "id": "c9c1ee99-e451-4699-9ca4-f080c5da6fc6",
   "metadata": {},
   "outputs": [
    {
     "data": {
      "text/plain": [
       "(6, 9, 3, 4)"
      ]
     },
     "execution_count": 28,
     "metadata": {},
     "output_type": "execute_result"
    }
   ],
   "source": [
    "#we can reassign the value of those which were assigned earlier i.e you can over write \n",
    "test14(3,4,a=6,b=9)"
   ]
  },
  {
   "cell_type": "code",
   "execution_count": 29,
   "id": "a0733c37-d693-47e8-b7a6-1bfc580d12c2",
   "metadata": {},
   "outputs": [],
   "source": [
    "#if the data is required in the dictionary format "
   ]
  },
  {
   "cell_type": "code",
   "execution_count": 31,
   "id": "5ca762c2-b18a-4015-8595-9b3149a2662c",
   "metadata": {},
   "outputs": [],
   "source": [
    "def test15(**kwargs): # ** is used for the key value pair (*was used for the linear one while ** for the pair or dictionary format)\n",
    "    return kwargs"
   ]
  },
  {
   "cell_type": "code",
   "execution_count": 32,
   "id": "40b61186-af6c-494d-917b-f932680dc942",
   "metadata": {},
   "outputs": [
    {
     "data": {
      "text/plain": [
       "{}"
      ]
     },
     "execution_count": 32,
     "metadata": {},
     "output_type": "execute_result"
    }
   ],
   "source": [
    "test15()"
   ]
  },
  {
   "cell_type": "code",
   "execution_count": 33,
   "id": "6a88b8c3-23e0-4f78-ac7d-37158bc80c83",
   "metadata": {},
   "outputs": [
    {
     "data": {
      "text/plain": [
       "dict"
      ]
     },
     "execution_count": 33,
     "metadata": {},
     "output_type": "execute_result"
    }
   ],
   "source": [
    "type(test15())"
   ]
  },
  {
   "cell_type": "code",
   "execution_count": 34,
   "id": "e759063c-e47c-4734-b56b-f8620134bdba",
   "metadata": {},
   "outputs": [
    {
     "data": {
      "text/plain": [
       "{'a': [1, 2, 3, 4], 'b': 'Lucky Bhardwaj', 'c': 89.9}"
      ]
     },
     "execution_count": 34,
     "metadata": {},
     "output_type": "execute_result"
    }
   ],
   "source": [
    "test15(a=[1,2,3,4], b='Lucky Bhardwaj', c=89.90)"
   ]
  },
  {
   "cell_type": "code",
   "execution_count": null,
   "id": "a3ab5282-9e17-4d5c-b23c-84588e8f1b55",
   "metadata": {},
   "outputs": [],
   "source": []
  }
 ],
 "metadata": {
  "kernelspec": {
   "display_name": "Python 3 (ipykernel)",
   "language": "python",
   "name": "python3"
  },
  "language_info": {
   "codemirror_mode": {
    "name": "ipython",
    "version": 3
   },
   "file_extension": ".py",
   "mimetype": "text/x-python",
   "name": "python",
   "nbconvert_exporter": "python",
   "pygments_lexer": "ipython3",
   "version": "3.10.8"
  }
 },
 "nbformat": 4,
 "nbformat_minor": 5
}
