{
 "cells": [
  {
   "cell_type": "markdown",
   "id": "b388d657-fb6b-4488-b679-260c217ab40a",
   "metadata": {},
   "source": [
    "Class Methods"
   ]
  },
  {
   "cell_type": "markdown",
   "id": "c63a0c6b-c3ce-4b7f-82cd-04e999e47932",
   "metadata": {},
   "source": [
    "Class Methods is a way that is used to over load the function. Direct overload method is not possible in python"
   ]
  },
  {
   "cell_type": "code",
   "execution_count": 1,
   "id": "b2348aa3-cd9f-4b54-ac6a-60fa21fc9d2b",
   "metadata": {},
   "outputs": [],
   "source": [
    "class pwskills:\n",
    "    \n",
    "    def __init__(self,name,email):\n",
    "        self.name=name\n",
    "        self.email=email\n",
    "    \n",
    "    def students_details(self):\n",
    "        print(self.name, self.email)"
   ]
  },
  {
   "cell_type": "code",
   "execution_count": 2,
   "id": "6ebf190b-ea16-46c7-abde-4cf4d3ab7e85",
   "metadata": {},
   "outputs": [],
   "source": [
    "pw=pwskills('Lucky','blucky@gmail.com')"
   ]
  },
  {
   "cell_type": "code",
   "execution_count": 3,
   "id": "de6f35ac-155f-4377-8ce3-6d879ff029b0",
   "metadata": {},
   "outputs": [
    {
     "data": {
      "text/plain": [
       "'Lucky'"
      ]
     },
     "execution_count": 3,
     "metadata": {},
     "output_type": "execute_result"
    }
   ],
   "source": [
    "pw.name\n",
    "#returns name"
   ]
  },
  {
   "cell_type": "code",
   "execution_count": 4,
   "id": "004ccd53-bce4-464e-867a-573090025d09",
   "metadata": {},
   "outputs": [
    {
     "data": {
      "text/plain": [
       "'blucky@gmail.com'"
      ]
     },
     "execution_count": 4,
     "metadata": {},
     "output_type": "execute_result"
    }
   ],
   "source": [
    "pw.email\n",
    "#returns email"
   ]
  },
  {
   "cell_type": "code",
   "execution_count": 5,
   "id": "353e9ff2-cf49-4fff-bc97-dd5ed6ff3212",
   "metadata": {},
   "outputs": [
    {
     "name": "stdout",
     "output_type": "stream",
     "text": [
      "Lucky blucky@gmail.com\n"
     ]
    }
   ],
   "source": [
    "pw.students_details()"
   ]
  },
  {
   "cell_type": "code",
   "execution_count": 6,
   "id": "b00b3633-6ea7-4347-b7f8-083199b6e0ec",
   "metadata": {},
   "outputs": [],
   "source": [
    "class pwskills1:\n",
    "    def __init__(self,name,email):\n",
    "        self.name=name\n",
    "        self.email=email\n",
    "    \n",
    "    @classmethod #this decorator is avilable by default in python\n",
    "    def details (cls,name,email): #here cls is another pointer that is pointing towards the class directly\n",
    "        return cls(name,email)\n",
    "    \n",
    "    def students_details(self):\n",
    "        print(self.name, self.email)"
   ]
  },
  {
   "cell_type": "code",
   "execution_count": 7,
   "id": "585cb5f1-e9b5-4196-b87b-878ba80a2e22",
   "metadata": {},
   "outputs": [],
   "source": [
    "#we can pass the data without creating the object like we did earlier by (pw.student_details()) \n",
    "#this time we will be using the one mentioned below"
   ]
  },
  {
   "cell_type": "code",
   "execution_count": 8,
   "id": "ebac7c8e-22bb-4124-abcd-164ab4d2c685",
   "metadata": {},
   "outputs": [
    {
     "data": {
      "text/plain": [
       "<__main__.pwskills1 at 0x7f65d050c730>"
      ]
     },
     "execution_count": 8,
     "metadata": {},
     "output_type": "execute_result"
    }
   ],
   "source": [
    "pwskills1.details('Lucky','blucky593@gmail.com')"
   ]
  },
  {
   "cell_type": "code",
   "execution_count": 10,
   "id": "2a22675c-0eff-466c-b2ae-cd6e4911fc41",
   "metadata": {},
   "outputs": [],
   "source": [
    "pw1=pwskills1.details('Lucky','blucky593@gmail.com') #storing this into a variable "
   ]
  },
  {
   "cell_type": "code",
   "execution_count": 13,
   "id": "cc659f5e-66f4-48fb-8609-f0b37ceb344a",
   "metadata": {},
   "outputs": [
    {
     "data": {
      "text/plain": [
       "'Lucky'"
      ]
     },
     "execution_count": 13,
     "metadata": {},
     "output_type": "execute_result"
    }
   ],
   "source": [
    "pw1.name"
   ]
  },
  {
   "cell_type": "code",
   "execution_count": 17,
   "id": "bda99a2e-8d3d-4989-8d89-c15a03ce8cc5",
   "metadata": {},
   "outputs": [
    {
     "name": "stdout",
     "output_type": "stream",
     "text": [
      "Lucky blucky593@gmail.com\n"
     ]
    }
   ],
   "source": [
    "pw1.students_details()"
   ]
  },
  {
   "cell_type": "code",
   "execution_count": 23,
   "id": "f9cc555d-22e3-4180-bee9-0df6e8249600",
   "metadata": {},
   "outputs": [],
   "source": [
    "class pwskills2:\n",
    "    mobile_num=9876543210 #creating a class variable without using __init__\n",
    "#it is directly avilable to the class     \n",
    "    def __init__(self,name,email):\n",
    "        self.name=name\n",
    "        self.email=email\n",
    "    \n",
    "    @classmethod #this decorator is avilable by default in python\n",
    "    def details (cls,name,email): #here cls is another pointer that is pointing towards the class directly\n",
    "        return cls(name,email)\n",
    "    \n",
    "    def students_details(self):\n",
    "        print(self.name, self.email)"
   ]
  },
  {
   "cell_type": "code",
   "execution_count": 25,
   "id": "37b8b387-74f0-4b40-bd7b-8823f458b335",
   "metadata": {},
   "outputs": [
    {
     "data": {
      "text/plain": [
       "9876543210"
      ]
     },
     "execution_count": 25,
     "metadata": {},
     "output_type": "execute_result"
    }
   ],
   "source": [
    "#calling the mobile number\n",
    "pwskills2.mobile_num\n",
    "#without creating an object we are able to access this "
   ]
  },
  {
   "cell_type": "code",
   "execution_count": 38,
   "id": "69385154-7e89-42f3-b652-f5d77b91915e",
   "metadata": {},
   "outputs": [],
   "source": [
    "#accessing it inside a class method\n",
    "class pwskills2:\n",
    "    mobile_num=9876543210 #creating a class variable without using __init__\n",
    "#it is directly avilable to the class     \n",
    "    def __init__(self,name,email):\n",
    "        self.name=name\n",
    "        self.email=email\n",
    "    \n",
    "    @classmethod\n",
    "    def change_number(cls,mobile):\n",
    "        pwskills2.mobile_num=mobile\n",
    "        \n",
    "    @classmethod #this decorator is avilable by default in python\n",
    "    def details (cls,name,email): #here cls is another pointer that is pointing towards the class directly\n",
    "        return cls(name,email)\n",
    "    \n",
    "    def students_details(self):\n",
    "        print(self.name, self.email)     "
   ]
  },
  {
   "cell_type": "code",
   "execution_count": 39,
   "id": "dd170bc7-6c8f-4b75-a358-8ebe0050a935",
   "metadata": {},
   "outputs": [],
   "source": [
    "pwskills2.change_number(9898989898)"
   ]
  },
  {
   "cell_type": "code",
   "execution_count": 40,
   "id": "a864cba6-6f76-4600-96ce-d40ca793a0dd",
   "metadata": {},
   "outputs": [
    {
     "data": {
      "text/plain": [
       "9898989898"
      ]
     },
     "execution_count": 40,
     "metadata": {},
     "output_type": "execute_result"
    }
   ],
   "source": [
    "pwskills2.mobile_num"
   ]
  },
  {
   "cell_type": "code",
   "execution_count": 1,
   "id": "46171e8f-b73d-4691-a8e9-86454ba08518",
   "metadata": {},
   "outputs": [],
   "source": [
    "#accessing it inside a class method\n",
    "class pwskills2:\n",
    "    mobile_num=9876543210 #creating a class variable without using __init__\n",
    "#it is directly avilable to the class     \n",
    "    def __init__(self,name,email):\n",
    "        self.name=name\n",
    "        self.email=email\n",
    "    \n",
    "    @classmethod\n",
    "    def change_number(cls,mobile):\n",
    "        pwskills2.mobile_num=mobile\n",
    "        \n",
    "    @classmethod #this decorator is avilable by default in python\n",
    "    def details (cls,name,email): #here cls is another pointer that is pointing towards the class directly\n",
    "        return cls(name,email)\n",
    "    \n",
    "    def students_details(self):\n",
    "        print(self.name, self.email,pwskills2.mobile_num) #now adding the mobile num to the setudent details section "
   ]
  },
  {
   "cell_type": "code",
   "execution_count": 2,
   "id": "3a003366-2219-441b-92e5-314389456e5e",
   "metadata": {},
   "outputs": [],
   "source": [
    "pw=pwskills2.details('Rohan', 'rohan@gmail.com' )"
   ]
  },
  {
   "cell_type": "code",
   "execution_count": 3,
   "id": "9ee07b0d-df55-485b-b12f-d4e6f5a9140f",
   "metadata": {},
   "outputs": [
    {
     "name": "stdout",
     "output_type": "stream",
     "text": [
      "Rohan rohan@gmail.com 9876543210\n"
     ]
    }
   ],
   "source": [
    "pw.students_details()"
   ]
  },
  {
   "cell_type": "code",
   "execution_count": 4,
   "id": "aa4afb37-a53c-4795-b05d-208e6fc7d202",
   "metadata": {},
   "outputs": [],
   "source": [
    "#this is able to aceesss all the data the new name, gmail id and the phone number "
   ]
  },
  {
   "cell_type": "markdown",
   "id": "990f7b22-4fc3-43fb-8c9a-bda3469a7790",
   "metadata": {},
   "source": [
    "If we are passing the data via class method, then we can access any other method associated to the class, can modify the variable whenever required"
   ]
  },
  {
   "cell_type": "markdown",
   "id": "088ccf55-3bbc-4de7-943e-7e83bca53025",
   "metadata": {},
   "source": [
    "Here we are overloading the init with the class-method"
   ]
  },
  {
   "cell_type": "code",
   "execution_count": 5,
   "id": "5180fdaf-03bc-47f3-a6d7-31b4efb4fc23",
   "metadata": {},
   "outputs": [],
   "source": [
    "#accessing it inside a class method\n",
    "class pwskills3:\n",
    "    mobile_num=9876543210 #creating a class variable without using __init__\n",
    "#it is directly avilable to the class     \n",
    "    def __init__(self,name,email):\n",
    "        self.name=name\n",
    "        self.email=email\n",
    "    \n",
    "    @classmethod\n",
    "    def change_number(cls,mobile):\n",
    "        pwskills2.mobile_num=mobile\n",
    "        \n",
    "    @classmethod #this decorator is avilable by default in python\n",
    "    def details (cls,name,email): #here cls is another pointer that is pointing towards the class directly\n",
    "        return cls(name,email)\n",
    "    \n",
    "    def students_details(self):\n",
    "        print(self.name, self.email,pwskills2.mobile_num) #now adding the mobile num to the setudent details section "
   ]
  },
  {
   "cell_type": "code",
   "execution_count": 8,
   "id": "16f19e9d-7937-4767-8cd0-ed8463b49d0c",
   "metadata": {},
   "outputs": [],
   "source": [
    "#suppose we have an external method \n",
    "def course_details(cls,course_name): \n",
    "#now adding this external function to our class method\n",
    "     print('Course name is :' ,course_name)\n",
    "        \n",
    "#now we have to addon this function inside our class (pwskills3)"
   ]
  },
  {
   "cell_type": "code",
   "execution_count": 9,
   "id": "a18b7ba6-b16e-4c17-953f-ab8d3316fa9b",
   "metadata": {},
   "outputs": [],
   "source": [
    "pwskills3.course_details=classmethod(course_details)"
   ]
  },
  {
   "cell_type": "code",
   "execution_count": 11,
   "id": "68963839-be53-490f-952e-e36aa41eff88",
   "metadata": {},
   "outputs": [
    {
     "name": "stdout",
     "output_type": "stream",
     "text": [
      "Course name is : Data Science Masters\n"
     ]
    }
   ],
   "source": [
    "pwskills3.course_details('Data Science Masters')"
   ]
  },
  {
   "cell_type": "markdown",
   "id": "82c23ec8-2ce0-4b15-8c55-f6e96ceee540",
   "metadata": {},
   "source": [
    "Creating another function"
   ]
  },
  {
   "cell_type": "code",
   "execution_count": 13,
   "id": "2f493325-8119-45fc-9ef4-24a73408d837",
   "metadata": {},
   "outputs": [],
   "source": [
    "def mentor (cls,list_of_mentor):\n",
    "    print(list_of_mentor)"
   ]
  },
  {
   "cell_type": "code",
   "execution_count": 15,
   "id": "41a56a30-de57-4175-b18a-5d32fcdd27d8",
   "metadata": {},
   "outputs": [],
   "source": [
    "pwskills3.mentor=classmethod(mentor)"
   ]
  },
  {
   "cell_type": "code",
   "execution_count": 18,
   "id": "49796c9f-9e59-4093-9c2c-0744454397c9",
   "metadata": {},
   "outputs": [
    {
     "name": "stdout",
     "output_type": "stream",
     "text": [
      "Krish Naik is the Mentor\n"
     ]
    }
   ],
   "source": [
    "pwskills3.mentor('Krish Naik is the Mentor')"
   ]
  },
  {
   "cell_type": "code",
   "execution_count": 19,
   "id": "a6ccc9c4-aaf9-4220-94ff-7f69434717a4",
   "metadata": {},
   "outputs": [],
   "source": [
    "# Deactivating or deleting a specific function from the Class\n",
    "class pwskills4:\n",
    "    mobile_num=9876543210 #creating a class variable without using __init__\n",
    "#it is directly avilable to the class     \n",
    "    def __init__(self,name,email):\n",
    "        self.name=name\n",
    "        self.email=email\n",
    "    \n",
    "    @classmethod\n",
    "    def change_number(cls,mobile):\n",
    "        pwskills2.mobile_num=mobile\n",
    "        \n",
    "    @classmethod #this decorator is avilable by default in python\n",
    "    def details (cls,name,email): #here cls is another pointer that is pointing towards the class directly\n",
    "        return cls(name,email)\n",
    "    \n",
    "    def students_details(self):\n",
    "        print(self.name, self.email,pwskills2.mobile_num) #now adding the mobile num to the setudent details section "
   ]
  },
  {
   "cell_type": "code",
   "execution_count": 20,
   "id": "8d76ce1f-5595-48c5-8206-a4557e898a47",
   "metadata": {},
   "outputs": [],
   "source": [
    "#del keyword is used to delete the function from the class\n",
    "del pwskills4.change_number"
   ]
  },
  {
   "cell_type": "code",
   "execution_count": 21,
   "id": "dfba122a-930e-4f90-8eaf-5ccb6407775d",
   "metadata": {},
   "outputs": [
    {
     "ename": "AttributeError",
     "evalue": "type object 'pwskills4' has no attribute 'change_number'",
     "output_type": "error",
     "traceback": [
      "\u001b[0;31m---------------------------------------------------------------------------\u001b[0m",
      "\u001b[0;31mAttributeError\u001b[0m                            Traceback (most recent call last)",
      "Cell \u001b[0;32mIn[21], line 1\u001b[0m\n\u001b[0;32m----> 1\u001b[0m \u001b[43mpwskills4\u001b[49m\u001b[38;5;241;43m.\u001b[39;49m\u001b[43mchange_number\u001b[49m(\u001b[38;5;241m9876545678\u001b[39m)\n",
      "\u001b[0;31mAttributeError\u001b[0m: type object 'pwskills4' has no attribute 'change_number'"
     ]
    }
   ],
   "source": [
    "pwskills4.change_number(9876545678)"
   ]
  },
  {
   "cell_type": "code",
   "execution_count": 22,
   "id": "81b2c45f-0dae-453e-a1fb-505aac56378e",
   "metadata": {},
   "outputs": [],
   "source": [
    "#error pops up because change_number function is no more avilable"
   ]
  },
  {
   "cell_type": "code",
   "execution_count": 24,
   "id": "56b930c6-b71b-4333-95ae-aec9bdf126e0",
   "metadata": {},
   "outputs": [],
   "source": [
    "#another way of deleting the function is \n",
    "#using delattr function\n",
    "delattr(pwskills4,'details')"
   ]
  },
  {
   "cell_type": "code",
   "execution_count": 25,
   "id": "01d2601f-2d61-45fe-94c9-646fc6045fef",
   "metadata": {},
   "outputs": [
    {
     "ename": "AttributeError",
     "evalue": "type object 'pwskills4' has no attribute 'details'",
     "output_type": "error",
     "traceback": [
      "\u001b[0;31m---------------------------------------------------------------------------\u001b[0m",
      "\u001b[0;31mAttributeError\u001b[0m                            Traceback (most recent call last)",
      "Cell \u001b[0;32mIn[25], line 1\u001b[0m\n\u001b[0;32m----> 1\u001b[0m \u001b[43mpwskills4\u001b[49m\u001b[38;5;241;43m.\u001b[39;49m\u001b[43mdetails\u001b[49m()\n",
      "\u001b[0;31mAttributeError\u001b[0m: type object 'pwskills4' has no attribute 'details'"
     ]
    }
   ],
   "source": [
    "pwskills4.details()"
   ]
  },
  {
   "cell_type": "code",
   "execution_count": 26,
   "id": "b8a4dc86-afb7-441d-ab1e-47d5acd6ad5a",
   "metadata": {},
   "outputs": [],
   "source": [
    "#this too has been deleted"
   ]
  },
  {
   "cell_type": "code",
   "execution_count": 28,
   "id": "229b8068-f7e7-4859-9be5-19ef1cbe5cdc",
   "metadata": {},
   "outputs": [],
   "source": [
    "delattr(pwskills4, 'students_details')"
   ]
  },
  {
   "cell_type": "code",
   "execution_count": null,
   "id": "eaa3dacb-17d7-475b-bb21-8d1b5acad4da",
   "metadata": {},
   "outputs": [],
   "source": [
    "delattr(pwskills4,mo"
   ]
  }
 ],
 "metadata": {
  "kernelspec": {
   "display_name": "Python 3 (ipykernel)",
   "language": "python",
   "name": "python3"
  },
  "language_info": {
   "codemirror_mode": {
    "name": "ipython",
    "version": 3
   },
   "file_extension": ".py",
   "mimetype": "text/x-python",
   "name": "python",
   "nbconvert_exporter": "python",
   "pygments_lexer": "ipython3",
   "version": "3.10.8"
  }
 },
 "nbformat": 4,
 "nbformat_minor": 5
}
