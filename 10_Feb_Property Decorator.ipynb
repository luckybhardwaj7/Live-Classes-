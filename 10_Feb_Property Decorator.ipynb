{
 "cells": [
  {
   "cell_type": "code",
   "execution_count": 3,
   "id": "81898bf0-e131-4a84-92cc-d70caa7d9f8d",
   "metadata": {},
   "outputs": [],
   "source": [
    "class pwskills:\n",
    "    def __init__(self,course_price,course_name):\n",
    "        self.__course_price=course_price\n",
    "        self.course_name=course_name"
   ]
  },
  {
   "cell_type": "code",
   "execution_count": 4,
   "id": "92e4aaa7-9f44-46db-98eb-3a5c28cdd662",
   "metadata": {},
   "outputs": [],
   "source": [
    "pw=pwskills(3500,'Data Science Masters')"
   ]
  },
  {
   "cell_type": "code",
   "execution_count": 7,
   "id": "1c09fa45-df3b-4a97-879b-f30eff7f26f9",
   "metadata": {},
   "outputs": [
    {
     "ename": "AttributeError",
     "evalue": "'pwskills' object has no attribute '__course_price'",
     "output_type": "error",
     "traceback": [
      "\u001b[0;31m---------------------------------------------------------------------------\u001b[0m",
      "\u001b[0;31mAttributeError\u001b[0m                            Traceback (most recent call last)",
      "Cell \u001b[0;32mIn[7], line 1\u001b[0m\n\u001b[0;32m----> 1\u001b[0m \u001b[43mpw\u001b[49m\u001b[38;5;241;43m.\u001b[39;49m\u001b[43m__course_price\u001b[49m\n\u001b[1;32m      2\u001b[0m \u001b[38;5;66;03m#error will pop up because we cant access this by this way\u001b[39;00m\n",
      "\u001b[0;31mAttributeError\u001b[0m: 'pwskills' object has no attribute '__course_price'"
     ]
    }
   ],
   "source": [
    "pw.__course_price\n",
    "#error will pop up because we cant access this by this way"
   ]
  },
  {
   "cell_type": "code",
   "execution_count": 10,
   "id": "3dfa3bf6-3db4-4a90-9575-461f46dcb945",
   "metadata": {},
   "outputs": [
    {
     "data": {
      "text/plain": [
       "3500"
      ]
     },
     "execution_count": 10,
     "metadata": {},
     "output_type": "execute_result"
    }
   ],
   "source": [
    "#this is how we can do it\n",
    "pw._pwskills__course_price\n",
    "#only coder can do it outsider can't"
   ]
  },
  {
   "cell_type": "code",
   "execution_count": 11,
   "id": "912ae652-7523-47d6-8927-c34f13851c28",
   "metadata": {},
   "outputs": [],
   "source": [
    "#giving the access to the usewr to see it, delete it, and modify it\n",
    "class pwskills:\n",
    "    def __init__(self,course_price,course_name):\n",
    "        self.__course_price=course_price\n",
    "        self.course_name=course_name\n",
    "    @property\n",
    "    def course_price_access(self): #this is to access it \n",
    "        return self.__course_price"
   ]
  },
  {
   "cell_type": "code",
   "execution_count": 13,
   "id": "cc36bb3c-4448-4d06-a6fe-5e52a2a11ae8",
   "metadata": {},
   "outputs": [],
   "source": [
    "pw=pwskills(3500,'Data Science Masters')"
   ]
  },
  {
   "cell_type": "code",
   "execution_count": 15,
   "id": "7cc8edb7-7747-409c-aefb-b17bc5abe576",
   "metadata": {},
   "outputs": [
    {
     "data": {
      "text/plain": [
       "3500"
      ]
     },
     "execution_count": 15,
     "metadata": {},
     "output_type": "execute_result"
    }
   ],
   "source": [
    "pw._pwskills__course_price\n",
    "#we are able to access this instead of this being a private variable because of the property"
   ]
  },
  {
   "cell_type": "code",
   "execution_count": 17,
   "id": "3bb5ce2e-92cd-40d9-b086-df72e48a85a6",
   "metadata": {},
   "outputs": [],
   "source": [
    "#to modify the course_price_access"
   ]
  },
  {
   "cell_type": "code",
   "execution_count": 20,
   "id": "8a5807c6-8efa-4a04-a084-b367b809e4b8",
   "metadata": {},
   "outputs": [],
   "source": [
    "class pwskills:\n",
    "    def __init__(self,course_price,course_name):\n",
    "        self.__course_price=course_price\n",
    "        self.course_name=course_name\n",
    "    @property\n",
    "    def course_price_access(self): #this is to access it \n",
    "        return self.__course_price\n",
    "    @course_price_access.setter #.setter is for giving the user an option to set\n",
    "    def course_price_set(self,price):\n",
    "        if price<=3500:\n",
    "            pass\n",
    "        else:\n",
    "            self.__course_price=price"
   ]
  },
  {
   "cell_type": "code",
   "execution_count": 21,
   "id": "ac31fe90-e52a-4bf3-9fe1-76ba5a8360bf",
   "metadata": {},
   "outputs": [],
   "source": [
    "pw=pwskills(3500,'Data Science Masters')"
   ]
  },
  {
   "cell_type": "code",
   "execution_count": 22,
   "id": "1249c1c6-1d56-4718-b69f-28e2fde17d5a",
   "metadata": {},
   "outputs": [
    {
     "data": {
      "text/plain": [
       "3500"
      ]
     },
     "execution_count": 22,
     "metadata": {},
     "output_type": "execute_result"
    }
   ],
   "source": [
    "pw.course_price_access"
   ]
  },
  {
   "cell_type": "code",
   "execution_count": 23,
   "id": "c2d97184-b7b9-400c-a39e-c23ff3020f3a",
   "metadata": {},
   "outputs": [],
   "source": [
    "pw.course_price_set=4500"
   ]
  },
  {
   "cell_type": "code",
   "execution_count": 25,
   "id": "62546a0b-f31e-488d-ac21-7a6a7ab612e5",
   "metadata": {},
   "outputs": [
    {
     "data": {
      "text/plain": [
       "4500"
      ]
     },
     "execution_count": 25,
     "metadata": {},
     "output_type": "execute_result"
    }
   ],
   "source": [
    "pw.course_price_access\n",
    "#new modified price pops-up"
   ]
  },
  {
   "cell_type": "code",
   "execution_count": 28,
   "id": "74402fb0-3f2c-4a63-96c2-804da39f89f9",
   "metadata": {},
   "outputs": [],
   "source": [
    "#giving the access to delete \n",
    "class pwskills:\n",
    "    def __init__(self,course_price,course_name):\n",
    "        self.__course_price=course_price\n",
    "        self.course_name=course_name\n",
    "    @property\n",
    "    def course_price_access(self): #this is to access it \n",
    "        return self.__course_price\n",
    "    @course_price_access.setter #.setter is for giving the user an option to set\n",
    "    def course_price_set(self,price):\n",
    "        if price<=3500:\n",
    "            pass\n",
    "        else:\n",
    "            self.__course_price=price\n",
    "    \n",
    "    @course_price_access.deleter\n",
    "    def delete_course_price(self):\n",
    "        del self.__course_price"
   ]
  },
  {
   "cell_type": "code",
   "execution_count": 29,
   "id": "a9aea641-299d-417c-939b-661f167f6355",
   "metadata": {},
   "outputs": [],
   "source": [
    "pw=pwskills(3500,'Data Science Masters')"
   ]
  },
  {
   "cell_type": "code",
   "execution_count": 31,
   "id": "5099c0f8-224a-4824-8c69-d395d8f48f31",
   "metadata": {},
   "outputs": [
    {
     "data": {
      "text/plain": [
       "3500"
      ]
     },
     "execution_count": 31,
     "metadata": {},
     "output_type": "execute_result"
    }
   ],
   "source": [
    "pw.course_price_access"
   ]
  },
  {
   "cell_type": "code",
   "execution_count": 32,
   "id": "d140af61-d2cb-4ecb-9104-79c843f93de6",
   "metadata": {},
   "outputs": [],
   "source": [
    "del pw.delete_course_price"
   ]
  },
  {
   "cell_type": "code",
   "execution_count": 35,
   "id": "ee7b44a0-47b3-49d3-b74b-5c24299f7572",
   "metadata": {},
   "outputs": [
    {
     "ename": "AttributeError",
     "evalue": "'pwskills' object has no attribute '_pwskills__course_price'",
     "output_type": "error",
     "traceback": [
      "\u001b[0;31m---------------------------------------------------------------------------\u001b[0m",
      "\u001b[0;31mAttributeError\u001b[0m                            Traceback (most recent call last)",
      "Cell \u001b[0;32mIn[35], line 2\u001b[0m\n\u001b[1;32m      1\u001b[0m \u001b[38;5;66;03m# will not be accessed because it has been deleted\u001b[39;00m\n\u001b[0;32m----> 2\u001b[0m \u001b[43mpw\u001b[49m\u001b[38;5;241;43m.\u001b[39;49m\u001b[43mcourse_price_access\u001b[49m\n",
      "Cell \u001b[0;32mIn[28], line 8\u001b[0m, in \u001b[0;36mpwskills.course_price_access\u001b[0;34m(self)\u001b[0m\n\u001b[1;32m      6\u001b[0m \u001b[38;5;129m@property\u001b[39m\n\u001b[1;32m      7\u001b[0m \u001b[38;5;28;01mdef\u001b[39;00m \u001b[38;5;21mcourse_price_access\u001b[39m(\u001b[38;5;28mself\u001b[39m): \u001b[38;5;66;03m#this is to access it \u001b[39;00m\n\u001b[0;32m----> 8\u001b[0m     \u001b[38;5;28;01mreturn\u001b[39;00m \u001b[38;5;28;43mself\u001b[39;49m\u001b[38;5;241;43m.\u001b[39;49m\u001b[43m__course_price\u001b[49m\n",
      "\u001b[0;31mAttributeError\u001b[0m: 'pwskills' object has no attribute '_pwskills__course_price'"
     ]
    }
   ],
   "source": [
    "# will not be accessed because it has been deleted\n",
    "pw.course_price_access"
   ]
  },
  {
   "cell_type": "code",
   "execution_count": null,
   "id": "c1a71de7-7577-4459-9a22-5e54bf0dc58f",
   "metadata": {},
   "outputs": [],
   "source": []
  }
 ],
 "metadata": {
  "kernelspec": {
   "display_name": "Python 3 (ipykernel)",
   "language": "python",
   "name": "python3"
  },
  "language_info": {
   "codemirror_mode": {
    "name": "ipython",
    "version": 3
   },
   "file_extension": ".py",
   "mimetype": "text/x-python",
   "name": "python",
   "nbconvert_exporter": "python",
   "pygments_lexer": "ipython3",
   "version": "3.10.8"
  }
 },
 "nbformat": 4,
 "nbformat_minor": 5
}
