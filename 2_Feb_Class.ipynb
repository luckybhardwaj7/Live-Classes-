{
 "cells": [
  {
   "cell_type": "code",
   "execution_count": 1,
   "id": "1ac940bd-1be2-4e9b-a6d2-e3e2b2de9829",
   "metadata": {},
   "outputs": [],
   "source": [
    "l=[1,2,3,4,5]"
   ]
  },
  {
   "cell_type": "code",
   "execution_count": 3,
   "id": "dd9150c3-f641-4f19-b9c6-febc0393f7df",
   "metadata": {},
   "outputs": [
    {
     "name": "stdout",
     "output_type": "stream",
     "text": [
      "1 <class 'int'>\n",
      "2 <class 'int'>\n",
      "3 <class 'int'>\n",
      "4 <class 'int'>\n",
      "5 <class 'int'>\n"
     ]
    }
   ],
   "source": [
    "for num in l:\n",
    "    print(num,type(num))"
   ]
  },
  {
   "cell_type": "code",
   "execution_count": 2,
   "id": "b696ae30-a8ae-4b89-b849-3d4febd8b37e",
   "metadata": {},
   "outputs": [],
   "source": [
    "l1=['Lucky','Bhardwaj','Yash','Birla']"
   ]
  },
  {
   "cell_type": "code",
   "execution_count": 8,
   "id": "3c8aa79f-ea78-4568-a6e2-d2656a99a647",
   "metadata": {},
   "outputs": [
    {
     "name": "stdout",
     "output_type": "stream",
     "text": [
      "Lucky\n",
      "Bhardwaj\n",
      "Yash\n",
      "Birla\n"
     ]
    }
   ],
   "source": [
    "for name in l1:\n",
    "    print(name)"
   ]
  },
  {
   "cell_type": "code",
   "execution_count": 11,
   "id": "e0e7de0a-6688-40ca-ae32-3187f290d133",
   "metadata": {},
   "outputs": [
    {
     "name": "stdout",
     "output_type": "stream",
     "text": [
      "Lucky\n",
      "Bhardwaj\n",
      "Yash\n",
      "Birla\n",
      "Do Something\n"
     ]
    }
   ],
   "source": [
    "for name in l1:\n",
    "    print(name)\n",
    "else:\n",
    "    print('Do Something')\n",
    "#for loop worked successfully then only Else will be executed "
   ]
  },
  {
   "cell_type": "code",
   "execution_count": 17,
   "id": "9e9d4a3a-a9a2-4c6d-9ad9-a5b41087132a",
   "metadata": {},
   "outputs": [
    {
     "name": "stdout",
     "output_type": "stream",
     "text": [
      "Lucky\n",
      "Bhardwaj\n"
     ]
    }
   ],
   "source": [
    "for name in l1:\n",
    "    if name=='Yash':\n",
    "        break;\n",
    "    print(name)\n",
    "#break is used to come out of the loop if the required condition is satisfied \n",
    "#break terminates the For Loop"
   ]
  },
  {
   "cell_type": "code",
   "execution_count": 19,
   "id": "ecff40f6-24a9-4169-82ef-6d662d6c3908",
   "metadata": {},
   "outputs": [
    {
     "name": "stdout",
     "output_type": "stream",
     "text": [
      "Lucky\n",
      "Bhardwaj\n"
     ]
    }
   ],
   "source": [
    "for name in l1:\n",
    "    if name=='Yash':\n",
    "        break;\n",
    "    print(name)\n",
    "else:\n",
    "    print('Else would not be executed as For Loop is forcefully terminated')"
   ]
  },
  {
   "cell_type": "code",
   "execution_count": 24,
   "id": "5dfa94ef-6764-4997-a215-076a480f5303",
   "metadata": {},
   "outputs": [
    {
     "name": "stdout",
     "output_type": "stream",
     "text": [
      "Lucky\n",
      "Bhardwaj\n",
      "Yash\n",
      "Yash\n",
      "Birla\n",
      "Else would not be executed as For Loop is forcefully terminated\n"
     ]
    }
   ],
   "source": [
    "for name in l1:\n",
    "    if name=='Yash':\n",
    "        print(name)\n",
    "    print(name)\n",
    "else:\n",
    "    print('Else would not be executed as For Loop is forcefully terminated')"
   ]
  },
  {
   "cell_type": "code",
   "execution_count": 19,
   "id": "9cef5a96-da97-4eb6-8625-5ce3c223713b",
   "metadata": {},
   "outputs": [
    {
     "data": {
      "text/plain": [
       "['Lucky', 'Bhardwaj', 'Yash', 'Birla']"
      ]
     },
     "execution_count": 19,
     "metadata": {},
     "output_type": "execute_result"
    }
   ],
   "source": [
    "l1"
   ]
  },
  {
   "cell_type": "code",
   "execution_count": 20,
   "id": "8f1497bc-c47b-40e9-9f28-4045aa1504bf",
   "metadata": {},
   "outputs": [
    {
     "name": "stdout",
     "output_type": "stream",
     "text": [
      "Lucky\n",
      "Yash\n",
      "Birla\n"
     ]
    }
   ],
   "source": [
    "for name in l1:\n",
    "    if name=='Bhardwaj':\n",
    "        continue\n",
    "    print(name)\n",
    "#continue excepts the mentioned output "
   ]
  },
  {
   "cell_type": "code",
   "execution_count": 10,
   "id": "adb32fe2-de90-4dcb-a1a6-37788f87f7df",
   "metadata": {},
   "outputs": [
    {
     "name": "stdout",
     "output_type": "stream",
     "text": [
      "Lucky\n",
      "Bhardwaj\n",
      "Birla\n",
      "Else would not be executed as For Loop is forcefully terminated\n"
     ]
    }
   ],
   "source": [
    "for name in l1:\n",
    "    if name=='Yash':\n",
    "        continue;\n",
    "    print(name)\n",
    "else:\n",
    "    print('Else would not be executed as For Loop is forcefully terminated')\n",
    "# here else will be working as the loop is not terminated so it will run completely then will go for else and that too will be executed"
   ]
  },
  {
   "cell_type": "raw",
   "id": "336a1376-d9d2-45dd-8921-6cc27e23da75",
   "metadata": {},
   "source": [
    "Using Range in Loops"
   ]
  },
  {
   "cell_type": "code",
   "execution_count": 13,
   "id": "c802d4a6-8100-43e8-9ce2-55117e7f0d93",
   "metadata": {},
   "outputs": [
    {
     "data": {
      "text/plain": [
       "range(0, 5)"
      ]
     },
     "execution_count": 13,
     "metadata": {},
     "output_type": "execute_result"
    }
   ],
   "source": [
    "range(5)"
   ]
  },
  {
   "cell_type": "code",
   "execution_count": 14,
   "id": "b274c8c5-ac89-40cf-8eb8-0b1b2f383469",
   "metadata": {},
   "outputs": [
    {
     "data": {
      "text/plain": [
       "[0, 1, 2, 3, 4]"
      ]
     },
     "execution_count": 14,
     "metadata": {},
     "output_type": "execute_result"
    }
   ],
   "source": [
    "list(range(5))"
   ]
  },
  {
   "cell_type": "code",
   "execution_count": 15,
   "id": "a342baac-d12f-4638-8225-abbe3a2aa59d",
   "metadata": {},
   "outputs": [
    {
     "data": {
      "text/plain": [
       "[0, 1, 2, 3, 4]"
      ]
     },
     "execution_count": 15,
     "metadata": {},
     "output_type": "execute_result"
    }
   ],
   "source": [
    "list(range(0,5))"
   ]
  },
  {
   "cell_type": "code",
   "execution_count": 16,
   "id": "e25a2047-6749-4c4d-87cc-70d32b66eb54",
   "metadata": {},
   "outputs": [
    {
     "data": {
      "text/plain": [
       "[0, 2, 4, 6, 8, 10, 12, 14, 16, 18]"
      ]
     },
     "execution_count": 16,
     "metadata": {},
     "output_type": "execute_result"
    }
   ],
   "source": [
    "list(range(0,20,2))"
   ]
  },
  {
   "cell_type": "code",
   "execution_count": 17,
   "id": "f7ebc347-88a1-42e2-a948-ba26bf34f1b7",
   "metadata": {},
   "outputs": [
    {
     "data": {
      "text/plain": [
       "[-10, -8, -6, -4, -2, 0, 2, 4, 6, 8, 10, 12, 14, 16, 18]"
      ]
     },
     "execution_count": 17,
     "metadata": {},
     "output_type": "execute_result"
    }
   ],
   "source": [
    "list(range(-10,20,2))"
   ]
  },
  {
   "cell_type": "markdown",
   "id": "faac11b1-1f8e-497a-9378-72dec6b7efeb",
   "metadata": {},
   "source": [
    "For loop in REVERSE"
   ]
  },
  {
   "cell_type": "code",
   "execution_count": 23,
   "id": "3b0b7ffa-6e62-4158-9a14-02b04eeb706b",
   "metadata": {},
   "outputs": [
    {
     "data": {
      "text/plain": [
       "[0, 1, 2, 3]"
      ]
     },
     "execution_count": 23,
     "metadata": {},
     "output_type": "execute_result"
    }
   ],
   "source": [
    "list(range(len(l1)))"
   ]
  },
  {
   "cell_type": "code",
   "execution_count": 25,
   "id": "d3bd6bba-67ef-429e-97c1-599e43da14b4",
   "metadata": {},
   "outputs": [
    {
     "name": "stdout",
     "output_type": "stream",
     "text": [
      "Lucky\n",
      "Bhardwaj\n",
      "Yash\n",
      "Birla\n"
     ]
    }
   ],
   "source": [
    "for name in range(len(l1)):\n",
    "    print(l1[name])\n",
    "#will output the data "
   ]
  },
  {
   "cell_type": "code",
   "execution_count": 34,
   "id": "a53ea916-c749-4d08-8aaf-efc73dbe34f4",
   "metadata": {},
   "outputs": [
    {
     "data": {
      "text/plain": [
       "[3, 2, 1, 0]"
      ]
     },
     "execution_count": 34,
     "metadata": {},
     "output_type": "execute_result"
    }
   ],
   "source": [
    "list(range(len(l1)-1,-1,-1))"
   ]
  },
  {
   "cell_type": "code",
   "execution_count": 37,
   "id": "72f9bbbe-ae9e-4814-a331-bc15757af2c1",
   "metadata": {},
   "outputs": [
    {
     "data": {
      "text/plain": [
       "['Lucky', 'Bhardwaj', 'Yash', 'Birla']"
      ]
     },
     "execution_count": 37,
     "metadata": {},
     "output_type": "execute_result"
    }
   ],
   "source": [
    "l1"
   ]
  },
  {
   "cell_type": "code",
   "execution_count": 36,
   "id": "0c8b0b79-64c0-4460-b426-285d3f0a96b4",
   "metadata": {},
   "outputs": [
    {
     "name": "stdout",
     "output_type": "stream",
     "text": [
      "Birla\n",
      "Yash\n",
      "Bhardwaj\n",
      "Lucky\n"
     ]
    }
   ],
   "source": [
    "for name in range(len(l1)-1,-1,-1):\n",
    "    print(l1[name])"
   ]
  },
  {
   "cell_type": "code",
   "execution_count": 38,
   "id": "81fe5597-d0f0-439a-a25c-b5583d619a0e",
   "metadata": {},
   "outputs": [],
   "source": [
    "l2=[12,344,24,356,797,24,6,8,2,346,235,45775,355]"
   ]
  },
  {
   "cell_type": "code",
   "execution_count": 54,
   "id": "133241f3-672a-4558-9a64-ea5ea19ec48b",
   "metadata": {},
   "outputs": [
    {
     "data": {
      "text/plain": [
       "[0, 2, 4, 6, 8, 10, 12]"
      ]
     },
     "execution_count": 54,
     "metadata": {},
     "output_type": "execute_result"
    }
   ],
   "source": [
    "list(range(0,len(l2)+1,2))"
   ]
  },
  {
   "cell_type": "code",
   "execution_count": 57,
   "id": "dfdf291e-79d8-4422-be54-5fd495cbdb23",
   "metadata": {},
   "outputs": [
    {
     "name": "stdout",
     "output_type": "stream",
     "text": [
      "12\n",
      "24\n",
      "797\n",
      "6\n",
      "2\n",
      "235\n",
      "355\n"
     ]
    }
   ],
   "source": [
    "for num in range(0,len(l2)+1,2):\n",
    "    print(l2[num])"
   ]
  },
  {
   "cell_type": "markdown",
   "id": "509ced23-6b9e-45ca-a0f4-07cf09c0855c",
   "metadata": {},
   "source": [
    "Submission of all the elements present in the list"
   ]
  },
  {
   "cell_type": "code",
   "execution_count": 58,
   "id": "77ed07d7-943b-4dc9-9bdb-eaeb30e81b56",
   "metadata": {},
   "outputs": [
    {
     "data": {
      "text/plain": [
       "[12, 344, 24, 356, 797, 24, 6, 8, 2, 346, 235, 45775, 355]"
      ]
     },
     "execution_count": 58,
     "metadata": {},
     "output_type": "execute_result"
    }
   ],
   "source": [
    "l2"
   ]
  },
  {
   "cell_type": "code",
   "execution_count": 60,
   "id": "2463112e-fb79-4046-9d9f-958593d78fcc",
   "metadata": {},
   "outputs": [
    {
     "data": {
      "text/plain": [
       "48284"
      ]
     },
     "execution_count": 60,
     "metadata": {},
     "output_type": "execute_result"
    }
   ],
   "source": [
    "sum(l2)"
   ]
  },
  {
   "cell_type": "code",
   "execution_count": 64,
   "id": "c1a76f0c-b4f1-4a15-b19f-2b948101bf89",
   "metadata": {},
   "outputs": [
    {
     "data": {
      "text/plain": [
       "48284"
      ]
     },
     "execution_count": 64,
     "metadata": {},
     "output_type": "execute_result"
    }
   ],
   "source": [
    "sum=0\n",
    "for i in l2:\n",
    "    sum=sum+i\n",
    "sum\n"
   ]
  },
  {
   "cell_type": "code",
   "execution_count": 67,
   "id": "77ebfeaa-f652-4683-aa4a-480b8d88a171",
   "metadata": {},
   "outputs": [],
   "source": [
    "t1=(1,2,3,4,5,6,7,8,9)"
   ]
  },
  {
   "cell_type": "code",
   "execution_count": 68,
   "id": "bb19b164-7eb7-4f16-af56-939c126f8053",
   "metadata": {},
   "outputs": [
    {
     "data": {
      "text/plain": [
       "45"
      ]
     },
     "execution_count": 68,
     "metadata": {},
     "output_type": "execute_result"
    }
   ],
   "source": [
    "sum=0\n",
    "for num in t1:\n",
    "    sum=sum+num\n",
    "sum\n",
    "    \n",
    "    "
   ]
  },
  {
   "cell_type": "code",
   "execution_count": 72,
   "id": "63355f65-2b6a-44f1-ab4d-a0ca9cbc0431",
   "metadata": {},
   "outputs": [],
   "source": [
    "s1={1353,54,56,44,677,35}"
   ]
  },
  {
   "cell_type": "code",
   "execution_count": 73,
   "id": "f4222120-96e0-4690-9b1c-c53578a298ef",
   "metadata": {},
   "outputs": [
    {
     "data": {
      "text/plain": [
       "2219"
      ]
     },
     "execution_count": 73,
     "metadata": {},
     "output_type": "execute_result"
    }
   ],
   "source": [
    "sum=0\n",
    "for num in s1:\n",
    "    sum=sum+num\n",
    "sum"
   ]
  },
  {
   "cell_type": "code",
   "execution_count": 74,
   "id": "2bfc6b6f-d8a8-4b5c-a180-b1ef44b74975",
   "metadata": {},
   "outputs": [],
   "source": [
    "s1='Lucky Bhardwaj'"
   ]
  },
  {
   "cell_type": "code",
   "execution_count": 75,
   "id": "c72c78aa-5d45-414e-9b74-c9c6c927bc5f",
   "metadata": {},
   "outputs": [
    {
     "name": "stdout",
     "output_type": "stream",
     "text": [
      "L\n",
      "u\n",
      "c\n",
      "k\n",
      "y\n",
      " \n",
      "B\n",
      "h\n",
      "a\n",
      "r\n",
      "d\n",
      "w\n",
      "a\n",
      "j\n"
     ]
    }
   ],
   "source": [
    "for i in s1:\n",
    "    print(i)"
   ]
  },
  {
   "cell_type": "markdown",
   "id": "60f2069c-b4f6-4240-a169-a261fe5054d1",
   "metadata": {},
   "source": [
    "For Loop works fine with Tuple, set and string as well as well"
   ]
  },
  {
   "cell_type": "code",
   "execution_count": 76,
   "id": "a62b93c2-5f09-4c46-9f7b-3a087dcb7d67",
   "metadata": {},
   "outputs": [],
   "source": [
    "d1={'x':'Lucky', 'y':'Bhardwaj'}"
   ]
  },
  {
   "cell_type": "code",
   "execution_count": 77,
   "id": "242e5f70-a305-4526-9a38-31cc1f9e40f1",
   "metadata": {},
   "outputs": [
    {
     "name": "stdout",
     "output_type": "stream",
     "text": [
      "x\n",
      "y\n"
     ]
    }
   ],
   "source": [
    "for name in d1:\n",
    "    print(name)"
   ]
  },
  {
   "cell_type": "code",
   "execution_count": 84,
   "id": "596e4f73-6ac0-42e6-b8e7-8d14e82ab999",
   "metadata": {},
   "outputs": [
    {
     "data": {
      "text/plain": [
       "dict_keys(['x', 'y'])"
      ]
     },
     "execution_count": 84,
     "metadata": {},
     "output_type": "execute_result"
    }
   ],
   "source": [
    "d1.keys()"
   ]
  },
  {
   "cell_type": "code",
   "execution_count": 85,
   "id": "5bd5e07c-d8a6-4221-838e-6460308e53f7",
   "metadata": {},
   "outputs": [
    {
     "data": {
      "text/plain": [
       "'Lucky'"
      ]
     },
     "execution_count": 85,
     "metadata": {},
     "output_type": "execute_result"
    }
   ],
   "source": [
    "d1['x']"
   ]
  },
  {
   "cell_type": "code",
   "execution_count": 80,
   "id": "0fecae63-5414-4f77-abd3-3bbfcd69afb8",
   "metadata": {},
   "outputs": [
    {
     "name": "stdout",
     "output_type": "stream",
     "text": [
      "Lucky\n",
      "Bhardwaj\n"
     ]
    }
   ],
   "source": [
    "for name in d1.keys():\n",
    "    print(d1[name])"
   ]
  },
  {
   "cell_type": "code",
   "execution_count": 87,
   "id": "11ebbcd2-53c2-47e0-9164-b73b4bcdaaca",
   "metadata": {},
   "outputs": [
    {
     "data": {
      "text/plain": [
       "dict_values(['Lucky', 'Bhardwaj'])"
      ]
     },
     "execution_count": 87,
     "metadata": {},
     "output_type": "execute_result"
    }
   ],
   "source": [
    "d1.values()"
   ]
  },
  {
   "cell_type": "code",
   "execution_count": 91,
   "id": "c974ea7d-c0c2-43ee-a598-4a573ac93854",
   "metadata": {},
   "outputs": [
    {
     "name": "stdout",
     "output_type": "stream",
     "text": [
      "Lucky\n",
      "Bhardwaj\n"
     ]
    }
   ],
   "source": [
    "for name in d1.values():\n",
    "    print(name)"
   ]
  },
  {
   "cell_type": "code",
   "execution_count": 93,
   "id": "7fa93b56-8df5-4328-acab-8788d711fd6e",
   "metadata": {},
   "outputs": [
    {
     "name": "stdout",
     "output_type": "stream",
     "text": [
      "('x', 'Lucky')\n",
      "('y', 'Bhardwaj')\n"
     ]
    }
   ],
   "source": [
    "for name in d1.items():\n",
    "    print(name)"
   ]
  },
  {
   "cell_type": "code",
   "execution_count": null,
   "id": "765fc23a-6368-42de-b690-0a27fd96b9f3",
   "metadata": {},
   "outputs": [],
   "source": []
  }
 ],
 "metadata": {
  "kernelspec": {
   "display_name": "Python 3 (ipykernel)",
   "language": "python",
   "name": "python3"
  },
  "language_info": {
   "codemirror_mode": {
    "name": "ipython",
    "version": 3
   },
   "file_extension": ".py",
   "mimetype": "text/x-python",
   "name": "python",
   "nbconvert_exporter": "python",
   "pygments_lexer": "ipython3",
   "version": "3.10.8"
  }
 },
 "nbformat": 4,
 "nbformat_minor": 5
}
