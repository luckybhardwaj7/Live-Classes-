{
 "cells": [
  {
   "cell_type": "markdown",
   "id": "fd3e9603-f324-4190-acfd-e499e97a74fa",
   "metadata": {},
   "source": [
    "Best practice of Exception Handling"
   ]
  },
  {
   "cell_type": "markdown",
   "id": "2489c386-d7f6-4e43-af8e-c9fa79979a61",
   "metadata": {},
   "source": [
    "1. Always use a specific exception"
   ]
  },
  {
   "cell_type": "code",
   "execution_count": 2,
   "id": "fefbe345-d506-4357-91f2-066992ffce33",
   "metadata": {},
   "outputs": [
    {
     "name": "stdout",
     "output_type": "stream",
     "text": [
      "division by zero\n"
     ]
    }
   ],
   "source": [
    "#Always use a specific exception \n",
    "try:\n",
    "    10/0\n",
    "except Exception as e:\n",
    "    print(e)\n",
    "# This is not a wrong code still its not the good practice "
   ]
  },
  {
   "cell_type": "code",
   "execution_count": 4,
   "id": "7d437198-b394-46b0-94e6-a474139fec28",
   "metadata": {},
   "outputs": [
    {
     "name": "stdout",
     "output_type": "stream",
     "text": [
      "division by zero\n"
     ]
    }
   ],
   "source": [
    "try:\n",
    "    10/0\n",
    "except ZeroDivisionError as e:\n",
    "    print(e)"
   ]
  },
  {
   "cell_type": "markdown",
   "id": "d18aaa6f-41d8-42cc-8fba-cfed10be301d",
   "metadata": {},
   "source": [
    "2. Print always a Proper Message"
   ]
  },
  {
   "cell_type": "code",
   "execution_count": 6,
   "id": "594dbc9b-4ef2-41f3-8ee5-b17e4adc4383",
   "metadata": {},
   "outputs": [
    {
     "name": "stdout",
     "output_type": "stream",
     "text": [
      "I am trying to handle Zero Division Error division by zero\n"
     ]
    }
   ],
   "source": [
    "# Print always a Proper Message\n",
    "try:\n",
    "    10/0\n",
    "except ZeroDivisionError as e:\n",
    "    print('I am trying to handle Zero Division Error',e)"
   ]
  },
  {
   "cell_type": "markdown",
   "id": "78baca1f-e4ab-4b60-9977-f1ba937dd8c1",
   "metadata": {},
   "source": [
    "3. Always try to log your error"
   ]
  },
  {
   "cell_type": "code",
   "execution_count": 9,
   "id": "90484d4f-6a19-4448-8b1f-28de07218f43",
   "metadata": {},
   "outputs": [],
   "source": [
    "import logging\n",
    "logging.basicConfig(filename='error.log', level=logging.ERROR)\n",
    "try:\n",
    "    10/0\n",
    "except ZeroDivisionError as e:\n",
    "    logging.error('I am trying to handle Zero Division Error{}' .format(e))"
   ]
  },
  {
   "cell_type": "markdown",
   "id": "95deaf10-dba3-4991-b4ba-3d6280885e3e",
   "metadata": {},
   "source": [
    "4. Always avoid using multiple Exception Hnadling"
   ]
  },
  {
   "cell_type": "code",
   "execution_count": 12,
   "id": "f23b3dbe-7341-4c9e-bc09-b130169daf79",
   "metadata": {},
   "outputs": [],
   "source": [
    "try:\n",
    "    10/0\n",
    "except FileNotFoundError as e:\n",
    "    logging.error('I am trying to handle File Not Found Error{}' .format(e))\n",
    "except ZeroDivisionError as e:\n",
    "    logging.error('I am trying to handle Zero Division Error{}' .format(e))\n",
    "# this is not a good practice \n",
    "# this will increase the coding complexity"
   ]
  },
  {
   "cell_type": "markdown",
   "id": "326e3d08-4e87-4d2b-a856-6c90f1890458",
   "metadata": {},
   "source": [
    "5. Document all the error"
   ]
  },
  {
   "cell_type": "code",
   "execution_count": 13,
   "id": "2e670969-8247-4fe3-b2d7-346fabd70984",
   "metadata": {},
   "outputs": [],
   "source": [
    "# always write down why you write down that specific error"
   ]
  },
  {
   "cell_type": "markdown",
   "id": "e6652bea-a172-4588-9d9d-6e54a089ed89",
   "metadata": {},
   "source": [
    "6. Clean up all the resources"
   ]
  },
  {
   "cell_type": "code",
   "execution_count": 14,
   "id": "1e065f53-8901-4a8c-a5e1-115aae08b0f6",
   "metadata": {},
   "outputs": [],
   "source": [
    "try:\n",
    "    with open ('test.txt','w') as f:\n",
    "        f.write('this is my data to file')\n",
    "except FileNotFoundError as e:\n",
    "    logging.error('I am trying to handle File Not Found Error{}' .format(e))\n",
    "finally:\n",
    "    f.close()"
   ]
  },
  {
   "cell_type": "code",
   "execution_count": null,
   "id": "dfa804dc-87d6-4a11-bf3d-fce722f8ed45",
   "metadata": {},
   "outputs": [],
   "source": []
  }
 ],
 "metadata": {
  "kernelspec": {
   "display_name": "Python 3 (ipykernel)",
   "language": "python",
   "name": "python3"
  },
  "language_info": {
   "codemirror_mode": {
    "name": "ipython",
    "version": 3
   },
   "file_extension": ".py",
   "mimetype": "text/x-python",
   "name": "python",
   "nbconvert_exporter": "python",
   "pygments_lexer": "ipython3",
   "version": "3.10.8"
  }
 },
 "nbformat": 4,
 "nbformat_minor": 5
}
