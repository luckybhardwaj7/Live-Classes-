{
 "cells": [
  {
   "cell_type": "code",
   "execution_count": 2,
   "id": "a3afff07-b430-4f24-9fd2-57c3d188e869",
   "metadata": {},
   "outputs": [],
   "source": [
    "class pwskills:\n",
    "    def student_details(self,name,email_id,number):\n",
    "        print(name,email_id,number)\n",
    "        "
   ]
  },
  {
   "cell_type": "code",
   "execution_count": 3,
   "id": "d59e6e69-fa63-4e7b-90f1-c87226d1a1f8",
   "metadata": {},
   "outputs": [],
   "source": [
    "pw=pwskills() #calling it via object"
   ]
  },
  {
   "cell_type": "code",
   "execution_count": 3,
   "id": "fdd6bd62-5435-4e88-b58a-6372379a4fb9",
   "metadata": {},
   "outputs": [
    {
     "name": "stdout",
     "output_type": "stream",
     "text": [
      "Lucky lucky@gmail.com 9876543210\n"
     ]
    }
   ],
   "source": [
    "pw.student_details('Lucky','lucky@gmail.com',9876543210)"
   ]
  },
  {
   "cell_type": "code",
   "execution_count": 4,
   "id": "61d6daaa-f1f5-4e82-9c6e-fc1f06cddcb8",
   "metadata": {},
   "outputs": [],
   "source": [
    "class pwskills1:\n",
    "    def student_details(self,name,email_id,number):\n",
    "        print(name,email_id,number)\n",
    "    \n",
    "    @staticmethod\n",
    "    def mentor_class(list_mentor):\n",
    "        print(list_mentor)"
   ]
  },
  {
   "cell_type": "code",
   "execution_count": 5,
   "id": "bea24265-dabf-49ec-95c5-bbd9d4651574",
   "metadata": {},
   "outputs": [
    {
     "name": "stdout",
     "output_type": "stream",
     "text": [
      "['Krish Naik', 'Sudhanshu Kumar']\n"
     ]
    }
   ],
   "source": [
    "pwskills1.mentor_class(['Krish Naik','Sudhanshu Kumar'])"
   ]
  },
  {
   "cell_type": "markdown",
   "id": "dce02800-c809-4621-9617-6030eb476589",
   "metadata": {},
   "source": [
    "Static method is used to create the utility functions like database connection, database storage,etc.\n",
    "\n",
    "Utility Functions are those that are used again and again\n",
    "If you want to create a Utility Function that should not create the different different functions again anad again wrt to different different objects.\n"
   ]
  },
  {
   "cell_type": "code",
   "execution_count": 10,
   "id": "7454a60c-a5ae-4f93-b0e1-c38c3fe05d21",
   "metadata": {},
   "outputs": [],
   "source": [
    "stu1=pwskills1() #creating the function again and again for each single student"
   ]
  },
  {
   "cell_type": "code",
   "execution_count": 11,
   "id": "3db974f5-56b1-48a1-9c63-f0198c1f7326",
   "metadata": {},
   "outputs": [],
   "source": [
    "stu2=pwskills1()"
   ]
  },
  {
   "cell_type": "code",
   "execution_count": 12,
   "id": "f5a72c00-401d-4270-b7dc-927279edd40b",
   "metadata": {},
   "outputs": [],
   "source": [
    "stu3=pwskills1()"
   ]
  },
  {
   "cell_type": "code",
   "execution_count": 13,
   "id": "2f58c2b9-4b6a-4455-8a75-6d97b96967a7",
   "metadata": {},
   "outputs": [],
   "source": [
    "#This would be hard to make it manually to create for thousands of the students"
   ]
  },
  {
   "cell_type": "code",
   "execution_count": 33,
   "id": "ead97ffa-66dc-43d5-ac16-68b2cf8e9a7f",
   "metadata": {},
   "outputs": [],
   "source": [
    "class pwskills2:\n",
    "    def student_details(self,name,email_id,number):\n",
    "        print(name,email_id,number)\n",
    "    \n",
    "    @staticmethod\n",
    "    def mentor_class(list_mentor):\n",
    "        print(list_mentor)\n",
    "        \n",
    "    def mentor(self,mentor_list):\n",
    "        print(mentor_list) #this function is accessable through object"
   ]
  },
  {
   "cell_type": "code",
   "execution_count": 34,
   "id": "119139e8-dc40-4937-b98e-79e389c0229f",
   "metadata": {},
   "outputs": [
    {
     "name": "stdout",
     "output_type": "stream",
     "text": [
      "['Sudh', 'Krish']\n"
     ]
    }
   ],
   "source": [
    "pwskills2.mentor_class(['Sudh','Krish'])"
   ]
  },
  {
   "cell_type": "code",
   "execution_count": 35,
   "id": "536199c9-78a3-4115-b40e-eaa8edb451bd",
   "metadata": {},
   "outputs": [],
   "source": [
    "stu1=pwskills1()"
   ]
  },
  {
   "cell_type": "code",
   "execution_count": 36,
   "id": "66b94d5d-b125-4db6-a1e0-b1aaf3cc5202",
   "metadata": {},
   "outputs": [],
   "source": [
    "stu2=pwskills1()"
   ]
  },
  {
   "cell_type": "code",
   "execution_count": 37,
   "id": "ad0380ef-dc48-4c24-b282-50822c483e46",
   "metadata": {},
   "outputs": [
    {
     "name": "stdout",
     "output_type": "stream",
     "text": [
      "['Sudh', 'Krish']\n"
     ]
    }
   ],
   "source": [
    "stu1.mentor(['Sudh','Krish'])\n",
    "#this is only for stu1 not for the stu2"
   ]
  },
  {
   "cell_type": "code",
   "execution_count": 46,
   "id": "3ec904f7-1ce3-4bf5-91a4-f65f7f0f2ff2",
   "metadata": {},
   "outputs": [],
   "source": [
    "class pwskills2:\n",
    "    def student_details(self,name,email_id,number):\n",
    "        print(name,email_id,number)\n",
    "    \n",
    "    @staticmethod\n",
    "    def mentor_class(list_mentor):\n",
    "        print(list_mentor)\n",
    "        \n",
    "    @classmethod\n",
    "    def class_name(cls):\n",
    "        cls.mentor_class(['Lucky','Yash'])\n",
    "    \n",
    "    def mentor(self,mentor_list):\n",
    "        print(mentor_list) #this function is accessable through object"
   ]
  },
  {
   "cell_type": "code",
   "execution_count": 47,
   "id": "b692e79b-8d06-49f3-9997-8ce445f4d33c",
   "metadata": {},
   "outputs": [
    {
     "name": "stdout",
     "output_type": "stream",
     "text": [
      "['Lucky', 'Yash']\n"
     ]
    }
   ],
   "source": [
    "pwskills2.class_name()"
   ]
  },
  {
   "cell_type": "code",
   "execution_count": 65,
   "id": "71047ce3-6256-4146-b52a-10d27f405707",
   "metadata": {},
   "outputs": [],
   "source": [
    "class pwskills2:\n",
    "    def student_details(self,name,email_id,number):\n",
    "        print(name,email_id,number)\n",
    "    \n",
    "    @staticmethod\n",
    "    def mentor_mail_id(mail_id_mentor): #creating another static method\n",
    "        print(mail_id_mentor)\n",
    "    \n",
    "    @staticmethod\n",
    "    def mentor_class(list_mentor):\n",
    "        pwskills2.mentor_mail_id(['sudh@gmail.com','krish@gmail.com']) #calling another static method inside one\n",
    "        print(list_mentor)\n",
    "        \n",
    "    @classmethod\n",
    "    def class_name(cls):\n",
    "         cls.mentor_class(['sudh','krish'])\n",
    "    \n",
    "    def mentor(self,mentor_list):\n",
    "        print(mentor_list) #this function is accessable through object\n",
    "        self.mentor_class(['Krish','Sudh'])"
   ]
  },
  {
   "cell_type": "code",
   "execution_count": 66,
   "id": "b4677b75-387f-4bcd-a347-dde080804ebd",
   "metadata": {},
   "outputs": [
    {
     "name": "stdout",
     "output_type": "stream",
     "text": [
      "['sudh@gmail.com', 'krish@gmail.com']\n",
      "['krish', 'sudh']\n"
     ]
    }
   ],
   "source": [
    "pwskills2.mentor_class(['krish','sudh'])"
   ]
  },
  {
   "cell_type": "code",
   "execution_count": 67,
   "id": "30510325-ca42-47c2-bf48-b7b1639c32ee",
   "metadata": {},
   "outputs": [
    {
     "name": "stdout",
     "output_type": "stream",
     "text": [
      "['sudh@gmail.com', 'krish@gmail.com']\n",
      "['sudh', 'krish']\n"
     ]
    }
   ],
   "source": [
    "pwskills2.class_name()"
   ]
  },
  {
   "cell_type": "code",
   "execution_count": null,
   "id": "5891a636-45e0-40a1-aa87-0df2c71af423",
   "metadata": {},
   "outputs": [],
   "source": []
  }
 ],
 "metadata": {
  "kernelspec": {
   "display_name": "Python 3 (ipykernel)",
   "language": "python",
   "name": "python3"
  },
  "language_info": {
   "codemirror_mode": {
    "name": "ipython",
    "version": 3
   },
   "file_extension": ".py",
   "mimetype": "text/x-python",
   "name": "python",
   "nbconvert_exporter": "python",
   "pygments_lexer": "ipython3",
   "version": "3.10.8"
  }
 },
 "nbformat": 4,
 "nbformat_minor": 5
}
