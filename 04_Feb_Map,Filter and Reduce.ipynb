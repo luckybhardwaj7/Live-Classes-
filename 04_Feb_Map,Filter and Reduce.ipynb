{
 "cells": [
  {
   "cell_type": "markdown",
   "id": "bf5a8412-201b-4098-b6f0-1c9849b39631",
   "metadata": {},
   "source": [
    "Mapper Function-"
   ]
  },
  {
   "cell_type": "markdown",
   "id": "69bd8873-88db-4ed0-8a93-2bf7c008a143",
   "metadata": {},
   "source": [
    "Mapper Function is used to map the data present."
   ]
  },
  {
   "cell_type": "code",
   "execution_count": 3,
   "id": "0e1ae88c-d556-47ac-9e44-33d8a516701e",
   "metadata": {},
   "outputs": [],
   "source": [
    "l=[2,3,4,5,6]\n"
   ]
  },
  {
   "cell_type": "code",
   "execution_count": 30,
   "id": "19a2105e-12c2-4fa5-be07-d83be92f5632",
   "metadata": {},
   "outputs": [],
   "source": [
    "def test(a):\n",
    "    l1=[]\n",
    "    for i in a:\n",
    "        l1.append(i**2)\n",
    "    return l1"
   ]
  },
  {
   "cell_type": "code",
   "execution_count": 31,
   "id": "7213873f-cd0f-4ca9-bb11-e30b98e665e1",
   "metadata": {},
   "outputs": [
    {
     "data": {
      "text/plain": [
       "[4, 9, 16, 25, 36]"
      ]
     },
     "execution_count": 31,
     "metadata": {},
     "output_type": "execute_result"
    }
   ],
   "source": [
    "test(l)"
   ]
  },
  {
   "cell_type": "code",
   "execution_count": 32,
   "id": "238c37d3-83c4-4a19-9460-4e2acae84505",
   "metadata": {},
   "outputs": [],
   "source": [
    "#executing the above code using the simpler way "
   ]
  },
  {
   "cell_type": "code",
   "execution_count": 33,
   "id": "177f3ae0-0612-42f4-9971-661c9dbcd2c6",
   "metadata": {},
   "outputs": [],
   "source": [
    "def sq(x):\n",
    "    return x**2 "
   ]
  },
  {
   "cell_type": "code",
   "execution_count": 34,
   "id": "321b1e24-fcf4-49c4-a629-8de7eec0e775",
   "metadata": {},
   "outputs": [
    {
     "data": {
      "text/plain": [
       "<map at 0x7f7414e2b700>"
      ]
     },
     "execution_count": 34,
     "metadata": {},
     "output_type": "execute_result"
    }
   ],
   "source": [
    "map(sq,l)"
   ]
  },
  {
   "cell_type": "code",
   "execution_count": 35,
   "id": "3a3bfb53-0e0b-49b7-8ee7-41d7c7ac4a29",
   "metadata": {},
   "outputs": [
    {
     "data": {
      "text/plain": [
       "[4, 9, 16, 25, 36]"
      ]
     },
     "execution_count": 35,
     "metadata": {},
     "output_type": "execute_result"
    }
   ],
   "source": [
    "list(map(sq,l))\n",
    "#here the iterable l has been mapped with the function sq and it generates the output"
   ]
  },
  {
   "cell_type": "code",
   "execution_count": 36,
   "id": "e1253c9d-8c89-4e3a-a306-eb7363eb3f7f",
   "metadata": {},
   "outputs": [
    {
     "data": {
      "text/plain": [
       "[4, 9, 16, 25, 36]"
      ]
     },
     "execution_count": 36,
     "metadata": {},
     "output_type": "execute_result"
    }
   ],
   "source": [
    "#the above one was with the help of the external function\n",
    "# now using the internal or the Lambda function \n",
    "list(map(lambda x:x**2,l))"
   ]
  },
  {
   "cell_type": "code",
   "execution_count": 37,
   "id": "04a423f7-c5b5-4294-b913-baf47e04a4bc",
   "metadata": {},
   "outputs": [
    {
     "data": {
      "text/plain": [
       "[7, 9, 11, 13, 15]"
      ]
     },
     "execution_count": 37,
     "metadata": {},
     "output_type": "execute_result"
    }
   ],
   "source": [
    "#adding the 2 numbers from each of the list like adding 1 with 6 and 2 with 7\n",
    "l1=[1,2,3,4,5]\n",
    "l2=[6,7,8,9,10]\n",
    "list(map(lambda x,y:x+y,l1,l2))"
   ]
  },
  {
   "cell_type": "code",
   "execution_count": 38,
   "id": "d2a78dee-18fc-4d31-a8a9-fa9d0022103c",
   "metadata": {},
   "outputs": [
    {
     "data": {
      "text/plain": [
       "[7, 9, 11, 13]"
      ]
     },
     "execution_count": 38,
     "metadata": {},
     "output_type": "execute_result"
    }
   ],
   "source": [
    "#will take only 4 elements from the function as l2 has only 4 elements \n",
    "l1=[1,2,3,4,5]\n",
    "l2=[6,7,8,9]\n",
    "list(map(lambda x,y:x+y,l1,l2))"
   ]
  },
  {
   "cell_type": "code",
   "execution_count": 39,
   "id": "7a26adbb-6649-43c3-8588-b313892e5144",
   "metadata": {},
   "outputs": [],
   "source": [
    "#using the external function\n",
    "def add(x,y):\n",
    "    return x+y"
   ]
  },
  {
   "cell_type": "code",
   "execution_count": 40,
   "id": "150d96b7-f1a7-45bb-8e2a-e0b2a1ce0b6a",
   "metadata": {},
   "outputs": [
    {
     "data": {
      "text/plain": [
       "[7, 9, 11, 13]"
      ]
     },
     "execution_count": 40,
     "metadata": {},
     "output_type": "execute_result"
    }
   ],
   "source": [
    "list(map(add,l1,l2))"
   ]
  },
  {
   "cell_type": "code",
   "execution_count": 42,
   "id": "3eecdfac-4595-4369-8f88-45ca2179e77c",
   "metadata": {},
   "outputs": [
    {
     "data": {
      "text/plain": [
       "['L', 'U', 'C', 'K', 'Y', ' ', 'B', 'H', 'A', 'R', 'D', 'W', 'A', 'J']"
      ]
     },
     "execution_count": 42,
     "metadata": {},
     "output_type": "execute_result"
    }
   ],
   "source": [
    "# converting the string into the upper-case and then storing it into the List \n",
    "s='Lucky Bhardwaj'\n",
    "list(map(lambda s:s.upper(),s))"
   ]
  },
  {
   "cell_type": "code",
   "execution_count": null,
   "id": "e519ded8-ad0f-4f93-afff-b9bc05fbd913",
   "metadata": {},
   "outputs": [],
   "source": []
  },
  {
   "cell_type": "code",
   "execution_count": null,
   "id": "fac981b4-bc4d-4307-93d8-e332a01d3bcb",
   "metadata": {},
   "outputs": [],
   "source": []
  },
  {
   "cell_type": "markdown",
   "id": "38ba911c-04cf-4fa7-93f8-83bc87d781e3",
   "metadata": {},
   "source": [
    "Reduce Function"
   ]
  },
  {
   "cell_type": "markdown",
   "id": "7963cb4d-e9bf-4c38-99ae-07c96e6fff41",
   "metadata": {},
   "source": [
    "Reduce Function is not avilable by default. So, we have to call it from the Functools Library"
   ]
  },
  {
   "cell_type": "code",
   "execution_count": 5,
   "id": "52f0c3c0-dd46-4df0-bf9d-6a9331a4e158",
   "metadata": {},
   "outputs": [],
   "source": [
    "from functools import reduce"
   ]
  },
  {
   "cell_type": "code",
   "execution_count": 6,
   "id": "0ff0bc0e-1132-4de7-bb75-7d7b71a685ad",
   "metadata": {},
   "outputs": [],
   "source": [
    "l=[1,2,3,4,5,6,7]"
   ]
  },
  {
   "cell_type": "code",
   "execution_count": 7,
   "id": "ee5a96d1-6e5d-4365-adfc-eab723dc9fda",
   "metadata": {},
   "outputs": [
    {
     "data": {
      "text/plain": [
       "28"
      ]
     },
     "execution_count": 7,
     "metadata": {},
     "output_type": "execute_result"
    }
   ],
   "source": [
    "#submission of all the elements present in the list \n",
    "reduce(lambda x,y:x+y,l)"
   ]
  },
  {
   "cell_type": "code",
   "execution_count": 8,
   "id": "db03ca45-e62e-492e-ad53-5862d9a20a77",
   "metadata": {},
   "outputs": [
    {
     "ename": "TypeError",
     "evalue": "<lambda>() missing 1 required positional argument: 'z'",
     "output_type": "error",
     "traceback": [
      "\u001b[0;31m---------------------------------------------------------------------------\u001b[0m",
      "\u001b[0;31mTypeError\u001b[0m                                 Traceback (most recent call last)",
      "Cell \u001b[0;32mIn[8], line 2\u001b[0m\n\u001b[1;32m      1\u001b[0m \u001b[38;5;66;03m#How does it works for the 3 variables\u001b[39;00m\n\u001b[0;32m----> 2\u001b[0m \u001b[43mreduce\u001b[49m\u001b[43m(\u001b[49m\u001b[38;5;28;43;01mlambda\u001b[39;49;00m\u001b[43m \u001b[49m\u001b[43mx\u001b[49m\u001b[43m,\u001b[49m\u001b[43my\u001b[49m\u001b[43m,\u001b[49m\u001b[43mz\u001b[49m\u001b[43m:\u001b[49m\u001b[43mx\u001b[49m\u001b[38;5;241;43m+\u001b[39;49m\u001b[43my\u001b[49m\u001b[38;5;241;43m+\u001b[39;49m\u001b[43mz\u001b[49m\u001b[43m,\u001b[49m\u001b[43ml\u001b[49m\u001b[43m)\u001b[49m\n\u001b[1;32m      3\u001b[0m \u001b[38;5;66;03m#you can not add 3rd parameter into the reduce function over here \u001b[39;00m\n",
      "\u001b[0;31mTypeError\u001b[0m: <lambda>() missing 1 required positional argument: 'z'"
     ]
    }
   ],
   "source": [
    "#How does it works for the 3 variables\n",
    "reduce(lambda x,y,z:x+y+z,l)\n",
    "#you can not add 3rd parameter into the reduce function over here "
   ]
  },
  {
   "cell_type": "code",
   "execution_count": 9,
   "id": "6b13e86e-b3d7-4f96-a2b9-8b4323287a8b",
   "metadata": {},
   "outputs": [
    {
     "data": {
      "text/plain": [
       "1"
      ]
     },
     "execution_count": 9,
     "metadata": {},
     "output_type": "execute_result"
    }
   ],
   "source": [
    "reduce(lambda x,y:x+y,[1])\n",
    "#this is an exception case where only single value can be executed whereas the perameters can not be more than 2"
   ]
  },
  {
   "cell_type": "code",
   "execution_count": 10,
   "id": "1640a93d-cd2b-4c8e-be9a-ab80f19124d2",
   "metadata": {},
   "outputs": [
    {
     "data": {
      "text/plain": [
       "5040"
      ]
     },
     "execution_count": 10,
     "metadata": {},
     "output_type": "execute_result"
    }
   ],
   "source": [
    "reduce(lambda x,y:x*y,l)"
   ]
  },
  {
   "cell_type": "code",
   "execution_count": 11,
   "id": "e764ceb9-99ed-49e9-9521-fbcfab372d14",
   "metadata": {},
   "outputs": [
    {
     "data": {
      "text/plain": [
       "7"
      ]
     },
     "execution_count": 11,
     "metadata": {},
     "output_type": "execute_result"
    }
   ],
   "source": [
    "reduce(lambda x, y : x if x>y else y,l)"
   ]
  },
  {
   "cell_type": "code",
   "execution_count": null,
   "id": "0efaac32-77f8-4113-87c7-57e45234c48a",
   "metadata": {},
   "outputs": [],
   "source": []
  },
  {
   "cell_type": "code",
   "execution_count": null,
   "id": "edb103f7-0aae-4350-902d-e7bcd200e85c",
   "metadata": {},
   "outputs": [],
   "source": []
  },
  {
   "cell_type": "markdown",
   "id": "9c356ed8-79a6-42a4-b7fc-0c591d1f666c",
   "metadata": {},
   "source": [
    "Filter Function "
   ]
  },
  {
   "cell_type": "markdown",
   "id": "5f3a3d60-aa52-4fbf-bcee-8ba6aa4ab2c3",
   "metadata": {},
   "source": [
    "Filter Function is used to filter the data like list out all odd or even numbers, list out multiples of 3 or 5,etc"
   ]
  },
  {
   "cell_type": "code",
   "execution_count": 13,
   "id": "2b785a4c-aeb4-4b43-8232-76825ea2e82a",
   "metadata": {},
   "outputs": [
    {
     "data": {
      "text/plain": [
       "[1, 2, 3, 4, 5, 6, 7]"
      ]
     },
     "execution_count": 13,
     "metadata": {},
     "output_type": "execute_result"
    }
   ],
   "source": [
    "l"
   ]
  },
  {
   "cell_type": "code",
   "execution_count": 16,
   "id": "37d4e425-3041-4f3f-b638-d438ec834204",
   "metadata": {},
   "outputs": [
    {
     "data": {
      "text/plain": [
       "[2, 4, 6]"
      ]
     },
     "execution_count": 16,
     "metadata": {},
     "output_type": "execute_result"
    }
   ],
   "source": [
    "#extract even number\n",
    "list(filter(lambda x:x%2==0,l))"
   ]
  },
  {
   "cell_type": "code",
   "execution_count": 17,
   "id": "cad43ace-7a36-4720-a589-b8020849caed",
   "metadata": {},
   "outputs": [
    {
     "data": {
      "text/plain": [
       "[1, 3, 5, 7]"
      ]
     },
     "execution_count": 17,
     "metadata": {},
     "output_type": "execute_result"
    }
   ],
   "source": [
    "#extract odd number\n",
    "list(filter(lambda x:x%2==1,l))"
   ]
  },
  {
   "cell_type": "code",
   "execution_count": 19,
   "id": "96d869e7-675b-47bd-a770-e5048e1dee56",
   "metadata": {},
   "outputs": [
    {
     "data": {
      "text/plain": [
       "[1, 2, 5, 8]"
      ]
     },
     "execution_count": 19,
     "metadata": {},
     "output_type": "execute_result"
    }
   ],
   "source": [
    "#Extract out all the positive numbers from the list\n",
    "l1=[1,2,-3,-4,-6,5,-9,8]\n",
    "list(filter(lambda x: x>0,l1))"
   ]
  },
  {
   "cell_type": "code",
   "execution_count": 21,
   "id": "d0a79557-41ac-4238-821f-87a5f0a5af17",
   "metadata": {},
   "outputs": [
    {
     "data": {
      "text/plain": [
       "[-3, -4, -6, -9]"
      ]
     },
     "execution_count": 21,
     "metadata": {},
     "output_type": "execute_result"
    }
   ],
   "source": [
    "#Extract out all the negative numbers from the list\n",
    "l1=[1,2,-3,-4,-6,5,-9,8]\n",
    "list(filter(lambda x: x<0,l1))"
   ]
  },
  {
   "cell_type": "code",
   "execution_count": 26,
   "id": "0e3cc05f-8de6-4e33-b21e-feaaf756a603",
   "metadata": {},
   "outputs": [
    {
     "data": {
      "text/plain": [
       "['ksdvds', 'jhvddchd', 'hjgvdv']"
      ]
     },
     "execution_count": 26,
     "metadata": {},
     "output_type": "execute_result"
    }
   ],
   "source": [
    "#print all the strings having length greater than or equal to 6\n",
    "l2=['ksdvds','jhvddchd','bhhs','hgsb','hjgvdv']\n",
    "list(filter(lambda x: len(x)>=6,l2))"
   ]
  },
  {
   "cell_type": "code",
   "execution_count": null,
   "id": "c9172ec3-029f-45c1-bb6a-b6a3b0f86f4c",
   "metadata": {},
   "outputs": [],
   "source": []
  }
 ],
 "metadata": {
  "kernelspec": {
   "display_name": "Python 3 (ipykernel)",
   "language": "python",
   "name": "python3"
  },
  "language_info": {
   "codemirror_mode": {
    "name": "ipython",
    "version": 3
   },
   "file_extension": ".py",
   "mimetype": "text/x-python",
   "name": "python",
   "nbconvert_exporter": "python",
   "pygments_lexer": "ipython3",
   "version": "3.10.8"
  }
 },
 "nbformat": 4,
 "nbformat_minor": 5
}
