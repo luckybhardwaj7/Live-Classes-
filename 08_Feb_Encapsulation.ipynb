{
 "cells": [
  {
   "cell_type": "markdown",
   "id": "e06a662b-481e-44c1-84dc-25624435d772",
   "metadata": {},
   "source": [
    "Encapsulation"
   ]
  },
  {
   "cell_type": "markdown",
   "id": "8b2c2b28-6c85-4d19-9c12-afbe0862b017",
   "metadata": {},
   "source": [
    "Turning a Variable into a Private Variable"
   ]
  },
  {
   "cell_type": "code",
   "execution_count": 1,
   "id": "b0e4e5f9-faa5-480f-aab4-d51d5457cfcd",
   "metadata": {},
   "outputs": [],
   "source": [
    "class test:\n",
    "    def __init__(self,a,b):\n",
    "        self.a=a\n",
    "        self.b=b"
   ]
  },
  {
   "cell_type": "code",
   "execution_count": 2,
   "id": "31865178-5edd-4a5b-a081-e9b514a0705a",
   "metadata": {},
   "outputs": [],
   "source": [
    "t=test(23,34)"
   ]
  },
  {
   "cell_type": "code",
   "execution_count": 3,
   "id": "c4143854-c133-430d-90ee-d2149c25e17f",
   "metadata": {},
   "outputs": [
    {
     "data": {
      "text/plain": [
       "23"
      ]
     },
     "execution_count": 3,
     "metadata": {},
     "output_type": "execute_result"
    }
   ],
   "source": [
    "t.a"
   ]
  },
  {
   "cell_type": "code",
   "execution_count": 52,
   "id": "e3f9d50a-98fb-4530-9ea3-8a58f5163922",
   "metadata": {},
   "outputs": [
    {
     "data": {
      "text/plain": [
       "34"
      ]
     },
     "execution_count": 52,
     "metadata": {},
     "output_type": "execute_result"
    }
   ],
   "source": [
    "t.b"
   ]
  },
  {
   "cell_type": "code",
   "execution_count": 53,
   "id": "e7b0a863-68eb-4a04-ae34-23037e39bead",
   "metadata": {},
   "outputs": [],
   "source": [
    "# as we press tab after (t.) we will be able to se the instances or variables\n",
    "#now we are able to access the variable externally and can change the value of it externally\n",
    "t.a=2344"
   ]
  },
  {
   "cell_type": "code",
   "execution_count": 54,
   "id": "783217db-4650-4ec5-9357-60e848fbd00e",
   "metadata": {},
   "outputs": [
    {
     "data": {
      "text/plain": [
       "2344"
      ]
     },
     "execution_count": 54,
     "metadata": {},
     "output_type": "execute_result"
    }
   ],
   "source": [
    "t.a"
   ]
  },
  {
   "cell_type": "markdown",
   "id": "475bd49b-c74d-4de6-9651-25d84aafd8e9",
   "metadata": {},
   "source": [
    "Encapsulation is all about preventing the user to see those specified variables\n",
    "\n",
    "Hiding the variables from the user is known as Encapsulation.\n",
    "\n",
    "Turning a Variable into a Private Variable"
   ]
  },
  {
   "cell_type": "markdown",
   "id": "73981191-60d3-41e0-b34e-5f228f0fa0e8",
   "metadata": {},
   "source": [
    "Encapsulation is done via a method by using the below one:"
   ]
  },
  {
   "cell_type": "code",
   "execution_count": 18,
   "id": "cf973087-63ef-4d19-be59-6b2f6d5fbb29",
   "metadata": {},
   "outputs": [],
   "source": [
    "\n",
    "class car:\n",
    "    def __init__(self,year,make,model,speed):\n",
    "        self.__year=year #here __year is used to encapsulate\n",
    "        self.__make=make\n",
    "        self.__model=model\n",
    "        self.__speed=speed"
   ]
  },
  {
   "cell_type": "code",
   "execution_count": 19,
   "id": "35aa8e61-0389-47b8-a124-95446dbebfce",
   "metadata": {},
   "outputs": [],
   "source": [
    "c=car(2023,'Tata','Harrier',160)\n",
    "#here you have provided the speed if you havent then it will be taking 0 as speed"
   ]
  },
  {
   "cell_type": "code",
   "execution_count": 20,
   "id": "bbacf94f-5f83-4a46-a8e9-3855647f9ea0",
   "metadata": {},
   "outputs": [
    {
     "ename": "AttributeError",
     "evalue": "'car' object has no attribute 'year'",
     "output_type": "error",
     "traceback": [
      "\u001b[0;31m---------------------------------------------------------------------------\u001b[0m",
      "\u001b[0;31mAttributeError\u001b[0m                            Traceback (most recent call last)",
      "Cell \u001b[0;32mIn[20], line 1\u001b[0m\n\u001b[0;32m----> 1\u001b[0m \u001b[43mc\u001b[49m\u001b[38;5;241;43m.\u001b[39;49m\u001b[43myear\u001b[49m\n\u001b[1;32m      2\u001b[0m \u001b[38;5;66;03m#we won't be able to access wih this method\u001b[39;00m\n",
      "\u001b[0;31mAttributeError\u001b[0m: 'car' object has no attribute 'year'"
     ]
    }
   ],
   "source": [
    "c.year\n",
    "#we won't be able to access wih this method"
   ]
  },
  {
   "cell_type": "code",
   "execution_count": 21,
   "id": "981a3aca-7d46-457a-8b34-18ac7ccc9628",
   "metadata": {},
   "outputs": [
    {
     "ename": "AttributeError",
     "evalue": "'car' object has no attribute '__year'",
     "output_type": "error",
     "traceback": [
      "\u001b[0;31m---------------------------------------------------------------------------\u001b[0m",
      "\u001b[0;31mAttributeError\u001b[0m                            Traceback (most recent call last)",
      "Cell \u001b[0;32mIn[21], line 1\u001b[0m\n\u001b[0;32m----> 1\u001b[0m \u001b[43mc\u001b[49m\u001b[38;5;241;43m.\u001b[39;49m\u001b[43m__year\u001b[49m\n\u001b[1;32m      2\u001b[0m \u001b[38;5;66;03m#still error will pop-up\u001b[39;00m\n",
      "\u001b[0;31mAttributeError\u001b[0m: 'car' object has no attribute '__year'"
     ]
    }
   ],
   "source": [
    "c.__year\n",
    "#still error will pop-up"
   ]
  },
  {
   "cell_type": "code",
   "execution_count": 22,
   "id": "9cec3fcf-81b2-4de7-9b15-21c98c5e71a7",
   "metadata": {},
   "outputs": [
    {
     "data": {
      "text/plain": [
       "2023"
      ]
     },
     "execution_count": 22,
     "metadata": {},
     "output_type": "execute_result"
    }
   ],
   "source": [
    "#now this will be accessed \n",
    "c._car__year"
   ]
  },
  {
   "cell_type": "code",
   "execution_count": 23,
   "id": "d4cee0ff-6472-43d9-a6ed-2ffd97e0c77a",
   "metadata": {},
   "outputs": [
    {
     "data": {
      "text/plain": [
       "'Harrier'"
      ]
     },
     "execution_count": 23,
     "metadata": {},
     "output_type": "execute_result"
    }
   ],
   "source": [
    "c._car__model"
   ]
  },
  {
   "cell_type": "code",
   "execution_count": 24,
   "id": "6b9c5762-8dfd-4051-a765-19b5294c3997",
   "metadata": {},
   "outputs": [
    {
     "data": {
      "text/plain": [
       "160"
      ]
     },
     "execution_count": 24,
     "metadata": {},
     "output_type": "execute_result"
    }
   ],
   "source": [
    "c._car__speed"
   ]
  },
  {
   "cell_type": "code",
   "execution_count": 42,
   "id": "d850d554-14c6-471e-9763-f2a008af6e80",
   "metadata": {},
   "outputs": [],
   "source": [
    "class car:\n",
    "    def __init__(self,year,make,model,speed):\n",
    "        self.__year=year #here __year is used to encapsulate\n",
    "        self.__make=make\n",
    "        self.__model=model\n",
    "        self.__speed=0\n",
    "    \n",
    "    def set_speed(self,speed):\n",
    "        self.__speed= 0 if speed<0 else speed\n",
    "        #looping the speed by if and else\n",
    "    def get_speed(self):\n",
    "        return self.__speed"
   ]
  },
  {
   "cell_type": "code",
   "execution_count": 43,
   "id": "2c4e62f4-7f08-4af6-9f0a-44ee115f3460",
   "metadata": {},
   "outputs": [],
   "source": [
    "c=car(2023,'Tata','Harrier',160)"
   ]
  },
  {
   "cell_type": "code",
   "execution_count": 58,
   "id": "ffe6229c-acca-4f16-b374-f9276e74e3ed",
   "metadata": {},
   "outputs": [
    {
     "data": {
      "text/plain": [
       "180"
      ]
     },
     "execution_count": 58,
     "metadata": {},
     "output_type": "execute_result"
    }
   ],
   "source": [
    "c._car__speed\n",
    "#because we haven't yet seted the speed for the class\n",
    "#calling the function outside the class"
   ]
  },
  {
   "cell_type": "code",
   "execution_count": 59,
   "id": "f5ea0b4c-5860-4522-bffc-5a81d5980e46",
   "metadata": {},
   "outputs": [],
   "source": [
    "#now setting the speed \n",
    "c.set_speed(180)#for positive one"
   ]
  },
  {
   "cell_type": "code",
   "execution_count": 60,
   "id": "66483f6f-0387-4644-beb4-08720b17b368",
   "metadata": {},
   "outputs": [
    {
     "data": {
      "text/plain": [
       "180"
      ]
     },
     "execution_count": 60,
     "metadata": {},
     "output_type": "execute_result"
    }
   ],
   "source": [
    "# getting the speed \n",
    "c.get_speed()"
   ]
  },
  {
   "cell_type": "code",
   "execution_count": 61,
   "id": "b910babd-b060-4905-a3f4-d6c6d5c7896c",
   "metadata": {},
   "outputs": [],
   "source": [
    "c.set_speed(-33)# for negative one "
   ]
  },
  {
   "cell_type": "code",
   "execution_count": 62,
   "id": "aff3a0d0-7699-44f2-b86f-f0b5d0dfb1d4",
   "metadata": {},
   "outputs": [
    {
     "data": {
      "text/plain": [
       "0"
      ]
     },
     "execution_count": 62,
     "metadata": {},
     "output_type": "execute_result"
    }
   ],
   "source": [
    "c.get_speed()"
   ]
  },
  {
   "cell_type": "markdown",
   "id": "c6255433-130e-43ce-a306-3ce0ab0fa783",
   "metadata": {},
   "source": [
    "New Example- Bank Account Mechanism"
   ]
  },
  {
   "cell_type": "code",
   "execution_count": 115,
   "id": "960d5036-51b9-4727-bb46-37b4901afaa8",
   "metadata": {},
   "outputs": [],
   "source": [
    "class bank_acnt:\n",
    "    def __init__(self,balance):\n",
    "        self.__balance=balance #privating the balance\n",
    "    \n",
    "    def deposite(self,amnt):\n",
    "        self.__balance+=amnt #self.__balance=self.__balance+amnt\n",
    "        #we can call it as it is because it is inside the class\n",
    "    def withdraw(self,amnt):\n",
    "        if self.__balance>=amnt:\n",
    "            self.__balance-=amnt\n",
    "            return 'You can Withdraw the Amount'\n",
    "        else:\n",
    "            return 'Insufficient Balance'\n",
    "    def get_balance(self):\n",
    "        return self.__balance"
   ]
  },
  {
   "cell_type": "code",
   "execution_count": 116,
   "id": "5713ea3d-202d-48b6-82f5-3f950785218a",
   "metadata": {},
   "outputs": [
    {
     "ename": "TypeError",
     "evalue": "bank_acnt.__init__() missing 1 required positional argument: 'balance'",
     "output_type": "error",
     "traceback": [
      "\u001b[0;31m---------------------------------------------------------------------------\u001b[0m",
      "\u001b[0;31mTypeError\u001b[0m                                 Traceback (most recent call last)",
      "Cell \u001b[0;32mIn[116], line 2\u001b[0m\n\u001b[1;32m      1\u001b[0m \u001b[38;5;66;03m#we have to pass the balance alongwith it, error will pop-up\u001b[39;00m\n\u001b[0;32m----> 2\u001b[0m lucky\u001b[38;5;241m=\u001b[39m\u001b[43mbank_acnt\u001b[49m\u001b[43m(\u001b[49m\u001b[43m)\u001b[49m\n",
      "\u001b[0;31mTypeError\u001b[0m: bank_acnt.__init__() missing 1 required positional argument: 'balance'"
     ]
    }
   ],
   "source": [
    "#we have to pass the balance alongwith it, error will pop-up\n",
    "lucky=bank_acnt()"
   ]
  },
  {
   "cell_type": "code",
   "execution_count": 117,
   "id": "28ee9fe4-50ba-4583-80f8-d1ae021d365e",
   "metadata": {},
   "outputs": [],
   "source": [
    "lucky=bank_acnt(198765)"
   ]
  },
  {
   "cell_type": "code",
   "execution_count": 118,
   "id": "afd547c3-c6b7-4726-a375-b90c96a62159",
   "metadata": {},
   "outputs": [],
   "source": [
    "lucky.deposite(100000)"
   ]
  },
  {
   "cell_type": "code",
   "execution_count": 119,
   "id": "82c1b8b0-92b8-4f8d-b2d2-507d9e03c215",
   "metadata": {},
   "outputs": [
    {
     "data": {
      "text/plain": [
       "'You can Withdraw the Amount'"
      ]
     },
     "execution_count": 119,
     "metadata": {},
     "output_type": "execute_result"
    }
   ],
   "source": [
    "lucky.withdraw(200000)\n",
    "#when avilable balance is greater than withdrawl"
   ]
  },
  {
   "cell_type": "code",
   "execution_count": 120,
   "id": "7adb1a47-086f-4de1-88bd-cd70f24a4e53",
   "metadata": {},
   "outputs": [
    {
     "data": {
      "text/plain": [
       "98765"
      ]
     },
     "execution_count": 120,
     "metadata": {},
     "output_type": "execute_result"
    }
   ],
   "source": [
    "lucky.get_balance()"
   ]
  },
  {
   "cell_type": "code",
   "execution_count": 121,
   "id": "a905c3ad-90c9-4107-a833-2f7d4c7f4b94",
   "metadata": {},
   "outputs": [],
   "source": [
    "birla=bank_acnt(1000000)"
   ]
  },
  {
   "cell_type": "code",
   "execution_count": 122,
   "id": "ab97896a-25e1-40b5-a7b6-aa95e26f2e1a",
   "metadata": {},
   "outputs": [
    {
     "data": {
      "text/plain": [
       "1000000"
      ]
     },
     "execution_count": 122,
     "metadata": {},
     "output_type": "execute_result"
    }
   ],
   "source": [
    "birla.get_balance()"
   ]
  },
  {
   "cell_type": "code",
   "execution_count": 123,
   "id": "a1ced032-87d2-4bdf-bced-1ad9392288ab",
   "metadata": {},
   "outputs": [],
   "source": [
    "birla.deposite(2000000)"
   ]
  },
  {
   "cell_type": "code",
   "execution_count": 124,
   "id": "de919b4c-5dee-4de4-9c49-7dbbc8a8d484",
   "metadata": {},
   "outputs": [
    {
     "data": {
      "text/plain": [
       "'Insufficient Balance'"
      ]
     },
     "execution_count": 124,
     "metadata": {},
     "output_type": "execute_result"
    }
   ],
   "source": [
    "birla.withdraw(5000000)\n",
    "#when avilable balance is lesser than withdrawl"
   ]
  }
 ],
 "metadata": {
  "kernelspec": {
   "display_name": "Python 3 (ipykernel)",
   "language": "python",
   "name": "python3"
  },
  "language_info": {
   "codemirror_mode": {
    "name": "ipython",
    "version": 3
   },
   "file_extension": ".py",
   "mimetype": "text/x-python",
   "name": "python",
   "nbconvert_exporter": "python",
   "pygments_lexer": "ipython3",
   "version": "3.10.8"
  }
 },
 "nbformat": 4,
 "nbformat_minor": 5
}
