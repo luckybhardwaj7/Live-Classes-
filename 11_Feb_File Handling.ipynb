{
 "cells": [
  {
   "cell_type": "markdown",
   "id": "8b9e41e0-31ab-4d85-88e7-a875b5bc51aa",
   "metadata": {},
   "source": [
    "File Handling"
   ]
  },
  {
   "cell_type": "code",
   "execution_count": 8,
   "id": "f7fd9f3a-0c3c-4778-8678-ab814716763c",
   "metadata": {},
   "outputs": [],
   "source": [
    "f=open('test.txt','w') #to create the file "
   ]
  },
  {
   "cell_type": "code",
   "execution_count": 9,
   "id": "0f42213e-5e53-49de-afea-6aa47e8f9c54",
   "metadata": {},
   "outputs": [
    {
     "data": {
      "text/plain": [
       "'/home/jovyan/work'"
      ]
     },
     "execution_count": 9,
     "metadata": {},
     "output_type": "execute_result"
    }
   ],
   "source": [
    "pwd #to check the location of the file "
   ]
  },
  {
   "cell_type": "code",
   "execution_count": 11,
   "id": "82e490ae-5f72-4f70-8db8-9d5d38b14819",
   "metadata": {},
   "outputs": [
    {
     "name": "stdout",
     "output_type": "stream",
     "text": [
      "/home/jovyan/work/Replace\n"
     ]
    }
   ],
   "source": [
    "cd Replace #to change the directory"
   ]
  },
  {
   "cell_type": "code",
   "execution_count": 12,
   "id": "c1049f9c-f90a-4c1b-bd3e-b8952771cfef",
   "metadata": {},
   "outputs": [],
   "source": [
    "ls #prints the list of avilable file "
   ]
  },
  {
   "cell_type": "code",
   "execution_count": 20,
   "id": "0e967a8f-bce0-4d9b-b895-ccfd5863d240",
   "metadata": {},
   "outputs": [],
   "source": [
    "f=open('test.txt','w')"
   ]
  },
  {
   "cell_type": "code",
   "execution_count": 21,
   "id": "0c0c9233-9a8e-47fa-9374-887a35a847a5",
   "metadata": {},
   "outputs": [
    {
     "data": {
      "text/plain": [
       "14"
      ]
     },
     "execution_count": 21,
     "metadata": {},
     "output_type": "execute_result"
    }
   ],
   "source": [
    "f.write('Lucky Bhardwaj')"
   ]
  },
  {
   "cell_type": "code",
   "execution_count": 23,
   "id": "419bf5db-13ca-43bb-8893-aa858bb9c463",
   "metadata": {},
   "outputs": [],
   "source": [
    "# Lucky Bhardwaj will be written on the txt file\n",
    "f.close()"
   ]
  },
  {
   "cell_type": "code",
   "execution_count": 24,
   "id": "0a869ca1-7497-4af6-9977-bf6cbc045ac4",
   "metadata": {},
   "outputs": [],
   "source": [
    "f=open('test.txt','w')"
   ]
  },
  {
   "cell_type": "code",
   "execution_count": 25,
   "id": "9e933f29-ee7e-4b2b-aec0-259ecc4976f7",
   "metadata": {},
   "outputs": [
    {
     "data": {
      "text/plain": [
       "14"
      ]
     },
     "execution_count": 25,
     "metadata": {},
     "output_type": "execute_result"
    }
   ],
   "source": [
    "f.write('Data Scientist')"
   ]
  },
  {
   "cell_type": "code",
   "execution_count": 27,
   "id": "f1f5953c-928a-4e11-9892-2ee14916be3f",
   "metadata": {},
   "outputs": [],
   "source": [
    "# now Data scientist will be written in the file and the message written earlier will be truncated\n",
    "f.close()"
   ]
  },
  {
   "cell_type": "code",
   "execution_count": 28,
   "id": "7f3c6176-f86a-4c50-8d85-39309e241498",
   "metadata": {},
   "outputs": [],
   "source": [
    "# to prevent the file from being truncated we have to use the 'a' mode\n",
    "f=open('test.txt','a')"
   ]
  },
  {
   "cell_type": "code",
   "execution_count": 29,
   "id": "e86c0ba2-d56e-46fb-b176-155f4edb002c",
   "metadata": {},
   "outputs": [
    {
     "data": {
      "text/plain": [
       "219"
      ]
     },
     "execution_count": 29,
     "metadata": {},
     "output_type": "execute_result"
    }
   ],
   "source": [
    "f.write('Ajey Nagar, popularly known as CarryMinati, is an Indian YouTuber and streamer from Faridabad, India. He is known for his roasting videos, comedic skits and reactions to various online topics on his channel CarryMinati.')"
   ]
  },
  {
   "cell_type": "code",
   "execution_count": 31,
   "id": "e159a596-5471-40d7-aebc-2ff1b98df836",
   "metadata": {},
   "outputs": [],
   "source": [
    "f.close()"
   ]
  },
  {
   "cell_type": "code",
   "execution_count": 32,
   "id": "69b6e4a6-0fee-41c8-ab36-0e405391177e",
   "metadata": {},
   "outputs": [],
   "source": [
    "f=open('test.txt','a')"
   ]
  },
  {
   "cell_type": "code",
   "execution_count": 34,
   "id": "eaa4fb70-a68e-4a39-b0b1-e5486c42b5a4",
   "metadata": {},
   "outputs": [
    {
     "data": {
      "text/plain": [
       "243"
      ]
     },
     "execution_count": 34,
     "metadata": {},
     "output_type": "execute_result"
    }
   ],
   "source": [
    "f.write('In May 2020, his roast video titled \"YouTube vs TikTok - The End\" caused controversy on YouTube India. The video was removed by YouTube for violations against the platforms terms of service, citing reasons such as cyberbullying and harassment.')"
   ]
  },
  {
   "cell_type": "code",
   "execution_count": 35,
   "id": "e51a8a7c-abbc-44ea-8aac-ef37f2ef5815",
   "metadata": {},
   "outputs": [],
   "source": [
    "f.close()"
   ]
  },
  {
   "cell_type": "code",
   "execution_count": 36,
   "id": "e8579f90-46b4-454c-b45b-2e3024d81986",
   "metadata": {},
   "outputs": [],
   "source": [
    "#now both of the data will be present in the file "
   ]
  },
  {
   "cell_type": "code",
   "execution_count": 37,
   "id": "f252d504-d21a-4158-9ad0-504c1a7e0896",
   "metadata": {},
   "outputs": [],
   "source": [
    "f=open('test.txt','r')"
   ]
  },
  {
   "cell_type": "code",
   "execution_count": 38,
   "id": "8cbca272-bd5b-4644-9d2b-dfddbd06607f",
   "metadata": {},
   "outputs": [
    {
     "data": {
      "text/plain": [
       "'Data ScientistAjey Nagar, popularly known as CarryMinati, is an Indian YouTuber and streamer from Faridabad, India. He is known for his roasting videos, comedic skits and reactions to various online topics on his channel CarryMinati.In May 2020, his roast video titled \"YouTube vs TikTok - The End\" caused controversy on YouTube India. The video was removed by YouTube for violations against the platforms terms of service, citing reasons such as cyberbullying and harassment.'"
      ]
     },
     "execution_count": 38,
     "metadata": {},
     "output_type": "execute_result"
    }
   ],
   "source": [
    "# to read the data present in the file\n",
    "f.read()"
   ]
  },
  {
   "cell_type": "code",
   "execution_count": 48,
   "id": "eea754a0-1463-4f8b-8df8-974701f80f92",
   "metadata": {},
   "outputs": [],
   "source": [
    "data=open('test.txt','r')"
   ]
  },
  {
   "cell_type": "code",
   "execution_count": 49,
   "id": "c1c5156b-f9e6-4721-9ecb-1c53b73f25cb",
   "metadata": {},
   "outputs": [
    {
     "data": {
      "text/plain": [
       "'Ajey Nagar, popularly known as CarryMinati, is an Indian YouTuber and streamer from Faridabad, India. He is known for his roasting videos, comedic skits and reactions to various online topics on his channel CarryMinati.In May 2020, his roast video titled \"YouTube vs TikTok - The End\" caused controversy on YouTube India. The video was removed by YouTube for violations against the platforms terms of service, citing reasons such as cyberbullying and harassment.'"
      ]
     },
     "execution_count": 49,
     "metadata": {},
     "output_type": "execute_result"
    }
   ],
   "source": [
    "data.read()"
   ]
  },
  {
   "cell_type": "code",
   "execution_count": 51,
   "id": "2df29096-030a-492f-9bd4-7441d75694b6",
   "metadata": {},
   "outputs": [
    {
     "data": {
      "text/plain": [
       "''"
      ]
     },
     "execution_count": 51,
     "metadata": {},
     "output_type": "execute_result"
    }
   ],
   "source": [
    "data.readline()\n",
    "#will show blank because The pointer has moved from 0th Position to the last position"
   ]
  },
  {
   "cell_type": "code",
   "execution_count": 61,
   "id": "6de67883-5606-42e7-9ab5-dd1d034106df",
   "metadata": {},
   "outputs": [
    {
     "data": {
      "text/plain": [
       "0"
      ]
     },
     "execution_count": 61,
     "metadata": {},
     "output_type": "execute_result"
    }
   ],
   "source": [
    "# Placing the pointer to the 0th position \n",
    "data.seek(0)\n",
    "# This will read the data from the 0th position"
   ]
  },
  {
   "cell_type": "code",
   "execution_count": 62,
   "id": "1ea1b84f-07d9-4d5f-8e23-75b186fb4645",
   "metadata": {},
   "outputs": [
    {
     "data": {
      "text/plain": [
       "'Ajey Nagar, popularly known as CarryMinati, is an Indian YouTuber and streamer from Faridabad, India. He is known for his roasting videos, comedic skits and reactions to various online topics on his channel CarryMinati.In May 2020, his roast video titled \"YouTube vs TikTok - The End\" caused controversy on YouTube India. The video was removed by YouTube for violations against the platforms terms of service, citing reasons such as cyberbullying and harassment.'"
      ]
     },
     "execution_count": 62,
     "metadata": {},
     "output_type": "execute_result"
    }
   ],
   "source": [
    "data.readline() #can also use the data.read()"
   ]
  },
  {
   "cell_type": "code",
   "execution_count": 64,
   "id": "839bce74-7fcd-46be-a028-03400f337b4e",
   "metadata": {},
   "outputs": [
    {
     "data": {
      "text/plain": [
       "20"
      ]
     },
     "execution_count": 64,
     "metadata": {},
     "output_type": "execute_result"
    }
   ],
   "source": [
    "# If you want to read the data from the specific position you have to just change the 0 with the desired position\n",
    "data.seek(20)"
   ]
  },
  {
   "cell_type": "code",
   "execution_count": 65,
   "id": "f2e23724-507e-4fe4-9cd3-905e37a5f7c9",
   "metadata": {},
   "outputs": [
    {
     "data": {
      "text/plain": [
       "'y known as CarryMinati, is an Indian YouTuber and streamer from Faridabad, India. He is known for his roasting videos, comedic skits and reactions to various online topics on his channel CarryMinati.In May 2020, his roast video titled \"YouTube vs TikTok - The End\" caused controversy on YouTube India. The video was removed by YouTube for violations against the platforms terms of service, citing reasons such as cyberbullying and harassment.'"
      ]
     },
     "execution_count": 65,
     "metadata": {},
     "output_type": "execute_result"
    }
   ],
   "source": [
    "data.read()"
   ]
  },
  {
   "cell_type": "code",
   "execution_count": 66,
   "id": "0847a9a6-ecc3-4f36-9276-bea1af1b7b0f",
   "metadata": {},
   "outputs": [],
   "source": [
    "data1=open('test.txt','r')"
   ]
  },
  {
   "cell_type": "code",
   "execution_count": 68,
   "id": "8957665a-62e0-4943-a93b-35a6ca8208db",
   "metadata": {},
   "outputs": [
    {
     "name": "stdout",
     "output_type": "stream",
     "text": [
      "Ajey Nagar, popularly known as CarryMinati, is an Indian YouTuber and streamer from Faridabad, India. He is known for his roasting videos, comedic skits and reactions to various online topics on his channel CarryMinati.In May 2020, his roast video titled \"YouTube vs TikTok - The End\" caused controversy on YouTube India. The video was removed by YouTube for violations against the platforms terms of service, citing reasons such as cyberbullying and harassment.\n"
     ]
    }
   ],
   "source": [
    "# Reading the data one by one using the For Loop\n",
    "for i in data1:\n",
    "    print(i)"
   ]
  },
  {
   "cell_type": "code",
   "execution_count": 69,
   "id": "1d278811-a34d-405f-b761-eb1073430ed7",
   "metadata": {},
   "outputs": [],
   "source": [
    "# to check the size of the file \n",
    "#importing os(operating System)\n",
    "import os"
   ]
  },
  {
   "cell_type": "code",
   "execution_count": 71,
   "id": "2caff311-9660-4628-adf2-45826ffaf1e2",
   "metadata": {},
   "outputs": [
    {
     "data": {
      "text/plain": [
       "462"
      ]
     },
     "execution_count": 71,
     "metadata": {},
     "output_type": "execute_result"
    }
   ],
   "source": [
    "os.path.getsize('test.txt')\n",
    "#ekdm correct when checked (lol)"
   ]
  },
  {
   "cell_type": "code",
   "execution_count": 74,
   "id": "77568936-d4b7-4bcb-85b3-cb9068f884ed",
   "metadata": {},
   "outputs": [],
   "source": [
    "#deleting a file \n",
    "os.remove('test.txt')"
   ]
  },
  {
   "cell_type": "code",
   "execution_count": 75,
   "id": "020450bf-3c8c-41b2-9802-bb608d493b67",
   "metadata": {},
   "outputs": [],
   "source": [
    "#now the file will be removed from the location "
   ]
  },
  {
   "cell_type": "code",
   "execution_count": 76,
   "id": "3e1c7e5e-aeb1-4f79-be81-869655ab604f",
   "metadata": {},
   "outputs": [],
   "source": [
    "f=open(\"test1.txt\",'w')"
   ]
  },
  {
   "cell_type": "code",
   "execution_count": 77,
   "id": "e3976c9d-c84d-4135-8327-3dadd661364a",
   "metadata": {},
   "outputs": [
    {
     "data": {
      "text/plain": [
       "462"
      ]
     },
     "execution_count": 77,
     "metadata": {},
     "output_type": "execute_result"
    }
   ],
   "source": [
    "f.write('Ajey Nagar, popularly known as CarryMinati, is an Indian YouTuber and streamer from Faridabad, India. He is known for his roasting videos, comedic skits and reactions to various online topics on his channel CarryMinati.In May 2020, his roast video titled \"YouTube vs TikTok - The End\" caused controversy on YouTube India. The video was removed by YouTube for violations against the platforms terms of service, citing reasons such as cyberbullying and harassment.')"
   ]
  },
  {
   "cell_type": "code",
   "execution_count": 78,
   "id": "300dca2f-02fd-462e-a49b-6884128ffc2f",
   "metadata": {},
   "outputs": [],
   "source": [
    "f.close()"
   ]
  },
  {
   "cell_type": "code",
   "execution_count": 84,
   "id": "31aae051-2780-4743-af9e-2f012e59ebbc",
   "metadata": {},
   "outputs": [],
   "source": [
    "#renaming a file \n",
    "# Syntax- os.rename('old file name','new file name')\n",
    "os.rename('test1','Ajey Nagar')"
   ]
  },
  {
   "cell_type": "code",
   "execution_count": 85,
   "id": "f7bdef6f-a3ec-4772-ba44-61ea6fd8cfc5",
   "metadata": {},
   "outputs": [],
   "source": [
    "#creating the copy of the file \n",
    "import shutil # to import the shutil "
   ]
  },
  {
   "cell_type": "code",
   "execution_count": 86,
   "id": "ed3e38b1-0541-478d-b54b-27d82346033f",
   "metadata": {},
   "outputs": [
    {
     "data": {
      "text/plain": [
       "'Copy_Ajey Nagar'"
      ]
     },
     "execution_count": 86,
     "metadata": {},
     "output_type": "execute_result"
    }
   ],
   "source": [
    "# Syntax- shutil.copy('original file name','name of copied file'\n",
    "shutil.copy('Ajey Nagar','Copy_Ajey Nagar')"
   ]
  },
  {
   "cell_type": "code",
   "execution_count": 89,
   "id": "47ac718e-14b8-4dd6-af4f-c3157d4a4758",
   "metadata": {},
   "outputs": [
    {
     "name": "stdout",
     "output_type": "stream",
     "text": [
      "Ajey Nagar, popularly known as CarryMinati, is an Indian YouTuber and streamer from Faridabad, India. He is known for his roasting videos, comedic skits and reactions to various online topics on his channel CarryMinati.In May 2020, his roast video titled \"YouTube vs TikTok - The End\" caused controversy on YouTube India. The video was removed by YouTube for violations against the platforms terms of service, citing reasons such as cyberbullying and harassment.\n"
     ]
    }
   ],
   "source": [
    "with open('Copy_Ajey Nagar','r') as f:\n",
    "    print(f.read())\n",
    "# here instead of f you can also use any key-word "
   ]
  },
  {
   "cell_type": "code",
   "execution_count": null,
   "id": "d5b0df8b-423a-46e3-a573-f776301191db",
   "metadata": {},
   "outputs": [],
   "source": []
  }
 ],
 "metadata": {
  "kernelspec": {
   "display_name": "Python 3 (ipykernel)",
   "language": "python",
   "name": "python3"
  },
  "language_info": {
   "codemirror_mode": {
    "name": "ipython",
    "version": 3
   },
   "file_extension": ".py",
   "mimetype": "text/x-python",
   "name": "python",
   "nbconvert_exporter": "python",
   "pygments_lexer": "ipython3",
   "version": "3.10.8"
  }
 },
 "nbformat": 4,
 "nbformat_minor": 5
}
