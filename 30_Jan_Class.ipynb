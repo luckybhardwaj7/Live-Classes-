{
 "cells": [
  {
   "cell_type": "code",
   "execution_count": 1,
   "id": "f442315f-7df5-4243-8245-7d1a26eadb04",
   "metadata": {},
   "outputs": [
    {
     "data": {
      "text/plain": [
       "2"
      ]
     },
     "execution_count": 1,
     "metadata": {},
     "output_type": "execute_result"
    }
   ],
   "source": [
    "1+1"
   ]
  },
  {
   "cell_type": "markdown",
   "id": "2be8234e-d926-401c-94ed-a10478605aa8",
   "metadata": {},
   "source": [
    "Assign 2 variables at once "
   ]
  },
  {
   "cell_type": "code",
   "execution_count": 6,
   "id": "a8a2e0c5-7839-4c1f-ba5c-ee5c305c4afa",
   "metadata": {},
   "outputs": [],
   "source": [
    "a,b=10,20"
   ]
  },
  {
   "cell_type": "code",
   "execution_count": 7,
   "id": "d5e2e009-fe2d-4258-9816-9f9d25671872",
   "metadata": {},
   "outputs": [
    {
     "data": {
      "text/plain": [
       "10"
      ]
     },
     "execution_count": 7,
     "metadata": {},
     "output_type": "execute_result"
    }
   ],
   "source": [
    "a"
   ]
  },
  {
   "cell_type": "code",
   "execution_count": 8,
   "id": "69036fe3-4cb8-4485-abd0-850b20130393",
   "metadata": {},
   "outputs": [
    {
     "data": {
      "text/plain": [
       "20"
      ]
     },
     "execution_count": 8,
     "metadata": {},
     "output_type": "execute_result"
    }
   ],
   "source": [
    "b"
   ]
  },
  {
   "cell_type": "code",
   "execution_count": 9,
   "id": "a2ea53ab-c954-43d6-9034-988964eaa63d",
   "metadata": {},
   "outputs": [
    {
     "data": {
      "text/plain": [
       "int"
      ]
     },
     "execution_count": 9,
     "metadata": {},
     "output_type": "execute_result"
    }
   ],
   "source": [
    "#To check the type of the data\n",
    "type(a)"
   ]
  },
  {
   "cell_type": "code",
   "execution_count": 10,
   "id": "1cc749c3-83f5-4969-aa55-2650eab4f570",
   "metadata": {},
   "outputs": [
    {
     "data": {
      "text/plain": [
       "30"
      ]
     },
     "execution_count": 10,
     "metadata": {},
     "output_type": "execute_result"
    }
   ],
   "source": [
    "a+b"
   ]
  },
  {
   "cell_type": "code",
   "execution_count": 13,
   "id": "2e283df1-0b96-46b1-91c8-9126f522f12d",
   "metadata": {},
   "outputs": [
    {
     "data": {
      "text/plain": [
       "5.0"
      ]
     },
     "execution_count": 13,
     "metadata": {},
     "output_type": "execute_result"
    }
   ],
   "source": [
    "a/2"
   ]
  },
  {
   "cell_type": "code",
   "execution_count": 14,
   "id": "014cdb2b-b5de-4483-af9a-38fa19dd71e8",
   "metadata": {},
   "outputs": [
    {
     "data": {
      "text/plain": [
       "float"
      ]
     },
     "execution_count": 14,
     "metadata": {},
     "output_type": "execute_result"
    }
   ],
   "source": [
    "type(a/2)"
   ]
  },
  {
   "cell_type": "code",
   "execution_count": 19,
   "id": "d7ca1ba1-01f7-45d0-85d1-433efd94ba7b",
   "metadata": {},
   "outputs": [],
   "source": [
    "a=\"Lucky\""
   ]
  },
  {
   "cell_type": "code",
   "execution_count": 17,
   "id": "bc893aea-9344-4868-b8d0-4fc72d05efd7",
   "metadata": {},
   "outputs": [
    {
     "data": {
      "text/plain": [
       "str"
      ]
     },
     "execution_count": 17,
     "metadata": {},
     "output_type": "execute_result"
    }
   ],
   "source": [
    "type(a)"
   ]
  },
  {
   "cell_type": "code",
   "execution_count": 1,
   "id": "6951c823-541b-4dc9-ba0e-388c173a0e81",
   "metadata": {},
   "outputs": [],
   "source": [
    "n=True"
   ]
  },
  {
   "cell_type": "code",
   "execution_count": 2,
   "id": "f930a489-3b96-4e73-a104-0727d1d707fe",
   "metadata": {},
   "outputs": [
    {
     "data": {
      "text/plain": [
       "bool"
      ]
     },
     "execution_count": 2,
     "metadata": {},
     "output_type": "execute_result"
    }
   ],
   "source": [
    "type(n)"
   ]
  },
  {
   "cell_type": "code",
   "execution_count": 3,
   "id": "83316b11-25ba-4162-998a-b515a742808a",
   "metadata": {},
   "outputs": [],
   "source": [
    "m=False"
   ]
  },
  {
   "cell_type": "code",
   "execution_count": 4,
   "id": "84ca79a7-c55f-4aa7-89da-2080d2f71de3",
   "metadata": {},
   "outputs": [
    {
     "data": {
      "text/plain": [
       "bool"
      ]
     },
     "execution_count": 4,
     "metadata": {},
     "output_type": "execute_result"
    }
   ],
   "source": [
    "type(m)"
   ]
  },
  {
   "cell_type": "code",
   "execution_count": 6,
   "id": "ff5f055c-553d-4fa8-9a81-35db893d7c4c",
   "metadata": {},
   "outputs": [
    {
     "data": {
      "text/plain": [
       "0"
      ]
     },
     "execution_count": 6,
     "metadata": {},
     "output_type": "execute_result"
    }
   ],
   "source": [
    "m*n"
   ]
  },
  {
   "cell_type": "code",
   "execution_count": 7,
   "id": "5794a73a-fd8a-4b5f-baa3-58c459be4568",
   "metadata": {},
   "outputs": [
    {
     "data": {
      "text/plain": [
       "False"
      ]
     },
     "execution_count": 7,
     "metadata": {},
     "output_type": "execute_result"
    }
   ],
   "source": [
    "bool(m*n)"
   ]
  },
  {
   "cell_type": "code",
   "execution_count": 9,
   "id": "81647e54-9acb-4b47-936a-b3469b4c46be",
   "metadata": {},
   "outputs": [
    {
     "data": {
      "text/plain": [
       "1"
      ]
     },
     "execution_count": 9,
     "metadata": {},
     "output_type": "execute_result"
    }
   ],
   "source": [
    "m+n\n"
   ]
  },
  {
   "cell_type": "code",
   "execution_count": 10,
   "id": "23dbf9f6-d710-44ec-a1cf-01530b2f452e",
   "metadata": {},
   "outputs": [
    {
     "data": {
      "text/plain": [
       "-1"
      ]
     },
     "execution_count": 10,
     "metadata": {},
     "output_type": "execute_result"
    }
   ],
   "source": [
    "m-n"
   ]
  },
  {
   "cell_type": "code",
   "execution_count": 11,
   "id": "d5d5a06a-bb54-47b6-96b3-d7a9571780d7",
   "metadata": {},
   "outputs": [
    {
     "ename": "ZeroDivisionError",
     "evalue": "division by zero",
     "output_type": "error",
     "traceback": [
      "\u001b[0;31m---------------------------------------------------------------------------\u001b[0m",
      "\u001b[0;31mZeroDivisionError\u001b[0m                         Traceback (most recent call last)",
      "Cell \u001b[0;32mIn[11], line 2\u001b[0m\n\u001b[1;32m      1\u001b[0m \u001b[38;5;28;01mimport\u001b[39;00m \u001b[38;5;21;01mnumpy\u001b[39;00m \u001b[38;5;28;01mas\u001b[39;00m \u001b[38;5;21;01mnp\u001b[39;00m\n\u001b[0;32m----> 2\u001b[0m \u001b[38;5;241;43m1\u001b[39;49m\u001b[38;5;241;43m/\u001b[39;49m\u001b[38;5;241;43m0\u001b[39;49m\n",
      "\u001b[0;31mZeroDivisionError\u001b[0m: division by zero"
     ]
    }
   ],
   "source": []
  },
  {
   "cell_type": "code",
   "execution_count": 12,
   "id": "0ceeccda-a578-4de4-a280-a76d97cc365d",
   "metadata": {},
   "outputs": [],
   "source": [
    "v=5+8j"
   ]
  },
  {
   "cell_type": "code",
   "execution_count": 13,
   "id": "7d9814eb-25e6-4f16-afe3-1df27cf130de",
   "metadata": {},
   "outputs": [
    {
     "data": {
      "text/plain": [
       "complex"
      ]
     },
     "execution_count": 13,
     "metadata": {},
     "output_type": "execute_result"
    }
   ],
   "source": [
    "type(v)"
   ]
  },
  {
   "cell_type": "code",
   "execution_count": 17,
   "id": "06bdf848-bdde-4efe-a6e1-c4c47255a6fe",
   "metadata": {},
   "outputs": [
    {
     "data": {
      "text/plain": [
       "5.0"
      ]
     },
     "execution_count": 17,
     "metadata": {},
     "output_type": "execute_result"
    }
   ],
   "source": [
    "v.real #v. then press tab to get the real part or the Imaginary Part"
   ]
  },
  {
   "cell_type": "code",
   "execution_count": 18,
   "id": "08032815-37c1-43bc-841e-213af0126d72",
   "metadata": {},
   "outputs": [
    {
     "data": {
      "text/plain": [
       "8.0"
      ]
     },
     "execution_count": 18,
     "metadata": {},
     "output_type": "execute_result"
    }
   ],
   "source": [
    "v.imag #v. then press tab to get the real part or the Imaginary Part"
   ]
  },
  {
   "cell_type": "code",
   "execution_count": 20,
   "id": "c9de7ae8-bd89-47ea-bc89-15e1cdf12ada",
   "metadata": {},
   "outputs": [
    {
     "data": {
      "text/plain": [
       "(5+8j)"
      ]
     },
     "execution_count": 20,
     "metadata": {},
     "output_type": "execute_result"
    }
   ],
   "source": [
    "v"
   ]
  },
  {
   "cell_type": "markdown",
   "id": "b0c3433e-2f63-4abf-b84b-886ff4c44bd1",
   "metadata": {},
   "source": [
    "Slicing and Indexing"
   ]
  },
  {
   "cell_type": "code",
   "execution_count": 1,
   "id": "0bf182c2-d33c-4905-a619-e9461ed1fef7",
   "metadata": {},
   "outputs": [],
   "source": [
    "s=\"PWSkills\""
   ]
  },
  {
   "cell_type": "code",
   "execution_count": 24,
   "id": "c00afdd9-4d59-4f06-ac4e-f61d72c00e26",
   "metadata": {},
   "outputs": [
    {
     "data": {
      "text/plain": [
       "'S'"
      ]
     },
     "execution_count": 24,
     "metadata": {},
     "output_type": "execute_result"
    }
   ],
   "source": [
    "s[2] #This is known as the Forward Indexing "
   ]
  },
  {
   "cell_type": "code",
   "execution_count": 25,
   "id": "833e0921-38ea-421e-a39b-5c84cf80ee77",
   "metadata": {},
   "outputs": [
    {
     "data": {
      "text/plain": [
       "'l'"
      ]
     },
     "execution_count": 25,
     "metadata": {},
     "output_type": "execute_result"
    }
   ],
   "source": [
    "s[-2] #This is known as backward Indexing "
   ]
  },
  {
   "cell_type": "code",
   "execution_count": 27,
   "id": "e2faa9ac-5e7c-48e2-87ad-00b82d58a06b",
   "metadata": {},
   "outputs": [
    {
     "data": {
      "text/plain": [
       "'PWS'"
      ]
     },
     "execution_count": 27,
     "metadata": {},
     "output_type": "execute_result"
    }
   ],
   "source": [
    "s[0:3]"
   ]
  },
  {
   "cell_type": "code",
   "execution_count": 29,
   "id": "a996363b-ad55-4770-98ca-8392aab53eb1",
   "metadata": {},
   "outputs": [
    {
     "data": {
      "text/plain": [
       "'PSil'"
      ]
     },
     "execution_count": 29,
     "metadata": {},
     "output_type": "execute_result"
    }
   ],
   "source": [
    "s[::2] #for alternate alphabet from the String [:] means that all of the \n",
    "#Syntax will be [lower limit: upper liomit+1: jump]"
   ]
  },
  {
   "cell_type": "code",
   "execution_count": null,
   "id": "00258414-17f3-4b9f-97eb-130a15a2e6c6",
   "metadata": {},
   "outputs": [],
   "source": [
    "s[::0] # error will pop up as jump cant be 0"
   ]
  },
  {
   "cell_type": "code",
   "execution_count": 3,
   "id": "88548ee0-1e7f-4f54-af2f-d9bd997d9c1a",
   "metadata": {},
   "outputs": [
    {
     "data": {
      "text/plain": [
       "'sllikSWP'"
      ]
     },
     "execution_count": 3,
     "metadata": {},
     "output_type": "execute_result"
    }
   ],
   "source": [
    "s[::-1] # to print the string in the reverse direction "
   ]
  },
  {
   "cell_type": "code",
   "execution_count": 36,
   "id": "a22a00b5-c0a2-472b-bfe2-65c15987c917",
   "metadata": {},
   "outputs": [
    {
     "data": {
      "text/plain": [
       "'PWSkill'"
      ]
     },
     "execution_count": 36,
     "metadata": {},
     "output_type": "execute_result"
    }
   ],
   "source": [
    "s[-8:-1]"
   ]
  },
  {
   "cell_type": "code",
   "execution_count": 3,
   "id": "fc815373-6748-4637-85f6-0f626270f4e6",
   "metadata": {},
   "outputs": [
    {
     "data": {
      "text/plain": [
       "''"
      ]
     },
     "execution_count": 3,
     "metadata": {},
     "output_type": "execute_result"
    }
   ],
   "source": [
    "s[2:7:-1]"
   ]
  },
  {
   "cell_type": "code",
   "execution_count": 6,
   "id": "79ac6c41-fa3c-40d2-98e6-05237388dfa5",
   "metadata": {},
   "outputs": [
    {
     "data": {
      "text/plain": [
       "'l'"
      ]
     },
     "execution_count": 6,
     "metadata": {},
     "output_type": "execute_result"
    }
   ],
   "source": [
    "s[-2:5:-1]"
   ]
  },
  {
   "cell_type": "code",
   "execution_count": 4,
   "id": "f3d13a27-7347-4b69-9041-ba96b2f5ad40",
   "metadata": {},
   "outputs": [
    {
     "data": {
      "text/plain": [
       "'sllikSWP'"
      ]
     },
     "execution_count": 4,
     "metadata": {},
     "output_type": "execute_result"
    }
   ],
   "source": [
    "s[:-42354:-1]"
   ]
  },
  {
   "cell_type": "code",
   "execution_count": 7,
   "id": "638db766-ca55-4ee7-ac5b-85efba2833b7",
   "metadata": {},
   "outputs": [],
   "source": [
    "c='200'"
   ]
  },
  {
   "cell_type": "code",
   "execution_count": 8,
   "id": "531718d9-9f28-49c8-85b2-f3714269357e",
   "metadata": {},
   "outputs": [
    {
     "data": {
      "text/plain": [
       "'2'"
      ]
     },
     "execution_count": 8,
     "metadata": {},
     "output_type": "execute_result"
    }
   ],
   "source": [
    "c[0]"
   ]
  },
  {
   "cell_type": "code",
   "execution_count": 9,
   "id": "0ed3c287-2982-43c8-a8f4-7d14e18d9564",
   "metadata": {},
   "outputs": [],
   "source": [
    "s1='jhfdfbdbdf dgvsfdf khhfbdhf hvskbs'"
   ]
  },
  {
   "cell_type": "code",
   "execution_count": 10,
   "id": "1d34e8d8-08b9-47e0-9648-c66ccda26a7c",
   "metadata": {},
   "outputs": [
    {
     "data": {
      "text/plain": [
       "34"
      ]
     },
     "execution_count": 10,
     "metadata": {},
     "output_type": "execute_result"
    }
   ],
   "source": [
    "len(s1)"
   ]
  },
  {
   "cell_type": "markdown",
   "id": "f2d5e67b-58d7-4bb2-8c54-00e54f7de100",
   "metadata": {},
   "source": [
    "to find wether that specific character is present in it or not "
   ]
  },
  {
   "cell_type": "code",
   "execution_count": 17,
   "id": "155f7674-4da1-4656-9de8-aafd75d34a49",
   "metadata": {},
   "outputs": [
    {
     "data": {
      "text/plain": [
       "14"
      ]
     },
     "execution_count": 17,
     "metadata": {},
     "output_type": "execute_result"
    }
   ],
   "source": [
    "s1.find('s')"
   ]
  },
  {
   "cell_type": "code",
   "execution_count": 19,
   "id": "7d85246d-ca41-4459-ac1d-854c8b5d4bae",
   "metadata": {},
   "outputs": [
    {
     "data": {
      "text/plain": [
       "-1"
      ]
     },
     "execution_count": 19,
     "metadata": {},
     "output_type": "execute_result"
    }
   ],
   "source": [
    "s1.find('r') #will reflect -1 if that specific character is not present in the string "
   ]
  },
  {
   "cell_type": "code",
   "execution_count": 21,
   "id": "293fa583-96be-414c-a7f6-ec19ea5b4f77",
   "metadata": {},
   "outputs": [
    {
     "data": {
      "text/plain": [
       "'Jhfdfbdbdf dgvsfdf khhfbdhf hvskbs'"
      ]
     },
     "execution_count": 21,
     "metadata": {},
     "output_type": "execute_result"
    }
   ],
   "source": [
    "s1.capitalize()"
   ]
  },
  {
   "cell_type": "code",
   "execution_count": 24,
   "id": "fcfdeb79-f5f6-49c1-b8e0-82c7cf4d7873",
   "metadata": {},
   "outputs": [
    {
     "data": {
      "text/plain": [
       "3"
      ]
     },
     "execution_count": 24,
     "metadata": {},
     "output_type": "execute_result"
    }
   ],
   "source": [
    "s1.count('s') #to count the number of times a specific character appears"
   ]
  },
  {
   "cell_type": "code",
   "execution_count": 23,
   "id": "2f6e0909-4af8-4a77-8885-f5d23d1f8b14",
   "metadata": {},
   "outputs": [
    {
     "data": {
      "text/plain": [
       "0"
      ]
     },
     "execution_count": 23,
     "metadata": {},
     "output_type": "execute_result"
    }
   ],
   "source": [
    "s1.count('r')"
   ]
  },
  {
   "cell_type": "code",
   "execution_count": 25,
   "id": "26906a7a-0d99-48ce-b6b3-27b88619f3f0",
   "metadata": {},
   "outputs": [
    {
     "data": {
      "text/plain": [
       "'JHFDFBDBDF DGVSFDF KHHFBDHF HVSKBS'"
      ]
     },
     "execution_count": 25,
     "metadata": {},
     "output_type": "execute_result"
    }
   ],
   "source": [
    "s1.upper()"
   ]
  },
  {
   "cell_type": "code",
   "execution_count": 26,
   "id": "ab2e511e-4b1d-4f7b-b0db-4f68215965e8",
   "metadata": {},
   "outputs": [
    {
     "data": {
      "text/plain": [
       "'Jhfdfbdbdf Dgvsfdf Khhfbdhf Hvskbs'"
      ]
     },
     "execution_count": 26,
     "metadata": {},
     "output_type": "execute_result"
    }
   ],
   "source": [
    "s1.title()"
   ]
  },
  {
   "cell_type": "code",
   "execution_count": 27,
   "id": "4d1312e8-74c5-4732-b3dd-cdfed34189c6",
   "metadata": {},
   "outputs": [
    {
     "data": {
      "text/plain": [
       "'Jhfdfbdbdf Dgvsfdf Khhfbdhf Hvskbs'"
      ]
     },
     "execution_count": 27,
     "metadata": {},
     "output_type": "execute_result"
    }
   ],
   "source": [
    "s1.title()"
   ]
  },
  {
   "cell_type": "code",
   "execution_count": 3,
   "id": "30651dff-5f3d-40f8-a7fc-fcdb177e5316",
   "metadata": {},
   "outputs": [],
   "source": [
    "s2='sudh'"
   ]
  },
  {
   "cell_type": "code",
   "execution_count": 4,
   "id": "70ba6d04-39de-4713-b47e-2a387f34bec6",
   "metadata": {},
   "outputs": [
    {
     "data": {
      "text/plain": [
       "'sudhsudhsudhsudh'"
      ]
     },
     "execution_count": 4,
     "metadata": {},
     "output_type": "execute_result"
    }
   ],
   "source": [
    "s2*4"
   ]
  },
  {
   "cell_type": "code",
   "execution_count": 5,
   "id": "8886d8fb-d49a-456a-8805-e16d67da76c6",
   "metadata": {},
   "outputs": [
    {
     "data": {
      "text/plain": [
       "'for single line comment \\nkhsdbvdaff\\nsdkvbsdihdsvv\\njhfdahgfe/n jvdjsqvdhqw'"
      ]
     },
     "execution_count": 5,
     "metadata": {},
     "output_type": "execute_result"
    }
   ],
   "source": [
    "# for single line comment \n",
    "# khsdbvdaff\n",
    "# sdkvbsdihd\\\n",
    "# svv\\njhfdahgfe/n jvdjsqvdhqw"
   ]
  },
  {
   "cell_type": "code",
   "execution_count": null,
   "id": "9fea8ea1-9be9-43e5-ae02-877a04f9a847",
   "metadata": {},
   "outputs": [],
   "source": []
  }
 ],
 "metadata": {
  "kernelspec": {
   "display_name": "Python 3 (ipykernel)",
   "language": "python",
   "name": "python3"
  },
  "language_info": {
   "codemirror_mode": {
    "name": "ipython",
    "version": 3
   },
   "file_extension": ".py",
   "mimetype": "text/x-python",
   "name": "python",
   "nbconvert_exporter": "python",
   "pygments_lexer": "ipython3",
   "version": "3.10.8"
  }
 },
 "nbformat": 4,
 "nbformat_minor": 5
}
