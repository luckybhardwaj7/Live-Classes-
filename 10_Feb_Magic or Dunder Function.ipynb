{
 "cells": [
  {
   "cell_type": "markdown",
   "id": "27d0fde2-b7cc-4e1f-9bea-b9a186f49a88",
   "metadata": {},
   "source": [
    "Dunder or Special Magic Method\n",
    "\n",
    "__init__ is a Dunder "
   ]
  },
  {
   "cell_type": "code",
   "execution_count": 1,
   "id": "92c477ec-be06-4de1-ab88-3a7592d968ed",
   "metadata": {},
   "outputs": [
    {
     "data": {
      "text/plain": [
       "['__abs__',\n",
       " '__add__',\n",
       " '__and__',\n",
       " '__bool__',\n",
       " '__ceil__',\n",
       " '__class__',\n",
       " '__delattr__',\n",
       " '__dir__',\n",
       " '__divmod__',\n",
       " '__doc__',\n",
       " '__eq__',\n",
       " '__float__',\n",
       " '__floor__',\n",
       " '__floordiv__',\n",
       " '__format__',\n",
       " '__ge__',\n",
       " '__getattribute__',\n",
       " '__getnewargs__',\n",
       " '__gt__',\n",
       " '__hash__',\n",
       " '__index__',\n",
       " '__init__',\n",
       " '__init_subclass__',\n",
       " '__int__',\n",
       " '__invert__',\n",
       " '__le__',\n",
       " '__lshift__',\n",
       " '__lt__',\n",
       " '__mod__',\n",
       " '__mul__',\n",
       " '__ne__',\n",
       " '__neg__',\n",
       " '__new__',\n",
       " '__or__',\n",
       " '__pos__',\n",
       " '__pow__',\n",
       " '__radd__',\n",
       " '__rand__',\n",
       " '__rdivmod__',\n",
       " '__reduce__',\n",
       " '__reduce_ex__',\n",
       " '__repr__',\n",
       " '__rfloordiv__',\n",
       " '__rlshift__',\n",
       " '__rmod__',\n",
       " '__rmul__',\n",
       " '__ror__',\n",
       " '__round__',\n",
       " '__rpow__',\n",
       " '__rrshift__',\n",
       " '__rshift__',\n",
       " '__rsub__',\n",
       " '__rtruediv__',\n",
       " '__rxor__',\n",
       " '__setattr__',\n",
       " '__sizeof__',\n",
       " '__str__',\n",
       " '__sub__',\n",
       " '__subclasshook__',\n",
       " '__truediv__',\n",
       " '__trunc__',\n",
       " '__xor__',\n",
       " 'as_integer_ratio',\n",
       " 'bit_count',\n",
       " 'bit_length',\n",
       " 'conjugate',\n",
       " 'denominator',\n",
       " 'from_bytes',\n",
       " 'imag',\n",
       " 'numerator',\n",
       " 'real',\n",
       " 'to_bytes']"
      ]
     },
     "execution_count": 1,
     "metadata": {},
     "output_type": "execute_result"
    }
   ],
   "source": [
    "dir(int)"
   ]
  },
  {
   "cell_type": "code",
   "execution_count": 2,
   "id": "5244cd43-e00c-4427-ac8c-806bd7d51ebd",
   "metadata": {},
   "outputs": [
    {
     "data": {
      "text/plain": [
       "['__add__',\n",
       " '__class__',\n",
       " '__contains__',\n",
       " '__delattr__',\n",
       " '__dir__',\n",
       " '__doc__',\n",
       " '__eq__',\n",
       " '__format__',\n",
       " '__ge__',\n",
       " '__getattribute__',\n",
       " '__getitem__',\n",
       " '__getnewargs__',\n",
       " '__gt__',\n",
       " '__hash__',\n",
       " '__init__',\n",
       " '__init_subclass__',\n",
       " '__iter__',\n",
       " '__le__',\n",
       " '__len__',\n",
       " '__lt__',\n",
       " '__mod__',\n",
       " '__mul__',\n",
       " '__ne__',\n",
       " '__new__',\n",
       " '__reduce__',\n",
       " '__reduce_ex__',\n",
       " '__repr__',\n",
       " '__rmod__',\n",
       " '__rmul__',\n",
       " '__setattr__',\n",
       " '__sizeof__',\n",
       " '__str__',\n",
       " '__subclasshook__',\n",
       " 'capitalize',\n",
       " 'casefold',\n",
       " 'center',\n",
       " 'count',\n",
       " 'encode',\n",
       " 'endswith',\n",
       " 'expandtabs',\n",
       " 'find',\n",
       " 'format',\n",
       " 'format_map',\n",
       " 'index',\n",
       " 'isalnum',\n",
       " 'isalpha',\n",
       " 'isascii',\n",
       " 'isdecimal',\n",
       " 'isdigit',\n",
       " 'isidentifier',\n",
       " 'islower',\n",
       " 'isnumeric',\n",
       " 'isprintable',\n",
       " 'isspace',\n",
       " 'istitle',\n",
       " 'isupper',\n",
       " 'join',\n",
       " 'ljust',\n",
       " 'lower',\n",
       " 'lstrip',\n",
       " 'maketrans',\n",
       " 'partition',\n",
       " 'removeprefix',\n",
       " 'removesuffix',\n",
       " 'replace',\n",
       " 'rfind',\n",
       " 'rindex',\n",
       " 'rjust',\n",
       " 'rpartition',\n",
       " 'rsplit',\n",
       " 'rstrip',\n",
       " 'split',\n",
       " 'splitlines',\n",
       " 'startswith',\n",
       " 'strip',\n",
       " 'swapcase',\n",
       " 'title',\n",
       " 'translate',\n",
       " 'upper',\n",
       " 'zfill']"
      ]
     },
     "execution_count": 2,
     "metadata": {},
     "output_type": "execute_result"
    }
   ],
   "source": [
    "dir(str)"
   ]
  },
  {
   "cell_type": "code",
   "execution_count": 3,
   "id": "516194f6-509a-404c-8ff1-8ecaf73eb6a9",
   "metadata": {},
   "outputs": [],
   "source": [
    "#the ones with __(xyz)__ are the Magic or Dunder Function "
   ]
  },
  {
   "cell_type": "code",
   "execution_count": 4,
   "id": "53c48324-24a0-4558-a501-30e8721b3238",
   "metadata": {},
   "outputs": [],
   "source": [
    "a=100"
   ]
  },
  {
   "cell_type": "code",
   "execution_count": 5,
   "id": "b2e6682b-3295-4f9d-ae89-dceb9a7b3914",
   "metadata": {},
   "outputs": [
    {
     "data": {
      "text/plain": [
       "105"
      ]
     },
     "execution_count": 5,
     "metadata": {},
     "output_type": "execute_result"
    }
   ],
   "source": [
    "a+5"
   ]
  },
  {
   "cell_type": "code",
   "execution_count": 6,
   "id": "33e61f9e-a4a9-4a93-85fd-f7edac70974b",
   "metadata": {},
   "outputs": [],
   "source": [
    "#same you can do via Dunder Function"
   ]
  },
  {
   "cell_type": "code",
   "execution_count": 7,
   "id": "e276a1c9-f14e-4ad6-86ca-19d1bb92e3ca",
   "metadata": {},
   "outputs": [
    {
     "data": {
      "text/plain": [
       "105"
      ]
     },
     "execution_count": 7,
     "metadata": {},
     "output_type": "execute_result"
    }
   ],
   "source": [
    "a.__add__(5)"
   ]
  },
  {
   "cell_type": "markdown",
   "id": "6ae42cdb-0654-4530-a3e6-bae5ab71bad0",
   "metadata": {},
   "source": [
    "in the above code ('a+5') it is calling the a.__add__(5) internally\n",
    "\n",
    "You can call them anytime in Python these are called by default"
   ]
  },
  {
   "cell_type": "code",
   "execution_count": 9,
   "id": "95772613-3737-4857-981f-b123804137db",
   "metadata": {},
   "outputs": [],
   "source": [
    "class pwskills:\n",
    "    def __init__(self):\n",
    "        self.mobile_number=9876543210"
   ]
  },
  {
   "cell_type": "code",
   "execution_count": 10,
   "id": "465fcd22-e9a1-4f1a-91fe-1a6452a2a1ff",
   "metadata": {},
   "outputs": [],
   "source": [
    "pw=pwskills()"
   ]
  },
  {
   "cell_type": "code",
   "execution_count": 11,
   "id": "3d845860-5e45-4ecf-b3a8-0ac81260ddb2",
   "metadata": {},
   "outputs": [
    {
     "data": {
      "text/plain": [
       "9876543210"
      ]
     },
     "execution_count": 11,
     "metadata": {},
     "output_type": "execute_result"
    }
   ],
   "source": [
    "pw.mobile_number"
   ]
  },
  {
   "cell_type": "code",
   "execution_count": 23,
   "id": "6c67ee1a-69e5-4225-a373-0e09ddda9435",
   "metadata": {},
   "outputs": [],
   "source": [
    "class pwskills1:\n",
    "    def __new__(cls):\n",
    "        print('this is my new')\n",
    "        \n",
    "    \n",
    "    def __init__(self):\n",
    "        print('this is my init')\n",
    "        self.mobile_number=9876543210"
   ]
  },
  {
   "cell_type": "code",
   "execution_count": 28,
   "id": "39c35a71-8edd-45b1-a145-2091c55713d7",
   "metadata": {},
   "outputs": [
    {
     "name": "stdout",
     "output_type": "stream",
     "text": [
      "this is my init\n"
     ]
    }
   ],
   "source": [
    "pw1=pwskills()"
   ]
  },
  {
   "cell_type": "code",
   "execution_count": 34,
   "id": "cbcabd73-7b1f-4008-b44c-65eff543529b",
   "metadata": {},
   "outputs": [],
   "source": [
    "class pwskills2:\n",
    "    \n",
    "    def __init__(self):\n",
    "       \n",
    "        self.mobile_number=9876543210"
   ]
  },
  {
   "cell_type": "code",
   "execution_count": 35,
   "id": "73e17a08-8dd7-4fab-a0f5-51ec697eced9",
   "metadata": {},
   "outputs": [],
   "source": [
    "pw2=pwskills2()"
   ]
  },
  {
   "cell_type": "code",
   "execution_count": 36,
   "id": "c91c7db7-9144-44eb-a4f5-b1f86ab0e6b3",
   "metadata": {},
   "outputs": [
    {
     "data": {
      "text/plain": [
       "<__main__.pwskills2 at 0x7facf0270160>"
      ]
     },
     "execution_count": 36,
     "metadata": {},
     "output_type": "execute_result"
    }
   ],
   "source": [
    "pw2"
   ]
  },
  {
   "cell_type": "code",
   "execution_count": 47,
   "id": "77a895fb-e04a-446a-9c3a-12b0ec5818a5",
   "metadata": {},
   "outputs": [],
   "source": [
    "#suppose we dont need a hexagonal code\n",
    "class pwskills3:\n",
    "    \n",
    "    def __init__(self):\n",
    "       \n",
    "        self.mobile_number=9876543210\n",
    "    def __str__(self):\n",
    "        return 'this is my magic call for str'\n",
    "        "
   ]
  },
  {
   "cell_type": "code",
   "execution_count": 48,
   "id": "f5753ab1-d2e1-4ec9-8994-f8ae81f99858",
   "metadata": {},
   "outputs": [],
   "source": [
    "pw3=pwskills3()"
   ]
  },
  {
   "cell_type": "code",
   "execution_count": 49,
   "id": "970651e8-f663-41e6-b273-b11e3f7c64ca",
   "metadata": {},
   "outputs": [
    {
     "name": "stdout",
     "output_type": "stream",
     "text": [
      "this is my magic call for str\n"
     ]
    }
   ],
   "source": [
    "print(pw3)"
   ]
  },
  {
   "cell_type": "code",
   "execution_count": 50,
   "id": "f586f351-5101-4d24-a338-3eccae43991e",
   "metadata": {},
   "outputs": [],
   "source": [
    "#Avoid using it thats not a right approach"
   ]
  },
  {
   "cell_type": "code",
   "execution_count": null,
   "id": "2f36b912-7ee6-4fb9-9626-bf9cd3ef64e1",
   "metadata": {},
   "outputs": [],
   "source": []
  }
 ],
 "metadata": {
  "kernelspec": {
   "display_name": "Python 3 (ipykernel)",
   "language": "python",
   "name": "python3"
  },
  "language_info": {
   "codemirror_mode": {
    "name": "ipython",
    "version": 3
   },
   "file_extension": ".py",
   "mimetype": "text/x-python",
   "name": "python",
   "nbconvert_exporter": "python",
   "pygments_lexer": "ipython3",
   "version": "3.10.8"
  }
 },
 "nbformat": 4,
 "nbformat_minor": 5
}
