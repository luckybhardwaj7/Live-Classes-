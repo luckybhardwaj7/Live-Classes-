{
 "cells": [
  {
   "cell_type": "code",
   "execution_count": 1,
   "id": "deb6bcfe-2017-4613-9fd6-8b877d444d2c",
   "metadata": {},
   "outputs": [],
   "source": [
    "d={}"
   ]
  },
  {
   "cell_type": "code",
   "execution_count": 2,
   "id": "f3130c4b-b228-44ec-a87e-8d20c26d0d15",
   "metadata": {},
   "outputs": [
    {
     "data": {
      "text/plain": [
       "dict"
      ]
     },
     "execution_count": 2,
     "metadata": {},
     "output_type": "execute_result"
    }
   ],
   "source": [
    "type(d)"
   ]
  },
  {
   "cell_type": "code",
   "execution_count": 4,
   "id": "257b57e7-0517-421d-a42e-ed62a032f219",
   "metadata": {},
   "outputs": [],
   "source": [
    "d1={'Key': 7}"
   ]
  },
  {
   "cell_type": "code",
   "execution_count": 5,
   "id": "e0d462de-f541-40d5-8e3a-e394d3b4d4af",
   "metadata": {},
   "outputs": [
    {
     "data": {
      "text/plain": [
       "{'Key': 7}"
      ]
     },
     "execution_count": 5,
     "metadata": {},
     "output_type": "execute_result"
    }
   ],
   "source": [
    "d1"
   ]
  },
  {
   "cell_type": "code",
   "execution_count": 8,
   "id": "c1bad5a6-803f-440a-bc0a-6ddd7d43f98e",
   "metadata": {},
   "outputs": [],
   "source": [
    "d2={'Name':'Lucky','e-mail':'blucky@gmail.com','phn.no.':9634}"
   ]
  },
  {
   "cell_type": "code",
   "execution_count": 9,
   "id": "b1781f63-0def-4910-859a-6fc3e11acbe9",
   "metadata": {},
   "outputs": [
    {
     "data": {
      "text/plain": [
       "{'Name': 'Lucky', 'e-mail': 'blucky@gmail.com', 'phn.no.': 9634}"
      ]
     },
     "execution_count": 9,
     "metadata": {},
     "output_type": "execute_result"
    }
   ],
   "source": [
    "d2"
   ]
  },
  {
   "cell_type": "code",
   "execution_count": 13,
   "id": "dfff2c2f-7bff-423d-8836-ef0dcaae2283",
   "metadata": {},
   "outputs": [],
   "source": [
    "d3={123:'Lucky','email':'blucky@gmail.com','phn.no.':9634,12:True,False:32}"
   ]
  },
  {
   "cell_type": "code",
   "execution_count": 14,
   "id": "231bcc26-c005-41d0-a43f-d9514db9e363",
   "metadata": {},
   "outputs": [
    {
     "data": {
      "text/plain": [
       "'Lucky'"
      ]
     },
     "execution_count": 14,
     "metadata": {},
     "output_type": "execute_result"
    }
   ],
   "source": [
    "d3[123]"
   ]
  },
  {
   "cell_type": "code",
   "execution_count": 16,
   "id": "46df695b-250a-4ef4-a357-5bfc232480c0",
   "metadata": {},
   "outputs": [
    {
     "data": {
      "text/plain": [
       "True"
      ]
     },
     "execution_count": 16,
     "metadata": {},
     "output_type": "execute_result"
    }
   ],
   "source": [
    "d3[12]"
   ]
  },
  {
   "cell_type": "code",
   "execution_count": 18,
   "id": "3698c577-6f88-4430-8a19-87c63e27d253",
   "metadata": {},
   "outputs": [
    {
     "data": {
      "text/plain": [
       "32"
      ]
     },
     "execution_count": 18,
     "metadata": {},
     "output_type": "execute_result"
    }
   ],
   "source": [
    "d3[False]"
   ]
  },
  {
   "cell_type": "code",
   "execution_count": 19,
   "id": "5a21e0d3-5798-4db2-9a5d-cb334c55e11c",
   "metadata": {},
   "outputs": [
    {
     "data": {
      "text/plain": [
       "32"
      ]
     },
     "execution_count": 19,
     "metadata": {},
     "output_type": "execute_result"
    }
   ],
   "source": [
    "d3[0]"
   ]
  },
  {
   "cell_type": "code",
   "execution_count": 20,
   "id": "875ccc7d-7b27-4c18-b438-f0497f6a1131",
   "metadata": {},
   "outputs": [],
   "source": [
    "d4={123:'Lucky','email':'blucky@gmail.com','phn.no.':9634,12:True,123:32}"
   ]
  },
  {
   "cell_type": "code",
   "execution_count": 22,
   "id": "5b6290de-bab9-4fa7-a957-e10e1c1609f2",
   "metadata": {},
   "outputs": [
    {
     "data": {
      "text/plain": [
       "32"
      ]
     },
     "execution_count": 22,
     "metadata": {},
     "output_type": "execute_result"
    }
   ],
   "source": [
    "d4[123]"
   ]
  },
  {
   "cell_type": "code",
   "execution_count": 25,
   "id": "be9d25c5-c5b0-4f64-b5bf-6b88dec9eae3",
   "metadata": {},
   "outputs": [],
   "source": [
    "d5={'Company':'PWSkils','Courses':['xyz','zxy','yxz','yzx','xzy','zyx']}"
   ]
  },
  {
   "cell_type": "code",
   "execution_count": 26,
   "id": "cf77f47c-a079-40a1-9b40-a3e4ef16d110",
   "metadata": {},
   "outputs": [
    {
     "data": {
      "text/plain": [
       "{'Company': 'PWSkils', 'Courses': ['xyz', 'zxy', 'yxz', 'yzx', 'xzy', 'zyx']}"
      ]
     },
     "execution_count": 26,
     "metadata": {},
     "output_type": "execute_result"
    }
   ],
   "source": [
    "d5"
   ]
  },
  {
   "cell_type": "code",
   "execution_count": 38,
   "id": "004594b0-7b0f-4786-aae8-7bc42c967d4a",
   "metadata": {},
   "outputs": [
    {
     "name": "stdin",
     "output_type": "stream",
     "text": [
      "Enter marks 40\n"
     ]
    },
    {
     "name": "stdout",
     "output_type": "stream",
     "text": [
      "Part of A2 batch\n",
      "welcome\n"
     ]
    }
   ],
   "source": [
    "marks=int(input('Enter marks'))\n",
    "if marks>=80:\n",
    "    print('Part of A0 batch')\n",
    "elif marks>=60 and marks<80:\n",
    "    print('Part of A1 batch')\n",
    "elif marks>=40 and marks<60:\n",
    "    print('Part of A2 batch')\n",
    "else:\n",
    "    print('Part of A3 batch')\n",
    "print('welcome')"
   ]
  },
  {
   "cell_type": "code",
   "execution_count": 46,
   "id": "b0816f2f-df13-475c-8b13-194847efa89b",
   "metadata": {},
   "outputs": [
    {
     "name": "stdin",
     "output_type": "stream",
     "text": [
      "Enter Price 5434\n"
     ]
    },
    {
     "name": "stdout",
     "output_type": "stream",
     "text": [
      "do not Purchase\n"
     ]
    }
   ],
   "source": [
    "price=float(input('Enter Price'))\n",
    "if price>1000:\n",
    "    print('do not Purchase')\n",
    "else:\n",
    "    print('Purchase it')"
   ]
  },
  {
   "cell_type": "code",
   "execution_count": 47,
   "id": "45c0f930-24b4-4582-bf9e-32043dd40873",
   "metadata": {},
   "outputs": [
    {
     "name": "stdin",
     "output_type": "stream",
     "text": [
      "Enter Price 234\n"
     ]
    }
   ],
   "source": [
    "price=float(input('Enter Price'))\n",
    "if price>1000:\n",
    "    print('do not Purchase')\n"
   ]
  },
  {
   "cell_type": "code",
   "execution_count": 49,
   "id": "d7227109-030a-4a40-8877-16de02b7cbb4",
   "metadata": {},
   "outputs": [
    {
     "name": "stdin",
     "output_type": "stream",
     "text": [
      "Enter Price 435\n"
     ]
    },
    {
     "name": "stdout",
     "output_type": "stream",
     "text": [
      "Purchase it\n",
      "Great Deal\n"
     ]
    }
   ],
   "source": [
    "price=float(input('Enter Price'))\n",
    "if price>1000:\n",
    "    print('do not Purchase')\n",
    "    if price>6000:\n",
    "        print('That is to much')\n",
    "else:\n",
    "    print('Purchase it')\n",
    "    if price<500:\n",
    "        print('Great Deal')"
   ]
  },
  {
   "cell_type": "code",
   "execution_count": 8,
   "id": "edabb42d-34a2-4ad9-aefa-b28966022d9d",
   "metadata": {},
   "outputs": [
    {
     "name": "stdout",
     "output_type": "stream",
     "text": [
      "2\n",
      "3\n",
      "4\n",
      "5\n",
      "6\n",
      "7\n",
      "8\n",
      "9\n"
     ]
    }
   ],
   "source": [
    "x=[1,2,3,4,5,6,7,8]\n",
    "for num in x:\n",
    "    print(num+1)"
   ]
  },
  {
   "cell_type": "code",
   "execution_count": 7,
   "id": "8b6e109a-34b5-4886-9f3a-915eea302d70",
   "metadata": {},
   "outputs": [
    {
     "name": "stdout",
     "output_type": "stream",
     "text": [
      "2\n",
      "3\n",
      "4\n",
      "5\n",
      "6\n",
      "7\n",
      "8\n",
      "9\n"
     ]
    },
    {
     "data": {
      "text/plain": [
       "[2, 3, 4, 5, 6, 7, 8, 9]"
      ]
     },
     "execution_count": 7,
     "metadata": {},
     "output_type": "execute_result"
    }
   ],
   "source": [
    "x1=[]\n",
    "x=[1,2,3,4,5,6,7,8]\n",
    "for num in x:\n",
    "    print(num+1)\n",
    "    x1.append(num+1)\n",
    "x1"
   ]
  },
  {
   "cell_type": "code",
   "execution_count": 6,
   "id": "6a9fb48e-6801-4131-bb81-8431b270c271",
   "metadata": {},
   "outputs": [
    {
     "name": "stdout",
     "output_type": "stream",
     "text": [
      "Sudheer\n",
      "Lucky\n",
      "Gajodhar\n"
     ]
    },
    {
     "data": {
      "text/plain": [
       "['Sudheer', 'Lucky', 'Gajodhar']"
      ]
     },
     "execution_count": 6,
     "metadata": {},
     "output_type": "execute_result"
    }
   ],
   "source": [
    "l1=[]\n",
    "l=['sudheer','lucky','gajodhar']\n",
    "for name in l:\n",
    "    print(name.capitalize())\n",
    "    l1.append(name.capitalize())\n",
    "l1"
   ]
  },
  {
   "cell_type": "code",
   "execution_count": 5,
   "id": "e9be6b08-1788-4da5-933b-d883a2867025",
   "metadata": {},
   "outputs": [
    {
     "data": {
      "text/plain": [
       "['Sudheer', 'Lucky', 'Gajodhar']"
      ]
     },
     "execution_count": 5,
     "metadata": {},
     "output_type": "execute_result"
    }
   ],
   "source": [
    "l1=[]\n",
    "l=['sudheer','lucky','gajodhar']\n",
    "for name in l:\n",
    "    l1.append(name.capitalize())\n",
    "l1"
   ]
  },
  {
   "cell_type": "code",
   "execution_count": 3,
   "id": "52073901-0dc0-4d2d-9068-34c90dac8f76",
   "metadata": {},
   "outputs": [],
   "source": [
    "l=[1,2,3,4,'lucky','bhardwaj',324,24.34,'abc']"
   ]
  },
  {
   "cell_type": "code",
   "execution_count": 4,
   "id": "dd4965a9-e888-4900-9281-f73c7ffd084f",
   "metadata": {},
   "outputs": [
    {
     "name": "stdout",
     "output_type": "stream",
     "text": [
      "[1, 2, 3, 4, 324, 24.34]\n",
      "['lucky', 'bhardwaj', 'abc']\n"
     ]
    }
   ],
   "source": [
    "list_str=[]\n",
    "list_int=[]\n",
    "for i in l:\n",
    "    if type(i)==str:\n",
    "        list_str.append(i)\n",
    "    else:\n",
    "        list_int.append(i)\n",
    "print(list_int)\n",
    "print(list_str)"
   ]
  },
  {
   "cell_type": "code",
   "execution_count": null,
   "id": "fd50c817-55d3-447b-a5a1-a00c77374865",
   "metadata": {},
   "outputs": [],
   "source": []
  }
 ],
 "metadata": {
  "kernelspec": {
   "display_name": "Python 3 (ipykernel)",
   "language": "python",
   "name": "python3"
  },
  "language_info": {
   "codemirror_mode": {
    "name": "ipython",
    "version": 3
   },
   "file_extension": ".py",
   "mimetype": "text/x-python",
   "name": "python",
   "nbconvert_exporter": "python",
   "pygments_lexer": "ipython3",
   "version": "3.10.8"
  }
 },
 "nbformat": 4,
 "nbformat_minor": 5
}
