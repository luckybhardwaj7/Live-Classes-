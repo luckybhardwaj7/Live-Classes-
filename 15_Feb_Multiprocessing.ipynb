{
 "cells": [
  {
   "cell_type": "markdown",
   "id": "5b7da8fd-6ce0-480a-b710-70f884f4868c",
   "metadata": {},
   "source": [
    "Multiprocessing"
   ]
  },
  {
   "cell_type": "code",
   "execution_count": 2,
   "id": "0e9f6649-a0d0-41c7-a969-5d4d5ed02c81",
   "metadata": {},
   "outputs": [],
   "source": [
    "import multiprocessing\n",
    "def test():\n",
    "    print('this is my multiprocessing program')"
   ]
  },
  {
   "cell_type": "code",
   "execution_count": 3,
   "id": "d46ab9aa-f752-48f7-b5dd-a921b4253085",
   "metadata": {},
   "outputs": [
    {
     "name": "stdout",
     "output_type": "stream",
     "text": [
      "this is my multiprocessing program\n"
     ]
    }
   ],
   "source": [
    "test()\n",
    "# this is how we can normally calls the program"
   ]
  },
  {
   "cell_type": "code",
   "execution_count": 6,
   "id": "e37b4805-a10b-4792-9b0c-73395a98bf1d",
   "metadata": {},
   "outputs": [
    {
     "name": "stdout",
     "output_type": "stream",
     "text": [
      "this is my main program\n",
      "this is my multiprocessing program\n"
     ]
    }
   ],
   "source": [
    "def test():\n",
    "    print('this is my multiprocessing program')\n",
    "if __name__=='__main__':\n",
    "    m=multiprocessing.Process(target=test)\n",
    "    print('this is my main program')\n",
    "    m.start()\n",
    "    m.join()\n",
    "# this is how you can execute both of the programs together "
   ]
  },
  {
   "cell_type": "code",
   "execution_count": 11,
   "id": "f876dead-842a-4c45-b42e-1570b3a2ada7",
   "metadata": {},
   "outputs": [
    {
     "name": "stdout",
     "output_type": "stream",
     "text": [
      "[1, 4, 9, 16, 25, 36, 49, 64, 81]\n"
     ]
    }
   ],
   "source": [
    "def square(n):\n",
    "    return n**2\n",
    "#this is child program\n",
    "\n",
    "if __name__ == '__main__':\n",
    "    with multiprocessing.Pool(processes=4) as pool:\n",
    "        out= pool.map(square,[1,2,3,4,5,6,7,8,9])\n",
    "        print(out)"
   ]
  },
  {
   "cell_type": "code",
   "execution_count": 12,
   "id": "3e002419-11a0-4b84-85ea-399b0e375b93",
   "metadata": {},
   "outputs": [],
   "source": [
    "# Multiprocessing helps in reducing the time taken to execute the code"
   ]
  },
  {
   "cell_type": "code",
   "execution_count": null,
   "id": "333fb994-7f0c-4ab5-81f9-dfd386d3784c",
   "metadata": {},
   "outputs": [
    {
     "name": "stdout",
     "output_type": "stream",
     "text": [
      "0\n",
      "1\n",
      "2\n",
      "3\n",
      "4\n",
      "5\n",
      "6\n",
      "7\n",
      "8\n",
      "9\n",
      "Lucky\n"
     ]
    }
   ],
   "source": [
    "def producer(q):\n",
    "    for i in range(10):\n",
    "        q.put(i)\n",
    "\n",
    "def consume(q):\n",
    "        while True:\n",
    "            item=q.get()\n",
    "            if item is None:\n",
    "                break\n",
    "            print(item)\n",
    "            \n",
    "if __name__=='__main__':\n",
    "    queue = multiprocessing.Queue()\n",
    "    m1=multiprocessing.Process(target=producer,args=(queue,))\n",
    "    m2=multiprocessing.Process(target=consume,args=(queue,))\n",
    "    m1.start()\n",
    "    m2.start()\n",
    "    queue.put('Lucky')\n",
    "    m1.join()\n",
    "    m2.join()"
   ]
  },
  {
   "cell_type": "code",
   "execution_count": null,
   "id": "84111d1d-39a0-4cc6-bdef-1104a22f4b56",
   "metadata": {},
   "outputs": [
    {
     "name": "stdout",
     "output_type": "stream",
     "text": [
      "Lucky\n",
      "Yash\n",
      "Shreya\n",
      "Lucky\n"
     ]
    }
   ],
   "source": [
    "import multiprocessing\n",
    "def producer(q):\n",
    "    for i in ['Lucky','Yash','Shreya']:\n",
    "        q.put(i)\n",
    "\n",
    "def consume(q):\n",
    "        while True:\n",
    "            item=q.get()\n",
    "            if item is None:\n",
    "                break\n",
    "            print(item)\n",
    "            \n",
    "if __name__=='__main__':\n",
    "    queue = multiprocessing.Queue()\n",
    "    m1=multiprocessing.Process(target=producer,args=(queue,))\n",
    "    m2=multiprocessing.Process(target=consume,args=(queue,))\n",
    "    m1.start()\n",
    "    m2.start()\n",
    "    queue.put('Lucky')\n",
    "    m1.join()\n",
    "    m2.join()"
   ]
  },
  {
   "cell_type": "code",
   "execution_count": 5,
   "id": "23966094-5bbe-422f-a9dd-98cc55f129ff",
   "metadata": {},
   "outputs": [
    {
     "name": "stdout",
     "output_type": "stream",
     "text": [
      "[4, 9, 16, 25, 36, 49, 64]\n"
     ]
    }
   ],
   "source": [
    "def square(index,value):\n",
    "    value[index]=value[index]**2\n",
    "if __name__ == '__main__':\n",
    "    arr = multiprocessing.Array('i',[2,3,4,5,6,7,8])\n",
    "    process=[]\n",
    "    for i in range(7):\n",
    "        m=multiprocessing.Process(target=square,args=(i,arr))\n",
    "        process.append(m)\n",
    "        m.start()\n",
    "    for m in process:\n",
    "        m.join()\n",
    "    print(list(arr))    "
   ]
  },
  {
   "cell_type": "code",
   "execution_count": null,
   "id": "441234cd-8f8a-443c-a107-a99638b45fa3",
   "metadata": {},
   "outputs": [
    {
     "name": "stdout",
     "output_type": "stream",
     "text": [
      "my name is Lucky\n",
      "This is my msg to mummy\n",
      "I miss you infinite\n"
     ]
    }
   ],
   "source": [
    "import multiprocessing \n",
    "def sender(conn,msg):\n",
    "    for i in msg:\n",
    "        conn.send(i)\n",
    "    conn.close()\n",
    "def recive(conn):\n",
    "    while True:\n",
    "        try:\n",
    "            msg=conn.recv()\n",
    "        except Exception as e:\n",
    "            print(e)\n",
    "            break\n",
    "        print(msg)\n",
    "        \n",
    "if __name__=='__main__':\n",
    "    msg=['my name is Lucky','This is my msg to mummy','I miss you infinite']\n",
    "    parent_con, child_con = multiprocessing.Pipe()\n",
    "    m1 = multiprocessing.Process(target=sender,args=(child_con,msg))\n",
    "    m2=multiprocessing.Process(target=recive,args=(parent_con,))\n",
    "    m1.start()\n",
    "    m2.start()\n",
    "    m1.join()\n",
    "    child_con.close()\n",
    "    m2.join()\n",
    "    parent_con.close()\n",
    "    "
   ]
  },
  {
   "cell_type": "code",
   "execution_count": null,
   "id": "84108951-57c2-4aa9-8c3b-7dd5ef44c3df",
   "metadata": {},
   "outputs": [],
   "source": []
  }
 ],
 "metadata": {
  "kernelspec": {
   "display_name": "Python 3 (ipykernel)",
   "language": "python",
   "name": "python3"
  },
  "language_info": {
   "codemirror_mode": {
    "name": "ipython",
    "version": 3
   },
   "file_extension": ".py",
   "mimetype": "text/x-python",
   "name": "python",
   "nbconvert_exporter": "python",
   "pygments_lexer": "ipython3",
   "version": "3.10.8"
  }
 },
 "nbformat": 4,
 "nbformat_minor": 5
}
