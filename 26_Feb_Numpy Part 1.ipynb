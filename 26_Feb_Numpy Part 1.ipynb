{
 "cells": [
  {
   "cell_type": "markdown",
   "id": "67309c5d-5d3a-4f58-a08a-7d48da58bb73",
   "metadata": {},
   "source": [
    "Numpy"
   ]
  },
  {
   "cell_type": "code",
   "execution_count": 1,
   "id": "5be0df0b-e7b5-46ab-9eed-5f7544f07012",
   "metadata": {},
   "outputs": [],
   "source": [
    "import numpy as np\n",
    "#Numpy is all about dealing with the arrays "
   ]
  },
  {
   "cell_type": "code",
   "execution_count": 2,
   "id": "4241352f-bcdd-42df-b020-89e10734348d",
   "metadata": {},
   "outputs": [],
   "source": [
    "l=[1,2,3,4]"
   ]
  },
  {
   "cell_type": "code",
   "execution_count": 5,
   "id": "f38af75b-f829-46ea-a7bc-3d99afe88b9c",
   "metadata": {},
   "outputs": [],
   "source": [
    "ar=np.array(l)"
   ]
  },
  {
   "cell_type": "code",
   "execution_count": 6,
   "id": "c7461a45-7312-4fb3-a1bd-d6fe235945a3",
   "metadata": {},
   "outputs": [
    {
     "data": {
      "text/plain": [
       "array([1, 2, 3, 4])"
      ]
     },
     "execution_count": 6,
     "metadata": {},
     "output_type": "execute_result"
    }
   ],
   "source": [
    "ar"
   ]
  },
  {
   "cell_type": "code",
   "execution_count": 7,
   "id": "b2966830-02bc-4b96-af26-9696645f8387",
   "metadata": {},
   "outputs": [
    {
     "data": {
      "text/plain": [
       "numpy.ndarray"
      ]
     },
     "execution_count": 7,
     "metadata": {},
     "output_type": "execute_result"
    }
   ],
   "source": [
    "type(ar)"
   ]
  },
  {
   "cell_type": "code",
   "execution_count": 9,
   "id": "33d0d7cf-2604-451b-bde4-8c01ef8f5b5b",
   "metadata": {},
   "outputs": [
    {
     "data": {
      "text/plain": [
       "array([[1, 2],\n",
       "       [3, 4]])"
      ]
     },
     "execution_count": 9,
     "metadata": {},
     "output_type": "execute_result"
    }
   ],
   "source": [
    "np.array([[1,2],[3,4]])"
   ]
  },
  {
   "cell_type": "code",
   "execution_count": 10,
   "id": "c7b2b5d1-9a00-45d0-826d-2cb611053d33",
   "metadata": {},
   "outputs": [
    {
     "data": {
      "text/plain": [
       "array([1, 2, 3, 4])"
      ]
     },
     "execution_count": 10,
     "metadata": {},
     "output_type": "execute_result"
    }
   ],
   "source": [
    "np.asarray(l)"
   ]
  },
  {
   "cell_type": "code",
   "execution_count": 11,
   "id": "af8d6320-6978-473e-a0ac-1dbe06920f03",
   "metadata": {},
   "outputs": [
    {
     "data": {
      "text/plain": [
       "numpy.ndarray"
      ]
     },
     "execution_count": 11,
     "metadata": {},
     "output_type": "execute_result"
    }
   ],
   "source": [
    "type(np.asarray(l))"
   ]
  },
  {
   "cell_type": "code",
   "execution_count": 12,
   "id": "f44f7ce6-d80b-4258-be90-abf702d4fd92",
   "metadata": {},
   "outputs": [
    {
     "data": {
      "text/plain": [
       "array([1, 2, 3, 4])"
      ]
     },
     "execution_count": 12,
     "metadata": {},
     "output_type": "execute_result"
    }
   ],
   "source": [
    "np.asanyarray(np.asarray(l))"
   ]
  },
  {
   "cell_type": "code",
   "execution_count": 13,
   "id": "d16c2637-2556-4a58-9896-63ab562dbc6c",
   "metadata": {},
   "outputs": [],
   "source": [
    "# All the 3 array, asarray and asanyarray is used to convert into the Pure array"
   ]
  },
  {
   "cell_type": "code",
   "execution_count": 18,
   "id": "1d78446b-9c36-48e3-90f4-79a73c78f360",
   "metadata": {},
   "outputs": [],
   "source": [
    "b=np.matrix([1,2,3,4])\n",
    "# Matrix is 2D by default"
   ]
  },
  {
   "cell_type": "code",
   "execution_count": 19,
   "id": "d1314c67-ba01-4b65-b453-883bc77c294a",
   "metadata": {},
   "outputs": [
    {
     "data": {
      "text/plain": [
       "matrix([[1, 2, 3, 4]])"
      ]
     },
     "execution_count": 19,
     "metadata": {},
     "output_type": "execute_result"
    }
   ],
   "source": [
    "b"
   ]
  },
  {
   "cell_type": "code",
   "execution_count": 20,
   "id": "68b97914-81cc-4f35-95ea-5b0acc0169b8",
   "metadata": {},
   "outputs": [
    {
     "data": {
      "text/plain": [
       "matrix([[1, 2, 3, 4]])"
      ]
     },
     "execution_count": 20,
     "metadata": {},
     "output_type": "execute_result"
    }
   ],
   "source": [
    "np.asanyarray(b)"
   ]
  },
  {
   "cell_type": "code",
   "execution_count": 21,
   "id": "d2607d11-2deb-4fea-8034-bae5caadf683",
   "metadata": {},
   "outputs": [],
   "source": [
    "# Matrix wont be converted into the Array because Matrix is subset of Array"
   ]
  },
  {
   "cell_type": "code",
   "execution_count": 22,
   "id": "f828647f-6818-4c36-ab68-e269055c70cd",
   "metadata": {},
   "outputs": [],
   "source": [
    "a=np.array(l)"
   ]
  },
  {
   "cell_type": "code",
   "execution_count": 23,
   "id": "e12992b6-0893-4b0a-b524-2e27bc33ac73",
   "metadata": {},
   "outputs": [
    {
     "data": {
      "text/plain": [
       "array([1, 2, 3, 4])"
      ]
     },
     "execution_count": 23,
     "metadata": {},
     "output_type": "execute_result"
    }
   ],
   "source": [
    "a"
   ]
  },
  {
   "cell_type": "code",
   "execution_count": 24,
   "id": "9a304a10-72bd-4e04-bb2e-d2cfc5d22100",
   "metadata": {},
   "outputs": [],
   "source": [
    "c=a"
   ]
  },
  {
   "cell_type": "code",
   "execution_count": 25,
   "id": "1e99eb6a-9646-4c22-946a-1ab813527c46",
   "metadata": {},
   "outputs": [
    {
     "data": {
      "text/plain": [
       "array([1, 2, 3, 4])"
      ]
     },
     "execution_count": 25,
     "metadata": {},
     "output_type": "execute_result"
    }
   ],
   "source": [
    "c"
   ]
  },
  {
   "cell_type": "code",
   "execution_count": 26,
   "id": "6cc901f7-9ac3-412f-a850-d03afca834a8",
   "metadata": {},
   "outputs": [
    {
     "data": {
      "text/plain": [
       "array([1, 2, 3, 4])"
      ]
     },
     "execution_count": 26,
     "metadata": {},
     "output_type": "execute_result"
    }
   ],
   "source": [
    "a"
   ]
  },
  {
   "cell_type": "code",
   "execution_count": 27,
   "id": "bebb1140-7999-487a-b33d-9e5c6fd65d11",
   "metadata": {},
   "outputs": [
    {
     "data": {
      "text/plain": [
       "1"
      ]
     },
     "execution_count": 27,
     "metadata": {},
     "output_type": "execute_result"
    }
   ],
   "source": [
    "c[0]"
   ]
  },
  {
   "cell_type": "code",
   "execution_count": 28,
   "id": "a9109898-9f44-4af2-a443-4782e65fe4ee",
   "metadata": {},
   "outputs": [],
   "source": [
    "c[0] = 100"
   ]
  },
  {
   "cell_type": "code",
   "execution_count": 29,
   "id": "209dc740-b2fd-4b2e-af1f-1a4ef534e6c9",
   "metadata": {},
   "outputs": [
    {
     "data": {
      "text/plain": [
       "array([100,   2,   3,   4])"
      ]
     },
     "execution_count": 29,
     "metadata": {},
     "output_type": "execute_result"
    }
   ],
   "source": [
    "c"
   ]
  },
  {
   "cell_type": "code",
   "execution_count": 30,
   "id": "0d6d31fb-7b82-42b6-9eba-046f95a8ff6c",
   "metadata": {},
   "outputs": [
    {
     "data": {
      "text/plain": [
       "array([100,   2,   3,   4])"
      ]
     },
     "execution_count": 30,
     "metadata": {},
     "output_type": "execute_result"
    }
   ],
   "source": [
    "a"
   ]
  },
  {
   "cell_type": "code",
   "execution_count": 32,
   "id": "30bc404c-fad9-468d-a515-52be9dea6c36",
   "metadata": {},
   "outputs": [],
   "source": [
    "# The changes made in the one variable will be affected in the second one too as we can see that the changes made in the c will be affecting a as well"
   ]
  },
  {
   "cell_type": "code",
   "execution_count": 33,
   "id": "a7c25a1a-458c-44dd-bc13-37e8076ed22d",
   "metadata": {},
   "outputs": [],
   "source": [
    "# This is known as swallow copy as hanges made in the one are easily reflaected in the other one "
   ]
  },
  {
   "cell_type": "code",
   "execution_count": 35,
   "id": "e24b2a09-d059-469a-afe7-e08681a95469",
   "metadata": {},
   "outputs": [],
   "source": [
    "d=np.copy (a)"
   ]
  },
  {
   "cell_type": "code",
   "execution_count": 36,
   "id": "82cc7c95-b9a5-4f48-8903-df7418f30ea0",
   "metadata": {},
   "outputs": [
    {
     "data": {
      "text/plain": [
       "array([100,   2,   3,   4])"
      ]
     },
     "execution_count": 36,
     "metadata": {},
     "output_type": "execute_result"
    }
   ],
   "source": [
    "d"
   ]
  },
  {
   "cell_type": "code",
   "execution_count": 37,
   "id": "77631fbd-3410-4441-ad44-b7c7c5e0d0cf",
   "metadata": {},
   "outputs": [
    {
     "data": {
      "text/plain": [
       "array([100,   2,   3,   4])"
      ]
     },
     "execution_count": 37,
     "metadata": {},
     "output_type": "execute_result"
    }
   ],
   "source": [
    "a"
   ]
  },
  {
   "cell_type": "code",
   "execution_count": 41,
   "id": "8bfd932c-95e0-4216-bdc9-9a1a811f4749",
   "metadata": {},
   "outputs": [],
   "source": [
    "a[1]=400"
   ]
  },
  {
   "cell_type": "code",
   "execution_count": 42,
   "id": "5bdece16-c785-4720-ac0d-12e37dfa2f03",
   "metadata": {},
   "outputs": [
    {
     "data": {
      "text/plain": [
       "array([100, 400, 400,   4])"
      ]
     },
     "execution_count": 42,
     "metadata": {},
     "output_type": "execute_result"
    }
   ],
   "source": [
    "a"
   ]
  },
  {
   "cell_type": "code",
   "execution_count": 40,
   "id": "324d9bae-07d1-43e5-a390-21b130e28c0c",
   "metadata": {},
   "outputs": [
    {
     "data": {
      "text/plain": [
       "array([100,   2,   3,   4])"
      ]
     },
     "execution_count": 40,
     "metadata": {},
     "output_type": "execute_result"
    }
   ],
   "source": [
    "d"
   ]
  },
  {
   "cell_type": "code",
   "execution_count": 43,
   "id": "584580bb-a554-4816-9112-747f20700c05",
   "metadata": {},
   "outputs": [],
   "source": [
    "# Here the changes made in the a are only being shown in the a only as d is created using the copy \n",
    "# This is known as Deep Copy "
   ]
  },
  {
   "cell_type": "code",
   "execution_count": 44,
   "id": "115a8785-574a-4529-9e4d-971030f731d5",
   "metadata": {},
   "outputs": [
    {
     "data": {
      "text/plain": [
       "array([[ True, False, False],\n",
       "       [False,  True, False],\n",
       "       [False, False,  True]])"
      ]
     },
     "execution_count": 44,
     "metadata": {},
     "output_type": "execute_result"
    }
   ],
   "source": [
    "np.fromfunction(lambda i,j:i==j,(3,3) ) # Fromfunction is used to generate the data as per the function present inside "
   ]
  },
  {
   "cell_type": "code",
   "execution_count": 45,
   "id": "fac4fcba-2930-4f9c-bc86-591fc194073e",
   "metadata": {},
   "outputs": [],
   "source": [
    "# Will be forming 3*3 Matrix and will check i=j or not if yes then True else False"
   ]
  },
  {
   "cell_type": "code",
   "execution_count": 48,
   "id": "6de71ee2-7b85-4179-a0b4-d6290e0004a8",
   "metadata": {},
   "outputs": [
    {
     "data": {
      "text/plain": [
       "array([[0., 0., 0.],\n",
       "       [0., 1., 2.],\n",
       "       [0., 2., 4.]])"
      ]
     },
     "execution_count": 48,
     "metadata": {},
     "output_type": "execute_result"
    }
   ],
   "source": [
    "np.fromfunction(lambda i,j:i*j,(3,3)) # Will multiply (0,1,2) and (0,1,2)"
   ]
  },
  {
   "cell_type": "code",
   "execution_count": 54,
   "id": "2f3d117a-5772-4e5e-99ff-2afd600525c6",
   "metadata": {},
   "outputs": [],
   "source": [
    "iterable=(i*i for i in range(5))"
   ]
  },
  {
   "cell_type": "code",
   "execution_count": 55,
   "id": "f9f17857-f26c-46ab-88d3-fb3011baf26b",
   "metadata": {},
   "outputs": [
    {
     "data": {
      "text/plain": [
       "array([ 0.,  1.,  4.,  9., 16.])"
      ]
     },
     "execution_count": 55,
     "metadata": {},
     "output_type": "execute_result"
    }
   ],
   "source": [
    "np.fromiter(iterable,float)\n",
    "# fromiter can also be used for making arrays"
   ]
  },
  {
   "cell_type": "code",
   "execution_count": 57,
   "id": "f2519254-d067-4fc2-8c67-b47266bb53ee",
   "metadata": {},
   "outputs": [
    {
     "data": {
      "text/plain": [
       "array([234., 234.])"
      ]
     },
     "execution_count": 57,
     "metadata": {},
     "output_type": "execute_result"
    }
   ],
   "source": [
    "np.fromstring('234 234',sep=' ') # converts the string into the array sep is used for telling the seperator as here is ' '"
   ]
  },
  {
   "cell_type": "code",
   "execution_count": 62,
   "id": "508b6d4d-4969-4264-92a2-58ab771aa320",
   "metadata": {},
   "outputs": [
    {
     "data": {
      "text/plain": [
       "array([2., 3., 4.])"
      ]
     },
     "execution_count": 62,
     "metadata": {},
     "output_type": "execute_result"
    }
   ],
   "source": [
    "np.fromstring('2,3,4',sep=',')"
   ]
  },
  {
   "cell_type": "code",
   "execution_count": 63,
   "id": "c5e53924-5d1b-431d-9897-b404ba703f8a",
   "metadata": {},
   "outputs": [],
   "source": [
    "# Data Types in Numpy"
   ]
  },
  {
   "cell_type": "code",
   "execution_count": 64,
   "id": "1e400ca7-327a-49e8-9771-3c64dd1a714e",
   "metadata": {},
   "outputs": [],
   "source": [
    "l=[1,2,3,4,5,6]"
   ]
  },
  {
   "cell_type": "code",
   "execution_count": 66,
   "id": "73ff3500-158f-4f9a-8563-bdd602555169",
   "metadata": {},
   "outputs": [],
   "source": [
    "ar=np.array(l)"
   ]
  },
  {
   "cell_type": "code",
   "execution_count": 67,
   "id": "65a061dc-c368-47be-998e-3cf0f357c803",
   "metadata": {},
   "outputs": [
    {
     "data": {
      "text/plain": [
       "array([1, 2, 3, 4, 5, 6])"
      ]
     },
     "execution_count": 67,
     "metadata": {},
     "output_type": "execute_result"
    }
   ],
   "source": [
    "ar"
   ]
  },
  {
   "cell_type": "code",
   "execution_count": 71,
   "id": "4b153c6c-d34c-498d-af64-10a01f8a4601",
   "metadata": {},
   "outputs": [
    {
     "data": {
      "text/plain": [
       "1"
      ]
     },
     "execution_count": 71,
     "metadata": {},
     "output_type": "execute_result"
    }
   ],
   "source": [
    "ar.ndim # This is used to find the size of the array"
   ]
  },
  {
   "cell_type": "code",
   "execution_count": 72,
   "id": "11255be1-d1a6-4c96-b955-0bf999ac5449",
   "metadata": {},
   "outputs": [],
   "source": [
    "ar2=np.array([[1,2,3,4],[2,3,4,5]]) # This is 2D array"
   ]
  },
  {
   "cell_type": "code",
   "execution_count": 73,
   "id": "5811d7da-3ac9-4d80-b5a7-720e71888de8",
   "metadata": {},
   "outputs": [
    {
     "data": {
      "text/plain": [
       "array([[1, 2, 3, 4],\n",
       "       [2, 3, 4, 5]])"
      ]
     },
     "execution_count": 73,
     "metadata": {},
     "output_type": "execute_result"
    }
   ],
   "source": [
    "ar2"
   ]
  },
  {
   "cell_type": "code",
   "execution_count": 75,
   "id": "f4201b0c-cb2f-41dc-a8dd-a440dda5b691",
   "metadata": {},
   "outputs": [
    {
     "data": {
      "text/plain": [
       "2"
      ]
     },
     "execution_count": 75,
     "metadata": {},
     "output_type": "execute_result"
    }
   ],
   "source": [
    "ar2.ndim"
   ]
  },
  {
   "cell_type": "code",
   "execution_count": 76,
   "id": "737437a2-758e-4dd8-a5c0-4823b46eee67",
   "metadata": {},
   "outputs": [
    {
     "data": {
      "text/plain": [
       "8"
      ]
     },
     "execution_count": 76,
     "metadata": {},
     "output_type": "execute_result"
    }
   ],
   "source": [
    "ar2.size # Will tell the number of elements present in the array"
   ]
  },
  {
   "cell_type": "code",
   "execution_count": 77,
   "id": "3ca13cb2-66e7-43ae-9316-b078c03e2631",
   "metadata": {},
   "outputs": [
    {
     "data": {
      "text/plain": [
       "6"
      ]
     },
     "execution_count": 77,
     "metadata": {},
     "output_type": "execute_result"
    }
   ],
   "source": [
    "ar.size"
   ]
  },
  {
   "cell_type": "code",
   "execution_count": 80,
   "id": "1b80d3f5-ae92-4f15-9fb4-72c0e0e1760c",
   "metadata": {},
   "outputs": [
    {
     "data": {
      "text/plain": [
       "(6,)"
      ]
     },
     "execution_count": 80,
     "metadata": {},
     "output_type": "execute_result"
    }
   ],
   "source": [
    "ar.shape # Will be telling the shape of teh array"
   ]
  },
  {
   "cell_type": "code",
   "execution_count": 81,
   "id": "ccdbf962-6c8b-4d30-8fd5-6ebec5861a51",
   "metadata": {},
   "outputs": [
    {
     "data": {
      "text/plain": [
       "(2, 4)"
      ]
     },
     "execution_count": 81,
     "metadata": {},
     "output_type": "execute_result"
    }
   ],
   "source": [
    "ar2.shape"
   ]
  },
  {
   "cell_type": "code",
   "execution_count": 82,
   "id": "ad4118bf-16c1-4633-8ca9-4e5a90086bdc",
   "metadata": {},
   "outputs": [
    {
     "data": {
      "text/plain": [
       "dtype('int64')"
      ]
     },
     "execution_count": 82,
     "metadata": {},
     "output_type": "execute_result"
    }
   ],
   "source": [
    "ar.dtype"
   ]
  },
  {
   "cell_type": "code",
   "execution_count": 84,
   "id": "d649da13-f490-4529-a5de-ba0d291d3f37",
   "metadata": {},
   "outputs": [],
   "source": [
    "ar22=np.array([(1.4,45,45),(23,45,66)])"
   ]
  },
  {
   "cell_type": "code",
   "execution_count": 85,
   "id": "320d4780-b0a1-4271-8847-64a6f26e6e96",
   "metadata": {},
   "outputs": [
    {
     "data": {
      "text/plain": [
       "array([[ 1.4, 45. , 45. ],\n",
       "       [23. , 45. , 66. ]])"
      ]
     },
     "execution_count": 85,
     "metadata": {},
     "output_type": "execute_result"
    }
   ],
   "source": [
    "ar22"
   ]
  },
  {
   "cell_type": "code",
   "execution_count": 88,
   "id": "b877ef95-82bd-4421-aa1b-adbae9f214e7",
   "metadata": {},
   "outputs": [
    {
     "data": {
      "text/plain": [
       "dtype('float64')"
      ]
     },
     "execution_count": 88,
     "metadata": {},
     "output_type": "execute_result"
    }
   ],
   "source": [
    "ar22.dtype"
   ]
  },
  {
   "cell_type": "code",
   "execution_count": 87,
   "id": "eabb2af1-4088-40aa-a1e8-ebd92997da5a",
   "metadata": {},
   "outputs": [],
   "source": [
    "# Here only one was float(1.4) and due to that it changed for all"
   ]
  },
  {
   "cell_type": "code",
   "execution_count": 90,
   "id": "ca43bf9a-3489-48e4-bab7-2f75adae3da0",
   "metadata": {},
   "outputs": [
    {
     "data": {
      "text/plain": [
       "[0, 1, 2, 3, 4]"
      ]
     },
     "execution_count": 90,
     "metadata": {},
     "output_type": "execute_result"
    }
   ],
   "source": [
    "list(range(5))"
   ]
  },
  {
   "cell_type": "code",
   "execution_count": 92,
   "id": "6f66c496-49e4-46f9-a313-fc9e032fa5aa",
   "metadata": {
    "collapsed": true,
    "jupyter": {
     "outputs_hidden": true
    },
    "tags": []
   },
   "outputs": [
    {
     "ename": "TypeError",
     "evalue": "'float' object cannot be interpreted as an integer",
     "output_type": "error",
     "traceback": [
      "\u001b[0;31m---------------------------------------------------------------------------\u001b[0m",
      "\u001b[0;31mTypeError\u001b[0m                                 Traceback (most recent call last)",
      "Cell \u001b[0;32mIn[92], line 1\u001b[0m\n\u001b[0;32m----> 1\u001b[0m \u001b[38;5;28mlist\u001b[39m(\u001b[38;5;28;43mrange\u001b[39;49m\u001b[43m(\u001b[49m\u001b[38;5;241;43m0.1\u001b[39;49m\u001b[43m,\u001b[49m\u001b[38;5;241;43m5.1\u001b[39;49m\u001b[43m)\u001b[49m) \u001b[38;5;66;03m# Float objects can not be accepted in the range function \u001b[39;00m\n",
      "\u001b[0;31mTypeError\u001b[0m: 'float' object cannot be interpreted as an integer"
     ]
    }
   ],
   "source": [
    "list(range(0.1,5.1)) # Float objects can not be accepted in the range function \n",
    "# Error will be raised up due to that "
   ]
  },
  {
   "cell_type": "code",
   "execution_count": 94,
   "id": "3d0ff15e-0989-45d6-ab3e-0e82db0485f9",
   "metadata": {
    "tags": []
   },
   "outputs": [],
   "source": [
    "# You can give float as start or end by using numpy"
   ]
  },
  {
   "cell_type": "code",
   "execution_count": 98,
   "id": "5907c0dd-3079-4c9b-81fe-121cd817a005",
   "metadata": {},
   "outputs": [
    {
     "data": {
      "text/plain": [
       "array([2.3, 3.3, 4.3, 5.3])"
      ]
     },
     "execution_count": 98,
     "metadata": {},
     "output_type": "execute_result"
    }
   ],
   "source": [
    "np.arange(2.3,5.6) # The jump will be 1 by default"
   ]
  },
  {
   "cell_type": "code",
   "execution_count": 99,
   "id": "8227f825-5171-42fc-8afb-c50aa02d182b",
   "metadata": {},
   "outputs": [
    {
     "data": {
      "text/plain": [
       "array([2.3, 2.6, 2.9, 3.2, 3.5, 3.8, 4.1, 4.4, 4.7, 5. , 5.3])"
      ]
     },
     "execution_count": 99,
     "metadata": {},
     "output_type": "execute_result"
    }
   ],
   "source": [
    "np.arange(2.3,5.6,0.3) # Here jump is 0.3"
   ]
  },
  {
   "cell_type": "code",
   "execution_count": 100,
   "id": "16a701bd-c5e5-49e9-b4c5-909dd49f47b9",
   "metadata": {},
   "outputs": [
    {
     "data": {
      "text/plain": [
       "[2.3,\n",
       " 2.5999999999999996,\n",
       " 2.8999999999999995,\n",
       " 3.1999999999999993,\n",
       " 3.499999999999999,\n",
       " 3.799999999999999,\n",
       " 4.099999999999999,\n",
       " 4.399999999999999,\n",
       " 4.699999999999998,\n",
       " 4.999999999999998,\n",
       " 5.299999999999998]"
      ]
     },
     "execution_count": 100,
     "metadata": {},
     "output_type": "execute_result"
    }
   ],
   "source": [
    "list(np.arange(2.3,5.6,0.3) ) #converting it into the list"
   ]
  },
  {
   "cell_type": "code",
   "execution_count": 105,
   "id": "8245b733-6736-469b-8369-b45463b33590",
   "metadata": {},
   "outputs": [
    {
     "data": {
      "text/plain": [
       "array([1.        , 1.44444444, 1.88888889, 2.33333333, 2.77777778,\n",
       "       3.22222222, 3.66666667, 4.11111111, 4.55555556, 5.        ])"
      ]
     },
     "execution_count": 105,
     "metadata": {},
     "output_type": "execute_result"
    }
   ],
   "source": [
    "np.linspace(1,5,10) #will divide the interval in 10 equal spaces"
   ]
  },
  {
   "cell_type": "code",
   "execution_count": 107,
   "id": "91ffffaf-c45a-4175-bdba-b0b50a36f5e5",
   "metadata": {},
   "outputs": [
    {
     "data": {
      "text/plain": [
       "array([0., 0., 0., 0., 0.])"
      ]
     },
     "execution_count": 107,
     "metadata": {},
     "output_type": "execute_result"
    }
   ],
   "source": [
    "np.zeros(5) # Will produce 5 zeros"
   ]
  },
  {
   "cell_type": "code",
   "execution_count": 108,
   "id": "a5941988-af39-446b-bfd8-202b88ee5500",
   "metadata": {},
   "outputs": [
    {
     "data": {
      "text/plain": [
       "array([[0., 0., 0., 0.],\n",
       "       [0., 0., 0., 0.],\n",
       "       [0., 0., 0., 0.]])"
      ]
     },
     "execution_count": 108,
     "metadata": {},
     "output_type": "execute_result"
    }
   ],
   "source": [
    "np.zeros((3,4)) # all zero in the provided dimension \n",
    "# In 2D"
   ]
  },
  {
   "cell_type": "code",
   "execution_count": 110,
   "id": "4f468475-56b2-4cc5-a144-e18fd705f1d6",
   "metadata": {},
   "outputs": [
    {
     "data": {
      "text/plain": [
       "array([[[0., 0., 0., 0., 0.],\n",
       "        [0., 0., 0., 0., 0.],\n",
       "        [0., 0., 0., 0., 0.],\n",
       "        [0., 0., 0., 0., 0.]],\n",
       "\n",
       "       [[0., 0., 0., 0., 0.],\n",
       "        [0., 0., 0., 0., 0.],\n",
       "        [0., 0., 0., 0., 0.],\n",
       "        [0., 0., 0., 0., 0.]],\n",
       "\n",
       "       [[0., 0., 0., 0., 0.],\n",
       "        [0., 0., 0., 0., 0.],\n",
       "        [0., 0., 0., 0., 0.],\n",
       "        [0., 0., 0., 0., 0.]]])"
      ]
     },
     "execution_count": 110,
     "metadata": {},
     "output_type": "execute_result"
    }
   ],
   "source": [
    "np.zeros((3,4,5)) # all zero in the provided dimension\n",
    "# In 3D "
   ]
  },
  {
   "cell_type": "code",
   "execution_count": 115,
   "id": "b01839ac-02bf-4f86-9fa8-c9852c5e73af",
   "metadata": {},
   "outputs": [],
   "source": [
    "ar4=np.zeros((2,3,4,5)) # all zero in the provided dimension"
   ]
  },
  {
   "cell_type": "code",
   "execution_count": 116,
   "id": "4ed11b44-1444-41f4-9e9e-6f86d7d26095",
   "metadata": {},
   "outputs": [
    {
     "data": {
      "text/plain": [
       "array([[[[0., 0., 0., 0., 0.],\n",
       "         [0., 0., 0., 0., 0.],\n",
       "         [0., 0., 0., 0., 0.],\n",
       "         [0., 0., 0., 0., 0.]],\n",
       "\n",
       "        [[0., 0., 0., 0., 0.],\n",
       "         [0., 0., 0., 0., 0.],\n",
       "         [0., 0., 0., 0., 0.],\n",
       "         [0., 0., 0., 0., 0.]],\n",
       "\n",
       "        [[0., 0., 0., 0., 0.],\n",
       "         [0., 0., 0., 0., 0.],\n",
       "         [0., 0., 0., 0., 0.],\n",
       "         [0., 0., 0., 0., 0.]]],\n",
       "\n",
       "\n",
       "       [[[0., 0., 0., 0., 0.],\n",
       "         [0., 0., 0., 0., 0.],\n",
       "         [0., 0., 0., 0., 0.],\n",
       "         [0., 0., 0., 0., 0.]],\n",
       "\n",
       "        [[0., 0., 0., 0., 0.],\n",
       "         [0., 0., 0., 0., 0.],\n",
       "         [0., 0., 0., 0., 0.],\n",
       "         [0., 0., 0., 0., 0.]],\n",
       "\n",
       "        [[0., 0., 0., 0., 0.],\n",
       "         [0., 0., 0., 0., 0.],\n",
       "         [0., 0., 0., 0., 0.],\n",
       "         [0., 0., 0., 0., 0.]]]])"
      ]
     },
     "execution_count": 116,
     "metadata": {},
     "output_type": "execute_result"
    }
   ],
   "source": [
    "ar4"
   ]
  },
  {
   "cell_type": "code",
   "execution_count": 117,
   "id": "c41c0d40-c3a6-4a3d-a72f-aac34d9be4ff",
   "metadata": {},
   "outputs": [
    {
     "data": {
      "text/plain": [
       "4"
      ]
     },
     "execution_count": 117,
     "metadata": {},
     "output_type": "execute_result"
    }
   ],
   "source": [
    "ar4.ndim"
   ]
  },
  {
   "cell_type": "code",
   "execution_count": 118,
   "id": "d29078bb-215d-4cc1-8bdd-48b4bd9167b4",
   "metadata": {},
   "outputs": [
    {
     "data": {
      "text/plain": [
       "array([1., 1.])"
      ]
     },
     "execution_count": 118,
     "metadata": {},
     "output_type": "execute_result"
    }
   ],
   "source": [
    "np.ones(2)"
   ]
  },
  {
   "cell_type": "code",
   "execution_count": 122,
   "id": "ac928065-a0a0-4022-ba71-8746491123fa",
   "metadata": {},
   "outputs": [
    {
     "data": {
      "text/plain": [
       "array([[1., 1.],\n",
       "       [1., 1.]])"
      ]
     },
     "execution_count": 122,
     "metadata": {},
     "output_type": "execute_result"
    }
   ],
   "source": [
    "np.ones((2,2))\n",
    "# Can do all the operations as we have done in the zeros"
   ]
  },
  {
   "cell_type": "code",
   "execution_count": 124,
   "id": "08676676-a57a-4175-9a77-6d9b6d56a113",
   "metadata": {},
   "outputs": [],
   "source": [
    "on=np.ones((2,3,5))"
   ]
  },
  {
   "cell_type": "code",
   "execution_count": 125,
   "id": "08eb8d4d-6bff-4244-8989-edb7123e2a1e",
   "metadata": {},
   "outputs": [
    {
     "data": {
      "text/plain": [
       "array([[[1., 1., 1., 1., 1.],\n",
       "        [1., 1., 1., 1., 1.],\n",
       "        [1., 1., 1., 1., 1.]],\n",
       "\n",
       "       [[1., 1., 1., 1., 1.],\n",
       "        [1., 1., 1., 1., 1.],\n",
       "        [1., 1., 1., 1., 1.]]])"
      ]
     },
     "execution_count": 125,
     "metadata": {},
     "output_type": "execute_result"
    }
   ],
   "source": [
    "on"
   ]
  },
  {
   "cell_type": "code",
   "execution_count": 128,
   "id": "61a10936-9dab-4241-bc75-3230b534140d",
   "metadata": {},
   "outputs": [
    {
     "data": {
      "text/plain": [
       "array([[[8., 8., 8., 8., 8.],\n",
       "        [8., 8., 8., 8., 8.],\n",
       "        [8., 8., 8., 8., 8.]],\n",
       "\n",
       "       [[8., 8., 8., 8., 8.],\n",
       "        [8., 8., 8., 8., 8.],\n",
       "        [8., 8., 8., 8., 8.]]])"
      ]
     },
     "execution_count": 128,
     "metadata": {},
     "output_type": "execute_result"
    }
   ],
   "source": [
    "on+7 # Will add 7 in all the elements "
   ]
  },
  {
   "cell_type": "code",
   "execution_count": 129,
   "id": "69d7328f-8e9b-4a7f-9e15-3d8535b8456f",
   "metadata": {},
   "outputs": [
    {
     "data": {
      "text/plain": [
       "array([[0., 0., 0., 0., 0.],\n",
       "       [0., 0., 0., 0., 0.],\n",
       "       [0., 0., 0., 0., 0.]])"
      ]
     },
     "execution_count": 129,
     "metadata": {},
     "output_type": "execute_result"
    }
   ],
   "source": [
    "np.empty((3,5))"
   ]
  },
  {
   "cell_type": "code",
   "execution_count": 131,
   "id": "bcc0d5fe-909a-4d41-aaf2-3503b2695718",
   "metadata": {},
   "outputs": [
    {
     "data": {
      "text/plain": [
       "array([[1., 0., 0., 0.],\n",
       "       [0., 1., 0., 0.],\n",
       "       [0., 0., 1., 0.],\n",
       "       [0., 0., 0., 1.]])"
      ]
     },
     "execution_count": 131,
     "metadata": {},
     "output_type": "execute_result"
    }
   ],
   "source": [
    "np.eye(4) # identity matrix of the given "
   ]
  },
  {
   "cell_type": "code",
   "execution_count": 132,
   "id": "c1f984e5-d2e0-49af-9145-0727b09dc945",
   "metadata": {},
   "outputs": [
    {
     "data": {
      "text/plain": [
       "array([2.        , 2.10526316, 2.21052632, 2.31578947, 2.42105263,\n",
       "       2.52631579, 2.63157895, 2.73684211, 2.84210526, 2.94736842,\n",
       "       3.05263158, 3.15789474, 3.26315789, 3.36842105, 3.47368421,\n",
       "       3.57894737, 3.68421053, 3.78947368, 3.89473684, 4.        ])"
      ]
     },
     "execution_count": 132,
     "metadata": {},
     "output_type": "execute_result"
    }
   ],
   "source": [
    "np.linspace(2,4,20)"
   ]
  },
  {
   "cell_type": "code",
   "execution_count": 133,
   "id": "e4cf1a18-0a3c-49a3-a234-2f24323453de",
   "metadata": {},
   "outputs": [
    {
     "data": {
      "text/plain": [
       "array([   100.        ,    215.443469  ,    464.15888336,   1000.        ,\n",
       "         2154.43469003,   4641.58883361,  10000.        ,  21544.34690032,\n",
       "        46415.88833613, 100000.        ])"
      ]
     },
     "execution_count": 133,
     "metadata": {},
     "output_type": "execute_result"
    }
   ],
   "source": [
    "np.logspace(2,5,10) # By default the base will be 10 "
   ]
  },
  {
   "cell_type": "code",
   "execution_count": 135,
   "id": "cfd1a192-2ffc-4561-ac96-a078c2b55856",
   "metadata": {},
   "outputs": [
    {
     "data": {
      "text/plain": [
       "array([ 4.        ,  5.0396842 ,  6.34960421,  8.        , 10.0793684 ,\n",
       "       12.69920842, 16.        , 20.1587368 , 25.39841683, 32.        ])"
      ]
     },
     "execution_count": 135,
     "metadata": {},
     "output_type": "execute_result"
    }
   ],
   "source": [
    "np.logspace(2,5,10,base=2) # Can change the base as well"
   ]
  },
  {
   "cell_type": "code",
   "execution_count": 141,
   "id": "20791b69-362c-4ef9-8cc9-b2715a7c7748",
   "metadata": {},
   "outputs": [],
   "source": [
    "# Generates the random data between the given dimension\n",
    "arr=np.random.randn(3,4)"
   ]
  },
  {
   "cell_type": "code",
   "execution_count": 144,
   "id": "795bbad3-1625-465e-9cda-3bac30a68f58",
   "metadata": {},
   "outputs": [
    {
     "data": {
      "text/plain": [
       "array([[ 0.20621087,  0.73997997, -0.58295597,  0.31616526],\n",
       "       [ 0.54116592,  0.95357051, -0.10475349,  0.10922092],\n",
       "       [ 0.65548122, -1.45197988,  1.7533838 , -0.24960497]])"
      ]
     },
     "execution_count": 144,
     "metadata": {},
     "output_type": "execute_result"
    }
   ],
   "source": [
    "arr"
   ]
  },
  {
   "cell_type": "code",
   "execution_count": 142,
   "id": "f740c0cd-7c93-4c1c-ac38-75066ef0b905",
   "metadata": {},
   "outputs": [],
   "source": [
    "import pandas as pd"
   ]
  },
  {
   "cell_type": "code",
   "execution_count": 143,
   "id": "bc16b5e9-bee5-435e-baf1-688bb34c1cfa",
   "metadata": {},
   "outputs": [
    {
     "data": {
      "text/html": [
       "<div>\n",
       "<style scoped>\n",
       "    .dataframe tbody tr th:only-of-type {\n",
       "        vertical-align: middle;\n",
       "    }\n",
       "\n",
       "    .dataframe tbody tr th {\n",
       "        vertical-align: top;\n",
       "    }\n",
       "\n",
       "    .dataframe thead th {\n",
       "        text-align: right;\n",
       "    }\n",
       "</style>\n",
       "<table border=\"1\" class=\"dataframe\">\n",
       "  <thead>\n",
       "    <tr style=\"text-align: right;\">\n",
       "      <th></th>\n",
       "      <th>0</th>\n",
       "      <th>1</th>\n",
       "      <th>2</th>\n",
       "      <th>3</th>\n",
       "    </tr>\n",
       "  </thead>\n",
       "  <tbody>\n",
       "    <tr>\n",
       "      <th>0</th>\n",
       "      <td>0.206211</td>\n",
       "      <td>0.739980</td>\n",
       "      <td>-0.582956</td>\n",
       "      <td>0.316165</td>\n",
       "    </tr>\n",
       "    <tr>\n",
       "      <th>1</th>\n",
       "      <td>0.541166</td>\n",
       "      <td>0.953571</td>\n",
       "      <td>-0.104753</td>\n",
       "      <td>0.109221</td>\n",
       "    </tr>\n",
       "    <tr>\n",
       "      <th>2</th>\n",
       "      <td>0.655481</td>\n",
       "      <td>-1.451980</td>\n",
       "      <td>1.753384</td>\n",
       "      <td>-0.249605</td>\n",
       "    </tr>\n",
       "  </tbody>\n",
       "</table>\n",
       "</div>"
      ],
      "text/plain": [
       "          0         1         2         3\n",
       "0  0.206211  0.739980 -0.582956  0.316165\n",
       "1  0.541166  0.953571 -0.104753  0.109221\n",
       "2  0.655481 -1.451980  1.753384 -0.249605"
      ]
     },
     "execution_count": 143,
     "metadata": {},
     "output_type": "execute_result"
    }
   ],
   "source": [
    "# Convert into Data Frame\n",
    "pd.DataFrame(arr)"
   ]
  },
  {
   "cell_type": "code",
   "execution_count": 146,
   "id": "29006655-5a89-498d-a5c1-2bcb7bd5f789",
   "metadata": {},
   "outputs": [],
   "source": [
    "arr2=np.random.rand(3,4)"
   ]
  },
  {
   "cell_type": "code",
   "execution_count": 148,
   "id": "7d3dfc0f-51d4-4ede-9893-c2124dbf7010",
   "metadata": {},
   "outputs": [
    {
     "data": {
      "text/plain": [
       "array([[0.20004251, 0.9418571 , 0.66587199, 0.39966875],\n",
       "       [0.86528543, 0.43131042, 0.3574646 , 0.07042487],\n",
       "       [0.59383569, 0.44618   , 0.00504743, 0.01117287]])"
      ]
     },
     "execution_count": 148,
     "metadata": {},
     "output_type": "execute_result"
    }
   ],
   "source": [
    "arr2"
   ]
  },
  {
   "cell_type": "code",
   "execution_count": 149,
   "id": "f016e307-4622-4bcf-8577-db9e177adc9c",
   "metadata": {},
   "outputs": [],
   "source": [
    "# The difference between randn and rand is randn will be producing the data having mean=0 and std deviation=1"
   ]
  },
  {
   "cell_type": "code",
   "execution_count": 155,
   "id": "1fbc8aa0-081c-4d34-a5cb-73151d4a7f47",
   "metadata": {},
   "outputs": [],
   "source": [
    "arr2=np.random.randint(1,110,(300,400)) # producing 3*4 data between 1 and 110"
   ]
  },
  {
   "cell_type": "code",
   "execution_count": 156,
   "id": "fb24eff6-2f8f-4af5-b3a4-fc058b29f037",
   "metadata": {},
   "outputs": [
    {
     "data": {
      "text/plain": [
       "array([[ 93,  35,  12, ...,  30,  21,  32],\n",
       "       [ 37,  43,  92, ...,  15, 102,   4],\n",
       "       [  4,   4,  42, ...,   2,  97,  62],\n",
       "       ...,\n",
       "       [ 79,  36,  28, ...,  68,  11,  26],\n",
       "       [ 87,  71,  61, ...,  52,  95,  69],\n",
       "       [ 65,  88,  56, ...,  60,  28,  59]])"
      ]
     },
     "execution_count": 156,
     "metadata": {},
     "output_type": "execute_result"
    }
   ],
   "source": [
    "arr2"
   ]
  },
  {
   "cell_type": "code",
   "execution_count": 159,
   "id": "e2e79529-8824-4dbc-9c74-d88f6c023407",
   "metadata": {},
   "outputs": [],
   "source": [
    "# Converting it into the DataFrame\n",
    "df1=pd.DataFrame(arr2)"
   ]
  },
  {
   "cell_type": "code",
   "execution_count": 161,
   "id": "a703d1d5-71c4-4131-9671-054db277e486",
   "metadata": {},
   "outputs": [
    {
     "data": {
      "text/html": [
       "<div>\n",
       "<style scoped>\n",
       "    .dataframe tbody tr th:only-of-type {\n",
       "        vertical-align: middle;\n",
       "    }\n",
       "\n",
       "    .dataframe tbody tr th {\n",
       "        vertical-align: top;\n",
       "    }\n",
       "\n",
       "    .dataframe thead th {\n",
       "        text-align: right;\n",
       "    }\n",
       "</style>\n",
       "<table border=\"1\" class=\"dataframe\">\n",
       "  <thead>\n",
       "    <tr style=\"text-align: right;\">\n",
       "      <th></th>\n",
       "      <th>0</th>\n",
       "      <th>1</th>\n",
       "      <th>2</th>\n",
       "      <th>3</th>\n",
       "      <th>4</th>\n",
       "      <th>5</th>\n",
       "      <th>6</th>\n",
       "      <th>7</th>\n",
       "      <th>8</th>\n",
       "      <th>9</th>\n",
       "      <th>...</th>\n",
       "      <th>390</th>\n",
       "      <th>391</th>\n",
       "      <th>392</th>\n",
       "      <th>393</th>\n",
       "      <th>394</th>\n",
       "      <th>395</th>\n",
       "      <th>396</th>\n",
       "      <th>397</th>\n",
       "      <th>398</th>\n",
       "      <th>399</th>\n",
       "    </tr>\n",
       "  </thead>\n",
       "  <tbody>\n",
       "    <tr>\n",
       "      <th>0</th>\n",
       "      <td>93</td>\n",
       "      <td>35</td>\n",
       "      <td>12</td>\n",
       "      <td>109</td>\n",
       "      <td>94</td>\n",
       "      <td>87</td>\n",
       "      <td>60</td>\n",
       "      <td>2</td>\n",
       "      <td>42</td>\n",
       "      <td>2</td>\n",
       "      <td>...</td>\n",
       "      <td>46</td>\n",
       "      <td>7</td>\n",
       "      <td>55</td>\n",
       "      <td>96</td>\n",
       "      <td>38</td>\n",
       "      <td>93</td>\n",
       "      <td>76</td>\n",
       "      <td>30</td>\n",
       "      <td>21</td>\n",
       "      <td>32</td>\n",
       "    </tr>\n",
       "    <tr>\n",
       "      <th>1</th>\n",
       "      <td>37</td>\n",
       "      <td>43</td>\n",
       "      <td>92</td>\n",
       "      <td>97</td>\n",
       "      <td>23</td>\n",
       "      <td>96</td>\n",
       "      <td>5</td>\n",
       "      <td>78</td>\n",
       "      <td>93</td>\n",
       "      <td>93</td>\n",
       "      <td>...</td>\n",
       "      <td>105</td>\n",
       "      <td>67</td>\n",
       "      <td>76</td>\n",
       "      <td>72</td>\n",
       "      <td>34</td>\n",
       "      <td>61</td>\n",
       "      <td>65</td>\n",
       "      <td>15</td>\n",
       "      <td>102</td>\n",
       "      <td>4</td>\n",
       "    </tr>\n",
       "    <tr>\n",
       "      <th>2</th>\n",
       "      <td>4</td>\n",
       "      <td>4</td>\n",
       "      <td>42</td>\n",
       "      <td>47</td>\n",
       "      <td>62</td>\n",
       "      <td>24</td>\n",
       "      <td>39</td>\n",
       "      <td>29</td>\n",
       "      <td>80</td>\n",
       "      <td>42</td>\n",
       "      <td>...</td>\n",
       "      <td>93</td>\n",
       "      <td>55</td>\n",
       "      <td>27</td>\n",
       "      <td>31</td>\n",
       "      <td>95</td>\n",
       "      <td>99</td>\n",
       "      <td>72</td>\n",
       "      <td>2</td>\n",
       "      <td>97</td>\n",
       "      <td>62</td>\n",
       "    </tr>\n",
       "    <tr>\n",
       "      <th>3</th>\n",
       "      <td>64</td>\n",
       "      <td>80</td>\n",
       "      <td>77</td>\n",
       "      <td>7</td>\n",
       "      <td>107</td>\n",
       "      <td>61</td>\n",
       "      <td>81</td>\n",
       "      <td>91</td>\n",
       "      <td>25</td>\n",
       "      <td>91</td>\n",
       "      <td>...</td>\n",
       "      <td>108</td>\n",
       "      <td>77</td>\n",
       "      <td>43</td>\n",
       "      <td>70</td>\n",
       "      <td>93</td>\n",
       "      <td>55</td>\n",
       "      <td>35</td>\n",
       "      <td>74</td>\n",
       "      <td>10</td>\n",
       "      <td>63</td>\n",
       "    </tr>\n",
       "    <tr>\n",
       "      <th>4</th>\n",
       "      <td>80</td>\n",
       "      <td>54</td>\n",
       "      <td>77</td>\n",
       "      <td>46</td>\n",
       "      <td>103</td>\n",
       "      <td>10</td>\n",
       "      <td>96</td>\n",
       "      <td>77</td>\n",
       "      <td>4</td>\n",
       "      <td>67</td>\n",
       "      <td>...</td>\n",
       "      <td>94</td>\n",
       "      <td>94</td>\n",
       "      <td>99</td>\n",
       "      <td>101</td>\n",
       "      <td>30</td>\n",
       "      <td>25</td>\n",
       "      <td>81</td>\n",
       "      <td>56</td>\n",
       "      <td>27</td>\n",
       "      <td>52</td>\n",
       "    </tr>\n",
       "    <tr>\n",
       "      <th>...</th>\n",
       "      <td>...</td>\n",
       "      <td>...</td>\n",
       "      <td>...</td>\n",
       "      <td>...</td>\n",
       "      <td>...</td>\n",
       "      <td>...</td>\n",
       "      <td>...</td>\n",
       "      <td>...</td>\n",
       "      <td>...</td>\n",
       "      <td>...</td>\n",
       "      <td>...</td>\n",
       "      <td>...</td>\n",
       "      <td>...</td>\n",
       "      <td>...</td>\n",
       "      <td>...</td>\n",
       "      <td>...</td>\n",
       "      <td>...</td>\n",
       "      <td>...</td>\n",
       "      <td>...</td>\n",
       "      <td>...</td>\n",
       "      <td>...</td>\n",
       "    </tr>\n",
       "    <tr>\n",
       "      <th>295</th>\n",
       "      <td>98</td>\n",
       "      <td>7</td>\n",
       "      <td>31</td>\n",
       "      <td>42</td>\n",
       "      <td>11</td>\n",
       "      <td>77</td>\n",
       "      <td>4</td>\n",
       "      <td>104</td>\n",
       "      <td>12</td>\n",
       "      <td>22</td>\n",
       "      <td>...</td>\n",
       "      <td>106</td>\n",
       "      <td>48</td>\n",
       "      <td>109</td>\n",
       "      <td>30</td>\n",
       "      <td>87</td>\n",
       "      <td>100</td>\n",
       "      <td>107</td>\n",
       "      <td>41</td>\n",
       "      <td>39</td>\n",
       "      <td>48</td>\n",
       "    </tr>\n",
       "    <tr>\n",
       "      <th>296</th>\n",
       "      <td>55</td>\n",
       "      <td>57</td>\n",
       "      <td>65</td>\n",
       "      <td>28</td>\n",
       "      <td>108</td>\n",
       "      <td>60</td>\n",
       "      <td>32</td>\n",
       "      <td>70</td>\n",
       "      <td>99</td>\n",
       "      <td>10</td>\n",
       "      <td>...</td>\n",
       "      <td>87</td>\n",
       "      <td>24</td>\n",
       "      <td>94</td>\n",
       "      <td>105</td>\n",
       "      <td>1</td>\n",
       "      <td>73</td>\n",
       "      <td>106</td>\n",
       "      <td>42</td>\n",
       "      <td>109</td>\n",
       "      <td>2</td>\n",
       "    </tr>\n",
       "    <tr>\n",
       "      <th>297</th>\n",
       "      <td>79</td>\n",
       "      <td>36</td>\n",
       "      <td>28</td>\n",
       "      <td>90</td>\n",
       "      <td>9</td>\n",
       "      <td>32</td>\n",
       "      <td>29</td>\n",
       "      <td>90</td>\n",
       "      <td>49</td>\n",
       "      <td>102</td>\n",
       "      <td>...</td>\n",
       "      <td>78</td>\n",
       "      <td>10</td>\n",
       "      <td>98</td>\n",
       "      <td>8</td>\n",
       "      <td>20</td>\n",
       "      <td>100</td>\n",
       "      <td>12</td>\n",
       "      <td>68</td>\n",
       "      <td>11</td>\n",
       "      <td>26</td>\n",
       "    </tr>\n",
       "    <tr>\n",
       "      <th>298</th>\n",
       "      <td>87</td>\n",
       "      <td>71</td>\n",
       "      <td>61</td>\n",
       "      <td>50</td>\n",
       "      <td>73</td>\n",
       "      <td>71</td>\n",
       "      <td>19</td>\n",
       "      <td>108</td>\n",
       "      <td>78</td>\n",
       "      <td>15</td>\n",
       "      <td>...</td>\n",
       "      <td>41</td>\n",
       "      <td>62</td>\n",
       "      <td>106</td>\n",
       "      <td>98</td>\n",
       "      <td>20</td>\n",
       "      <td>77</td>\n",
       "      <td>84</td>\n",
       "      <td>52</td>\n",
       "      <td>95</td>\n",
       "      <td>69</td>\n",
       "    </tr>\n",
       "    <tr>\n",
       "      <th>299</th>\n",
       "      <td>65</td>\n",
       "      <td>88</td>\n",
       "      <td>56</td>\n",
       "      <td>7</td>\n",
       "      <td>89</td>\n",
       "      <td>64</td>\n",
       "      <td>4</td>\n",
       "      <td>26</td>\n",
       "      <td>17</td>\n",
       "      <td>24</td>\n",
       "      <td>...</td>\n",
       "      <td>68</td>\n",
       "      <td>9</td>\n",
       "      <td>24</td>\n",
       "      <td>1</td>\n",
       "      <td>19</td>\n",
       "      <td>49</td>\n",
       "      <td>8</td>\n",
       "      <td>60</td>\n",
       "      <td>28</td>\n",
       "      <td>59</td>\n",
       "    </tr>\n",
       "  </tbody>\n",
       "</table>\n",
       "<p>300 rows × 400 columns</p>\n",
       "</div>"
      ],
      "text/plain": [
       "     0    1    2    3    4    5    6    7    8    9    ...  390  391  392  \\\n",
       "0     93   35   12  109   94   87   60    2   42    2  ...   46    7   55   \n",
       "1     37   43   92   97   23   96    5   78   93   93  ...  105   67   76   \n",
       "2      4    4   42   47   62   24   39   29   80   42  ...   93   55   27   \n",
       "3     64   80   77    7  107   61   81   91   25   91  ...  108   77   43   \n",
       "4     80   54   77   46  103   10   96   77    4   67  ...   94   94   99   \n",
       "..   ...  ...  ...  ...  ...  ...  ...  ...  ...  ...  ...  ...  ...  ...   \n",
       "295   98    7   31   42   11   77    4  104   12   22  ...  106   48  109   \n",
       "296   55   57   65   28  108   60   32   70   99   10  ...   87   24   94   \n",
       "297   79   36   28   90    9   32   29   90   49  102  ...   78   10   98   \n",
       "298   87   71   61   50   73   71   19  108   78   15  ...   41   62  106   \n",
       "299   65   88   56    7   89   64    4   26   17   24  ...   68    9   24   \n",
       "\n",
       "     393  394  395  396  397  398  399  \n",
       "0     96   38   93   76   30   21   32  \n",
       "1     72   34   61   65   15  102    4  \n",
       "2     31   95   99   72    2   97   62  \n",
       "3     70   93   55   35   74   10   63  \n",
       "4    101   30   25   81   56   27   52  \n",
       "..   ...  ...  ...  ...  ...  ...  ...  \n",
       "295   30   87  100  107   41   39   48  \n",
       "296  105    1   73  106   42  109    2  \n",
       "297    8   20  100   12   68   11   26  \n",
       "298   98   20   77   84   52   95   69  \n",
       "299    1   19   49    8   60   28   59  \n",
       "\n",
       "[300 rows x 400 columns]"
      ]
     },
     "execution_count": 161,
     "metadata": {},
     "output_type": "execute_result"
    }
   ],
   "source": [
    "df1"
   ]
  },
  {
   "cell_type": "code",
   "execution_count": 164,
   "id": "f49f14ea-e6e0-417e-9c60-16b2a19f66a5",
   "metadata": {},
   "outputs": [],
   "source": [
    "# Storing the same data into the CSV File\n",
    "pd.DataFrame(np.random.randint(1,110,(300,400))).to_csv('test.csv')"
   ]
  },
  {
   "cell_type": "code",
   "execution_count": 165,
   "id": "25bc4d86-e0a7-4498-bc64-b2103cdfe99d",
   "metadata": {},
   "outputs": [],
   "source": [
    "arr=np.random.rand(3,4)"
   ]
  },
  {
   "cell_type": "code",
   "execution_count": 166,
   "id": "7636b889-a5b0-4ed8-8b26-506857e81091",
   "metadata": {},
   "outputs": [
    {
     "data": {
      "text/plain": [
       "array([[0.21575596, 0.99924398, 0.06858773, 0.19386894],\n",
       "       [0.45247623, 0.77078668, 0.84472911, 0.07078185],\n",
       "       [0.47437914, 0.98580774, 0.61239199, 0.57302789]])"
      ]
     },
     "execution_count": 166,
     "metadata": {},
     "output_type": "execute_result"
    }
   ],
   "source": [
    "arr"
   ]
  },
  {
   "cell_type": "code",
   "execution_count": 168,
   "id": "fa6e663e-0fe9-4972-8aed-a574a2082ad3",
   "metadata": {},
   "outputs": [
    {
     "data": {
      "text/plain": [
       "array([[0.21575596, 0.99924398],\n",
       "       [0.06858773, 0.19386894],\n",
       "       [0.45247623, 0.77078668],\n",
       "       [0.84472911, 0.07078185],\n",
       "       [0.47437914, 0.98580774],\n",
       "       [0.61239199, 0.57302789]])"
      ]
     },
     "execution_count": 168,
     "metadata": {},
     "output_type": "execute_result"
    }
   ],
   "source": [
    "arr.reshape(6,2) # Same data will be arranged in the 6*2"
   ]
  },
  {
   "cell_type": "code",
   "execution_count": 176,
   "id": "dffbd0ec-9084-414d-9394-ec6e2b05d234",
   "metadata": {},
   "outputs": [],
   "source": [
    "arr1=arr.reshape(6,-2)\n",
    "# if one dimension is unclear to yoy so just mention any negative number to get the data as per the requirement"
   ]
  },
  {
   "cell_type": "code",
   "execution_count": 178,
   "id": "31716059-7e83-434c-9f1d-32ebbe444bc7",
   "metadata": {},
   "outputs": [
    {
     "data": {
      "text/plain": [
       "array([[0.21575596, 0.99924398],\n",
       "       [0.06858773, 0.19386894],\n",
       "       [0.45247623, 0.77078668],\n",
       "       [0.84472911, 0.07078185],\n",
       "       [0.47437914, 0.98580774],\n",
       "       [0.61239199, 0.57302789]])"
      ]
     },
     "execution_count": 178,
     "metadata": {},
     "output_type": "execute_result"
    }
   ],
   "source": [
    "arr1"
   ]
  },
  {
   "cell_type": "code",
   "execution_count": 181,
   "id": "3baf21ba-35da-42c3-b7ae-caa849439fab",
   "metadata": {},
   "outputs": [
    {
     "data": {
      "text/plain": [
       "0.7707866796854783"
      ]
     },
     "execution_count": 181,
     "metadata": {},
     "output_type": "execute_result"
    }
   ],
   "source": [
    "#Slicing operation\n",
    "arr1[2][1]"
   ]
  },
  {
   "cell_type": "code",
   "execution_count": 184,
   "id": "6c98e3ee-931c-432c-b0e4-21b1adcbf4eb",
   "metadata": {},
   "outputs": [
    {
     "data": {
      "text/plain": [
       "array([0.84472911, 0.07078185])"
      ]
     },
     "execution_count": 184,
     "metadata": {},
     "output_type": "execute_result"
    }
   ],
   "source": [
    "arr1[2:5][1]"
   ]
  },
  {
   "cell_type": "code",
   "execution_count": 185,
   "id": "1b1fce76-b815-4d36-8884-f4831c7f11a6",
   "metadata": {},
   "outputs": [],
   "source": [
    "arr=np.random.randint(1,100,(5,5))"
   ]
  },
  {
   "cell_type": "code",
   "execution_count": 186,
   "id": "36d4e59b-32d9-4e66-af3a-07120ede1b3d",
   "metadata": {},
   "outputs": [
    {
     "data": {
      "text/plain": [
       "array([[94, 14, 32,  7, 24],\n",
       "       [94, 54, 31, 30,  2],\n",
       "       [81, 15, 41, 77, 24],\n",
       "       [34, 11, 15, 80, 39],\n",
       "       [17, 42,  3, 69, 84]])"
      ]
     },
     "execution_count": 186,
     "metadata": {},
     "output_type": "execute_result"
    }
   ],
   "source": [
    "arr"
   ]
  },
  {
   "cell_type": "code",
   "execution_count": 188,
   "id": "8d00aeaf-0759-45e0-814a-1ea8fbd55c4a",
   "metadata": {},
   "outputs": [
    {
     "data": {
      "text/plain": [
       "array([[ True, False, False, False, False],\n",
       "       [ True,  True, False, False, False],\n",
       "       [ True, False, False,  True, False],\n",
       "       [False, False, False,  True, False],\n",
       "       [False, False, False,  True,  True]])"
      ]
     },
     "execution_count": 188,
     "metadata": {},
     "output_type": "execute_result"
    }
   ],
   "source": [
    "# Extract all the data that is more than 50\n",
    "arr>50 # Will give True and False"
   ]
  },
  {
   "cell_type": "code",
   "execution_count": 190,
   "id": "b8255ddc-4320-472d-8f2d-86d36c063cc5",
   "metadata": {},
   "outputs": [
    {
     "data": {
      "text/plain": [
       "array([94, 94, 54, 81, 77, 80, 69, 84])"
      ]
     },
     "execution_count": 190,
     "metadata": {},
     "output_type": "execute_result"
    }
   ],
   "source": [
    "arr[arr>50] # In list form"
   ]
  },
  {
   "cell_type": "code",
   "execution_count": 193,
   "id": "e4a2826f-bfc9-4712-bcc0-a54b33a85806",
   "metadata": {},
   "outputs": [
    {
     "data": {
      "text/plain": [
       "array([[15, 41],\n",
       "       [11, 15]])"
      ]
     },
     "execution_count": 193,
     "metadata": {},
     "output_type": "execute_result"
    }
   ],
   "source": [
    "arr[2:4,[1,2]]"
   ]
  },
  {
   "cell_type": "code",
   "execution_count": 196,
   "id": "392020bd-7d60-4f63-9610-d89e6df9d213",
   "metadata": {},
   "outputs": [],
   "source": [
    "arr[0][0]=500 # Reassigning the values"
   ]
  },
  {
   "cell_type": "code",
   "execution_count": 197,
   "id": "1f6ff8ee-90a7-419f-93be-8b661098457b",
   "metadata": {},
   "outputs": [
    {
     "data": {
      "text/plain": [
       "array([[500,  14,  32,   7,  24],\n",
       "       [ 94,  54,  31,  30,   2],\n",
       "       [ 81,  15,  41,  77,  24],\n",
       "       [ 34,  11,  15,  80,  39],\n",
       "       [ 17,  42,   3,  69,  84]])"
      ]
     },
     "execution_count": 197,
     "metadata": {},
     "output_type": "execute_result"
    }
   ],
   "source": [
    "arr"
   ]
  },
  {
   "cell_type": "markdown",
   "id": "7f80b0da-fe5c-4b1d-a07c-3df0824db3a4",
   "metadata": {},
   "source": [
    "Functions in Array"
   ]
  },
  {
   "cell_type": "code",
   "execution_count": 199,
   "id": "554622db-f463-4760-b822-bd4f5650ff3a",
   "metadata": {},
   "outputs": [],
   "source": [
    "arr1=np.random.randint(1,3,(3,3))\n",
    "arr2=np.random.randint(1,3,(3,3))"
   ]
  },
  {
   "cell_type": "code",
   "execution_count": 200,
   "id": "941e7887-bddd-4085-8c57-6e42f676c7a2",
   "metadata": {},
   "outputs": [
    {
     "data": {
      "text/plain": [
       "array([[2, 1, 2],\n",
       "       [2, 2, 1],\n",
       "       [2, 2, 1]])"
      ]
     },
     "execution_count": 200,
     "metadata": {},
     "output_type": "execute_result"
    }
   ],
   "source": [
    "arr1"
   ]
  },
  {
   "cell_type": "code",
   "execution_count": 201,
   "id": "d46c19b5-5fd6-44ab-8656-7fd0c00c844c",
   "metadata": {},
   "outputs": [
    {
     "data": {
      "text/plain": [
       "array([[2, 1, 2],\n",
       "       [1, 1, 1],\n",
       "       [2, 1, 1]])"
      ]
     },
     "execution_count": 201,
     "metadata": {},
     "output_type": "execute_result"
    }
   ],
   "source": [
    "arr2"
   ]
  },
  {
   "cell_type": "code",
   "execution_count": 202,
   "id": "81de74c0-e516-490d-bc50-3fdf191336e6",
   "metadata": {},
   "outputs": [
    {
     "data": {
      "text/plain": [
       "array([[4, 2, 4],\n",
       "       [3, 3, 2],\n",
       "       [4, 3, 2]])"
      ]
     },
     "execution_count": 202,
     "metadata": {},
     "output_type": "execute_result"
    }
   ],
   "source": [
    "arr1+arr2 # will add the values present at the same location "
   ]
  },
  {
   "cell_type": "code",
   "execution_count": 203,
   "id": "ee0748f2-f6a7-49d5-8b7d-14c8292aa9c5",
   "metadata": {},
   "outputs": [
    {
     "data": {
      "text/plain": [
       "array([[0, 0, 0],\n",
       "       [1, 1, 0],\n",
       "       [0, 1, 0]])"
      ]
     },
     "execution_count": 203,
     "metadata": {},
     "output_type": "execute_result"
    }
   ],
   "source": [
    "arr1-arr2"
   ]
  },
  {
   "cell_type": "code",
   "execution_count": 204,
   "id": "2c8b8cb0-f134-4f0d-8124-1db6169a1322",
   "metadata": {},
   "outputs": [
    {
     "data": {
      "text/plain": [
       "array([[4, 1, 4],\n",
       "       [2, 2, 1],\n",
       "       [4, 2, 1]])"
      ]
     },
     "execution_count": 204,
     "metadata": {},
     "output_type": "execute_result"
    }
   ],
   "source": [
    "arr1+arr2"
   ]
  },
  {
   "cell_type": "code",
   "execution_count": 205,
   "id": "6b2af727-38fa-4f7a-a1ef-1936df3016ef",
   "metadata": {},
   "outputs": [
    {
     "data": {
      "text/plain": [
       "array([[1., 1., 1.],\n",
       "       [2., 2., 1.],\n",
       "       [1., 2., 1.]])"
      ]
     },
     "execution_count": 205,
     "metadata": {},
     "output_type": "execute_result"
    }
   ],
   "source": [
    "arr1/arr2"
   ]
  },
  {
   "cell_type": "code",
   "execution_count": 206,
   "id": "2761d6ae-89c5-47d2-830a-9698f135aa02",
   "metadata": {},
   "outputs": [],
   "source": [
    "# This can only be done for the same shape only "
   ]
  },
  {
   "cell_type": "code",
   "execution_count": 208,
   "id": "12efe70e-50a7-412f-9d27-800e578bffd2",
   "metadata": {},
   "outputs": [
    {
     "data": {
      "text/plain": [
       "array([[4, 1, 4],\n",
       "       [2, 2, 1],\n",
       "       [4, 2, 1]])"
      ]
     },
     "execution_count": 208,
     "metadata": {},
     "output_type": "execute_result"
    }
   ],
   "source": [
    "arr1*arr2\n",
    "# This is normal multiplication not matrix multiplication"
   ]
  },
  {
   "cell_type": "code",
   "execution_count": 209,
   "id": "8df945ec-463e-4727-9049-0e4e3aa3d035",
   "metadata": {},
   "outputs": [
    {
     "data": {
      "text/plain": [
       "array([[9, 5, 7],\n",
       "       [8, 5, 7],\n",
       "       [8, 5, 7]])"
      ]
     },
     "execution_count": 209,
     "metadata": {},
     "output_type": "execute_result"
    }
   ],
   "source": [
    "# Matrix Multiplication \n",
    "arr1@arr2"
   ]
  },
  {
   "cell_type": "code",
   "execution_count": 211,
   "id": "f5e1a805-6b0c-4598-b2dc-1bbeb47df662",
   "metadata": {},
   "outputs": [
    {
     "name": "stderr",
     "output_type": "stream",
     "text": [
      "/tmp/ipykernel_213/2533913817.py:1: RuntimeWarning: divide by zero encountered in divide\n",
      "  arr1/0\n"
     ]
    },
    {
     "data": {
      "text/plain": [
       "array([[inf, inf, inf],\n",
       "       [inf, inf, inf],\n",
       "       [inf, inf, inf]])"
      ]
     },
     "execution_count": 211,
     "metadata": {},
     "output_type": "execute_result"
    }
   ],
   "source": [
    "arr1/0\n",
    "# anything/0 in numpy will give infinite"
   ]
  },
  {
   "cell_type": "code",
   "execution_count": 213,
   "id": "90b10d31-9186-4435-8e81-280751fd9cc9",
   "metadata": {},
   "outputs": [
    {
     "data": {
      "text/plain": [
       "array([[102, 101, 102],\n",
       "       [102, 102, 101],\n",
       "       [102, 102, 101]])"
      ]
     },
     "execution_count": 213,
     "metadata": {},
     "output_type": "execute_result"
    }
   ],
   "source": [
    "arr1+100"
   ]
  },
  {
   "cell_type": "code",
   "execution_count": 215,
   "id": "18729e2b-166c-46e2-b334-ea81fe0b638d",
   "metadata": {},
   "outputs": [
    {
     "data": {
      "text/plain": [
       "array([[250000,    196,   1024,     49,    576],\n",
       "       [  8836,   2916,    961,    900,      4],\n",
       "       [  6561,    225,   1681,   5929,    576],\n",
       "       [  1156,    121,    225,   6400,   1521],\n",
       "       [   289,   1764,      9,   4761,   7056]])"
      ]
     },
     "execution_count": 215,
     "metadata": {},
     "output_type": "execute_result"
    }
   ],
   "source": [
    "# Squaring each element\n",
    "arr**2 "
   ]
  },
  {
   "cell_type": "markdown",
   "id": "a311200f-c3dc-4faa-8166-358e63aff470",
   "metadata": {},
   "source": [
    "Broadcasting in Numpy"
   ]
  },
  {
   "cell_type": "code",
   "execution_count": 216,
   "id": "a97c25d5-76c8-4212-b016-c87646c267f0",
   "metadata": {},
   "outputs": [],
   "source": [
    "arr=np.zeros((4,4))"
   ]
  },
  {
   "cell_type": "code",
   "execution_count": 217,
   "id": "cf1c0476-99d6-4ca9-90ab-1d76f71af1b5",
   "metadata": {},
   "outputs": [
    {
     "data": {
      "text/plain": [
       "array([[0., 0., 0., 0.],\n",
       "       [0., 0., 0., 0.],\n",
       "       [0., 0., 0., 0.],\n",
       "       [0., 0., 0., 0.]])"
      ]
     },
     "execution_count": 217,
     "metadata": {},
     "output_type": "execute_result"
    }
   ],
   "source": [
    "arr"
   ]
  },
  {
   "cell_type": "code",
   "execution_count": 234,
   "id": "000f743e-603e-443f-acd7-d9b88a0fc4f7",
   "metadata": {},
   "outputs": [],
   "source": [
    "row=np.array([1,2,3,4])"
   ]
  },
  {
   "cell_type": "code",
   "execution_count": 235,
   "id": "0989324d-945e-493b-9799-a489a9d43ee8",
   "metadata": {},
   "outputs": [
    {
     "data": {
      "text/plain": [
       "array([1, 2, 3, 4])"
      ]
     },
     "execution_count": 235,
     "metadata": {},
     "output_type": "execute_result"
    }
   ],
   "source": [
    "row"
   ]
  },
  {
   "cell_type": "code",
   "execution_count": 236,
   "id": "13f2c2fe-3104-4ce0-9aaa-fe9b82d05327",
   "metadata": {},
   "outputs": [
    {
     "data": {
      "text/plain": [
       "array([[1., 2., 3., 4.],\n",
       "       [1., 2., 3., 4.],\n",
       "       [1., 2., 3., 4.],\n",
       "       [1., 2., 3., 4.]])"
      ]
     },
     "execution_count": 236,
     "metadata": {},
     "output_type": "execute_result"
    }
   ],
   "source": [
    "arr+row # Now this linear array will be added in each of the row"
   ]
  },
  {
   "cell_type": "code",
   "execution_count": 237,
   "id": "cec32902-ff6a-431c-841b-33d9187fe151",
   "metadata": {},
   "outputs": [],
   "source": [
    "col=np.array(([1,2,3,4],[5,6,7,8]))"
   ]
  },
  {
   "cell_type": "code",
   "execution_count": 238,
   "id": "b9f132be-8013-433d-b4cd-1e1fadd52188",
   "metadata": {},
   "outputs": [
    {
     "data": {
      "text/plain": [
       "array([[1, 2, 3, 4],\n",
       "       [5, 6, 7, 8]])"
      ]
     },
     "execution_count": 238,
     "metadata": {},
     "output_type": "execute_result"
    }
   ],
   "source": [
    "col"
   ]
  },
  {
   "cell_type": "code",
   "execution_count": 239,
   "id": "04110a0e-efb8-44ff-97a9-149a328b2c7b",
   "metadata": {},
   "outputs": [
    {
     "data": {
      "text/plain": [
       "array([[1, 5],\n",
       "       [2, 6],\n",
       "       [3, 7],\n",
       "       [4, 8]])"
      ]
     },
     "execution_count": 239,
     "metadata": {},
     "output_type": "execute_result"
    }
   ],
   "source": [
    "col.T"
   ]
  },
  {
   "cell_type": "code",
   "execution_count": 240,
   "id": "67e04b70-b4fa-49e7-915e-22fc141ad0f4",
   "metadata": {},
   "outputs": [],
   "source": [
    "arr1=np.random.randint(1,4,(3,4))"
   ]
  },
  {
   "cell_type": "code",
   "execution_count": 241,
   "id": "091c5f35-e2ba-44f8-bfc9-dce980197a58",
   "metadata": {},
   "outputs": [
    {
     "data": {
      "text/plain": [
       "array([[2, 1, 2, 1],\n",
       "       [2, 3, 3, 2],\n",
       "       [2, 1, 2, 1]])"
      ]
     },
     "execution_count": 241,
     "metadata": {},
     "output_type": "execute_result"
    }
   ],
   "source": [
    "arr1"
   ]
  },
  {
   "cell_type": "code",
   "execution_count": 243,
   "id": "f6e5f4e5-e54c-4055-b0a1-80995a4ab623",
   "metadata": {},
   "outputs": [
    {
     "data": {
      "text/plain": [
       "array([[1.41421356, 1.        , 1.41421356, 1.        ],\n",
       "       [1.41421356, 1.73205081, 1.73205081, 1.41421356],\n",
       "       [1.41421356, 1.        , 1.41421356, 1.        ]])"
      ]
     },
     "execution_count": 243,
     "metadata": {},
     "output_type": "execute_result"
    }
   ],
   "source": [
    "np.sqrt(arr1) # To find square root "
   ]
  },
  {
   "cell_type": "code",
   "execution_count": 244,
   "id": "0fb9cce4-b9d6-482c-8060-e7820fb0eb0e",
   "metadata": {},
   "outputs": [
    {
     "data": {
      "text/plain": [
       "array([[ 7.3890561 ,  2.71828183,  7.3890561 ,  2.71828183],\n",
       "       [ 7.3890561 , 20.08553692, 20.08553692,  7.3890561 ],\n",
       "       [ 7.3890561 ,  2.71828183,  7.3890561 ,  2.71828183]])"
      ]
     },
     "execution_count": 244,
     "metadata": {},
     "output_type": "execute_result"
    }
   ],
   "source": [
    "np.exp(arr1)"
   ]
  },
  {
   "cell_type": "code",
   "execution_count": 245,
   "id": "d4fe78d7-dd0d-40d6-879b-4318d2fbf39a",
   "metadata": {},
   "outputs": [
    {
     "data": {
      "text/plain": [
       "array([[0.30103   , 0.        , 0.30103   , 0.        ],\n",
       "       [0.30103   , 0.47712125, 0.47712125, 0.30103   ],\n",
       "       [0.30103   , 0.        , 0.30103   , 0.        ]])"
      ]
     },
     "execution_count": 245,
     "metadata": {},
     "output_type": "execute_result"
    }
   ],
   "source": [
    "np.log10(arr1)"
   ]
  },
  {
   "cell_type": "code",
   "execution_count": null,
   "id": "3bb2e080-5ecf-48a0-a45a-1b00661d3bdc",
   "metadata": {},
   "outputs": [],
   "source": []
  }
 ],
 "metadata": {
  "kernelspec": {
   "display_name": "Python 3 (ipykernel)",
   "language": "python",
   "name": "python3"
  },
  "language_info": {
   "codemirror_mode": {
    "name": "ipython",
    "version": 3
   },
   "file_extension": ".py",
   "mimetype": "text/x-python",
   "name": "python",
   "nbconvert_exporter": "python",
   "pygments_lexer": "ipython3",
   "version": "3.10.8"
  }
 },
 "nbformat": 4,
 "nbformat_minor": 5
}
