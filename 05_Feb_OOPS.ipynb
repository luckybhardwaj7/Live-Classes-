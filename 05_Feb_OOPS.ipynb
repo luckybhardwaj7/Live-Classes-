{
 "cells": [
  {
   "cell_type": "markdown",
   "id": "f0de50f0-aa35-485d-a758-107268b5932d",
   "metadata": {},
   "source": [
    "\"OOPS\" stands for- Object oriented Programming System"
   ]
  },
  {
   "cell_type": "code",
   "execution_count": 1,
   "id": "6b776832-29ad-437d-a6d9-4ac0fdc9f4b2",
   "metadata": {},
   "outputs": [],
   "source": [
    "a=1"
   ]
  },
  {
   "cell_type": "code",
   "execution_count": 2,
   "id": "f15b700c-24ec-4c4d-bbe1-a718c20b1a22",
   "metadata": {},
   "outputs": [
    {
     "name": "stdout",
     "output_type": "stream",
     "text": [
      "<class 'int'>\n"
     ]
    }
   ],
   "source": [
    "print(type(a))"
   ]
  },
  {
   "cell_type": "code",
   "execution_count": 3,
   "id": "1deaed36-a99f-46b0-8084-2ee20d9be82d",
   "metadata": {},
   "outputs": [
    {
     "name": "stdout",
     "output_type": "stream",
     "text": [
      "<class 'str'>\n"
     ]
    }
   ],
   "source": [
    "print(type('PWSkills'))"
   ]
  },
  {
   "cell_type": "code",
   "execution_count": 4,
   "id": "3ff4f038-ff1b-44ab-a7f3-a7723c1f91cc",
   "metadata": {},
   "outputs": [],
   "source": [
    "#creating Your own class"
   ]
  },
  {
   "cell_type": "code",
   "execution_count": 5,
   "id": "db71f166-f46d-4930-9973-92bdc7c11be4",
   "metadata": {},
   "outputs": [],
   "source": [
    "class test:\n",
    "    pass"
   ]
  },
  {
   "cell_type": "code",
   "execution_count": 6,
   "id": "622739b4-9de9-4460-84ba-9d3341646ebb",
   "metadata": {},
   "outputs": [],
   "source": [
    "a=test()"
   ]
  },
  {
   "cell_type": "code",
   "execution_count": 7,
   "id": "30211c50-185c-4577-9395-00069c85d8cf",
   "metadata": {},
   "outputs": [
    {
     "data": {
      "text/plain": [
       "__main__.test"
      ]
     },
     "execution_count": 7,
     "metadata": {},
     "output_type": "execute_result"
    }
   ],
   "source": [
    "type(a)"
   ]
  },
  {
   "cell_type": "code",
   "execution_count": 8,
   "id": "61865a0e-346f-4d03-855e-9cfdf80fd7ab",
   "metadata": {},
   "outputs": [
    {
     "name": "stdout",
     "output_type": "stream",
     "text": [
      "<class '__main__.test'>\n"
     ]
    }
   ],
   "source": [
    "print(type(a))"
   ]
  },
  {
   "cell_type": "code",
   "execution_count": 9,
   "id": "365f92dc-3c6c-47af-ae5b-d7d1265fbf27",
   "metadata": {},
   "outputs": [],
   "source": [
    "#creating a class named as 'pwskills'\n",
    "class pwskills:\n",
    "    def welcome_msg(): #creating a function inside a class named as pwskills\n",
    "        print('Welcome to PWSkills')"
   ]
  },
  {
   "cell_type": "code",
   "execution_count": 10,
   "id": "ee3eec54-5448-471c-ba40-614fea62cd6b",
   "metadata": {},
   "outputs": [],
   "source": [
    "rohan=pwskills() #rohan is a variable now of class pwskills"
   ]
  },
  {
   "cell_type": "code",
   "execution_count": 11,
   "id": "f9355eb0-10e3-4363-88e2-25d1f1d65fbf",
   "metadata": {},
   "outputs": [
    {
     "ename": "TypeError",
     "evalue": "pwskills.welcome_msg() takes 0 positional arguments but 1 was given",
     "output_type": "error",
     "traceback": [
      "\u001b[0;31m---------------------------------------------------------------------------\u001b[0m",
      "\u001b[0;31mTypeError\u001b[0m                                 Traceback (most recent call last)",
      "Cell \u001b[0;32mIn[11], line 2\u001b[0m\n\u001b[1;32m      1\u001b[0m \u001b[38;5;66;03m#error will pop up\u001b[39;00m\n\u001b[0;32m----> 2\u001b[0m \u001b[43mrohan\u001b[49m\u001b[38;5;241;43m.\u001b[39;49m\u001b[43mwelcome_msg\u001b[49m\u001b[43m(\u001b[49m\u001b[43m)\u001b[49m\n\u001b[1;32m      3\u001b[0m \u001b[38;5;66;03m#whatever you function defines under the calss you have to bind it with the class or get it mapped to the class.\u001b[39;00m\n\u001b[1;32m      4\u001b[0m \u001b[38;5;66;03m#we will be doing it by mentioning \"self\"\u001b[39;00m\n",
      "\u001b[0;31mTypeError\u001b[0m: pwskills.welcome_msg() takes 0 positional arguments but 1 was given"
     ]
    }
   ],
   "source": [
    "#error will pop up\n",
    "rohan.welcome_msg()\n",
    "#whatever you function defines under the calss you have to bind it with the class or get it mapped to the class.\n",
    "#we will be doing it by mentioning \"self\""
   ]
  },
  {
   "cell_type": "code",
   "execution_count": 12,
   "id": "4151ef65-98d5-493c-9ee1-8c1fe331c5da",
   "metadata": {},
   "outputs": [],
   "source": [
    "class pwskills:\n",
    "    def welcome_msg(self): \n",
    "        print('Welcome to PWSkills')"
   ]
  },
  {
   "cell_type": "code",
   "execution_count": 13,
   "id": "517cbd8d-01cd-49e8-8cc0-fefe01162b93",
   "metadata": {},
   "outputs": [],
   "source": [
    "rohan=pwskills() #creating the variable / instance / object of the class to use it outside the function "
   ]
  },
  {
   "cell_type": "code",
   "execution_count": 14,
   "id": "16cece33-1b59-41d9-bdfb-a7a3d5a7f861",
   "metadata": {},
   "outputs": [
    {
     "name": "stdout",
     "output_type": "stream",
     "text": [
      "Welcome to PWSkills\n"
     ]
    }
   ],
   "source": [
    "rohan.welcome_msg()"
   ]
  },
  {
   "cell_type": "code",
   "execution_count": 15,
   "id": "86ef2141-a7ad-4c6a-b217-a0079b0418f7",
   "metadata": {},
   "outputs": [],
   "source": [
    "#welcome msg for Gaurav\n",
    "gaurav=pwskills()"
   ]
  },
  {
   "cell_type": "code",
   "execution_count": 16,
   "id": "36440544-fb4d-4c3a-b7b5-c94250460dfd",
   "metadata": {},
   "outputs": [
    {
     "name": "stdout",
     "output_type": "stream",
     "text": [
      "Welcome to PWSkills\n"
     ]
    }
   ],
   "source": [
    "gaurav.welcome_msg()"
   ]
  },
  {
   "cell_type": "code",
   "execution_count": 17,
   "id": "884b7a8f-680d-4791-a62c-ef8ac01c4ad5",
   "metadata": {},
   "outputs": [],
   "source": [
    "#now passing the specific details of the bvariable (Gaurva or Rohan)\n",
    "# if you want to pass the data inside the class you have to use the constructor (__init__(self,.........))\n",
    "class pwskills1:\n",
    "    def __init__(self,phone_number,email_id,student_id): #__init__ is used to pass the data inside a function\n",
    "        self.phone_number=phone_number\n",
    "        self.email_id=email_id\n",
    "        self.student_id=student_id\n",
    "    def return_student_details(self):\n",
    "        return self.student_id,self.phone_number,self.email_id\n",
    "#now this is an generic class it neither related to Gaurav nor to Rohan "
   ]
  },
  {
   "cell_type": "code",
   "execution_count": 18,
   "id": "e2857f58-5c1e-43f4-ae0d-35893ff81f93",
   "metadata": {},
   "outputs": [
    {
     "ename": "TypeError",
     "evalue": "pwskills1.__init__() missing 3 required positional arguments: 'phone_number', 'email_id', and 'student_id'",
     "output_type": "error",
     "traceback": [
      "\u001b[0;31m---------------------------------------------------------------------------\u001b[0m",
      "\u001b[0;31mTypeError\u001b[0m                                 Traceback (most recent call last)",
      "Cell \u001b[0;32mIn[18], line 1\u001b[0m\n\u001b[0;32m----> 1\u001b[0m rohan\u001b[38;5;241m=\u001b[39m\u001b[43mpwskills1\u001b[49m\u001b[43m(\u001b[49m\u001b[43m)\u001b[49m\n\u001b[1;32m      2\u001b[0m \u001b[38;5;66;03m#pass on the required arguments over here \u001b[39;00m\n\u001b[1;32m      3\u001b[0m \u001b[38;5;66;03m#as we have used init over here so it will keep a ask for the data input \u001b[39;00m\n",
      "\u001b[0;31mTypeError\u001b[0m: pwskills1.__init__() missing 3 required positional arguments: 'phone_number', 'email_id', and 'student_id'"
     ]
    }
   ],
   "source": [
    "rohan=pwskills1()\n",
    "#pass on the required arguments over here \n",
    "#as we have used init over here so it will keep a ask for the data input "
   ]
  },
  {
   "cell_type": "code",
   "execution_count": 19,
   "id": "196c8153-9b39-4167-a5e7-0ea5c4c6ead4",
   "metadata": {},
   "outputs": [],
   "source": [
    "#pass on the required arguments\n",
    "rohan=pwskills1(9634000111,'rohan@yahoo.com','SCSE1001') #creating the variable an and passing the data \n",
    "#the data you provided will go to the function that you defined at start "
   ]
  },
  {
   "cell_type": "code",
   "execution_count": 20,
   "id": "79198cda-c67c-40ff-85a0-45793dc05d55",
   "metadata": {},
   "outputs": [
    {
     "data": {
      "text/plain": [
       "('SCSE1001', 9634000111, 'rohan@yahoo.com')"
      ]
     },
     "execution_count": 20,
     "metadata": {},
     "output_type": "execute_result"
    }
   ],
   "source": [
    "rohan.return_student_details()"
   ]
  },
  {
   "cell_type": "code",
   "execution_count": 21,
   "id": "6bee46f9-324c-4b44-af1e-5bf5a231cae5",
   "metadata": {},
   "outputs": [],
   "source": [
    "gaurav=pwskills1(6396661234,'gaurav@rediffmail.com','SCSE1002')"
   ]
  },
  {
   "cell_type": "code",
   "execution_count": 22,
   "id": "a4484f22-f7cf-4645-899e-8222691e02db",
   "metadata": {},
   "outputs": [
    {
     "data": {
      "text/plain": [
       "('SCSE1002', 6396661234, 'gaurav@rediffmail.com')"
      ]
     },
     "execution_count": 22,
     "metadata": {},
     "output_type": "execute_result"
    }
   ],
   "source": [
    "gaurav.return_student_details()"
   ]
  },
  {
   "cell_type": "code",
   "execution_count": 23,
   "id": "660e8465-93d2-432f-a8c3-cba5d114519b",
   "metadata": {},
   "outputs": [
    {
     "data": {
      "text/plain": [
       "6396661234"
      ]
     },
     "execution_count": 23,
     "metadata": {},
     "output_type": "execute_result"
    }
   ],
   "source": [
    "#want to extract just a single data like only phone number or single email id or single student id\n",
    "gaurav.phone_number"
   ]
  },
  {
   "cell_type": "code",
   "execution_count": 24,
   "id": "c04e2336-4123-4ae0-b368-afae78f21732",
   "metadata": {},
   "outputs": [
    {
     "data": {
      "text/plain": [
       "('rohan@yahoo.com', 6396661234)"
      ]
     },
     "execution_count": 24,
     "metadata": {},
     "output_type": "execute_result"
    }
   ],
   "source": [
    "#want to extract just a single data like only phone number or single email id or single student id\n",
    "#extracting together 2 datas from the different variables\n",
    "rohan.email_id,gaurav.phone_number"
   ]
  },
  {
   "cell_type": "code",
   "execution_count": 25,
   "id": "0b0549dc",
   "metadata": {},
   "outputs": [
    {
     "data": {
      "text/plain": [
       "('rohan@yahoo.com', 6396661234)"
      ]
     },
     "execution_count": 25,
     "metadata": {},
     "output_type": "execute_result"
    }
   ],
   "source": [
    "#want to extract just a single data like only phone number or single email id or single student id\n",
    "#extracting together 2 datas from the different variables\n",
    "rohan.email_id,gaurav.phone_number"
   ]
  },
  {
   "cell_type": "code",
   "execution_count": 26,
   "id": "172df32a-b273-4875-a3cf-a59fd020dc29",
   "metadata": {},
   "outputs": [],
   "source": [
    "class pwskills2:\n",
    "    def __init__(self,phone_number,email_id,student_id): #__init__ is used to pass the data inside a function\n",
    "        self.phone_number1=phone_number\n",
    "        self.email_id1=email_id\n",
    "        self.student_id1=student_id\n",
    "    def return_student_details(self):\n",
    "        return self.student_id1,self.phone_number1,self.email_id1"
   ]
  },
  {
   "cell_type": "code",
   "execution_count": 27,
   "id": "38774128-456e-4563-96e6-a7b87f0e1bdc",
   "metadata": {},
   "outputs": [],
   "source": [
    "lucky=pwskills2(945626001,'blucky@gmail.com','SCSE1003')"
   ]
  },
  {
   "cell_type": "markdown",
   "id": "e58f47ee-1d67-4388-8d3b-f7480c6254d6",
   "metadata": {},
   "source": [
    "if you want to access the data inside the class then you have to use the self and if you want to extract it outside the class then use in the above method"
   ]
  },
  {
   "cell_type": "code",
   "execution_count": 28,
   "id": "7d9b51e7-a93c-40f9-91cc-a6cf89e7747a",
   "metadata": {},
   "outputs": [
    {
     "ename": "AttributeError",
     "evalue": "'pwskills2' object has no attribute 'phone_number'",
     "output_type": "error",
     "traceback": [
      "\u001b[0;31m---------------------------------------------------------------------------\u001b[0m",
      "\u001b[0;31mAttributeError\u001b[0m                            Traceback (most recent call last)",
      "Cell \u001b[0;32mIn[28], line 1\u001b[0m\n\u001b[0;32m----> 1\u001b[0m \u001b[43mlucky\u001b[49m\u001b[38;5;241;43m.\u001b[39;49m\u001b[43mphone_number\u001b[49m\n\u001b[1;32m      2\u001b[0m \u001b[38;5;66;03m#error will pop up beccause the one with the self is attached with it not the assigned value \u001b[39;00m\n",
      "\u001b[0;31mAttributeError\u001b[0m: 'pwskills2' object has no attribute 'phone_number'"
     ]
    }
   ],
   "source": [
    "lucky.phone_number\n",
    "#error will pop up beccause the one with the self is attached with it not the assigned value "
   ]
  },
  {
   "cell_type": "code",
   "execution_count": 29,
   "id": "e1289816-5e9a-474b-9dbc-bf628923f8a4",
   "metadata": {},
   "outputs": [
    {
     "data": {
      "text/plain": [
       "945626001"
      ]
     },
     "execution_count": 29,
     "metadata": {},
     "output_type": "execute_result"
    }
   ],
   "source": [
    "lucky.phone_number1 #will extract the data from it "
   ]
  },
  {
   "cell_type": "code",
   "execution_count": 30,
   "id": "1b18f4b9-9660-4cea-b4cb-aa8ac172019b",
   "metadata": {},
   "outputs": [
    {
     "data": {
      "text/plain": [
       "('SCSE1003', 945626001, 'blucky@gmail.com')"
      ]
     },
     "execution_count": 30,
     "metadata": {},
     "output_type": "execute_result"
    }
   ],
   "source": [
    "lucky.return_student_details()"
   ]
  },
  {
   "cell_type": "markdown",
   "id": "4c88d395-cf2b-49cd-b877-15b20d39a246",
   "metadata": {},
   "source": [
    "whatever object is associated with the self that only belongs to the class otherwise will be just used to assign the data "
   ]
  },
  {
   "cell_type": "code",
   "execution_count": 31,
   "id": "ad21e28f-4092-4c0c-a41a-1aefdfa5541e",
   "metadata": {},
   "outputs": [],
   "source": [
    "class pwskills2:\n",
    "    def __init__(bhardwaj,phone_number,email_id,student_id): #__init__ is used to pass the data inside a function\n",
    "        bhardwaj.phone_number1=phone_number\n",
    "        bhardwaj.email_id1=email_id\n",
    "        bhardwaj.student_id1=student_id\n",
    "    def return_student_details(bhardwaj):\n",
    "        return bhardwaj.student_id1,bhardwaj.phone_number1,bhardwaj.email_id1\n",
    "#self is not a reserved keyword you can use any keyword as I used bhardwaj it is just used "
   ]
  },
  {
   "cell_type": "code",
   "execution_count": 32,
   "id": "cfcd632f-bea8-4c49-ab81-9bb9df35d270",
   "metadata": {},
   "outputs": [],
   "source": [
    "rohan=pwskills2(9876543210,'bhyus@xyz.com','SCSE1004')"
   ]
  },
  {
   "cell_type": "code",
   "execution_count": 33,
   "id": "cf51a550-b0dd-4b44-b44f-193748052350",
   "metadata": {},
   "outputs": [
    {
     "data": {
      "text/plain": [
       "9876543210"
      ]
     },
     "execution_count": 33,
     "metadata": {},
     "output_type": "execute_result"
    }
   ],
   "source": [
    "rohan.phone_number1"
   ]
  },
  {
   "cell_type": "code",
   "execution_count": null,
   "id": "e412d082-cbe1-44d8-bd95-3ba21e4707fe",
   "metadata": {},
   "outputs": [],
   "source": []
  }
 ],
 "metadata": {
  "kernelspec": {
   "display_name": "Python 3 (ipykernel)",
   "language": "python",
   "name": "python3"
  },
  "language_info": {
   "codemirror_mode": {
    "name": "ipython",
    "version": 3
   },
   "file_extension": ".py",
   "mimetype": "text/x-python",
   "name": "python",
   "nbconvert_exporter": "python",
   "pygments_lexer": "ipython3",
   "version": "3.10.8"
  }
 },
 "nbformat": 4,
 "nbformat_minor": 5
}
